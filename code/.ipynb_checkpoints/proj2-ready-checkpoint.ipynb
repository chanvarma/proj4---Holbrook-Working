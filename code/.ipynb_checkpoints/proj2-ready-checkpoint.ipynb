{
 "cells": [
  {
   "cell_type": "markdown",
   "metadata": {
    "toc": true
   },
   "source": [
    "<h1>Table of Contents<span class=\"tocSkip\"></span></h1>\n",
    "<div class=\"toc\"><ul class=\"toc-item\"><li><span><a href=\"#Load-recipes-and-price-information-from-spreadsheet\" data-toc-modified-id=\"Load-recipes-and-price-information-from-spreadsheet-1\"><span class=\"toc-item-num\">1&nbsp;&nbsp;</span>Load recipes and price information from spreadsheet</a></span><ul class=\"toc-item\"><li><span><a href=\"#Create-lists-of-relevant-columns-names\" data-toc-modified-id=\"Create-lists-of-relevant-columns-names-1.1\"><span class=\"toc-item-num\">1.1&nbsp;&nbsp;</span>Create lists of relevant columns names</a></span></li><li><span><a href=\"#Class-Meal()-supports-dynamic-calculation-of-facts.\" data-toc-modified-id=\"Class-Meal()-supports-dynamic-calculation-of-facts.-1.2\"><span class=\"toc-item-num\">1.2&nbsp;&nbsp;</span>Class Meal() supports dynamic calculation of facts.</a></span></li><li><span><a href=\"#mealset-is-a-dictionary-with-all-created-meals.\" data-toc-modified-id=\"mealset-is-a-dictionary-with-all-created-meals.-1.3\"><span class=\"toc-item-num\">1.3&nbsp;&nbsp;</span>mealset is a dictionary with all created meals.</a></span></li></ul></li><li><span><a href=\"#Add-meals!\" data-toc-modified-id=\"Add-meals!-2\"><span class=\"toc-item-num\">2&nbsp;&nbsp;</span>Add meals!</a></span><ul class=\"toc-item\"><li><span><a href=\"#Get-quick-overviews-about-anything-on-the-list.\" data-toc-modified-id=\"Get-quick-overviews-about-anything-on-the-list.-2.1\"><span class=\"toc-item-num\">2.1&nbsp;&nbsp;</span>Get quick overviews about anything on the list.</a></span></li><li><span><a href=\"#Overview-of-nutritional-facts-of-database.\" data-toc-modified-id=\"Overview-of-nutritional-facts-of-database.-2.2\"><span class=\"toc-item-num\">2.2&nbsp;&nbsp;</span>Overview of nutritional facts of database.</a></span></li><li><span><a href=\"#View-all-nutritional-facts-across-the-database.\" data-toc-modified-id=\"View-all-nutritional-facts-across-the-database.-2.3\"><span class=\"toc-item-num\">2.3&nbsp;&nbsp;</span>View all nutritional facts across the database.</a></span></li><li><span><a href=\"#Quick-summary-statistics.-Not-optimised-for-daily-requirements.\" data-toc-modified-id=\"Quick-summary-statistics.-Not-optimised-for-daily-requirements.-2.4\"><span class=\"toc-item-num\">2.4&nbsp;&nbsp;</span>Quick summary statistics. Not optimised for daily requirements.</a></span></li></ul></li><li><span><a href=\"#Adding-USDA-daily-requirements-to-the-picture.\" data-toc-modified-id=\"Adding-USDA-daily-requirements-to-the-picture.-3\"><span class=\"toc-item-num\">3&nbsp;&nbsp;</span>Adding USDA daily requirements to the picture.</a></span><ul class=\"toc-item\"><li><span><a href=\"#View-minimum-requirements-for-age_group-to-get-an-idea-of-constraints.\" data-toc-modified-id=\"View-minimum-requirements-for-age_group-to-get-an-idea-of-constraints.-3.1\"><span class=\"toc-item-num\">3.1&nbsp;&nbsp;</span>View minimum requirements for age_group to get an idea of constraints.</a></span></li></ul></li><li><span><a href=\"#Linear-Optimization\" data-toc-modified-id=\"Linear-Optimization-4\"><span class=\"toc-item-num\">4&nbsp;&nbsp;</span>Linear Optimization</a></span><ul class=\"toc-item\"><li><span><a href=\"#Pre-setup\" data-toc-modified-id=\"Pre-setup-4.1\"><span class=\"toc-item-num\">4.1&nbsp;&nbsp;</span>Pre-setup</a></span></li><li><span><a href=\"#All-the-magic-happens-here!\" data-toc-modified-id=\"All-the-magic-happens-here!-4.2\"><span class=\"toc-item-num\">4.2&nbsp;&nbsp;</span>All the magic happens here!</a></span></li></ul></li><li><span><a href=\"#Toolkit-begins-here\" data-toc-modified-id=\"Toolkit-begins-here-5\"><span class=\"toc-item-num\">5&nbsp;&nbsp;</span>Toolkit begins here</a></span><ul class=\"toc-item\"><li><span><a href=\"#Optimising-on-every-nutrient-is-unrealistic-and-gets-expensive-very-quickly.\" data-toc-modified-id=\"Optimising-on-every-nutrient-is-unrealistic-and-gets-expensive-very-quickly.-5.1\"><span class=\"toc-item-num\">5.1&nbsp;&nbsp;</span>Optimising on every nutrient is unrealistic and gets expensive very quickly.</a></span></li><li><span><a href=\"#Optimising-on-ESSENTIAL-nutrients-makes-more-sense.\" data-toc-modified-id=\"Optimising-on-ESSENTIAL-nutrients-makes-more-sense.-5.2\"><span class=\"toc-item-num\">5.2&nbsp;&nbsp;</span>Optimising on ESSENTIAL nutrients makes more sense.</a></span></li><li><span><a href=\"#What-kind-of-daily-minimums-are-we-talking-about?\" data-toc-modified-id=\"What-kind-of-daily-minimums-are-we-talking-about?-5.3\"><span class=\"toc-item-num\">5.3&nbsp;&nbsp;</span>What kind of daily minimums are we talking about?</a></span></li><li><span><a href=\"#So-let's-make-some-daily-plans!\" data-toc-modified-id=\"So-let's-make-some-daily-plans!-5.4\"><span class=\"toc-item-num\">5.4&nbsp;&nbsp;</span>So let's make some daily plans!</a></span></li><li><span><a href=\"#What-does-a-week-look-like-then?-No-one-likes-monotony!\" data-toc-modified-id=\"What-does-a-week-look-like-then?-No-one-likes-monotony!-5.5\"><span class=\"toc-item-num\">5.5&nbsp;&nbsp;</span>What does a week look like then? No one likes monotony!</a></span></li></ul></li></ul></div>"
   ]
  },
  {
   "cell_type": "code",
   "execution_count": null,
   "metadata": {
    "ExecuteTime": {
     "end_time": "2019-03-06T20:07:00.471916Z",
     "start_time": "2019-03-06T20:06:55.649686Z"
    }
   },
   "outputs": [],
   "source": [
    "import os\n",
    "\n",
    "os.chdir(\"../\")\n",
    "!pip install -r requirements.txt"
   ]
  },
  {
   "cell_type": "code",
   "execution_count": null,
   "metadata": {
    "ExecuteTime": {
     "end_time": "2019-03-06T18:43:58.739192Z",
     "start_time": "2019-03-06T18:43:51.613512Z"
    }
   },
   "outputs": [],
   "source": [
    "from __future__ import print_function\n",
    "\n",
    "import re\n",
    "import warnings\n",
    "\n",
    "import ipywidgets as widgets\n",
    "import numpy as np\n",
    "import pandas as pd\n",
    "import pulp\n",
    "from ipywidgets import fixed, interact, interact_manual, interactive\n",
    "\n",
    "import pulp\n",
    "import ndb"
   ]
  },
  {
   "cell_type": "code",
   "execution_count": null,
   "metadata": {
    "ExecuteTime": {
     "end_time": "2019-03-06T18:44:01.145059Z",
     "start_time": "2019-03-06T18:44:01.138782Z"
    }
   },
   "outputs": [],
   "source": [
    "user = \"chanvarma\"\n",
    "API_KEY = {'chanvarma' : \"5JMzm847yqDvz6OnGzaC5mnWV1kOLbaE80fPs3WR\"}"
   ]
  },
  {
   "cell_type": "code",
   "execution_count": null,
   "metadata": {
    "ExecuteTime": {
     "end_time": "2019-03-06T18:44:06.410294Z",
     "start_time": "2019-03-06T18:44:06.402376Z"
    }
   },
   "outputs": [],
   "source": [
    "def prepareDataTypes():\n",
    "    raw_ingredients['recipe_name'] = raw_ingredients['recipe_name'].astype(str)\n",
    "    raw_ingredients['diet_restrictions'] = raw_ingredients['diet_restrictions'].astype(str)\n",
    "    raw_ingredients['time_to_prepare'] = raw_ingredients['time_to_prepare'].astype(int)\n",
    "    raw_ingredients['time_of_day'] = raw_ingredients['time_of_day'].astype(str)\n",
    "    raw_ingredients['recipe_url'] = raw_ingredients['recipe_url'].astype(str)\n",
    "    raw_ingredients['ingredient'] = raw_ingredients['ingredient'].astype(str)\n",
    "    raw_ingredients['quantity'] = raw_ingredients['quantity'].astype(float)\n",
    "    raw_ingredients['units'] = raw_ingredients['units'].astype(str)\n",
    "    raw_ingredients['ndb_no'] = raw_ingredients['ndb_no'].astype(str)\n",
    "    raw_ingredients['energy'] = raw_ingredients['energy'].astype(float)\n",
    "    raw_ingredients['sub_price'] = raw_ingredients['sub_price'].astype(float)\n",
    "    raw_ingredients['ndb_quantity'] = raw_ingredients[['quantity','units']].T.apply(lambda x : ndb.ndb_units(x['quantity'],x['units']))"
   ]
  },
  {
   "cell_type": "markdown",
   "metadata": {},
   "source": [
    "## Load recipes and price information from spreadsheet"
   ]
  },
  {
   "cell_type": "markdown",
   "metadata": {},
   "source": [
    "Google spreadsheet url --> \"https://docs.google.com/spreadsheets/d/e/2PACX-1vQpRrWQ4lLI6-Q7x_zXeWdqDLKLjdFf84qlA5lZw560cq_8HRe2RZQs1zMDyDl66MMI1QSod3gJ1-PV/pub?gid=870640259&single=true&output=csv\"\n"
   ]
  },
  {
   "cell_type": "code",
   "execution_count": null,
   "metadata": {
    "ExecuteTime": {
     "end_time": "2019-03-06T18:45:16.152530Z",
     "start_time": "2019-03-06T18:45:15.476279Z"
    }
   },
   "outputs": [],
   "source": [
    "all_food_url = \"https://docs.google.com/spreadsheets/d/e/2PACX-1vQpRrWQ4lLI6-Q7x_zXeWdqDLKLjdFf84qlA5lZw560cq_8HRe2RZQs1zMDyDl66MMI1QSod3gJ1-PV/pub?gid=870640259&single=true&output=csv\"\n",
    "all_food_path = \"Data/all_foods.csv\"\n",
    "raw_ingredients = pd.DataFrame()\n",
    "raw_ingredients = raw_ingredients.append(pd.read_csv(all_food_url, dtype = object))\n",
    "\n",
    "prepareDataTypes()\n",
    "raw_ingredients.shape"
   ]
  },
  {
   "cell_type": "markdown",
   "metadata": {},
   "source": [
    "### Create lists of relevant columns names"
   ]
  },
  {
   "cell_type": "code",
   "execution_count": null,
   "metadata": {
    "ExecuteTime": {
     "end_time": "2019-03-06T18:47:12.021762Z",
     "start_time": "2019-03-06T18:47:11.247033Z"
    },
    "scrolled": true
   },
   "outputs": [],
   "source": [
    "nutrients = list(ndb.ndb_report(API_KEY[user], 14555).index)\n",
    "nutrients_essentials = ['recipe_name', 'Energy', 'Protein', 'Total lipid (fat)', 'Carbohydrate, by difference', 'Fiber, total dietary',  'Sugars, total']\n",
    "nutrients_individual = nutrients.copy()\n",
    "nutrients_individual.insert(0, 'recipe_name')\n",
    "nutrients_individual.insert(1, 'ndb_no')\n",
    "nutrients_individual.insert(2, 'ingredient')\n",
    "nutrients_individual.insert(3, 'quantity')\n",
    "nutrients_individual.insert(4, 'ndb_quantity')\n",
    "nutrients_individual.insert(5, 'sub_price')\n",
    "overview_columns = ['recipe_name', 'number_of_ingredients', 'time_of_day', 'meal_price', 'cooking_time', 'type', 'energy']"
   ]
  },
  {
   "cell_type": "markdown",
   "metadata": {
    "ExecuteTime": {
     "end_time": "2019-03-06T18:46:21.301994Z",
     "start_time": "2019-03-06T18:46:21.298124Z"
    }
   },
   "source": [
    "### Class Meal() supports dynamic calculation of facts. "
   ]
  },
  {
   "cell_type": "code",
   "execution_count": null,
   "metadata": {
    "ExecuteTime": {
     "end_time": "2019-03-06T18:47:01.806774Z",
     "start_time": "2019-03-06T18:47:01.783900Z"
    }
   },
   "outputs": [],
   "source": [
    "class Meal():\n",
    "\n",
    "    def __init__(self, recipe_name):\n",
    "        self.recipe_name = recipe_name\n",
    "        self.nutrient_facts_INGREDIENT = pd.DataFrame(\n",
    "            columns=nutrients_individual)\n",
    "        self.nutrient_facts = pd.DataFrame(columns=nutrients)\n",
    "        self.nutrient_facts_ESSENTIALS = pd.DataFrame(\n",
    "            columns=nutrients_essentials)\n",
    "        self.meal_price = 0\n",
    "        self.time_of_day = \"\"\n",
    "        self.cooking_time = \"\"\n",
    "        self.type = \"\"\n",
    "        self.overview = pd.DataFrame(columns=overview_columns)\n",
    "\n",
    "        print(\"🎉\", self.recipe_name, \"has been added to mealset.\")\n",
    "\n",
    "    def add_ingredients(self, raw_ingredients_df):\n",
    "        for row in raw_ingredients.itertuples():\n",
    "            if (row.recipe_name == self.recipe_name):\n",
    "                # self.ingredients.append(row)\n",
    "                self.internal_add(row)\n",
    "        self.calculate_facts()\n",
    "\n",
    "    def add_emoji(self):\n",
    "        print(1)\n",
    "\n",
    "    def internal_add(self, row):\n",
    "        if int(row.ndb_no) > 0:\n",
    "            ingredient = row.ingredient\n",
    "            NDB = row.ndb_no\n",
    "            ndb_quantity = round(\n",
    "                float(re.findall('\\d*\\.?\\d+', str(row.ndb_quantity)).pop()), 3)\n",
    "            quantity = row.quantity\n",
    "\n",
    "            report = ndb.ndb_report(API_KEY[user], NDB)\n",
    "            report['Quantity'] = report['Quantity'].astype(float)\n",
    "            report['nutrient_value_of_ingredient'] = round(\n",
    "                report['Quantity'] * ndb_quantity, 3)\n",
    "            report.drop(columns=['Units', 'Quantity'], inplace=True)\n",
    "\n",
    "            report = report.transpose()\n",
    "            report['ndb_no'] = NDB\n",
    "            report['ndb_quantity'] = row.ndb_quantity\n",
    "            report['quantity'] = quantity\n",
    "            report['ingredient'] = ingredient\n",
    "            report['recipe_name'] = row.recipe_name\n",
    "\n",
    "            self.nutrient_facts_INGREDIENT = self.nutrient_facts_INGREDIENT.append(\n",
    "                report, sort=False)\n",
    "\n",
    "        self.nutrient_facts_INGREDIENT.reset_index(drop=True, inplace=True)\n",
    "        self.nutrient_facts_INGREDIENT.fillna(0, inplace=True)\n",
    "        self.ingredients = self.nutrient_facts_INGREDIENT[[\n",
    "            'recipe_name', 'ndb_no', 'ingredient', 'quantity', 'ndb_quantity', 'sub_price']]\n",
    "\n",
    "        self.meal_price += row.sub_price\n",
    "        self.time_of_day = row.time_of_day\n",
    "        self.cooking_time = int(row.time_to_prepare)\n",
    "        self.type = row.diet_restrictions\n",
    "\n",
    "    def calculate_facts(self):\n",
    "        if (len(self.ingredients) == 0):\n",
    "            print(\"Please add some ingredients first.\")\n",
    "        else:\n",
    "            self.nutrient_facts = pd.DataFrame(\n",
    "                data=self.nutrient_facts_INGREDIENT.sum(axis=0, skipna=True))\n",
    "            self.nutrient_facts = self.nutrient_facts.transpose()\n",
    "            self.nutrient_facts.drop(columns=[\n",
    "                                     'ndb_no', 'ingredient', 'quantity', 'ndb_quantity', 'sub_price'], inplace=True)\n",
    "            self.nutrient_facts['recipe_name'] = self.recipe_name\n",
    "            self.nutrient_facts_ESSENTIALS = self.nutrient_facts[nutrients_essentials]\n",
    "\n",
    "            self.nutrient_facts.reset_index(drop=True, inplace=True)\n",
    "            self.nutrient_facts_ESSENTIALS.reset_index(drop=True, inplace=True)\n",
    "\n",
    "            self.overview_dict = {'recipe_name': self.recipe_name,\n",
    "                                  'number_of_ingredients': len(self.ingredients),\n",
    "                                  'time_of_day': self.time_of_day,\n",
    "                                  'meal_price': self.meal_price,\n",
    "                                  'cooking_time': self.cooking_time,\n",
    "                                  'type': self.type,\n",
    "                                  'energy': self.nutrient_facts_ESSENTIALS['Energy'][0]}\n",
    "\n",
    "            self.overview = self.overview.append(\n",
    "                self.overview_dict, ignore_index=True)"
   ]
  },
  {
   "cell_type": "markdown",
   "metadata": {},
   "source": [
    "### mealset is a dictionary with all created meals."
   ]
  },
  {
   "cell_type": "code",
   "execution_count": null,
   "metadata": {
    "ExecuteTime": {
     "end_time": "2019-03-06T18:47:03.543727Z",
     "start_time": "2019-03-06T18:47:03.540447Z"
    }
   },
   "outputs": [],
   "source": [
    "mealset = dict()"
   ]
  },
  {
   "cell_type": "markdown",
   "metadata": {},
   "source": [
    "## Add meals!"
   ]
  },
  {
   "cell_type": "code",
   "execution_count": null,
   "metadata": {
    "ExecuteTime": {
     "end_time": "2019-03-06T18:47:34.437466Z",
     "start_time": "2019-03-06T18:47:15.046844Z"
    }
   },
   "outputs": [],
   "source": [
    "meals = list(raw_ingredients['recipe_name'].unique())\n",
    "for meal in meals:\n",
    "    mealset[meal] = Meal(meal)\n",
    "    mealset[meal].add_ingredients(raw_ingredients)"
   ]
  },
  {
   "cell_type": "markdown",
   "metadata": {},
   "source": [
    "### Get quick overviews about anything on the list."
   ]
  },
  {
   "cell_type": "code",
   "execution_count": null,
   "metadata": {
    "ExecuteTime": {
     "end_time": "2019-03-06T19:48:09.289706Z",
     "start_time": "2019-03-06T19:48:09.275061Z"
    }
   },
   "outputs": [],
   "source": [
    "mealset['Salmon, sweet potato and broccoli'].overview"
   ]
  },
  {
   "cell_type": "markdown",
   "metadata": {},
   "source": [
    "### Overview of nutritional facts of database. "
   ]
  },
  {
   "cell_type": "code",
   "execution_count": 206,
   "metadata": {
    "ExecuteTime": {
     "end_time": "2019-03-06T22:34:59.479494Z",
     "start_time": "2019-03-06T22:34:59.403073Z"
    }
   },
   "outputs": [
    {
     "data": {
      "text/html": [
       "<div>\n",
       "<style scoped>\n",
       "    .dataframe tbody tr th:only-of-type {\n",
       "        vertical-align: middle;\n",
       "    }\n",
       "\n",
       "    .dataframe tbody tr th {\n",
       "        vertical-align: top;\n",
       "    }\n",
       "\n",
       "    .dataframe thead th {\n",
       "        text-align: right;\n",
       "    }\n",
       "</style>\n",
       "<table border=\"1\" class=\"dataframe\">\n",
       "  <thead>\n",
       "    <tr style=\"text-align: right;\">\n",
       "      <th></th>\n",
       "      <th>number_of_ingredients</th>\n",
       "      <th>time_of_day</th>\n",
       "      <th>meal_price</th>\n",
       "      <th>cooking_time</th>\n",
       "      <th>type</th>\n",
       "      <th>Energy</th>\n",
       "      <th>Protein</th>\n",
       "      <th>Total lipid (fat)</th>\n",
       "      <th>Carbohydrate, by difference</th>\n",
       "      <th>Fiber, total dietary</th>\n",
       "      <th>Sugars, total</th>\n",
       "      <th>energy_per_dollar</th>\n",
       "    </tr>\n",
       "    <tr>\n",
       "      <th>recipe_name</th>\n",
       "      <th></th>\n",
       "      <th></th>\n",
       "      <th></th>\n",
       "      <th></th>\n",
       "      <th></th>\n",
       "      <th></th>\n",
       "      <th></th>\n",
       "      <th></th>\n",
       "      <th></th>\n",
       "      <th></th>\n",
       "      <th></th>\n",
       "      <th></th>\n",
       "    </tr>\n",
       "  </thead>\n",
       "  <tbody>\n",
       "    <tr>\n",
       "      <th>Avacado Toast with Sunny Side Egg</th>\n",
       "      <td>3</td>\n",
       "      <td>breakfast</td>\n",
       "      <td>2.926667</td>\n",
       "      <td>5</td>\n",
       "      <td>eggetarians</td>\n",
       "      <td>419.58</td>\n",
       "      <td>15.044</td>\n",
       "      <td>27.645</td>\n",
       "      <td>31.896</td>\n",
       "      <td>12.65</td>\n",
       "      <td>3.508</td>\n",
       "      <td>143.364</td>\n",
       "    </tr>\n",
       "    <tr>\n",
       "      <th>Oatmeal with Almond Milk and Chia Seeds</th>\n",
       "      <td>6</td>\n",
       "      <td>breakfast</td>\n",
       "      <td>2.799000</td>\n",
       "      <td>15</td>\n",
       "      <td>gluten-free, vegan</td>\n",
       "      <td>333.896</td>\n",
       "      <td>18.456</td>\n",
       "      <td>12.769</td>\n",
       "      <td>39.581</td>\n",
       "      <td>9.659</td>\n",
       "      <td>6.657</td>\n",
       "      <td>119.291</td>\n",
       "    </tr>\n",
       "    <tr>\n",
       "      <th>Fresh Fruit Salad with Honey Vanilla Yogurt</th>\n",
       "      <td>6</td>\n",
       "      <td>breakfast</td>\n",
       "      <td>11.401400</td>\n",
       "      <td>10</td>\n",
       "      <td>vegetarian</td>\n",
       "      <td>598.076</td>\n",
       "      <td>25.552</td>\n",
       "      <td>1.509</td>\n",
       "      <td>121.69</td>\n",
       "      <td>13.364</td>\n",
       "      <td>84.487</td>\n",
       "      <td>52.4564</td>\n",
       "    </tr>\n",
       "    <tr>\n",
       "      <th>Chicken with rice and broccoli</th>\n",
       "      <td>4</td>\n",
       "      <td>dinner</td>\n",
       "      <td>2.662244</td>\n",
       "      <td>20</td>\n",
       "      <td>non-vegetarian</td>\n",
       "      <td>611.5</td>\n",
       "      <td>36.95</td>\n",
       "      <td>13.555</td>\n",
       "      <td>84.85</td>\n",
       "      <td>5.9</td>\n",
       "      <td>3.065</td>\n",
       "      <td>229.693</td>\n",
       "    </tr>\n",
       "    <tr>\n",
       "      <th>Salmon, sweet potato and broccoli</th>\n",
       "      <td>3</td>\n",
       "      <td>dinner</td>\n",
       "      <td>5.040000</td>\n",
       "      <td>25</td>\n",
       "      <td>pescatarian</td>\n",
       "      <td>601.01</td>\n",
       "      <td>34.288</td>\n",
       "      <td>6.63</td>\n",
       "      <td>105.272</td>\n",
       "      <td>11.2</td>\n",
       "      <td>9.4</td>\n",
       "      <td>119.248</td>\n",
       "    </tr>\n",
       "    <tr>\n",
       "      <th>Whole Wheat Penne with Broccoli and Sausage</th>\n",
       "      <td>6</td>\n",
       "      <td>dinner</td>\n",
       "      <td>9.795000</td>\n",
       "      <td>15</td>\n",
       "      <td>diabetic</td>\n",
       "      <td>1391.31</td>\n",
       "      <td>87.028</td>\n",
       "      <td>25.632</td>\n",
       "      <td>216.488</td>\n",
       "      <td>29.246</td>\n",
       "      <td>14.568</td>\n",
       "      <td>142.043</td>\n",
       "    </tr>\n",
       "    <tr>\n",
       "      <th>Light beer</th>\n",
       "      <td>1</td>\n",
       "      <td>beverage</td>\n",
       "      <td>1.415833</td>\n",
       "      <td>1</td>\n",
       "      <td>alcoholic</td>\n",
       "      <td>102.66</td>\n",
       "      <td>0.85</td>\n",
       "      <td>0</td>\n",
       "      <td>5.806</td>\n",
       "      <td>0</td>\n",
       "      <td>0.319</td>\n",
       "      <td>72.5085</td>\n",
       "    </tr>\n",
       "    <tr>\n",
       "      <th>Snickers</th>\n",
       "      <td>1</td>\n",
       "      <td>any time</td>\n",
       "      <td>0.220000</td>\n",
       "      <td>1</td>\n",
       "      <td>snack</td>\n",
       "      <td>160.14</td>\n",
       "      <td>2.999</td>\n",
       "      <td>8</td>\n",
       "      <td>20.998</td>\n",
       "      <td>0.986</td>\n",
       "      <td>18</td>\n",
       "      <td>727.909</td>\n",
       "    </tr>\n",
       "    <tr>\n",
       "      <th>Kit Kat</th>\n",
       "      <td>1</td>\n",
       "      <td>any time</td>\n",
       "      <td>2.590000</td>\n",
       "      <td>1</td>\n",
       "      <td>snack</td>\n",
       "      <td>238.28</td>\n",
       "      <td>2.995</td>\n",
       "      <td>11.955</td>\n",
       "      <td>29.711</td>\n",
       "      <td>0.46</td>\n",
       "      <td>22.393</td>\n",
       "      <td>92</td>\n",
       "    </tr>\n",
       "    <tr>\n",
       "      <th>Cookies</th>\n",
       "      <td>1</td>\n",
       "      <td>any time</td>\n",
       "      <td>0.150000</td>\n",
       "      <td>1</td>\n",
       "      <td>snack</td>\n",
       "      <td>61.486</td>\n",
       "      <td>0.937</td>\n",
       "      <td>2.016</td>\n",
       "      <td>10.323</td>\n",
       "      <td>0.483</td>\n",
       "      <td>5.315</td>\n",
       "      <td>409.907</td>\n",
       "    </tr>\n",
       "    <tr>\n",
       "      <th>CLIF Bar</th>\n",
       "      <td>1</td>\n",
       "      <td>any time</td>\n",
       "      <td>1.081667</td>\n",
       "      <td>1</td>\n",
       "      <td>snack</td>\n",
       "      <td>235.28</td>\n",
       "      <td>10.003</td>\n",
       "      <td>3.998</td>\n",
       "      <td>44.499</td>\n",
       "      <td>5.032</td>\n",
       "      <td>21.502</td>\n",
       "      <td>217.516</td>\n",
       "    </tr>\n",
       "    <tr>\n",
       "      <th>Redbull</th>\n",
       "      <td>1</td>\n",
       "      <td>beverage</td>\n",
       "      <td>2.149167</td>\n",
       "      <td>1</td>\n",
       "      <td>energy-drink</td>\n",
       "      <td>110.94</td>\n",
       "      <td>1.187</td>\n",
       "      <td>0</td>\n",
       "      <td>26.393</td>\n",
       "      <td>0</td>\n",
       "      <td>26.368</td>\n",
       "      <td>51.62</td>\n",
       "    </tr>\n",
       "    <tr>\n",
       "      <th>Gatorade</th>\n",
       "      <td>1</td>\n",
       "      <td>beverage</td>\n",
       "      <td>2.000000</td>\n",
       "      <td>1</td>\n",
       "      <td>energy-drink</td>\n",
       "      <td>158.34</td>\n",
       "      <td>0</td>\n",
       "      <td>0</td>\n",
       "      <td>39.159</td>\n",
       "      <td>0</td>\n",
       "      <td>31.912</td>\n",
       "      <td>79.17</td>\n",
       "    </tr>\n",
       "  </tbody>\n",
       "</table>\n",
       "</div>"
      ],
      "text/plain": [
       "                                            number_of_ingredients time_of_day  \\\n",
       "recipe_name                                                                     \n",
       "Avacado Toast with Sunny Side Egg                               3   breakfast   \n",
       "Oatmeal with Almond Milk and Chia Seeds                         6   breakfast   \n",
       "Fresh Fruit Salad with Honey Vanilla Yogurt                     6   breakfast   \n",
       "Chicken with rice and broccoli                                  4      dinner   \n",
       "Salmon, sweet potato and broccoli                               3      dinner   \n",
       "Whole Wheat Penne with Broccoli and Sausage                     6      dinner   \n",
       "Light beer                                                      1    beverage   \n",
       "Snickers                                                        1    any time   \n",
       "Kit Kat                                                         1    any time   \n",
       "Cookies                                                         1    any time   \n",
       "CLIF Bar                                                        1    any time   \n",
       "Redbull                                                         1    beverage   \n",
       "Gatorade                                                        1    beverage   \n",
       "\n",
       "                                             meal_price cooking_time  \\\n",
       "recipe_name                                                            \n",
       "Avacado Toast with Sunny Side Egg              2.926667            5   \n",
       "Oatmeal with Almond Milk and Chia Seeds        2.799000           15   \n",
       "Fresh Fruit Salad with Honey Vanilla Yogurt   11.401400           10   \n",
       "Chicken with rice and broccoli                 2.662244           20   \n",
       "Salmon, sweet potato and broccoli              5.040000           25   \n",
       "Whole Wheat Penne with Broccoli and Sausage    9.795000           15   \n",
       "Light beer                                     1.415833            1   \n",
       "Snickers                                       0.220000            1   \n",
       "Kit Kat                                        2.590000            1   \n",
       "Cookies                                        0.150000            1   \n",
       "CLIF Bar                                       1.081667            1   \n",
       "Redbull                                        2.149167            1   \n",
       "Gatorade                                       2.000000            1   \n",
       "\n",
       "                                                           type   Energy  \\\n",
       "recipe_name                                                                \n",
       "Avacado Toast with Sunny Side Egg                   eggetarians   419.58   \n",
       "Oatmeal with Almond Milk and Chia Seeds      gluten-free, vegan  333.896   \n",
       "Fresh Fruit Salad with Honey Vanilla Yogurt          vegetarian  598.076   \n",
       "Chicken with rice and broccoli                   non-vegetarian    611.5   \n",
       "Salmon, sweet potato and broccoli                   pescatarian   601.01   \n",
       "Whole Wheat Penne with Broccoli and Sausage            diabetic  1391.31   \n",
       "Light beer                                            alcoholic   102.66   \n",
       "Snickers                                                  snack   160.14   \n",
       "Kit Kat                                                   snack   238.28   \n",
       "Cookies                                                   snack   61.486   \n",
       "CLIF Bar                                                  snack   235.28   \n",
       "Redbull                                            energy-drink   110.94   \n",
       "Gatorade                                           energy-drink   158.34   \n",
       "\n",
       "                                            Protein Total lipid (fat)  \\\n",
       "recipe_name                                                             \n",
       "Avacado Toast with Sunny Side Egg            15.044            27.645   \n",
       "Oatmeal with Almond Milk and Chia Seeds      18.456            12.769   \n",
       "Fresh Fruit Salad with Honey Vanilla Yogurt  25.552             1.509   \n",
       "Chicken with rice and broccoli                36.95            13.555   \n",
       "Salmon, sweet potato and broccoli            34.288              6.63   \n",
       "Whole Wheat Penne with Broccoli and Sausage  87.028            25.632   \n",
       "Light beer                                     0.85                 0   \n",
       "Snickers                                      2.999                 8   \n",
       "Kit Kat                                       2.995            11.955   \n",
       "Cookies                                       0.937             2.016   \n",
       "CLIF Bar                                     10.003             3.998   \n",
       "Redbull                                       1.187                 0   \n",
       "Gatorade                                          0                 0   \n",
       "\n",
       "                                            Carbohydrate, by difference  \\\n",
       "recipe_name                                                               \n",
       "Avacado Toast with Sunny Side Egg                                31.896   \n",
       "Oatmeal with Almond Milk and Chia Seeds                          39.581   \n",
       "Fresh Fruit Salad with Honey Vanilla Yogurt                      121.69   \n",
       "Chicken with rice and broccoli                                    84.85   \n",
       "Salmon, sweet potato and broccoli                               105.272   \n",
       "Whole Wheat Penne with Broccoli and Sausage                     216.488   \n",
       "Light beer                                                        5.806   \n",
       "Snickers                                                         20.998   \n",
       "Kit Kat                                                          29.711   \n",
       "Cookies                                                          10.323   \n",
       "CLIF Bar                                                         44.499   \n",
       "Redbull                                                          26.393   \n",
       "Gatorade                                                         39.159   \n",
       "\n",
       "                                            Fiber, total dietary  \\\n",
       "recipe_name                                                        \n",
       "Avacado Toast with Sunny Side Egg                          12.65   \n",
       "Oatmeal with Almond Milk and Chia Seeds                    9.659   \n",
       "Fresh Fruit Salad with Honey Vanilla Yogurt               13.364   \n",
       "Chicken with rice and broccoli                               5.9   \n",
       "Salmon, sweet potato and broccoli                           11.2   \n",
       "Whole Wheat Penne with Broccoli and Sausage               29.246   \n",
       "Light beer                                                     0   \n",
       "Snickers                                                   0.986   \n",
       "Kit Kat                                                     0.46   \n",
       "Cookies                                                    0.483   \n",
       "CLIF Bar                                                   5.032   \n",
       "Redbull                                                        0   \n",
       "Gatorade                                                       0   \n",
       "\n",
       "                                            Sugars, total energy_per_dollar  \n",
       "recipe_name                                                                  \n",
       "Avacado Toast with Sunny Side Egg                   3.508           143.364  \n",
       "Oatmeal with Almond Milk and Chia Seeds             6.657           119.291  \n",
       "Fresh Fruit Salad with Honey Vanilla Yogurt        84.487           52.4564  \n",
       "Chicken with rice and broccoli                      3.065           229.693  \n",
       "Salmon, sweet potato and broccoli                     9.4           119.248  \n",
       "Whole Wheat Penne with Broccoli and Sausage        14.568           142.043  \n",
       "Light beer                                          0.319           72.5085  \n",
       "Snickers                                               18           727.909  \n",
       "Kit Kat                                            22.393                92  \n",
       "Cookies                                             5.315           409.907  \n",
       "CLIF Bar                                           21.502           217.516  \n",
       "Redbull                                            26.368             51.62  \n",
       "Gatorade                                           31.912             79.17  "
      ]
     },
     "execution_count": 206,
     "metadata": {},
     "output_type": "execute_result"
    }
   ],
   "source": [
    "overview1 = pd.DataFrame()\n",
    "overview2 = pd.DataFrame()\n",
    "\n",
    "for name, meal in mealset.items():\n",
    "    overview1 = overview1.append(meal.nutrient_facts_ESSENTIALS)\n",
    "    overview2 = overview2.append(meal.overview)\n",
    "\n",
    "overview = overview2.merge(overview1, on='recipe_name')\n",
    "overview.drop(columns=['energy'], inplace=True)\n",
    "overview['energy_per_dollar'] = overview['Energy']/overview['meal_price']\n",
    "overview.set_index('recipe_name', drop=True, inplace=True)\n",
    "overview"
   ]
  },
  {
   "cell_type": "markdown",
   "metadata": {},
   "source": [
    "### View all nutritional facts across the database. "
   ]
  },
  {
   "cell_type": "code",
   "execution_count": 203,
   "metadata": {
    "ExecuteTime": {
     "end_time": "2019-03-06T22:34:00.775479Z",
     "start_time": "2019-03-06T22:34:00.648072Z"
    }
   },
   "outputs": [
    {
     "name": "stderr",
     "output_type": "stream",
     "text": [
      "/Users/chan/anaconda3/lib/python3.7/site-packages/pandas/core/frame.py:6211: FutureWarning: Sorting because non-concatenation axis is not aligned. A future version\n",
      "of pandas will change to not sort by default.\n",
      "\n",
      "To accept the future behavior, pass 'sort=False'.\n",
      "\n",
      "To retain the current behavior and silence the warning, pass 'sort=True'.\n",
      "\n",
      "  sort=sort)\n"
     ]
    },
    {
     "data": {
      "text/html": [
       "<div>\n",
       "<style scoped>\n",
       "    .dataframe tbody tr th:only-of-type {\n",
       "        vertical-align: middle;\n",
       "    }\n",
       "\n",
       "    .dataframe tbody tr th {\n",
       "        vertical-align: top;\n",
       "    }\n",
       "\n",
       "    .dataframe thead th {\n",
       "        text-align: right;\n",
       "    }\n",
       "</style>\n",
       "<table border=\"1\" class=\"dataframe\">\n",
       "  <thead>\n",
       "    <tr style=\"text-align: right;\">\n",
       "      <th></th>\n",
       "      <th>number_of_ingredients</th>\n",
       "      <th>time_of_day</th>\n",
       "      <th>meal_price</th>\n",
       "      <th>cooking_time</th>\n",
       "      <th>Caffeine</th>\n",
       "      <th>Calcium, Ca</th>\n",
       "      <th>Carbohydrate, by difference</th>\n",
       "      <th>Cholesterol</th>\n",
       "      <th>Energy</th>\n",
       "      <th>Fatty acids, total monounsaturated</th>\n",
       "      <th>...</th>\n",
       "      <th>Vitamin B-12</th>\n",
       "      <th>Vitamin B-6</th>\n",
       "      <th>Vitamin C, total ascorbic acid</th>\n",
       "      <th>Vitamin D</th>\n",
       "      <th>Vitamin D (D2 + D3)</th>\n",
       "      <th>Vitamin E (alpha-tocopherol)</th>\n",
       "      <th>Vitamin K (phylloquinone)</th>\n",
       "      <th>Water</th>\n",
       "      <th>Zinc, Zn</th>\n",
       "      <th>energy_per_dollar</th>\n",
       "    </tr>\n",
       "    <tr>\n",
       "      <th>recipe_name</th>\n",
       "      <th></th>\n",
       "      <th></th>\n",
       "      <th></th>\n",
       "      <th></th>\n",
       "      <th></th>\n",
       "      <th></th>\n",
       "      <th></th>\n",
       "      <th></th>\n",
       "      <th></th>\n",
       "      <th></th>\n",
       "      <th></th>\n",
       "      <th></th>\n",
       "      <th></th>\n",
       "      <th></th>\n",
       "      <th></th>\n",
       "      <th></th>\n",
       "      <th></th>\n",
       "      <th></th>\n",
       "      <th></th>\n",
       "      <th></th>\n",
       "      <th></th>\n",
       "    </tr>\n",
       "  </thead>\n",
       "  <tbody>\n",
       "    <tr>\n",
       "      <th>Avacado Toast with Sunny Side Egg</th>\n",
       "      <td>3</td>\n",
       "      <td>breakfast</td>\n",
       "      <td>2.926667</td>\n",
       "      <td>5</td>\n",
       "      <td>0</td>\n",
       "      <td>92.3</td>\n",
       "      <td>31.896</td>\n",
       "      <td>186</td>\n",
       "      <td>419.58</td>\n",
       "      <td>15.503</td>\n",
       "      <td>...</td>\n",
       "      <td>0.445</td>\n",
       "      <td>0.595</td>\n",
       "      <td>12.01</td>\n",
       "      <td>41</td>\n",
       "      <td>1</td>\n",
       "      <td>3.372</td>\n",
       "      <td>29.34</td>\n",
       "      <td>149.657</td>\n",
       "      <td>2.347</td>\n",
       "      <td>143.364</td>\n",
       "    </tr>\n",
       "    <tr>\n",
       "      <th>Oatmeal with Almond Milk and Chia Seeds</th>\n",
       "      <td>6</td>\n",
       "      <td>breakfast</td>\n",
       "      <td>2.799000</td>\n",
       "      <td>15</td>\n",
       "      <td>0</td>\n",
       "      <td>323.325</td>\n",
       "      <td>39.581</td>\n",
       "      <td>0</td>\n",
       "      <td>333.896</td>\n",
       "      <td>1.027</td>\n",
       "      <td>...</td>\n",
       "      <td>0</td>\n",
       "      <td>0.025</td>\n",
       "      <td>8.583</td>\n",
       "      <td>100.8</td>\n",
       "      <td>0</td>\n",
       "      <td>0.282</td>\n",
       "      <td>4.924</td>\n",
       "      <td>32.255</td>\n",
       "      <td>0.241</td>\n",
       "      <td>119.291</td>\n",
       "    </tr>\n",
       "    <tr>\n",
       "      <th>Fresh Fruit Salad with Honey Vanilla Yogurt</th>\n",
       "      <td>6</td>\n",
       "      <td>breakfast</td>\n",
       "      <td>11.401400</td>\n",
       "      <td>10</td>\n",
       "      <td>0</td>\n",
       "      <td>846.182</td>\n",
       "      <td>121.69</td>\n",
       "      <td>31.5</td>\n",
       "      <td>598.076</td>\n",
       "      <td>0.165</td>\n",
       "      <td>...</td>\n",
       "      <td>0</td>\n",
       "      <td>0.506</td>\n",
       "      <td>51.99</td>\n",
       "      <td>0</td>\n",
       "      <td>0</td>\n",
       "      <td>1.828</td>\n",
       "      <td>33.02</td>\n",
       "      <td>288.252</td>\n",
       "      <td>0.943</td>\n",
       "      <td>52.4564</td>\n",
       "    </tr>\n",
       "    <tr>\n",
       "      <th>Chicken with rice and broccoli</th>\n",
       "      <td>4</td>\n",
       "      <td>dinner</td>\n",
       "      <td>2.662244</td>\n",
       "      <td>20</td>\n",
       "      <td>0</td>\n",
       "      <td>142</td>\n",
       "      <td>84.85</td>\n",
       "      <td>245</td>\n",
       "      <td>611.5</td>\n",
       "      <td>1.86</td>\n",
       "      <td>...</td>\n",
       "      <td>0.445</td>\n",
       "      <td>0.26</td>\n",
       "      <td>92</td>\n",
       "      <td>41</td>\n",
       "      <td>1</td>\n",
       "      <td>1.305</td>\n",
       "      <td>101.75</td>\n",
       "      <td>127.375</td>\n",
       "      <td>1.055</td>\n",
       "      <td>229.693</td>\n",
       "    </tr>\n",
       "    <tr>\n",
       "      <th>Salmon, sweet potato and broccoli</th>\n",
       "      <td>3</td>\n",
       "      <td>dinner</td>\n",
       "      <td>5.040000</td>\n",
       "      <td>25</td>\n",
       "      <td>0</td>\n",
       "      <td>147.23</td>\n",
       "      <td>105.272</td>\n",
       "      <td>25.99</td>\n",
       "      <td>601.01</td>\n",
       "      <td>2.348</td>\n",
       "      <td>...</td>\n",
       "      <td>3.684</td>\n",
       "      <td>0.664</td>\n",
       "      <td>178.4</td>\n",
       "      <td>774.05</td>\n",
       "      <td>19.323</td>\n",
       "      <td>3.085</td>\n",
       "      <td>203.313</td>\n",
       "      <td>259.96</td>\n",
       "      <td>1.17</td>\n",
       "      <td>119.248</td>\n",
       "    </tr>\n",
       "    <tr>\n",
       "      <th>Whole Wheat Penne with Broccoli and Sausage</th>\n",
       "      <td>6</td>\n",
       "      <td>dinner</td>\n",
       "      <td>9.795000</td>\n",
       "      <td>15</td>\n",
       "      <td>0</td>\n",
       "      <td>564.667</td>\n",
       "      <td>216.488</td>\n",
       "      <td>109.998</td>\n",
       "      <td>1391.31</td>\n",
       "      <td>6.521</td>\n",
       "      <td>...</td>\n",
       "      <td>0.805</td>\n",
       "      <td>1.818</td>\n",
       "      <td>211.716</td>\n",
       "      <td>18.293</td>\n",
       "      <td>0.392</td>\n",
       "      <td>5.017</td>\n",
       "      <td>309.378</td>\n",
       "      <td>448.971</td>\n",
       "      <td>8.018</td>\n",
       "      <td>142.043</td>\n",
       "    </tr>\n",
       "    <tr>\n",
       "      <th>Light beer</th>\n",
       "      <td>1</td>\n",
       "      <td>beverage</td>\n",
       "      <td>1.415833</td>\n",
       "      <td>1</td>\n",
       "      <td>0</td>\n",
       "      <td>14.16</td>\n",
       "      <td>5.806</td>\n",
       "      <td>0</td>\n",
       "      <td>102.66</td>\n",
       "      <td>0</td>\n",
       "      <td>...</td>\n",
       "      <td>0.071</td>\n",
       "      <td>0.12</td>\n",
       "      <td>0</td>\n",
       "      <td>0</td>\n",
       "      <td>0</td>\n",
       "      <td>0</td>\n",
       "      <td>0</td>\n",
       "      <td>335.875</td>\n",
       "      <td>0.035</td>\n",
       "      <td>72.5085</td>\n",
       "    </tr>\n",
       "    <tr>\n",
       "      <th>Snickers</th>\n",
       "      <td>1</td>\n",
       "      <td>any time</td>\n",
       "      <td>0.220000</td>\n",
       "      <td>1</td>\n",
       "      <td>0</td>\n",
       "      <td>20.06</td>\n",
       "      <td>20.998</td>\n",
       "      <td>0</td>\n",
       "      <td>160.14</td>\n",
       "      <td>0</td>\n",
       "      <td>...</td>\n",
       "      <td>0</td>\n",
       "      <td>0</td>\n",
       "      <td>0</td>\n",
       "      <td>0</td>\n",
       "      <td>0</td>\n",
       "      <td>0</td>\n",
       "      <td>0</td>\n",
       "      <td>0</td>\n",
       "      <td>0</td>\n",
       "      <td>727.909</td>\n",
       "    </tr>\n",
       "    <tr>\n",
       "      <th>Kit Kat</th>\n",
       "      <td>1</td>\n",
       "      <td>any time</td>\n",
       "      <td>2.590000</td>\n",
       "      <td>1</td>\n",
       "      <td>6.44</td>\n",
       "      <td>57.5</td>\n",
       "      <td>29.711</td>\n",
       "      <td>5.06</td>\n",
       "      <td>238.28</td>\n",
       "      <td>2.688</td>\n",
       "      <td>...</td>\n",
       "      <td>0.258</td>\n",
       "      <td>0.009</td>\n",
       "      <td>0</td>\n",
       "      <td>0</td>\n",
       "      <td>0</td>\n",
       "      <td>0.156</td>\n",
       "      <td>2.392</td>\n",
       "      <td>0.75</td>\n",
       "      <td>0.041</td>\n",
       "      <td>92</td>\n",
       "    </tr>\n",
       "    <tr>\n",
       "      <th>Cookies</th>\n",
       "      <td>1</td>\n",
       "      <td>any time</td>\n",
       "      <td>0.150000</td>\n",
       "      <td>1</td>\n",
       "      <td>1.42</td>\n",
       "      <td>4.402</td>\n",
       "      <td>10.323</td>\n",
       "      <td>0.284</td>\n",
       "      <td>61.486</td>\n",
       "      <td>0.691</td>\n",
       "      <td>...</td>\n",
       "      <td>0.013</td>\n",
       "      <td>0.007</td>\n",
       "      <td>0</td>\n",
       "      <td>0</td>\n",
       "      <td>0</td>\n",
       "      <td>0.102</td>\n",
       "      <td>0.341</td>\n",
       "      <td>0.639</td>\n",
       "      <td>0.155</td>\n",
       "      <td>409.907</td>\n",
       "    </tr>\n",
       "    <tr>\n",
       "      <th>CLIF Bar</th>\n",
       "      <td>1</td>\n",
       "      <td>any time</td>\n",
       "      <td>1.081667</td>\n",
       "      <td>1</td>\n",
       "      <td>0</td>\n",
       "      <td>250.24</td>\n",
       "      <td>44.499</td>\n",
       "      <td>0</td>\n",
       "      <td>235.28</td>\n",
       "      <td>0.743</td>\n",
       "      <td>...</td>\n",
       "      <td>0.898</td>\n",
       "      <td>0.4</td>\n",
       "      <td>59.976</td>\n",
       "      <td>0</td>\n",
       "      <td>0</td>\n",
       "      <td>0.163</td>\n",
       "      <td>25.024</td>\n",
       "      <td>7.48</td>\n",
       "      <td>2.999</td>\n",
       "      <td>217.516</td>\n",
       "    </tr>\n",
       "    <tr>\n",
       "      <th>Redbull</th>\n",
       "      <td>1</td>\n",
       "      <td>beverage</td>\n",
       "      <td>2.149167</td>\n",
       "      <td>1</td>\n",
       "      <td>74.82</td>\n",
       "      <td>15.48</td>\n",
       "      <td>26.393</td>\n",
       "      <td>0</td>\n",
       "      <td>110.94</td>\n",
       "      <td>0</td>\n",
       "      <td>...</td>\n",
       "      <td>5.083</td>\n",
       "      <td>5.591</td>\n",
       "      <td>0</td>\n",
       "      <td>0</td>\n",
       "      <td>0</td>\n",
       "      <td>0</td>\n",
       "      <td>0</td>\n",
       "      <td>230.188</td>\n",
       "      <td>0.026</td>\n",
       "      <td>51.62</td>\n",
       "    </tr>\n",
       "    <tr>\n",
       "      <th>Gatorade</th>\n",
       "      <td>1</td>\n",
       "      <td>beverage</td>\n",
       "      <td>2.000000</td>\n",
       "      <td>1</td>\n",
       "      <td>0</td>\n",
       "      <td>6.09</td>\n",
       "      <td>39.159</td>\n",
       "      <td>0</td>\n",
       "      <td>158.34</td>\n",
       "      <td>0</td>\n",
       "      <td>...</td>\n",
       "      <td>0</td>\n",
       "      <td>0.134</td>\n",
       "      <td>2.436</td>\n",
       "      <td>0</td>\n",
       "      <td>0</td>\n",
       "      <td>0</td>\n",
       "      <td>1.218</td>\n",
       "      <td>568.684</td>\n",
       "      <td>0.061</td>\n",
       "      <td>79.17</td>\n",
       "    </tr>\n",
       "  </tbody>\n",
       "</table>\n",
       "<p>13 rows × 38 columns</p>\n",
       "</div>"
      ],
      "text/plain": [
       "                                            number_of_ingredients time_of_day  \\\n",
       "recipe_name                                                                     \n",
       "Avacado Toast with Sunny Side Egg                               3   breakfast   \n",
       "Oatmeal with Almond Milk and Chia Seeds                         6   breakfast   \n",
       "Fresh Fruit Salad with Honey Vanilla Yogurt                     6   breakfast   \n",
       "Chicken with rice and broccoli                                  4      dinner   \n",
       "Salmon, sweet potato and broccoli                               3      dinner   \n",
       "Whole Wheat Penne with Broccoli and Sausage                     6      dinner   \n",
       "Light beer                                                      1    beverage   \n",
       "Snickers                                                        1    any time   \n",
       "Kit Kat                                                         1    any time   \n",
       "Cookies                                                         1    any time   \n",
       "CLIF Bar                                                        1    any time   \n",
       "Redbull                                                         1    beverage   \n",
       "Gatorade                                                        1    beverage   \n",
       "\n",
       "                                             meal_price cooking_time Caffeine  \\\n",
       "recipe_name                                                                     \n",
       "Avacado Toast with Sunny Side Egg              2.926667            5        0   \n",
       "Oatmeal with Almond Milk and Chia Seeds        2.799000           15        0   \n",
       "Fresh Fruit Salad with Honey Vanilla Yogurt   11.401400           10        0   \n",
       "Chicken with rice and broccoli                 2.662244           20        0   \n",
       "Salmon, sweet potato and broccoli              5.040000           25        0   \n",
       "Whole Wheat Penne with Broccoli and Sausage    9.795000           15        0   \n",
       "Light beer                                     1.415833            1        0   \n",
       "Snickers                                       0.220000            1        0   \n",
       "Kit Kat                                        2.590000            1     6.44   \n",
       "Cookies                                        0.150000            1     1.42   \n",
       "CLIF Bar                                       1.081667            1        0   \n",
       "Redbull                                        2.149167            1    74.82   \n",
       "Gatorade                                       2.000000            1        0   \n",
       "\n",
       "                                            Calcium, Ca  \\\n",
       "recipe_name                                               \n",
       "Avacado Toast with Sunny Side Egg                  92.3   \n",
       "Oatmeal with Almond Milk and Chia Seeds         323.325   \n",
       "Fresh Fruit Salad with Honey Vanilla Yogurt     846.182   \n",
       "Chicken with rice and broccoli                      142   \n",
       "Salmon, sweet potato and broccoli                147.23   \n",
       "Whole Wheat Penne with Broccoli and Sausage     564.667   \n",
       "Light beer                                        14.16   \n",
       "Snickers                                          20.06   \n",
       "Kit Kat                                            57.5   \n",
       "Cookies                                           4.402   \n",
       "CLIF Bar                                         250.24   \n",
       "Redbull                                           15.48   \n",
       "Gatorade                                           6.09   \n",
       "\n",
       "                                            Carbohydrate, by difference  \\\n",
       "recipe_name                                                               \n",
       "Avacado Toast with Sunny Side Egg                                31.896   \n",
       "Oatmeal with Almond Milk and Chia Seeds                          39.581   \n",
       "Fresh Fruit Salad with Honey Vanilla Yogurt                      121.69   \n",
       "Chicken with rice and broccoli                                    84.85   \n",
       "Salmon, sweet potato and broccoli                               105.272   \n",
       "Whole Wheat Penne with Broccoli and Sausage                     216.488   \n",
       "Light beer                                                        5.806   \n",
       "Snickers                                                         20.998   \n",
       "Kit Kat                                                          29.711   \n",
       "Cookies                                                          10.323   \n",
       "CLIF Bar                                                         44.499   \n",
       "Redbull                                                          26.393   \n",
       "Gatorade                                                         39.159   \n",
       "\n",
       "                                            Cholesterol   Energy  \\\n",
       "recipe_name                                                        \n",
       "Avacado Toast with Sunny Side Egg                   186   419.58   \n",
       "Oatmeal with Almond Milk and Chia Seeds               0  333.896   \n",
       "Fresh Fruit Salad with Honey Vanilla Yogurt        31.5  598.076   \n",
       "Chicken with rice and broccoli                      245    611.5   \n",
       "Salmon, sweet potato and broccoli                 25.99   601.01   \n",
       "Whole Wheat Penne with Broccoli and Sausage     109.998  1391.31   \n",
       "Light beer                                            0   102.66   \n",
       "Snickers                                              0   160.14   \n",
       "Kit Kat                                            5.06   238.28   \n",
       "Cookies                                           0.284   61.486   \n",
       "CLIF Bar                                              0   235.28   \n",
       "Redbull                                               0   110.94   \n",
       "Gatorade                                              0   158.34   \n",
       "\n",
       "                                            Fatty acids, total monounsaturated  \\\n",
       "recipe_name                                                                      \n",
       "Avacado Toast with Sunny Side Egg                                       15.503   \n",
       "Oatmeal with Almond Milk and Chia Seeds                                  1.027   \n",
       "Fresh Fruit Salad with Honey Vanilla Yogurt                              0.165   \n",
       "Chicken with rice and broccoli                                            1.86   \n",
       "Salmon, sweet potato and broccoli                                        2.348   \n",
       "Whole Wheat Penne with Broccoli and Sausage                              6.521   \n",
       "Light beer                                                                   0   \n",
       "Snickers                                                                     0   \n",
       "Kit Kat                                                                  2.688   \n",
       "Cookies                                                                  0.691   \n",
       "CLIF Bar                                                                 0.743   \n",
       "Redbull                                                                      0   \n",
       "Gatorade                                                                     0   \n",
       "\n",
       "                                                   ...        Vitamin B-12  \\\n",
       "recipe_name                                        ...                       \n",
       "Avacado Toast with Sunny Side Egg                  ...               0.445   \n",
       "Oatmeal with Almond Milk and Chia Seeds            ...                   0   \n",
       "Fresh Fruit Salad with Honey Vanilla Yogurt        ...                   0   \n",
       "Chicken with rice and broccoli                     ...               0.445   \n",
       "Salmon, sweet potato and broccoli                  ...               3.684   \n",
       "Whole Wheat Penne with Broccoli and Sausage        ...               0.805   \n",
       "Light beer                                         ...               0.071   \n",
       "Snickers                                           ...                   0   \n",
       "Kit Kat                                            ...               0.258   \n",
       "Cookies                                            ...               0.013   \n",
       "CLIF Bar                                           ...               0.898   \n",
       "Redbull                                            ...               5.083   \n",
       "Gatorade                                           ...                   0   \n",
       "\n",
       "                                            Vitamin B-6  \\\n",
       "recipe_name                                               \n",
       "Avacado Toast with Sunny Side Egg                 0.595   \n",
       "Oatmeal with Almond Milk and Chia Seeds           0.025   \n",
       "Fresh Fruit Salad with Honey Vanilla Yogurt       0.506   \n",
       "Chicken with rice and broccoli                     0.26   \n",
       "Salmon, sweet potato and broccoli                 0.664   \n",
       "Whole Wheat Penne with Broccoli and Sausage       1.818   \n",
       "Light beer                                         0.12   \n",
       "Snickers                                              0   \n",
       "Kit Kat                                           0.009   \n",
       "Cookies                                           0.007   \n",
       "CLIF Bar                                            0.4   \n",
       "Redbull                                           5.591   \n",
       "Gatorade                                          0.134   \n",
       "\n",
       "                                            Vitamin C, total ascorbic acid  \\\n",
       "recipe_name                                                                  \n",
       "Avacado Toast with Sunny Side Egg                                    12.01   \n",
       "Oatmeal with Almond Milk and Chia Seeds                              8.583   \n",
       "Fresh Fruit Salad with Honey Vanilla Yogurt                          51.99   \n",
       "Chicken with rice and broccoli                                          92   \n",
       "Salmon, sweet potato and broccoli                                    178.4   \n",
       "Whole Wheat Penne with Broccoli and Sausage                        211.716   \n",
       "Light beer                                                               0   \n",
       "Snickers                                                                 0   \n",
       "Kit Kat                                                                  0   \n",
       "Cookies                                                                  0   \n",
       "CLIF Bar                                                            59.976   \n",
       "Redbull                                                                  0   \n",
       "Gatorade                                                             2.436   \n",
       "\n",
       "                                            Vitamin D Vitamin D (D2 + D3)  \\\n",
       "recipe_name                                                                 \n",
       "Avacado Toast with Sunny Side Egg                  41                   1   \n",
       "Oatmeal with Almond Milk and Chia Seeds         100.8                   0   \n",
       "Fresh Fruit Salad with Honey Vanilla Yogurt         0                   0   \n",
       "Chicken with rice and broccoli                     41                   1   \n",
       "Salmon, sweet potato and broccoli              774.05              19.323   \n",
       "Whole Wheat Penne with Broccoli and Sausage    18.293               0.392   \n",
       "Light beer                                          0                   0   \n",
       "Snickers                                            0                   0   \n",
       "Kit Kat                                             0                   0   \n",
       "Cookies                                             0                   0   \n",
       "CLIF Bar                                            0                   0   \n",
       "Redbull                                             0                   0   \n",
       "Gatorade                                            0                   0   \n",
       "\n",
       "                                            Vitamin E (alpha-tocopherol)  \\\n",
       "recipe_name                                                                \n",
       "Avacado Toast with Sunny Side Egg                                  3.372   \n",
       "Oatmeal with Almond Milk and Chia Seeds                            0.282   \n",
       "Fresh Fruit Salad with Honey Vanilla Yogurt                        1.828   \n",
       "Chicken with rice and broccoli                                     1.305   \n",
       "Salmon, sweet potato and broccoli                                  3.085   \n",
       "Whole Wheat Penne with Broccoli and Sausage                        5.017   \n",
       "Light beer                                                             0   \n",
       "Snickers                                                               0   \n",
       "Kit Kat                                                            0.156   \n",
       "Cookies                                                            0.102   \n",
       "CLIF Bar                                                           0.163   \n",
       "Redbull                                                                0   \n",
       "Gatorade                                                               0   \n",
       "\n",
       "                                            Vitamin K (phylloquinone)  \\\n",
       "recipe_name                                                             \n",
       "Avacado Toast with Sunny Side Egg                               29.34   \n",
       "Oatmeal with Almond Milk and Chia Seeds                         4.924   \n",
       "Fresh Fruit Salad with Honey Vanilla Yogurt                     33.02   \n",
       "Chicken with rice and broccoli                                 101.75   \n",
       "Salmon, sweet potato and broccoli                             203.313   \n",
       "Whole Wheat Penne with Broccoli and Sausage                   309.378   \n",
       "Light beer                                                          0   \n",
       "Snickers                                                            0   \n",
       "Kit Kat                                                         2.392   \n",
       "Cookies                                                         0.341   \n",
       "CLIF Bar                                                       25.024   \n",
       "Redbull                                                             0   \n",
       "Gatorade                                                        1.218   \n",
       "\n",
       "                                               Water Zinc, Zn  \\\n",
       "recipe_name                                                     \n",
       "Avacado Toast with Sunny Side Egg            149.657    2.347   \n",
       "Oatmeal with Almond Milk and Chia Seeds       32.255    0.241   \n",
       "Fresh Fruit Salad with Honey Vanilla Yogurt  288.252    0.943   \n",
       "Chicken with rice and broccoli               127.375    1.055   \n",
       "Salmon, sweet potato and broccoli             259.96     1.17   \n",
       "Whole Wheat Penne with Broccoli and Sausage  448.971    8.018   \n",
       "Light beer                                   335.875    0.035   \n",
       "Snickers                                           0        0   \n",
       "Kit Kat                                         0.75    0.041   \n",
       "Cookies                                        0.639    0.155   \n",
       "CLIF Bar                                        7.48    2.999   \n",
       "Redbull                                      230.188    0.026   \n",
       "Gatorade                                     568.684    0.061   \n",
       "\n",
       "                                            energy_per_dollar  \n",
       "recipe_name                                                    \n",
       "Avacado Toast with Sunny Side Egg                     143.364  \n",
       "Oatmeal with Almond Milk and Chia Seeds               119.291  \n",
       "Fresh Fruit Salad with Honey Vanilla Yogurt           52.4564  \n",
       "Chicken with rice and broccoli                        229.693  \n",
       "Salmon, sweet potato and broccoli                     119.248  \n",
       "Whole Wheat Penne with Broccoli and Sausage           142.043  \n",
       "Light beer                                            72.5085  \n",
       "Snickers                                              727.909  \n",
       "Kit Kat                                                    92  \n",
       "Cookies                                               409.907  \n",
       "CLIF Bar                                              217.516  \n",
       "Redbull                                                 51.62  \n",
       "Gatorade                                                79.17  \n",
       "\n",
       "[13 rows x 38 columns]"
      ]
     },
     "execution_count": 203,
     "metadata": {},
     "output_type": "execute_result"
    }
   ],
   "source": [
    "everything1 = pd.DataFrame()\n",
    "everything2 = pd.DataFrame()\n",
    "\n",
    "for name, meal in mealset.items():\n",
    "    everything1 = everything1.append(meal.nutrient_facts)\n",
    "    everything2 = everything2.append(meal.overview)\n",
    "\n",
    "everything = everything2.merge(everything1, on='recipe_name', sort = False)\n",
    "everything.drop(columns=['energy', 'type'], inplace=True)\n",
    "everything['energy_per_dollar'] = everything['Energy']/everything['meal_price']\n",
    "everything.set_index('recipe_name', drop=True, inplace=True)\n",
    "everything"
   ]
  },
  {
   "cell_type": "markdown",
   "metadata": {},
   "source": [
    "### Quick summary statistics. Not optimised for daily requirements."
   ]
  },
  {
   "cell_type": "code",
   "execution_count": 189,
   "metadata": {
    "ExecuteTime": {
     "end_time": "2019-03-06T22:29:26.878078Z",
     "start_time": "2019-03-06T22:29:26.870800Z"
    }
   },
   "outputs": [
    {
     "data": {
      "text/plain": [
       "time_of_day\n",
       "any time     0.150000\n",
       "beverage     1.415833\n",
       "breakfast    2.799000\n",
       "dinner       2.662244\n",
       "Name: meal_price, dtype: float64"
      ]
     },
     "execution_count": 189,
     "metadata": {},
     "output_type": "execute_result"
    }
   ],
   "source": [
    "overview.groupby(by='time_of_day')['meal_price'].min()"
   ]
  },
  {
   "cell_type": "code",
   "execution_count": 209,
   "metadata": {
    "ExecuteTime": {
     "end_time": "2019-03-06T22:35:47.849002Z",
     "start_time": "2019-03-06T22:35:46.943710Z"
    }
   },
   "outputs": [
    {
     "data": {
      "text/plain": [
       "<matplotlib.axes._subplots.AxesSubplot at 0x1211c9320>"
      ]
     },
     "execution_count": 209,
     "metadata": {},
     "output_type": "execute_result"
    },
    {
     "data": {
      "image/png": "[encoded data removed]",
      "text/plain": [
       "<Figure size 432x288 with 1 Axes>"
      ]
     },
     "metadata": {
      "needs_background": "light"
     },
     "output_type": "display_data"
    },
    {
     "data": {
      "image/png": "[encoded data removed]",
      "text/plain": [
       "<Figure size 432x288 with 1 Axes>"
      ]
     },
     "metadata": {
      "needs_background": "light"
     },
     "output_type": "display_data"
    },
    {
     "data": {
      "image/png": "[encoded data removed]",
      "text/plain": [
       "<Figure size 432x288 with 1 Axes>"
      ]
     },
     "metadata": {
      "needs_background": "light"
     },
     "output_type": "display_data"
    }
   ],
   "source": [
    "overview.plot(y = 'Energy', kind = 'bar')\n",
    "overview.plot(y = 'energy_per_dollar', kind = 'bar')\n",
    "overview.plot(y = 'cooking_time', kind = 'bar')"
   ]
  },
  {
   "cell_type": "markdown",
   "metadata": {},
   "source": [
    "## Adding USDA daily requirements to the picture. "
   ]
  },
  {
   "cell_type": "code",
   "execution_count": null,
   "metadata": {
    "ExecuteTime": {
     "end_time": "2019-03-06T20:45:28.640989Z",
     "start_time": "2019-03-06T20:45:28.628703Z"
    }
   },
   "outputs": [],
   "source": [
    "age_bins = list(pd.read_csv('diet_minimums.csv').set_index('Nutrition').columns)\n",
    "age_bins.remove('Unnamed: 0')\n",
    "age_bins.remove('Source')\n",
    "age_bins"
   ]
  },
  {
   "cell_type": "markdown",
   "metadata": {},
   "source": [
    "### View minimum requirements for age_group to get an idea of constraints. "
   ]
  },
  {
   "cell_type": "code",
   "execution_count": null,
   "metadata": {
    "ExecuteTime": {
     "end_time": "2019-03-06T20:33:04.422979Z",
     "start_time": "2019-03-06T20:33:04.405294Z"
    }
   },
   "outputs": [],
   "source": [
    "group = \"\"\n",
    "\n",
    "def view_RDA_minimums(agebin = 'M 19-30'):\n",
    "    group = agebin\n",
    "    \n",
    "    # Define *minimums*\n",
    "    bmin = pd.read_csv('./diet_minimums.csv').set_index('Nutrition')[group]\n",
    "\n",
    "    # Define *maximums*\n",
    "    bmax = pd.read_csv('./diet_maximums.csv').set_index('Nutrition')[group]\n",
    "\n",
    "    print(bmin)"
   ]
  },
  {
   "cell_type": "code",
   "execution_count": null,
   "metadata": {
    "ExecuteTime": {
     "end_time": "2019-03-06T20:34:22.240773Z",
     "start_time": "2019-03-06T20:34:22.234403Z"
    }
   },
   "outputs": [],
   "source": [
    "def get_pulse():\n",
    "    print(\"Lower bounds:\", '\\n', usda_lower_bound)\n",
    "    print()\n",
    "    print(\"Upper bounds:\", '\\n', usda_upper_bound)\n",
    "    print()\n",
    "    print(len(master), len(master_ESSENTIALS), len(usda_lower_bound), len(usda_upper_bound))"
   ]
  },
  {
   "cell_type": "markdown",
   "metadata": {},
   "source": [
    "## Linear Optimization "
   ]
  },
  {
   "cell_type": "code",
   "execution_count": null,
   "metadata": {
    "ExecuteTime": {
     "end_time": "2019-03-06T20:34:23.935475Z",
     "start_time": "2019-03-06T20:34:23.928266Z"
    }
   },
   "outputs": [],
   "source": [
    "get_pulse()"
   ]
  },
  {
   "cell_type": "markdown",
   "metadata": {},
   "source": [
    "### Pre-setup "
   ]
  },
  {
   "cell_type": "code",
   "execution_count": null,
   "metadata": {
    "ExecuteTime": {
     "end_time": "2019-03-06T19:03:48.276551Z",
     "start_time": "2019-03-06T19:03:48.260921Z"
    },
    "scrolled": true
   },
   "outputs": [],
   "source": [
    "Meals = list(everything.index) #All possible x-values\n",
    "            \n",
    "master = {} #Dictionary containing dictionaries of the nutritional content/tags of all each recipe\n",
    "master_ESSENTIALS = {}\n",
    "\n",
    "for tag in everything.columns:\n",
    "    master[tag] = dict(everything[tag])\n",
    "    \n",
    "for tag in overview.columns:\n",
    "    master_ESSENTIALS[tag] = dict(overview[tag])\n",
    "\n",
    "master.pop('time_of_day', None)\n",
    "master_ESSENTIALS.pop('time_of_day', None)\n",
    "master_ESSENTIALS.pop('type', None)\n",
    "master_ESSENTIALS.keys()"
   ]
  },
  {
   "cell_type": "code",
   "execution_count": null,
   "metadata": {
    "ExecuteTime": {
     "end_time": "2019-03-06T20:35:50.053121Z",
     "start_time": "2019-03-06T20:35:50.046629Z"
    }
   },
   "outputs": [],
   "source": [
    "Meals"
   ]
  },
  {
   "cell_type": "markdown",
   "metadata": {},
   "source": [
    "### All the magic happens here!"
   ]
  },
  {
   "cell_type": "code",
   "execution_count": null,
   "metadata": {
    "ExecuteTime": {
     "end_time": "2019-03-06T20:49:27.327362Z",
     "start_time": "2019-03-06T20:49:27.306096Z"
    }
   },
   "outputs": [],
   "source": [
    "def daily_solution(group, snack_preference, veg_preference):\n",
    "   \n",
    "    Meals = list(everything.index)\n",
    "    \n",
    "    #Reset nutrient bounds\n",
    "    bmin = pd.read_csv('./diet_minimums.csv').set_index('Nutrition')[group]\n",
    "    bmax = pd.read_csv('./diet_maximums.csv').set_index('Nutrition')[group]\n",
    "    \n",
    "    usda_lower_bound = {}\n",
    "    usda_upper_bound = {}\n",
    "    \n",
    "    bmin2 = dict(bmin)\n",
    "    bmax2 = dict(bmax)\n",
    "\n",
    "    for x in master.keys():\n",
    "        try:\n",
    "            usda_lower_bound[x] = bmin2[x]\n",
    "        except KeyError:\n",
    "            pass\n",
    "\n",
    "    for x in nutrients:\n",
    "        try:\n",
    "            usda_upper_bound[x] = bmax2[x]\n",
    "        except KeyError:\n",
    "            pass  \n",
    "    \n",
    "    #Remove diet-preferances\n",
    "    if (not snack_preference):\n",
    "        Meals.remove('Snickers')\n",
    "        Meals.remove('Kit Kat')\n",
    "        Meals.remove('CLIF Bar')\n",
    "        Meals.remove('Cookies')\n",
    "        \n",
    "    if (veg_preference):\n",
    "        Meals.remove('Chicken with rice and broccoli')\n",
    "        Meals.remove('Salmon, sweet potato and broccoli')\n",
    "        Meals.remove('Whole Wheat Penne with Broccoli and Sausage')\n",
    "        Meals.remove('Avacado Toast with Sunny Side Egg')\n",
    "    \n",
    "    #Set up cost-functions\n",
    "    costs = dict(everything['meal_price'])\n",
    "    prob = LpProblem(\"Minimum Cost Diet for early-stage Founders\", LpMinimize)\n",
    "    meal_vars = LpVariable.dicts(\"Meals\", Meals, lowBound=0, upBound=3, cat = LpInteger)\n",
    "\n",
    "    #Add primary cost constraint\n",
    "    prob += lpSum([costs[i]*meal_vars[i] for i in Meals]), \"Minimum Cost Constraint\"\n",
    "\n",
    "    #Add primary nutrient constraint as defined by master_ESSENTIALS\n",
    "    for key in master_ESSENTIALS.keys():\n",
    "        try:\n",
    "            prob += lpSum([master_ESSENTIALS[key][i] * meal_vars[i]\n",
    "                           for i in Meals]) >= usda_lower_bound[key], str(key) + \"lBound\"\n",
    "        except KeyError:\n",
    "            pass\n",
    "\n",
    "    for key in master_ESSENTIALS.keys():\n",
    "        try:\n",
    "            prob += lpSum([master_ESSENTIALS[key][i] * meal_vars[i]\n",
    "                           for i in Meals]) <= usda_upper_bound[key], str(key) + \"uBound\"\n",
    "        except KeyError:\n",
    "            pass\n",
    "\n",
    "    prob.writeLP(\"FounderDiet.lp\")\n",
    "    prob.solve()\n",
    "\n",
    "    order_sheet = {}\n",
    "\n",
    "    for v in prob.variables():\n",
    "        order_sheet[v.name] = v.varValue\n",
    "\n",
    "    solution = pd.Series(data=order_sheet).to_frame()\n",
    "    solution.reset_index(inplace=True)\n",
    "    solution.rename(columns={0: 'units', 'index': 'recipe'}, inplace=True)\n",
    "    \n",
    "    daily_cost = round(value(prob.objective), 2)\n",
    "    print(solution)\n",
    "    print()\n",
    "    print(\"... and this meal solution for\", group, \"will cost\", daily_cost, \"$/day.\")"
   ]
  },
  {
   "cell_type": "code",
   "execution_count": null,
   "metadata": {
    "ExecuteTime": {
     "end_time": "2019-03-06T21:44:23.193355Z",
     "start_time": "2019-03-06T21:44:23.174904Z"
    }
   },
   "outputs": [],
   "source": [
    "def weekly_solution(group, snack_preference, veg_preference):\n",
    "   \n",
    "    Meals = list(everything.index)\n",
    "    \n",
    "    #Reset nutrient bounds\n",
    "    bmin = pd.read_csv('./diet_minimums.csv').set_index('Nutrition')[group]\n",
    "    bmax = pd.read_csv('./diet_maximums.csv').set_index('Nutrition')[group]\n",
    "    \n",
    "    usda_lower_bound_weekly = {}\n",
    "    usda_upper_bound_weekly = {}\n",
    "    \n",
    "    bmin2 = dict(bmin)\n",
    "    bmax2 = dict(bmax)\n",
    "\n",
    "    for x in master.keys():\n",
    "        try:\n",
    "            usda_lower_bound_weekly[x] = 7 * bmin2[x]\n",
    "        except KeyError:\n",
    "            pass\n",
    "\n",
    "    for x in nutrients:\n",
    "        try:\n",
    "            usda_upper_bound_weekly[x] = 7 * bmax2[x]\n",
    "        except KeyError:\n",
    "            pass  \n",
    "    \n",
    "    #Remove diet-preferances\n",
    "    if (not snack_preference):\n",
    "        Meals.remove('Snickers')\n",
    "        Meals.remove('Kit Kat')\n",
    "        Meals.remove('CLIF Bar')\n",
    "        Meals.remove('Cookies')\n",
    "        \n",
    "    if (veg_preference):\n",
    "        Meals.remove('Chicken with rice and broccoli')\n",
    "        Meals.remove('Salmon, sweet potato and broccoli')\n",
    "        Meals.remove('Whole Wheat Penne with Broccoli and Sausage')\n",
    "        Meals.remove('Avacado Toast with Sunny Side Egg')\n",
    "    \n",
    "    #Set up cost-functions\n",
    "    costs = dict(everything['meal_price'])\n",
    "    prob = LpProblem(\"Minimum Cost Diet for early-stage Founders\", LpMinimize)\n",
    "    meal_vars = LpVariable.dicts(\"Meals\", Meals, lowBound=1, upBound=10, cat = LpInteger)\n",
    "\n",
    "    #Add primary cost constraint\n",
    "    prob += lpSum([costs[i]*meal_vars[i] for i in Meals]), \"Minimum Cost Constraint\"\n",
    "\n",
    "    #Add primary nutrient constraint as defined by master_ESSENTIALS\n",
    "    for key in master_ESSENTIALS.keys():\n",
    "        try:\n",
    "            prob += lpSum([master_ESSENTIALS[key][i] * meal_vars[i]\n",
    "                           for i in Meals]) >= usda_lower_bound_weekly[key], str(key) + \"lBound\"\n",
    "        except KeyError:\n",
    "            pass\n",
    "\n",
    "    for key in master_ESSENTIALS.keys():\n",
    "        try:\n",
    "            prob += lpSum([master_ESSENTIALS[key][i] * meal_vars[i]\n",
    "                           for i in Meals]) <= usda_upper_bound_weekly[key], str(key) + \"uBound\"\n",
    "        except KeyError:\n",
    "            pass\n",
    "\n",
    "    prob.writeLP(\"FounderDiet.lp\")\n",
    "    prob.solve()\n",
    "\n",
    "    order_sheet = {}\n",
    "\n",
    "    for v in prob.variables():\n",
    "        order_sheet[v.name] = v.varValue\n",
    "\n",
    "    solution = pd.Series(data=order_sheet).to_frame()\n",
    "    solution.reset_index(inplace=True)\n",
    "    solution.rename(columns={0: 'units', 'index': 'recipe'}, inplace=True)\n",
    "    \n",
    "    weekly_solution = round(value(prob.objective), 2)\n",
    "    print(solution)\n",
    "    print()\n",
    "    print(\"... and this meal solution for\", group, \"will cost\", weekly_solution, \"$/week.\")"
   ]
  },
  {
   "cell_type": "markdown",
   "metadata": {},
   "source": [
    "## Toolkit begins here"
   ]
  },
  {
   "cell_type": "markdown",
   "metadata": {},
   "source": [
    "### Optimising on every nutrient is unrealistic and gets expensive very quickly. "
   ]
  },
  {
   "cell_type": "code",
   "execution_count": 210,
   "metadata": {
    "ExecuteTime": {
     "end_time": "2019-03-06T23:42:57.400994Z",
     "start_time": "2019-03-06T23:42:57.373594Z"
    }
   },
   "outputs": [
    {
     "data": {
      "text/plain": [
       "dict_keys(['number_of_ingredients', 'meal_price', 'cooking_time', 'Caffeine', 'Calcium, Ca', 'Carbohydrate, by difference', 'Cholesterol', 'Energy', 'Fatty acids, total monounsaturated', 'Fatty acids, total polyunsaturated', 'Fatty acids, total saturated', 'Fatty acids, total trans', 'Fiber, total dietary', 'Folate, DFE', 'Iron, Fe', 'Magnesium, Mg', 'Niacin', 'Phosphorus, P', 'Potassium, K', 'Protein', 'Riboflavin', 'Sodium, Na', 'Sugars, total', 'Thiamin', 'Total lipid (fat)', 'Vitamin A, IU', 'Vitamin A, RAE', 'Vitamin B-12', 'Vitamin B-6', 'Vitamin C, total ascorbic acid', 'Vitamin D', 'Vitamin D (D2 + D3)', 'Vitamin E (alpha-tocopherol)', 'Vitamin K (phylloquinone)', 'Water', 'Zinc, Zn'])"
      ]
     },
     "execution_count": 210,
     "metadata": {},
     "output_type": "execute_result"
    }
   ],
   "source": [
    "master.keys()"
   ]
  },
  {
   "cell_type": "markdown",
   "metadata": {},
   "source": [
    "### Optimising on ESSENTIAL nutrients makes more sense."
   ]
  },
  {
   "cell_type": "code",
   "execution_count": 211,
   "metadata": {
    "ExecuteTime": {
     "end_time": "2019-03-06T23:43:29.723308Z",
     "start_time": "2019-03-06T23:43:29.717672Z"
    }
   },
   "outputs": [
    {
     "data": {
      "text/plain": [
       "dict_keys(['number_of_ingredients', 'meal_price', 'cooking_time', 'Energy', 'Protein', 'Total lipid (fat)', 'Carbohydrate, by difference', 'Fiber, total dietary', 'Sugars, total'])"
      ]
     },
     "execution_count": 211,
     "metadata": {},
     "output_type": "execute_result"
    }
   ],
   "source": [
    "master_ESSENTIALS.keys()"
   ]
  },
  {
   "cell_type": "markdown",
   "metadata": {},
   "source": [
    "### What kind of daily minimums are we talking about?"
   ]
  },
  {
   "cell_type": "code",
   "execution_count": 212,
   "metadata": {
    "ExecuteTime": {
     "end_time": "2019-03-06T23:43:46.958768Z",
     "start_time": "2019-03-06T23:43:46.886714Z"
    }
   },
   "outputs": [
    {
     "data": {
      "application/vnd.jupyter.widget-view+json": {
       "model_id": "fd81cf6fa99742ed901da6cf7df47700",
       "version_major": 2,
       "version_minor": 0
      },
      "text/plain": [
       "interactive(children=(Dropdown(description='agebin', index=8, options=('C 1-3', 'F 4-8', 'M 4-8', 'F 9-13', 'M…"
      ]
     },
     "metadata": {},
     "output_type": "display_data"
    },
    {
     "data": {
      "text/plain": [
       "<function __main__.view_RDA_minimums(agebin='M 19-30')>"
      ]
     },
     "execution_count": 212,
     "metadata": {},
     "output_type": "execute_result"
    }
   ],
   "source": [
    "interact(view_RDA_minimums, agebin=age_bins)"
   ]
  },
  {
   "cell_type": "markdown",
   "metadata": {},
   "source": [
    "### So let's make some daily plans!"
   ]
  },
  {
   "cell_type": "markdown",
   "metadata": {},
   "source": [
    "Discrete variables, maximum daily count is 3. "
   ]
  },
  {
   "cell_type": "code",
   "execution_count": 213,
   "metadata": {
    "ExecuteTime": {
     "end_time": "2019-03-06T23:44:02.407654Z",
     "start_time": "2019-03-06T23:44:02.225917Z"
    },
    "scrolled": false
   },
   "outputs": [
    {
     "data": {
      "application/vnd.jupyter.widget-view+json": {
       "model_id": "646d6a7e9af44004bdeac9fc226b8c49",
       "version_major": 2,
       "version_minor": 0
      },
      "text/plain": [
       "interactive(children=(Dropdown(description='group', options=('C 1-3', 'F 4-8', 'M 4-8', 'F 9-13', 'M 9-13', 'F…"
      ]
     },
     "metadata": {},
     "output_type": "display_data"
    },
    {
     "data": {
      "text/plain": [
       "<function __main__.daily_solution(group, snack_preference, veg_preference)>"
      ]
     },
     "execution_count": 213,
     "metadata": {},
     "output_type": "execute_result"
    }
   ],
   "source": [
    "interact(daily_solution, group=age_bins, snack_preference = True, veg_preference = False)"
   ]
  },
  {
   "cell_type": "markdown",
   "metadata": {},
   "source": [
    "### What does a week look like then? No one likes monotony!"
   ]
  },
  {
   "cell_type": "markdown",
   "metadata": {},
   "source": [
    "Discrete variables, maximum weekly count is 10, but minimum weekly count is 1. Everyone can use some 🍻! "
   ]
  },
  {
   "cell_type": "code",
   "execution_count": 214,
   "metadata": {
    "ExecuteTime": {
     "end_time": "2019-03-06T23:45:42.060406Z",
     "start_time": "2019-03-06T23:45:41.926978Z"
    }
   },
   "outputs": [
    {
     "data": {
      "application/vnd.jupyter.widget-view+json": {
       "model_id": "1c79aeac361c4fdaa5cef8b895d9ab58",
       "version_major": 2,
       "version_minor": 0
      },
      "text/plain": [
       "interactive(children=(Dropdown(description='group', options=('C 1-3', 'F 4-8', 'M 4-8', 'F 9-13', 'M 9-13', 'F…"
      ]
     },
     "metadata": {},
     "output_type": "display_data"
    },
    {
     "data": {
      "text/plain": [
       "<function __main__.weekly_solution(group, snack_preference, veg_preference)>"
      ]
     },
     "execution_count": 214,
     "metadata": {},
     "output_type": "execute_result"
    }
   ],
   "source": [
    "interact(weekly_solution, group=age_bins, snack_preference = False, veg_preference = False)"
   ]
  },
  {
   "cell_type": "code",
   "execution_count": null,
   "metadata": {},
   "outputs": [],
   "source": []
  }
 ],
 "metadata": {
  "hide_input": false,
  "kernelspec": {
   "display_name": "Python 3",
   "language": "python",
   "name": "python3"
  },
  "language_info": {
   "codemirror_mode": {
    "name": "ipython",
    "version": 3
   },
   "file_extension": ".py",
   "mimetype": "text/x-python",
   "name": "python",
   "nbconvert_exporter": "python",
   "pygments_lexer": "ipython3",
   "version": "3.7.1"
  },
  "toc": {
   "base_numbering": 1,
   "nav_menu": {},
   "number_sections": true,
   "sideBar": true,
   "skip_h1_title": false,
   "title_cell": "Table of Contents",
   "title_sidebar": "Contents",
   "toc_cell": true,
   "toc_position": {
    "height": "calc(100% - 180px)",
    "left": "10px",
    "top": "150px",
    "width": "165px"
   },
   "toc_section_display": true,
   "toc_window_display": false
  },
  "varInspector": {
   "cols": {
    "lenName": 16,
    "lenType": 16,
    "lenVar": 40
   },
   "kernels_config": {
    "python": {
     "delete_cmd_postfix": "",
     "delete_cmd_prefix": "del ",
     "library": "var_list.py",
     "varRefreshCmd": "print(var_dic_list())"
    },
    "r": {
     "delete_cmd_postfix": ") ",
     "delete_cmd_prefix": "rm(",
     "library": "var_list.r",
     "varRefreshCmd": "cat(var_dic_list()) "
    }
   },
   "types_to_exclude": [
    "module",
    "function",
    "builtin_function_or_method",
    "instance",
    "_Feature"
   ],
   "window_display": false
  }
 },
 "nbformat": 4,
 "nbformat_minor": 2
}
