{
 "cells": [
  {
   "cell_type": "markdown",
   "metadata": {},
   "source": [
    "# Project 4: Hacking Nutrition (Team Holbrook)"
   ]
  },
  {
   "cell_type": "markdown",
   "metadata": {
    "toc": true
   },
   "source": [
    "<h1>Table of Contents<span class=\"tocSkip\"></span></h1>\n",
    "<div class=\"toc\"><ul class=\"toc-item\"><li><span><a href=\"#Project-4:-Hacking-Nutrition-(Team-Holbrook)\" data-toc-modified-id=\"Project-4:-Hacking-Nutrition-(Team-Holbrook)-1\"><span class=\"toc-item-num\">1&nbsp;&nbsp;</span>Project 4: Hacking Nutrition (Team Holbrook)</a></span><ul class=\"toc-item\"><li><span><a href=\"#Import-statements-and-set-up\" data-toc-modified-id=\"Import-statements-and-set-up-1.1\"><span class=\"toc-item-num\">1.1&nbsp;&nbsp;</span>Import statements and set up</a></span></li><li><span><a href=\"#Pre-processing-and-formatting-survey-data\" data-toc-modified-id=\"Pre-processing-and-formatting-survey-data-1.2\"><span class=\"toc-item-num\">1.2&nbsp;&nbsp;</span>Pre-processing and formatting survey data</a></span></li><li><span><a href=\"#Dataset-exploration\" data-toc-modified-id=\"Dataset-exploration-1.3\"><span class=\"toc-item-num\">1.3&nbsp;&nbsp;</span>Dataset exploration</a></span><ul class=\"toc-item\"><li><span><a href=\"#List-out-all-variables\" data-toc-modified-id=\"List-out-all-variables-1.3.1\"><span class=\"toc-item-num\">1.3.1&nbsp;&nbsp;</span>List out all variables</a></span></li><li><span><a href=\"#Choose-categories-for-expenditure-goods-and-household-characteristics.\" data-toc-modified-id=\"Choose-categories-for-expenditure-goods-and-household-characteristics.-1.3.2\"><span class=\"toc-item-num\">1.3.2&nbsp;&nbsp;</span>Choose categories for expenditure goods and household characteristics.</a></span></li></ul></li><li><span><a href=\"#Basic-analysis-of-spend\" data-toc-modified-id=\"Basic-analysis-of-spend-1.4\"><span class=\"toc-item-num\">1.4&nbsp;&nbsp;</span>Basic analysis of spend</a></span><ul class=\"toc-item\"><li><span><a href=\"#Comparing-spending-by-category-across-food-stamp-groups\" data-toc-modified-id=\"Comparing-spending-by-category-across-food-stamp-groups-1.4.1\"><span class=\"toc-item-num\">1.4.1&nbsp;&nbsp;</span>Comparing spending by category across food stamp groups</a></span></li></ul></li></ul></li><li><span><a href=\"#Estimating-demand-for-CA-residents\" data-toc-modified-id=\"Estimating-demand-for-CA-residents-2\"><span class=\"toc-item-num\">2&nbsp;&nbsp;</span>Estimating demand for CA residents</a></span><ul class=\"toc-item\"><li><ul class=\"toc-item\"><li><span><a href=\"#Loading-variables\" data-toc-modified-id=\"Loading-variables-2.0.1\"><span class=\"toc-item-num\">2.0.1&nbsp;&nbsp;</span>Loading variables</a></span></li></ul></li><li><span><a href=\"#Run-Result(),-get-reduced-form,-and-get-betas\" data-toc-modified-id=\"Run-Result(),-get-reduced-form,-and-get-betas-2.1\"><span class=\"toc-item-num\">2.1&nbsp;&nbsp;</span>Run Result(), get reduced form, and get betas</a></span><ul class=\"toc-item\"><li><span><a href=\"#Sanity-check-on-estimation-accuracy\" data-toc-modified-id=\"Sanity-check-on-estimation-accuracy-2.1.1\"><span class=\"toc-item-num\">2.1.1&nbsp;&nbsp;</span>Sanity check on estimation accuracy</a></span></li><li><span><a href=\"#Sanity-check-on-engels'-curve\" data-toc-modified-id=\"Sanity-check-on-engels'-curve-2.1.2\"><span class=\"toc-item-num\">2.1.2&nbsp;&nbsp;</span>Sanity check on engels' curve</a></span></li><li><span><a href=\"#Calculates-alphas-and-betas\" data-toc-modified-id=\"Calculates-alphas-and-betas-2.1.3\"><span class=\"toc-item-num\">2.1.3&nbsp;&nbsp;</span>Calculates alphas and betas</a></span></li></ul></li><li><span><a href=\"#Estimate-demand-system-for-CA-residents\" data-toc-modified-id=\"Estimate-demand-system-for-CA-residents-2.2\"><span class=\"toc-item-num\">2.2&nbsp;&nbsp;</span>Estimate demand system for CA residents</a></span><ul class=\"toc-item\"><li><span><a href=\"#Get-prices\" data-toc-modified-id=\"Get-prices-2.2.1\"><span class=\"toc-item-num\">2.2.1&nbsp;&nbsp;</span>Get prices</a></span></li><li><span><a href=\"#Calculate-quantities-demanded\" data-toc-modified-id=\"Calculate-quantities-demanded-2.2.2\"><span class=\"toc-item-num\">2.2.2&nbsp;&nbsp;</span>Calculate quantities demanded</a></span></li></ul></li></ul></li><li><span><a href=\"#Indifference-Curves-for-various-food-groups\" data-toc-modified-id=\"Indifference-Curves-for-various-food-groups-3\"><span class=\"toc-item-num\">3&nbsp;&nbsp;</span>Indifference Curves for various food groups</a></span><ul class=\"toc-item\"><li><span><a href=\"#Considering-nutritional-information\" data-toc-modified-id=\"Considering-nutritional-information-3.1\"><span class=\"toc-item-num\">3.1&nbsp;&nbsp;</span>Considering nutritional information</a></span><ul class=\"toc-item\"><li><span><a href=\"#Plot-nutritional-outcomes\" data-toc-modified-id=\"Plot-nutritional-outcomes-3.1.1\"><span class=\"toc-item-num\">3.1.1&nbsp;&nbsp;</span>Plot nutritional outcomes</a></span></li></ul></li><li><span><a href=\"#Policy-estimations\" data-toc-modified-id=\"Policy-estimations-3.2\"><span class=\"toc-item-num\">3.2&nbsp;&nbsp;</span>Policy estimations</a></span></li></ul></li></ul></div>"
   ]
  },
  {
   "cell_type": "markdown",
   "metadata": {},
   "source": [
    "## Import statements and set up"
   ]
  },
  {
   "cell_type": "code",
   "execution_count": 1,
   "metadata": {
    "ExecuteTime": {
     "end_time": "2019-04-29T01:43:59.100348Z",
     "start_time": "2019-04-29T01:43:48.037711Z"
    }
   },
   "outputs": [
    {
     "name": "stdout",
     "output_type": "stream",
     "text": [
      "Requirement already up-to-date: CFEDemands in /Users/sannidhi/anaconda3/lib/python3.7/site-packages (0.1.6.6)\n",
      "\u001b[33mYou are using pip version 19.0.3, however version 19.1 is available.\n",
      "You should consider upgrading via the 'pip install --upgrade pip' command.\u001b[0m\n",
      "Requirement already satisfied: xarray in /Users/sannidhi/anaconda3/lib/python3.7/site-packages (0.12.0)\n",
      "Requirement already satisfied: pandas>=0.19.2 in /Users/sannidhi/anaconda3/lib/python3.7/site-packages (from xarray) (0.23.4)\n",
      "Requirement already satisfied: numpy>=1.12 in /Users/sannidhi/anaconda3/lib/python3.7/site-packages (from xarray) (1.15.1)\n",
      "Requirement already satisfied: python-dateutil>=2.5.0 in /Users/sannidhi/anaconda3/lib/python3.7/site-packages (from pandas>=0.19.2->xarray) (2.7.3)\n",
      "Requirement already satisfied: pytz>=2011k in /Users/sannidhi/anaconda3/lib/python3.7/site-packages (from pandas>=0.19.2->xarray) (2018.5)\n",
      "Requirement already satisfied: six>=1.5 in /Users/sannidhi/anaconda3/lib/python3.7/site-packages (from python-dateutil>=2.5.0->pandas>=0.19.2->xarray) (1.11.0)\n",
      "\u001b[33mYou are using pip version 19.0.3, however version 19.1 is available.\n",
      "You should consider upgrading via the 'pip install --upgrade pip' command.\u001b[0m\n"
     ]
    }
   ],
   "source": [
    "!pip install CFEDemands --upgrade\n",
    "!pip install xarray"
   ]
  },
  {
   "cell_type": "code",
   "execution_count": 2,
   "metadata": {
    "ExecuteTime": {
     "end_time": "2019-04-29T05:13:03.118751Z",
     "start_time": "2019-04-29T05:13:03.111236Z"
    }
   },
   "outputs": [],
   "source": [
    "import cfe\n",
    "import pandas as pd\n",
    "import numpy as np\n",
    "import random\n",
    "import xarray as xr\n",
    "\n",
    "import warnings\n",
    "warnings.filterwarnings('ignore')\n",
    "\n",
    "from IPython.display import display\n",
    "pd.options.display.max_columns = None"
   ]
  },
  {
   "cell_type": "markdown",
   "metadata": {},
   "source": [
    "## Pre-processing and formatting survey data"
   ]
  },
  {
   "cell_type": "code",
   "execution_count": 3,
   "metadata": {
    "ExecuteTime": {
     "end_time": "2019-04-29T06:49:32.875343Z",
     "start_time": "2019-04-29T06:49:11.393598Z"
    }
   },
   "outputs": [],
   "source": [
    "data_no_food_stamps = pd.read_csv('../data/actual/no_food_stamps.csv')\n",
    "data_yes_food_stamps = pd.read_csv('../data/actual/yes_food_stamps.csv')\n",
    "\n",
    "columns_to_drop = ['Unnamed: 0', 'id', 'id_2', \n",
    "                   'supp_security', 'schoolmeals_purchases', \n",
    "                   'self_employed', 'FWAGEXM',\n",
    "                   'members_under18', 'members_over64',\n",
    "                    'food_away', 'food_home', 'avg(GROSPAYX)']\n",
    "\n",
    "def standard_format(dataset):\n",
    "    \n",
    "    dataset['j'] = dataset['id']\n",
    "    dataset['t'] = 17\n",
    "    dataset['m'] = 1\n",
    "    \n",
    "    \n",
    "    dataset['M'] = \"\"\n",
    "    dataset['F'] = \"\"\n",
    "    dataset.loc[dataset['sex'] == 'Male', 'M'] = 1\n",
    "    dataset.loc[dataset['M'] == '', 'M'] = 0\n",
    "    dataset.loc[dataset['sex'] == 'Female', 'F'] = 1\n",
    "    dataset.loc[dataset['F'] == '', 'F'] = 0\n",
    "    \n",
    "    dataset['log_fsize'] = np.log(dataset['fam_size'])\n",
    "    \n",
    "    dataset.set_index(['j', 't', 'm'], inplace = True)\n",
    "    dataset.drop(columns = columns_to_drop, inplace = True)\n",
    "\n",
    "cali_no = data_no_food_stamps[data_no_food_stamps['state'].str.contains('Cali', na = False)]\n",
    "cali_yes = data_yes_food_stamps[data_yes_food_stamps['state'].str.contains('Cali', na = False)]\n",
    "\n",
    "datasets = {'California residents (no FS)': cali_no,\n",
    "           'California residents (yes FS)': cali_yes,\n",
    "           'US residents (no FS)': data_no_food_stamps,\n",
    "           'US residents (yes FS)': data_yes_food_stamps}\n",
    "\n",
    "for key, value in datasets.items():\n",
    "    standard_format(value)"
   ]
  },
  {
   "cell_type": "code",
   "execution_count": 4,
   "metadata": {
    "ExecuteTime": {
     "end_time": "2019-04-29T20:30:12.946266Z",
     "start_time": "2019-04-29T20:30:12.061337Z"
    }
   },
   "outputs": [
    {
     "data": {
      "text/plain": [
       "<xarray.DataArray 'prices' (i: 18)>\n",
       "array([9.937705, 7.906218, 5.851106, 4.092479, 1.07523 , 8.107099, 6.532807,\n",
       "       3.284924, 4.48    , 2.429568, 5.214702, 2.803513, 3.975505, 8.39843 ,\n",
       "       3.149823, 2.028527, 2.594154, 3.492714])\n",
       "Coordinates:\n",
       "  * i        (i) object 'alcbev' 'bakery' 'beef' ... 'seafood' 'sweets'"
      ]
     },
     "execution_count": 4,
     "metadata": {},
     "output_type": "execute_result"
    }
   ],
   "source": [
    "P_yes = pd.read_csv('https://docs.google.com/spreadsheets/d/e/2PACX-1vS_Pbtl-M-jP17QyYQzwsy5hzJNC1RS2ol_JmH11G6Omw3MX6SesnK3_6puwsWQUHFsKCVhPFCwhExE/pub?gid=1990185084&single=true&output=csv')\n",
    "P_yes.set_index(['i'], inplace = True)\n",
    "P_yes.head()\n",
    "test = xr.DataArray(P_yes['prices'])\n",
    "test"
   ]
  },
  {
   "cell_type": "markdown",
   "metadata": {},
   "source": [
    "## Dataset exploration "
   ]
  },
  {
   "cell_type": "code",
   "execution_count": 5,
   "metadata": {
    "ExecuteTime": {
     "end_time": "2019-04-29T06:49:58.630149Z",
     "start_time": "2019-04-29T06:49:58.620545Z"
    }
   },
   "outputs": [],
   "source": [
    "pop_describers = ['age', 'fam_size', 'net_income', 'total_food', 'total_food_percent', 'number_foodstamps']"
   ]
  },
  {
   "cell_type": "code",
   "execution_count": 6,
   "metadata": {
    "ExecuteTime": {
     "end_time": "2019-04-29T06:50:00.694221Z",
     "start_time": "2019-04-29T06:50:00.644902Z"
    }
   },
   "outputs": [
    {
     "data": {
      "text/html": [
       "<div>\n",
       "<style scoped>\n",
       "    .dataframe tbody tr th:only-of-type {\n",
       "        vertical-align: middle;\n",
       "    }\n",
       "\n",
       "    .dataframe tbody tr th {\n",
       "        vertical-align: top;\n",
       "    }\n",
       "\n",
       "    .dataframe thead th {\n",
       "        text-align: right;\n",
       "    }\n",
       "</style>\n",
       "<table border=\"1\" class=\"dataframe\">\n",
       "  <thead>\n",
       "    <tr style=\"text-align: right;\">\n",
       "      <th></th>\n",
       "      <th>age</th>\n",
       "      <th>fam_size</th>\n",
       "      <th>net_income</th>\n",
       "      <th>total_food</th>\n",
       "      <th>total_food_percent</th>\n",
       "      <th>number_foodstamps</th>\n",
       "    </tr>\n",
       "  </thead>\n",
       "  <tbody>\n",
       "    <tr>\n",
       "      <th>count</th>\n",
       "      <td>485.000000</td>\n",
       "      <td>485.00000</td>\n",
       "      <td>485.000000</td>\n",
       "      <td>485.000000</td>\n",
       "      <td>485.000000</td>\n",
       "      <td>0.0</td>\n",
       "    </tr>\n",
       "    <tr>\n",
       "      <th>mean</th>\n",
       "      <td>51.476289</td>\n",
       "      <td>2.56701</td>\n",
       "      <td>94651.287629</td>\n",
       "      <td>168.057934</td>\n",
       "      <td>0.149956</td>\n",
       "      <td>NaN</td>\n",
       "    </tr>\n",
       "  </tbody>\n",
       "</table>\n",
       "</div>"
      ],
      "text/plain": [
       "              age   fam_size    net_income  total_food  total_food_percent  \\\n",
       "count  485.000000  485.00000    485.000000  485.000000          485.000000   \n",
       "mean    51.476289    2.56701  94651.287629  168.057934            0.149956   \n",
       "\n",
       "       number_foodstamps  \n",
       "count                0.0  \n",
       "mean                 NaN  "
      ]
     },
     "execution_count": 6,
     "metadata": {},
     "output_type": "execute_result"
    }
   ],
   "source": [
    "cali_no[pop_describers].describe()[:2]"
   ]
  },
  {
   "cell_type": "code",
   "execution_count": 7,
   "metadata": {
    "ExecuteTime": {
     "end_time": "2019-04-29T06:50:04.295053Z",
     "start_time": "2019-04-29T06:50:04.250353Z"
    }
   },
   "outputs": [
    {
     "data": {
      "text/html": [
       "<div>\n",
       "<style scoped>\n",
       "    .dataframe tbody tr th:only-of-type {\n",
       "        vertical-align: middle;\n",
       "    }\n",
       "\n",
       "    .dataframe tbody tr th {\n",
       "        vertical-align: top;\n",
       "    }\n",
       "\n",
       "    .dataframe thead th {\n",
       "        text-align: right;\n",
       "    }\n",
       "</style>\n",
       "<table border=\"1\" class=\"dataframe\">\n",
       "  <thead>\n",
       "    <tr style=\"text-align: right;\">\n",
       "      <th></th>\n",
       "      <th>age</th>\n",
       "      <th>fam_size</th>\n",
       "      <th>net_income</th>\n",
       "      <th>total_food</th>\n",
       "      <th>total_food_percent</th>\n",
       "      <th>number_foodstamps</th>\n",
       "    </tr>\n",
       "  </thead>\n",
       "  <tbody>\n",
       "    <tr>\n",
       "      <th>count</th>\n",
       "      <td>39.000000</td>\n",
       "      <td>39.000000</td>\n",
       "      <td>39.000000</td>\n",
       "      <td>39.00000</td>\n",
       "      <td>39.000000</td>\n",
       "      <td>38.0</td>\n",
       "    </tr>\n",
       "    <tr>\n",
       "      <th>mean</th>\n",
       "      <td>45.564103</td>\n",
       "      <td>3.589744</td>\n",
       "      <td>41576.887179</td>\n",
       "      <td>128.57101</td>\n",
       "      <td>0.198993</td>\n",
       "      <td>10.0</td>\n",
       "    </tr>\n",
       "  </tbody>\n",
       "</table>\n",
       "</div>"
      ],
      "text/plain": [
       "             age   fam_size    net_income  total_food  total_food_percent  \\\n",
       "count  39.000000  39.000000     39.000000    39.00000           39.000000   \n",
       "mean   45.564103   3.589744  41576.887179   128.57101            0.198993   \n",
       "\n",
       "       number_foodstamps  \n",
       "count               38.0  \n",
       "mean                10.0  "
      ]
     },
     "execution_count": 7,
     "metadata": {},
     "output_type": "execute_result"
    }
   ],
   "source": [
    "cali_yes[pop_describers].describe()[:2]"
   ]
  },
  {
   "cell_type": "code",
   "execution_count": 8,
   "metadata": {
    "ExecuteTime": {
     "end_time": "2019-04-29T06:50:06.962696Z",
     "start_time": "2019-04-29T06:50:06.926727Z"
    }
   },
   "outputs": [
    {
     "data": {
      "text/html": [
       "<div>\n",
       "<style scoped>\n",
       "    .dataframe tbody tr th:only-of-type {\n",
       "        vertical-align: middle;\n",
       "    }\n",
       "\n",
       "    .dataframe tbody tr th {\n",
       "        vertical-align: top;\n",
       "    }\n",
       "\n",
       "    .dataframe thead th {\n",
       "        text-align: right;\n",
       "    }\n",
       "</style>\n",
       "<table border=\"1\" class=\"dataframe\">\n",
       "  <thead>\n",
       "    <tr style=\"text-align: right;\">\n",
       "      <th></th>\n",
       "      <th>age</th>\n",
       "      <th>fam_size</th>\n",
       "      <th>net_income</th>\n",
       "      <th>total_food</th>\n",
       "      <th>total_food_percent</th>\n",
       "      <th>number_foodstamps</th>\n",
       "    </tr>\n",
       "  </thead>\n",
       "  <tbody>\n",
       "    <tr>\n",
       "      <th>count</th>\n",
       "      <td>4884.000000</td>\n",
       "      <td>4884.00000</td>\n",
       "      <td>4884.000000</td>\n",
       "      <td>4884.000000</td>\n",
       "      <td>4884.000000</td>\n",
       "      <td>0.0</td>\n",
       "    </tr>\n",
       "    <tr>\n",
       "      <th>mean</th>\n",
       "      <td>52.480344</td>\n",
       "      <td>2.42199</td>\n",
       "      <td>87416.968591</td>\n",
       "      <td>149.098386</td>\n",
       "      <td>0.135048</td>\n",
       "      <td>NaN</td>\n",
       "    </tr>\n",
       "  </tbody>\n",
       "</table>\n",
       "</div>"
      ],
      "text/plain": [
       "               age    fam_size    net_income   total_food  total_food_percent  \\\n",
       "count  4884.000000  4884.00000   4884.000000  4884.000000         4884.000000   \n",
       "mean     52.480344     2.42199  87416.968591   149.098386            0.135048   \n",
       "\n",
       "       number_foodstamps  \n",
       "count                0.0  \n",
       "mean                 NaN  "
      ]
     },
     "execution_count": 8,
     "metadata": {},
     "output_type": "execute_result"
    }
   ],
   "source": [
    "data_no_food_stamps[pop_describers].describe()[:2]"
   ]
  },
  {
   "cell_type": "code",
   "execution_count": 9,
   "metadata": {
    "ExecuteTime": {
     "end_time": "2019-04-29T06:50:08.907090Z",
     "start_time": "2019-04-29T06:50:08.858253Z"
    }
   },
   "outputs": [
    {
     "data": {
      "text/html": [
       "<div>\n",
       "<style scoped>\n",
       "    .dataframe tbody tr th:only-of-type {\n",
       "        vertical-align: middle;\n",
       "    }\n",
       "\n",
       "    .dataframe tbody tr th {\n",
       "        vertical-align: top;\n",
       "    }\n",
       "\n",
       "    .dataframe thead th {\n",
       "        text-align: right;\n",
       "    }\n",
       "</style>\n",
       "<table border=\"1\" class=\"dataframe\">\n",
       "  <thead>\n",
       "    <tr style=\"text-align: right;\">\n",
       "      <th></th>\n",
       "      <th>age</th>\n",
       "      <th>fam_size</th>\n",
       "      <th>net_income</th>\n",
       "      <th>total_food</th>\n",
       "      <th>total_food_percent</th>\n",
       "      <th>number_foodstamps</th>\n",
       "    </tr>\n",
       "  </thead>\n",
       "  <tbody>\n",
       "    <tr>\n",
       "      <th>count</th>\n",
       "      <td>491.000000</td>\n",
       "      <td>491.000000</td>\n",
       "      <td>491.000000</td>\n",
       "      <td>491.000000</td>\n",
       "      <td>491.000000</td>\n",
       "      <td>484.00</td>\n",
       "    </tr>\n",
       "    <tr>\n",
       "      <th>mean</th>\n",
       "      <td>48.790224</td>\n",
       "      <td>3.167006</td>\n",
       "      <td>33749.366395</td>\n",
       "      <td>107.321433</td>\n",
       "      <td>0.230127</td>\n",
       "      <td>10.25</td>\n",
       "    </tr>\n",
       "  </tbody>\n",
       "</table>\n",
       "</div>"
      ],
      "text/plain": [
       "              age    fam_size    net_income  total_food  total_food_percent  \\\n",
       "count  491.000000  491.000000    491.000000  491.000000          491.000000   \n",
       "mean    48.790224    3.167006  33749.366395  107.321433            0.230127   \n",
       "\n",
       "       number_foodstamps  \n",
       "count             484.00  \n",
       "mean               10.25  "
      ]
     },
     "execution_count": 9,
     "metadata": {},
     "output_type": "execute_result"
    }
   ],
   "source": [
    "data_yes_food_stamps[pop_describers].describe()[:2]"
   ]
  },
  {
   "cell_type": "markdown",
   "metadata": {},
   "source": [
    "### List out all variables"
   ]
  },
  {
   "cell_type": "code",
   "execution_count": 10,
   "metadata": {
    "ExecuteTime": {
     "end_time": "2019-04-29T06:50:11.554034Z",
     "start_time": "2019-04-29T06:50:11.546872Z"
    }
   },
   "outputs": [
    {
     "data": {
      "text/plain": [
       "Index(['age', 'highest_education', 'profession', 'hispanic',\n",
       "       'weekly_hours_worked', 'in_college', 'is_married', 'sex',\n",
       "       'reason_unemployment', 'main_profession', 'numweeks_schoolmeals', 'psu',\n",
       "       'psu_popsize', 'net_income', 'alcbev', 'bakery', 'beef', 'cereal',\n",
       "       'child_age', 'housing_type', 'census_division', 'eggs', 'fam_size',\n",
       "       'total_food', 'fresh_fruit', 'fresh_veg', 'value_foodstamps',\n",
       "       'number_foodstamps', 'non_alc_grocery', 'milk', 'number_earners',\n",
       "       'non_alc_bevs', 'oils', 'othdairy', 'othmeat', 'pet_food', 'pork',\n",
       "       'procfruit', 'proc_veg', 'spouse_race', 'foodstamp_or_not', 'seafood',\n",
       "       'smoking', 'lives_in_MSA', 'state', 'sweets', 'vehicle',\n",
       "       'miscellaneous', 'poultry', 'total_food_percent', 'M', 'F',\n",
       "       'log_fsize'],\n",
       "      dtype='object')"
      ]
     },
     "execution_count": 10,
     "metadata": {},
     "output_type": "execute_result"
    }
   ],
   "source": [
    "cali_no.columns"
   ]
  },
  {
   "cell_type": "markdown",
   "metadata": {},
   "source": [
    "### Choose categories for expenditure goods and household characteristics."
   ]
  },
  {
   "cell_type": "code",
   "execution_count": 11,
   "metadata": {
    "ExecuteTime": {
     "end_time": "2019-04-29T06:53:39.762019Z",
     "start_time": "2019-04-29T06:53:39.742013Z"
    }
   },
   "outputs": [],
   "source": [
    "expenditures = ['alcbev', 'bakery', 'beef', 'cereal', 'eggs',\n",
    "                'fresh_fruit', 'fresh_veg', 'milk', 'non_alc_bevs',\n",
    "                'oils', 'othdairy', 'othmeat', 'poultry', 'pork', 'procfruit',\n",
    "                'proc_veg', 'seafood', 'sweets']\n",
    "\n",
    "household_chars = ['age', 'M', 'log_fsize', 'vehicle', 'child_age']"
   ]
  },
  {
   "cell_type": "markdown",
   "metadata": {},
   "source": [
    "## Basic analysis of spend"
   ]
  },
  {
   "cell_type": "code",
   "execution_count": 12,
   "metadata": {
    "ExecuteTime": {
     "end_time": "2019-04-29T18:44:11.208335Z",
     "start_time": "2019-04-29T18:44:11.198305Z"
    }
   },
   "outputs": [
    {
     "name": "stdout",
     "output_type": "stream",
     "text": [
      "California residents (no FS) has 485 entries.\n",
      "California residents (yes FS) has 39 entries.\n",
      "US residents (no FS) has 4884 entries.\n",
      "US residents (yes FS) has 491 entries.\n"
     ]
    }
   ],
   "source": [
    "for key, value in datasets.items():\n",
    "    print(key, 'has', value.shape[0], 'entries.')"
   ]
  },
  {
   "cell_type": "markdown",
   "metadata": {},
   "source": [
    "### Comparing spending by category across food stamp groups"
   ]
  },
  {
   "cell_type": "code",
   "execution_count": 13,
   "metadata": {
    "ExecuteTime": {
     "end_time": "2019-04-29T18:45:06.860064Z",
     "start_time": "2019-04-29T18:45:06.415252Z"
    }
   },
   "outputs": [
    {
     "data": {
      "text/html": [
       "<div>\n",
       "<style scoped>\n",
       "    .dataframe tbody tr th:only-of-type {\n",
       "        vertical-align: middle;\n",
       "    }\n",
       "\n",
       "    .dataframe tbody tr th {\n",
       "        vertical-align: top;\n",
       "    }\n",
       "\n",
       "    .dataframe thead th {\n",
       "        text-align: right;\n",
       "    }\n",
       "</style>\n",
       "<table border=\"1\" class=\"dataframe\">\n",
       "  <thead>\n",
       "    <tr style=\"text-align: right;\">\n",
       "      <th></th>\n",
       "      <th>mean</th>\n",
       "      <th>ratio</th>\n",
       "    </tr>\n",
       "  </thead>\n",
       "  <tbody>\n",
       "    <tr>\n",
       "      <th>alcbev</th>\n",
       "      <td>15.778444</td>\n",
       "      <td>0.173792</td>\n",
       "    </tr>\n",
       "    <tr>\n",
       "      <th>bakery</th>\n",
       "      <td>7.753568</td>\n",
       "      <td>0.085402</td>\n",
       "    </tr>\n",
       "    <tr>\n",
       "      <th>beef</th>\n",
       "      <td>5.419872</td>\n",
       "      <td>0.059697</td>\n",
       "    </tr>\n",
       "    <tr>\n",
       "      <th>cereal</th>\n",
       "      <td>3.725519</td>\n",
       "      <td>0.041035</td>\n",
       "    </tr>\n",
       "    <tr>\n",
       "      <th>eggs</th>\n",
       "      <td>1.406550</td>\n",
       "      <td>0.015492</td>\n",
       "    </tr>\n",
       "    <tr>\n",
       "      <th>fresh_fruit</th>\n",
       "      <td>7.978605</td>\n",
       "      <td>0.087880</td>\n",
       "    </tr>\n",
       "    <tr>\n",
       "      <th>fresh_veg</th>\n",
       "      <td>7.051676</td>\n",
       "      <td>0.077671</td>\n",
       "    </tr>\n",
       "    <tr>\n",
       "      <th>milk</th>\n",
       "      <td>3.200180</td>\n",
       "      <td>0.035248</td>\n",
       "    </tr>\n",
       "    <tr>\n",
       "      <th>non_alc_bevs</th>\n",
       "      <td>8.133430</td>\n",
       "      <td>0.089586</td>\n",
       "    </tr>\n",
       "    <tr>\n",
       "      <th>oils</th>\n",
       "      <td>2.293581</td>\n",
       "      <td>0.025263</td>\n",
       "    </tr>\n",
       "    <tr>\n",
       "      <th>othdairy</th>\n",
       "      <td>6.598775</td>\n",
       "      <td>0.072682</td>\n",
       "    </tr>\n",
       "    <tr>\n",
       "      <th>othmeat</th>\n",
       "      <td>2.426467</td>\n",
       "      <td>0.026726</td>\n",
       "    </tr>\n",
       "    <tr>\n",
       "      <th>poultry</th>\n",
       "      <td>4.149816</td>\n",
       "      <td>0.045708</td>\n",
       "    </tr>\n",
       "    <tr>\n",
       "      <th>pork</th>\n",
       "      <td>3.750700</td>\n",
       "      <td>0.041312</td>\n",
       "    </tr>\n",
       "    <tr>\n",
       "      <th>procfruit</th>\n",
       "      <td>2.523253</td>\n",
       "      <td>0.027792</td>\n",
       "    </tr>\n",
       "    <tr>\n",
       "      <th>proc_veg</th>\n",
       "      <td>2.385573</td>\n",
       "      <td>0.026276</td>\n",
       "    </tr>\n",
       "    <tr>\n",
       "      <th>seafood</th>\n",
       "      <td>3.193835</td>\n",
       "      <td>0.035178</td>\n",
       "    </tr>\n",
       "    <tr>\n",
       "      <th>sweets</th>\n",
       "      <td>3.019622</td>\n",
       "      <td>0.033260</td>\n",
       "    </tr>\n",
       "  </tbody>\n",
       "</table>\n",
       "</div>"
      ],
      "text/plain": [
       "                   mean     ratio\n",
       "alcbev        15.778444  0.173792\n",
       "bakery         7.753568  0.085402\n",
       "beef           5.419872  0.059697\n",
       "cereal         3.725519  0.041035\n",
       "eggs           1.406550  0.015492\n",
       "fresh_fruit    7.978605  0.087880\n",
       "fresh_veg      7.051676  0.077671\n",
       "milk           3.200180  0.035248\n",
       "non_alc_bevs   8.133430  0.089586\n",
       "oils           2.293581  0.025263\n",
       "othdairy       6.598775  0.072682\n",
       "othmeat        2.426467  0.026726\n",
       "poultry        4.149816  0.045708\n",
       "pork           3.750700  0.041312\n",
       "procfruit      2.523253  0.027792\n",
       "proc_veg       2.385573  0.026276\n",
       "seafood        3.193835  0.035178\n",
       "sweets         3.019622  0.033260"
      ]
     },
     "execution_count": 13,
     "metadata": {},
     "output_type": "execute_result"
    },
    {
     "data": {
      "image/png": "[encoded data removed]",
      "text/plain": [
       "<Figure size 432x288 with 1 Axes>"
      ]
     },
     "metadata": {
      "needs_background": "light"
     },
     "output_type": "display_data"
    }
   ],
   "source": [
    "means_no = cali_no[expenditures].describe()\n",
    "means_no = means_no.loc['mean'].to_frame()\n",
    "means_no['ratio'] = means_no['mean']/sum(means_no['mean'])\n",
    "\n",
    "x1 = means_no['ratio'].plot.bar()\n",
    "\n",
    "means_no"
   ]
  },
  {
   "cell_type": "code",
   "execution_count": 14,
   "metadata": {
    "ExecuteTime": {
     "end_time": "2019-04-29T18:45:15.603875Z",
     "start_time": "2019-04-29T18:45:14.980852Z"
    }
   },
   "outputs": [
    {
     "data": {
      "text/html": [
       "<div>\n",
       "<style scoped>\n",
       "    .dataframe tbody tr th:only-of-type {\n",
       "        vertical-align: middle;\n",
       "    }\n",
       "\n",
       "    .dataframe tbody tr th {\n",
       "        vertical-align: top;\n",
       "    }\n",
       "\n",
       "    .dataframe thead th {\n",
       "        text-align: right;\n",
       "    }\n",
       "</style>\n",
       "<table border=\"1\" class=\"dataframe\">\n",
       "  <thead>\n",
       "    <tr style=\"text-align: right;\">\n",
       "      <th></th>\n",
       "      <th>mean</th>\n",
       "      <th>ratio</th>\n",
       "    </tr>\n",
       "  </thead>\n",
       "  <tbody>\n",
       "    <tr>\n",
       "      <th>alcbev</th>\n",
       "      <td>4.842387</td>\n",
       "      <td>0.056493</td>\n",
       "    </tr>\n",
       "    <tr>\n",
       "      <th>bakery</th>\n",
       "      <td>7.906218</td>\n",
       "      <td>0.092236</td>\n",
       "    </tr>\n",
       "    <tr>\n",
       "      <th>beef</th>\n",
       "      <td>5.851106</td>\n",
       "      <td>0.068261</td>\n",
       "    </tr>\n",
       "    <tr>\n",
       "      <th>cereal</th>\n",
       "      <td>4.092479</td>\n",
       "      <td>0.047744</td>\n",
       "    </tr>\n",
       "    <tr>\n",
       "      <th>eggs</th>\n",
       "      <td>1.075230</td>\n",
       "      <td>0.012544</td>\n",
       "    </tr>\n",
       "    <tr>\n",
       "      <th>fresh_fruit</th>\n",
       "      <td>8.107099</td>\n",
       "      <td>0.094580</td>\n",
       "    </tr>\n",
       "    <tr>\n",
       "      <th>fresh_veg</th>\n",
       "      <td>6.532807</td>\n",
       "      <td>0.076214</td>\n",
       "    </tr>\n",
       "    <tr>\n",
       "      <th>milk</th>\n",
       "      <td>3.284924</td>\n",
       "      <td>0.038323</td>\n",
       "    </tr>\n",
       "    <tr>\n",
       "      <th>non_alc_bevs</th>\n",
       "      <td>9.937705</td>\n",
       "      <td>0.115936</td>\n",
       "    </tr>\n",
       "    <tr>\n",
       "      <th>oils</th>\n",
       "      <td>2.429568</td>\n",
       "      <td>0.028344</td>\n",
       "    </tr>\n",
       "    <tr>\n",
       "      <th>othdairy</th>\n",
       "      <td>5.214702</td>\n",
       "      <td>0.060836</td>\n",
       "    </tr>\n",
       "    <tr>\n",
       "      <th>othmeat</th>\n",
       "      <td>2.803513</td>\n",
       "      <td>0.032707</td>\n",
       "    </tr>\n",
       "    <tr>\n",
       "      <th>poultry</th>\n",
       "      <td>8.398430</td>\n",
       "      <td>0.097979</td>\n",
       "    </tr>\n",
       "    <tr>\n",
       "      <th>pork</th>\n",
       "      <td>3.975505</td>\n",
       "      <td>0.046379</td>\n",
       "    </tr>\n",
       "    <tr>\n",
       "      <th>procfruit</th>\n",
       "      <td>2.028527</td>\n",
       "      <td>0.023665</td>\n",
       "    </tr>\n",
       "    <tr>\n",
       "      <th>proc_veg</th>\n",
       "      <td>3.149823</td>\n",
       "      <td>0.036747</td>\n",
       "    </tr>\n",
       "    <tr>\n",
       "      <th>seafood</th>\n",
       "      <td>2.594154</td>\n",
       "      <td>0.030264</td>\n",
       "    </tr>\n",
       "    <tr>\n",
       "      <th>sweets</th>\n",
       "      <td>3.492714</td>\n",
       "      <td>0.040747</td>\n",
       "    </tr>\n",
       "  </tbody>\n",
       "</table>\n",
       "</div>"
      ],
      "text/plain": [
       "                  mean     ratio\n",
       "alcbev        4.842387  0.056493\n",
       "bakery        7.906218  0.092236\n",
       "beef          5.851106  0.068261\n",
       "cereal        4.092479  0.047744\n",
       "eggs          1.075230  0.012544\n",
       "fresh_fruit   8.107099  0.094580\n",
       "fresh_veg     6.532807  0.076214\n",
       "milk          3.284924  0.038323\n",
       "non_alc_bevs  9.937705  0.115936\n",
       "oils          2.429568  0.028344\n",
       "othdairy      5.214702  0.060836\n",
       "othmeat       2.803513  0.032707\n",
       "poultry       8.398430  0.097979\n",
       "pork          3.975505  0.046379\n",
       "procfruit     2.028527  0.023665\n",
       "proc_veg      3.149823  0.036747\n",
       "seafood       2.594154  0.030264\n",
       "sweets        3.492714  0.040747"
      ]
     },
     "execution_count": 14,
     "metadata": {},
     "output_type": "execute_result"
    },
    {
     "data": {
      "image/png": "[encoded data removed]",
      "text/plain": [
       "<Figure size 432x288 with 1 Axes>"
      ]
     },
     "metadata": {
      "needs_background": "light"
     },
     "output_type": "display_data"
    }
   ],
   "source": [
    "means_yes = cali_yes[expenditures].describe()\n",
    "means_yes = means_yes.loc['mean'].to_frame()\n",
    "means_yes['ratio'] = means_yes['mean']/sum(means_yes['mean'])\n",
    "means_yes['ratio'].plot.bar()\n",
    "means_yes"
   ]
  },
  {
   "cell_type": "markdown",
   "metadata": {},
   "source": [
    "# Estimating demand for CA residents"
   ]
  },
  {
   "cell_type": "markdown",
   "metadata": {},
   "source": [
    "### Loading variables"
   ]
  },
  {
   "cell_type": "code",
   "execution_count": 15,
   "metadata": {
    "ExecuteTime": {
     "end_time": "2019-04-29T20:30:22.368790Z",
     "start_time": "2019-04-29T20:30:22.343034Z"
    },
    "scrolled": true
   },
   "outputs": [
    {
     "data": {
      "text/html": [
       "<div>\n",
       "<style scoped>\n",
       "    .dataframe tbody tr th:only-of-type {\n",
       "        vertical-align: middle;\n",
       "    }\n",
       "\n",
       "    .dataframe tbody tr th {\n",
       "        vertical-align: top;\n",
       "    }\n",
       "\n",
       "    .dataframe thead th {\n",
       "        text-align: right;\n",
       "    }\n",
       "</style>\n",
       "<table border=\"1\" class=\"dataframe\">\n",
       "  <thead>\n",
       "    <tr style=\"text-align: right;\">\n",
       "      <th></th>\n",
       "      <th></th>\n",
       "      <th></th>\n",
       "      <th>age</th>\n",
       "      <th>M</th>\n",
       "      <th>log_fsize</th>\n",
       "      <th>vehicle</th>\n",
       "      <th>child_age</th>\n",
       "    </tr>\n",
       "    <tr>\n",
       "      <th>j</th>\n",
       "      <th>t</th>\n",
       "      <th>m</th>\n",
       "      <th></th>\n",
       "      <th></th>\n",
       "      <th></th>\n",
       "      <th></th>\n",
       "      <th></th>\n",
       "    </tr>\n",
       "  </thead>\n",
       "  <tbody>\n",
       "    <tr>\n",
       "      <th>361586</th>\n",
       "      <th>17</th>\n",
       "      <th>1</th>\n",
       "      <td>49</td>\n",
       "      <td>0</td>\n",
       "      <td>0.693147</td>\n",
       "      <td>1.0</td>\n",
       "      <td>5</td>\n",
       "    </tr>\n",
       "    <tr>\n",
       "      <th>361731</th>\n",
       "      <th>17</th>\n",
       "      <th>1</th>\n",
       "      <td>70</td>\n",
       "      <td>1</td>\n",
       "      <td>0.693147</td>\n",
       "      <td>2.0</td>\n",
       "      <td>0</td>\n",
       "    </tr>\n",
       "    <tr>\n",
       "      <th>362307</th>\n",
       "      <th>17</th>\n",
       "      <th>1</th>\n",
       "      <td>44</td>\n",
       "      <td>0</td>\n",
       "      <td>1.386294</td>\n",
       "      <td>1.0</td>\n",
       "      <td>4</td>\n",
       "    </tr>\n",
       "    <tr>\n",
       "      <th>362323</th>\n",
       "      <th>17</th>\n",
       "      <th>1</th>\n",
       "      <td>45</td>\n",
       "      <td>0</td>\n",
       "      <td>1.098612</td>\n",
       "      <td>NaN</td>\n",
       "      <td>0</td>\n",
       "    </tr>\n",
       "    <tr>\n",
       "      <th>362559</th>\n",
       "      <th>17</th>\n",
       "      <th>1</th>\n",
       "      <td>30</td>\n",
       "      <td>0</td>\n",
       "      <td>1.386294</td>\n",
       "      <td>2.0</td>\n",
       "      <td>2</td>\n",
       "    </tr>\n",
       "  </tbody>\n",
       "</table>\n",
       "</div>"
      ],
      "text/plain": [
       "             age  M  log_fsize  vehicle  child_age\n",
       "j      t  m                                       \n",
       "361586 17 1   49  0   0.693147      1.0          5\n",
       "361731 17 1   70  1   0.693147      2.0          0\n",
       "362307 17 1   44  0   1.386294      1.0          4\n",
       "362323 17 1   45  0   1.098612      NaN          0\n",
       "362559 17 1   30  0   1.386294      2.0          2"
      ]
     },
     "execution_count": 15,
     "metadata": {},
     "output_type": "execute_result"
    }
   ],
   "source": [
    "X_yes = cali_yes[expenditures]\n",
    "Z_yes = cali_yes[household_chars]\n",
    "Y_yes = np.log(X_yes.replace(0,np.nan))\n",
    "P = test\n",
    "\n",
    "Z_yes.head()"
   ]
  },
  {
   "cell_type": "code",
   "execution_count": 16,
   "metadata": {
    "ExecuteTime": {
     "end_time": "2019-04-29T18:52:57.351478Z",
     "start_time": "2019-04-29T18:52:57.313716Z"
    }
   },
   "outputs": [
    {
     "data": {
      "text/html": [
       "<div>\n",
       "<style scoped>\n",
       "    .dataframe tbody tr th:only-of-type {\n",
       "        vertical-align: middle;\n",
       "    }\n",
       "\n",
       "    .dataframe tbody tr th {\n",
       "        vertical-align: top;\n",
       "    }\n",
       "\n",
       "    .dataframe thead th {\n",
       "        text-align: right;\n",
       "    }\n",
       "</style>\n",
       "<table border=\"1\" class=\"dataframe\">\n",
       "  <thead>\n",
       "    <tr style=\"text-align: right;\">\n",
       "      <th></th>\n",
       "      <th></th>\n",
       "      <th></th>\n",
       "      <th>alcbev</th>\n",
       "      <th>bakery</th>\n",
       "      <th>beef</th>\n",
       "      <th>cereal</th>\n",
       "      <th>eggs</th>\n",
       "      <th>fresh_fruit</th>\n",
       "      <th>fresh_veg</th>\n",
       "      <th>milk</th>\n",
       "      <th>non_alc_bevs</th>\n",
       "      <th>oils</th>\n",
       "      <th>othdairy</th>\n",
       "      <th>othmeat</th>\n",
       "      <th>poultry</th>\n",
       "      <th>pork</th>\n",
       "      <th>procfruit</th>\n",
       "      <th>proc_veg</th>\n",
       "      <th>seafood</th>\n",
       "      <th>sweets</th>\n",
       "    </tr>\n",
       "    <tr>\n",
       "      <th>j</th>\n",
       "      <th>t</th>\n",
       "      <th>m</th>\n",
       "      <th></th>\n",
       "      <th></th>\n",
       "      <th></th>\n",
       "      <th></th>\n",
       "      <th></th>\n",
       "      <th></th>\n",
       "      <th></th>\n",
       "      <th></th>\n",
       "      <th></th>\n",
       "      <th></th>\n",
       "      <th></th>\n",
       "      <th></th>\n",
       "      <th></th>\n",
       "      <th></th>\n",
       "      <th></th>\n",
       "      <th></th>\n",
       "      <th></th>\n",
       "      <th></th>\n",
       "    </tr>\n",
       "  </thead>\n",
       "  <tbody>\n",
       "    <tr>\n",
       "      <th>361586</th>\n",
       "      <th>17</th>\n",
       "      <th>1</th>\n",
       "      <td>-0.216913</td>\n",
       "      <td>2.283028</td>\n",
       "      <td>1.490654</td>\n",
       "      <td>0.965081</td>\n",
       "      <td>0.737164</td>\n",
       "      <td>0.890329</td>\n",
       "      <td>1.510025</td>\n",
       "      <td>2.004269</td>\n",
       "      <td>2.021548</td>\n",
       "      <td>1.190888</td>\n",
       "      <td>2.317986</td>\n",
       "      <td>NaN</td>\n",
       "      <td>NaN</td>\n",
       "      <td>1.606433</td>\n",
       "      <td>1.339585</td>\n",
       "      <td>0.430184</td>\n",
       "      <td>NaN</td>\n",
       "      <td>1.755268</td>\n",
       "    </tr>\n",
       "    <tr>\n",
       "      <th>361731</th>\n",
       "      <th>17</th>\n",
       "      <th>1</th>\n",
       "      <td>2.387845</td>\n",
       "      <td>1.820509</td>\n",
       "      <td>2.560323</td>\n",
       "      <td>0.476234</td>\n",
       "      <td>NaN</td>\n",
       "      <td>2.458734</td>\n",
       "      <td>-0.127833</td>\n",
       "      <td>NaN</td>\n",
       "      <td>NaN</td>\n",
       "      <td>0.685619</td>\n",
       "      <td>1.920592</td>\n",
       "      <td>0.398776</td>\n",
       "      <td>1.772407</td>\n",
       "      <td>1.027832</td>\n",
       "      <td>NaN</td>\n",
       "      <td>1.519513</td>\n",
       "      <td>1.262713</td>\n",
       "      <td>2.035359</td>\n",
       "    </tr>\n",
       "    <tr>\n",
       "      <th>362307</th>\n",
       "      <th>17</th>\n",
       "      <th>1</th>\n",
       "      <td>NaN</td>\n",
       "      <td>2.788093</td>\n",
       "      <td>1.554982</td>\n",
       "      <td>1.905832</td>\n",
       "      <td>NaN</td>\n",
       "      <td>NaN</td>\n",
       "      <td>0.239017</td>\n",
       "      <td>0.806476</td>\n",
       "      <td>3.307985</td>\n",
       "      <td>1.789256</td>\n",
       "      <td>2.299581</td>\n",
       "      <td>0.690644</td>\n",
       "      <td>NaN</td>\n",
       "      <td>NaN</td>\n",
       "      <td>NaN</td>\n",
       "      <td>1.095273</td>\n",
       "      <td>NaN</td>\n",
       "      <td>2.419034</td>\n",
       "    </tr>\n",
       "    <tr>\n",
       "      <th>362323</th>\n",
       "      <th>17</th>\n",
       "      <th>1</th>\n",
       "      <td>NaN</td>\n",
       "      <td>2.375836</td>\n",
       "      <td>NaN</td>\n",
       "      <td>1.247032</td>\n",
       "      <td>0.371564</td>\n",
       "      <td>-0.703198</td>\n",
       "      <td>-0.703198</td>\n",
       "      <td>NaN</td>\n",
       "      <td>1.747459</td>\n",
       "      <td>0.559616</td>\n",
       "      <td>NaN</td>\n",
       "      <td>NaN</td>\n",
       "      <td>2.909084</td>\n",
       "      <td>1.381282</td>\n",
       "      <td>0.552303</td>\n",
       "      <td>1.075941</td>\n",
       "      <td>1.928619</td>\n",
       "      <td>NaN</td>\n",
       "    </tr>\n",
       "    <tr>\n",
       "      <th>362559</th>\n",
       "      <th>17</th>\n",
       "      <th>1</th>\n",
       "      <td>NaN</td>\n",
       "      <td>NaN</td>\n",
       "      <td>2.751120</td>\n",
       "      <td>NaN</td>\n",
       "      <td>NaN</td>\n",
       "      <td>NaN</td>\n",
       "      <td>NaN</td>\n",
       "      <td>NaN</td>\n",
       "      <td>NaN</td>\n",
       "      <td>NaN</td>\n",
       "      <td>NaN</td>\n",
       "      <td>1.467839</td>\n",
       "      <td>NaN</td>\n",
       "      <td>NaN</td>\n",
       "      <td>NaN</td>\n",
       "      <td>NaN</td>\n",
       "      <td>NaN</td>\n",
       "      <td>NaN</td>\n",
       "    </tr>\n",
       "  </tbody>\n",
       "</table>\n",
       "</div>"
      ],
      "text/plain": [
       "               alcbev    bakery      beef    cereal      eggs  fresh_fruit  \\\n",
       "j      t  m                                                                  \n",
       "361586 17 1 -0.216913  2.283028  1.490654  0.965081  0.737164     0.890329   \n",
       "361731 17 1  2.387845  1.820509  2.560323  0.476234       NaN     2.458734   \n",
       "362307 17 1       NaN  2.788093  1.554982  1.905832       NaN          NaN   \n",
       "362323 17 1       NaN  2.375836       NaN  1.247032  0.371564    -0.703198   \n",
       "362559 17 1       NaN       NaN  2.751120       NaN       NaN          NaN   \n",
       "\n",
       "             fresh_veg      milk  non_alc_bevs      oils  othdairy   othmeat  \\\n",
       "j      t  m                                                                    \n",
       "361586 17 1   1.510025  2.004269      2.021548  1.190888  2.317986       NaN   \n",
       "361731 17 1  -0.127833       NaN           NaN  0.685619  1.920592  0.398776   \n",
       "362307 17 1   0.239017  0.806476      3.307985  1.789256  2.299581  0.690644   \n",
       "362323 17 1  -0.703198       NaN      1.747459  0.559616       NaN       NaN   \n",
       "362559 17 1        NaN       NaN           NaN       NaN       NaN  1.467839   \n",
       "\n",
       "              poultry      pork  procfruit  proc_veg   seafood    sweets  \n",
       "j      t  m                                                               \n",
       "361586 17 1       NaN  1.606433   1.339585  0.430184       NaN  1.755268  \n",
       "361731 17 1  1.772407  1.027832        NaN  1.519513  1.262713  2.035359  \n",
       "362307 17 1       NaN       NaN        NaN  1.095273       NaN  2.419034  \n",
       "362323 17 1  2.909084  1.381282   0.552303  1.075941  1.928619       NaN  \n",
       "362559 17 1       NaN       NaN        NaN       NaN       NaN       NaN  "
      ]
     },
     "execution_count": 16,
     "metadata": {},
     "output_type": "execute_result"
    }
   ],
   "source": [
    "Y_yes.head()"
   ]
  },
  {
   "cell_type": "code",
   "execution_count": 17,
   "metadata": {
    "ExecuteTime": {
     "end_time": "2019-04-29T20:30:25.957174Z",
     "start_time": "2019-04-29T20:30:25.941759Z"
    }
   },
   "outputs": [
    {
     "data": {
      "text/plain": [
       "<xarray.DataArray 'prices' (i: 18)>\n",
       "array([9.937705, 7.906218, 5.851106, 4.092479, 1.07523 , 8.107099, 6.532807,\n",
       "       3.284924, 4.48    , 2.429568, 5.214702, 2.803513, 3.975505, 8.39843 ,\n",
       "       3.149823, 2.028527, 2.594154, 3.492714])\n",
       "Coordinates:\n",
       "  * i        (i) object 'alcbev' 'bakery' 'beef' ... 'seafood' 'sweets'"
      ]
     },
     "execution_count": 17,
     "metadata": {},
     "output_type": "execute_result"
    }
   ],
   "source": [
    "P"
   ]
  },
  {
   "cell_type": "markdown",
   "metadata": {},
   "source": [
    "## Run Result(), get reduced form, and get betas"
   ]
  },
  {
   "cell_type": "markdown",
   "metadata": {},
   "source": [
    "### Sanity check on estimation accuracy"
   ]
  },
  {
   "cell_type": "code",
   "execution_count": 18,
   "metadata": {
    "ExecuteTime": {
     "end_time": "2019-04-29T20:30:31.221570Z",
     "start_time": "2019-04-29T20:30:28.446661Z"
    }
   },
   "outputs": [
    {
     "ename": "NameError",
     "evalue": "name 'Y_no' is not defined",
     "output_type": "error",
     "traceback": [
      "\u001b[0;31m---------------------------------------------------------------------------\u001b[0m",
      "\u001b[0;31mNameError\u001b[0m                                 Traceback (most recent call last)",
      "\u001b[0;32m<ipython-input-18-af4f9fc6a7c1>\u001b[0m in \u001b[0;36m<module>\u001b[0;34m()\u001b[0m\n\u001b[0;32m----> 1\u001b[0;31m \u001b[0mresult\u001b[0m \u001b[0;34m=\u001b[0m \u001b[0mcfe\u001b[0m\u001b[0;34m.\u001b[0m\u001b[0mResult\u001b[0m\u001b[0;34m(\u001b[0m\u001b[0my\u001b[0m \u001b[0;34m=\u001b[0m \u001b[0mY_no\u001b[0m\u001b[0;34m,\u001b[0m \u001b[0mz\u001b[0m \u001b[0;34m=\u001b[0m \u001b[0mZ_no\u001b[0m\u001b[0;34m,\u001b[0m \u001b[0mprices\u001b[0m \u001b[0;34m=\u001b[0m \u001b[0mP\u001b[0m\u001b[0;34m)\u001b[0m\u001b[0;34m\u001b[0m\u001b[0m\n\u001b[0m\u001b[1;32m      2\u001b[0m \u001b[0mresult\u001b[0m\u001b[0;34m.\u001b[0m\u001b[0mget_reduced_form\u001b[0m\u001b[0;34m(\u001b[0m\u001b[0;34m)\u001b[0m\u001b[0;34m\u001b[0m\u001b[0m\n\u001b[1;32m      3\u001b[0m \u001b[0mresult\u001b[0m\u001b[0;34m.\u001b[0m\u001b[0mdelta\u001b[0m\u001b[0;34m.\u001b[0m\u001b[0mto_dataframe\u001b[0m\u001b[0;34m(\u001b[0m\u001b[0;34m)\u001b[0m\u001b[0;34m.\u001b[0m\u001b[0munstack\u001b[0m\u001b[0;34m(\u001b[0m\u001b[0;34m'k'\u001b[0m\u001b[0;34m)\u001b[0m\u001b[0;34m\u001b[0m\u001b[0m\n\u001b[1;32m      4\u001b[0m \u001b[0mresult\u001b[0m\u001b[0;34m.\u001b[0m\u001b[0ma\u001b[0m\u001b[0;34m.\u001b[0m\u001b[0mto_dataframe\u001b[0m\u001b[0;34m(\u001b[0m\u001b[0;34m)\u001b[0m\u001b[0;34m.\u001b[0m\u001b[0munstack\u001b[0m\u001b[0;34m(\u001b[0m\u001b[0;34m'i'\u001b[0m\u001b[0;34m)\u001b[0m\u001b[0;34m\u001b[0m\u001b[0m\n\u001b[1;32m      5\u001b[0m \u001b[0mresult\u001b[0m\u001b[0;34m.\u001b[0m\u001b[0mget_beta\u001b[0m\u001b[0;34m(\u001b[0m\u001b[0;34m)\u001b[0m\u001b[0;34m.\u001b[0m\u001b[0mto_dataframe\u001b[0m\u001b[0;34m(\u001b[0m\u001b[0;34m)\u001b[0m\u001b[0;34m\u001b[0m\u001b[0m\n",
      "\u001b[0;31mNameError\u001b[0m: name 'Y_no' is not defined"
     ]
    }
   ],
   "source": [
    "result = cfe.Result(y = Y_no, z = Z_no, prices = P)\n",
    "result.get_reduced_form()\n",
    "result.delta.to_dataframe().unstack('k')\n",
    "result.a.to_dataframe().unstack('i')\n",
    "result.get_beta().to_dataframe()"
   ]
  },
  {
   "cell_type": "code",
   "execution_count": null,
   "metadata": {
    "ExecuteTime": {
     "end_time": "2019-04-29T20:30:35.228832Z",
     "start_time": "2019-04-29T20:30:34.857464Z"
    },
    "scrolled": true
   },
   "outputs": [],
   "source": [
    "import matplotlib.pyplot as plt\n",
    "%matplotlib inline\n",
    "import matplotlib.cm as cm\n",
    "\n",
    "result.get_predicted_log_expenditures()\n",
    "\n",
    "x = result.y.sum('i').to_dataframe().squeeze()\n",
    "xhat = result.yhat.sum('i').to_dataframe().squeeze()\n",
    "\n",
    "# Make dataframe of actual & predicted\n",
    "df = pd.DataFrame({'Actual':x,'Predicted':xhat})\n",
    "\n",
    "df.plot.scatter(x='Predicted',y='Actual')"
   ]
  },
  {
   "cell_type": "markdown",
   "metadata": {},
   "source": [
    "### Sanity check on engels' curve"
   ]
  },
  {
   "cell_type": "code",
   "execution_count": null,
   "metadata": {
    "ExecuteTime": {
     "end_time": "2019-04-29T20:30:37.943605Z",
     "start_time": "2019-04-29T20:30:37.618094Z"
    }
   },
   "outputs": [],
   "source": [
    "import pylab as pl \n",
    "\n",
    "# Turn off variation in household composition\n",
    "result['z'] = result['z']*0\n",
    "\n",
    "# select years and markets you want\n",
    "l0 = result.loglambdas.sel(t=17,m=1)\n",
    "\n",
    "# Predicted total expenditures given lambda & prices\n",
    "x0 = result.get_predicted_expenditures().sum('i').sel(t=17,m=1)\n",
    "\n",
    "pl.scatter(x0,l0)\n",
    "pl.show()"
   ]
  },
  {
   "cell_type": "markdown",
   "metadata": {},
   "source": [
    "### Calculates alphas and betas"
   ]
  },
  {
   "cell_type": "code",
   "execution_count": null,
   "metadata": {
    "ExecuteTime": {
     "end_time": "2019-04-29T20:30:40.544007Z",
     "start_time": "2019-04-29T20:30:40.501954Z"
    }
   },
   "outputs": [],
   "source": [
    "result.get_alpha(as_df=True), result.get_beta(as_df=True)"
   ]
  },
  {
   "cell_type": "code",
   "execution_count": null,
   "metadata": {
    "ExecuteTime": {
     "end_time": "2019-04-29T20:30:43.533148Z",
     "start_time": "2019-04-29T20:30:43.513067Z"
    }
   },
   "outputs": [],
   "source": [
    "result.delta.to_dataframe().unstack('k')"
   ]
  },
  {
   "cell_type": "markdown",
   "metadata": {
    "ExecuteTime": {
     "end_time": "2019-04-29T01:45:47.067108Z",
     "start_time": "2019-04-29T01:45:47.063763Z"
    }
   },
   "source": [
    "## Estimate demand system for CA residents \n",
    "\n"
   ]
  },
  {
   "cell_type": "markdown",
   "metadata": {},
   "source": [
    "As mentioned above, we&rsquo;ve estimated the parameters of a Frischian\n",
    "demand system (demands that depend on prices and the households\n",
    "marginal utility of expenditures).  But we can *compute* the\n",
    "corresponding Marshallian (depends on prices and budget) or Hicksian\n",
    "(depends on prices and the level of utility) demands for this same\n",
    "population, using the `cfe.Result.demands` method.  \n",
    "\n",
    "Let&rsquo;s compute Marshallian demands.  Start with a choice of budget $x$\n",
    "and prices.  We&rsquo;ll use the earliest prices, from 1975, and focus on\n",
    "village A as the market we&rsquo;re interested in\n",
    "\n"
   ]
  },
  {
   "cell_type": "code",
   "execution_count": null,
   "metadata": {
    "ExecuteTime": {
     "end_time": "2019-04-29T20:30:46.390747Z",
     "start_time": "2019-04-29T20:30:46.359507Z"
    }
   },
   "outputs": [],
   "source": [
    "result"
   ]
  },
  {
   "cell_type": "markdown",
   "metadata": {},
   "source": [
    "### Get prices "
   ]
  },
  {
   "cell_type": "code",
   "execution_count": null,
   "metadata": {
    "ExecuteTime": {
     "end_time": "2019-04-29T20:30:48.661857Z",
     "start_time": "2019-04-29T20:30:48.645673Z"
    }
   },
   "outputs": [],
   "source": [
    "p = result.prices.copy()\n",
    "\n",
    "p.to_dataframe().squeeze()"
   ]
  },
  {
   "cell_type": "markdown",
   "metadata": {},
   "source": [
    "### Calculate quantities demanded"
   ]
  },
  {
   "cell_type": "code",
   "execution_count": null,
   "metadata": {
    "ExecuteTime": {
     "end_time": "2019-04-29T20:30:54.577388Z",
     "start_time": "2019-04-29T20:30:54.448871Z"
    }
   },
   "outputs": [],
   "source": [
    "x = 50 # Budget\n",
    "\n",
    "def get_demand(x, p):\n",
    "    demand = result_no.demands(x,p) \n",
    "    demand = demand.to_frame()\n",
    "    demand.index.rename('food_group', inplace = True)\n",
    "    return demand\n",
    "\n",
    "get_demand(x, p)"
   ]
  },
  {
   "cell_type": "markdown",
   "metadata": {},
   "source": [
    "# Indifference Curves for various food groups"
   ]
  },
  {
   "cell_type": "code",
   "execution_count": null,
   "metadata": {
    "ExecuteTime": {
     "end_time": "2019-04-29T20:32:26.424841Z",
     "start_time": "2019-04-29T20:32:26.406368Z"
    }
   },
   "outputs": [],
   "source": [
    "def plot_curve(group):\n",
    "    def my_prices_beef(p0,p=p):\n",
    "        p.loc[group] = p0\n",
    "        return p\n",
    "\n",
    "    for x in [10,20,40,80,160]:\n",
    "        try:\n",
    "            plt.plot([result_no.demands(x,my_prices(p0))[group] for p0 in P],P)\n",
    "        except OverflowError:\n",
    "            break\n",
    "\n",
    "    plt.xlabel(group)\n",
    "    plt.ylabel('Price')"
   ]
  },
  {
   "cell_type": "code",
   "execution_count": null,
   "metadata": {
    "ExecuteTime": {
     "end_time": "2019-04-29T20:32:33.878709Z",
     "start_time": "2019-04-29T20:32:28.761324Z"
    },
    "scrolled": true
   },
   "outputs": [],
   "source": [
    "plot_curve('cereal')"
   ]
  },
  {
   "cell_type": "code",
   "execution_count": null,
   "metadata": {
    "ExecuteTime": {
     "end_time": "2019-04-29T20:32:45.503407Z",
     "start_time": "2019-04-29T20:32:39.722268Z"
    }
   },
   "outputs": [],
   "source": [
    "plot_curve('eggs')"
   ]
  },
  {
   "cell_type": "code",
   "execution_count": null,
   "metadata": {
    "ExecuteTime": {
     "end_time": "2019-04-29T20:32:53.075091Z",
     "start_time": "2019-04-29T20:32:47.297790Z"
    }
   },
   "outputs": [],
   "source": [
    "plot_curve('non_alc_bevs')"
   ]
  },
  {
   "cell_type": "markdown",
   "metadata": {},
   "source": [
    "## Considering nutritional information"
   ]
  },
  {
   "cell_type": "code",
   "execution_count": null,
   "metadata": {
    "ExecuteTime": {
     "end_time": "2019-04-29T20:33:09.793622Z",
     "start_time": "2019-04-29T20:33:08.945347Z"
    }
   },
   "outputs": [],
   "source": [
    "fct = pd.read_csv('https://docs.google.com/spreadsheets/d/e/2PACX-1vS_Pbtl-M-jP17QyYQzwsy5hzJNC1RS2ol_JmH11G6Omw3MX6SesnK3_6puwsWQUHFsKCVhPFCwhExE/pub?gid=499724967&single=true&output=csv')\n",
    "fct.rename(index = str, columns= {'Unnamed: 0': 'Nutrient'}, inplace = True)\n",
    "fct.set_index('Nutrient', drop = True, inplace = True)\n",
    "fct.shape"
   ]
  },
  {
   "cell_type": "code",
   "execution_count": null,
   "metadata": {
    "ExecuteTime": {
     "end_time": "2019-04-29T19:10:01.799595Z",
     "start_time": "2019-04-29T19:10:01.764778Z"
    }
   },
   "outputs": [],
   "source": [
    "fct.head()"
   ]
  },
  {
   "cell_type": "markdown",
   "metadata": {},
   "source": [
    "### Plot nutritional outcomes"
   ]
  },
  {
   "cell_type": "code",
   "execution_count": null,
   "metadata": {
    "ExecuteTime": {
     "end_time": "2019-04-29T20:33:11.979663Z",
     "start_time": "2019-04-29T20:33:11.955005Z"
    }
   },
   "outputs": [],
   "source": [
    "# The @ operator means matrix multiply\n",
    "\n",
    "important = ['Sodium, Na', 'Energy', 'Cholesterol', 'Sugars, total', 'Protein', 'Iron, Fe', 'Vitamin D (D2 + D3)']\n",
    "imp_values = pd.DataFrame()\n",
    "\n",
    "N = fct0.T@c0\n",
    "for n in important:\n",
    "    imp_values = imp_values.append(N.loc[n])\n",
    "\n",
    "imp_values"
   ]
  },
  {
   "cell_type": "code",
   "execution_count": null,
   "metadata": {
    "ExecuteTime": {
     "end_time": "2019-04-29T20:33:19.874295Z",
     "start_time": "2019-04-29T20:33:14.323934Z"
    }
   },
   "outputs": [],
   "source": [
    "import numpy as np\n",
    "import matplotlib.pyplot as plt\n",
    "X = np.linspace(1,20,50)\n",
    "\n",
    "plt.plot(X,pd.concat({x:np.log(nutrient_demand(x,p))[important] for x in X},axis=1).T)\n",
    "plt.legend(important)\n",
    "plt.xlabel('log budget')\n",
    "plt.ylabel('log nutrient')"
   ]
  },
  {
   "cell_type": "code",
   "execution_count": null,
   "metadata": {
    "ExecuteTime": {
     "end_time": "2019-04-29T20:38:25.419105Z",
     "start_time": "2019-04-29T20:38:25.403195Z"
    }
   },
   "outputs": [],
   "source": [
    "cfe.Result?"
   ]
  },
  {
   "cell_type": "code",
   "execution_count": null,
   "metadata": {},
   "outputs": [],
   "source": []
  }
 ],
 "metadata": {
  "hide_input": false,
  "kernelspec": {
   "display_name": "Python 3",
   "language": "python",
   "name": "python3"
  },
  "language_info": {
   "codemirror_mode": {
    "name": "ipython",
    "version": 3
   },
   "file_extension": ".py",
   "mimetype": "text/x-python",
   "name": "python",
   "nbconvert_exporter": "python",
   "pygments_lexer": "ipython3",
   "version": "3.7.0"
  },
  "toc": {
   "base_numbering": 1,
   "nav_menu": {},
   "number_sections": true,
   "sideBar": true,
   "skip_h1_title": false,
   "title_cell": "Table of Contents",
   "title_sidebar": "Contents",
   "toc_cell": true,
   "toc_position": {},
   "toc_section_display": true,
   "toc_window_display": false
  },
  "varInspector": {
   "cols": {
    "lenName": 16,
    "lenType": 16,
    "lenVar": 40
   },
   "kernels_config": {
    "python": {
     "delete_cmd_postfix": "",
     "delete_cmd_prefix": "del ",
     "library": "var_list.py",
     "varRefreshCmd": "print(var_dic_list())"
    },
    "r": {
     "delete_cmd_postfix": ") ",
     "delete_cmd_prefix": "rm(",
     "library": "var_list.r",
     "varRefreshCmd": "cat(var_dic_list()) "
    }
   },
   "types_to_exclude": [
    "module",
    "function",
    "builtin_function_or_method",
    "instance",
    "_Feature"
   ],
   "window_display": false
  }
 },
 "nbformat": 4,
 "nbformat_minor": 2
}
