{
 "cells": [
  {
   "cell_type": "code",
   "execution_count": 4,
   "metadata": {},
   "outputs": [],
   "source": [
    "#importing and installing all relevant libraries\n",
    "\n",
    "import pandas as pd"
   ]
  },
  {
   "cell_type": "code",
   "execution_count": 5,
   "metadata": {},
   "outputs": [],
   "source": [
    "# reading in and modifying the table that gives average weekly expenditures by CA SNAP households on different\n",
    "# food and beverage categories.\n",
    "\n",
    "expends = pd.read_csv('data/fs_avg_expend.csv')\n",
    "expends = expends.append([expends]*2,ignore_index=False).sort_values('Unnamed: 0', ascending=True)\n",
    "expends = expends.rename(columns={'Unnamed: 0': 'category'}).set_index('category') / 3"
   ]
  },
  {
   "cell_type": "code",
   "execution_count": 8,
   "metadata": {},
   "outputs": [],
   "source": [
    "# reading in and modifying the table that gives price, quantity, and category information for what we selected as the \n",
    "# three most representative items for each consumption category. The three most representative items are selected \n",
    "# based on US expenditure data as well as based on our own judgment where such information is not available.\n",
    "\n",
    "foods = pd.read_csv('data/us_foods.csv')\n",
    "foods = foods.set_index('food')#.drop(columns=['Unnamed: 9'])\n",
    "foods = foods[['category','quantity','units','price','ndb']]\n",
    "foods['expend'] = expends['mean'].tolist()\n",
    "foods['qty_purchased'] = (foods['expend'] / foods['price'] * foods['quantity']).tolist()"
   ]
  }
 ],
 "metadata": {
  "kernelspec": {
   "display_name": "Python 3",
   "language": "python",
   "name": "python3"
  },
  "language_info": {
   "codemirror_mode": {
    "name": "ipython",
    "version": 3
   },
   "file_extension": ".py",
   "mimetype": "text/x-python",
   "name": "python",
   "nbconvert_exporter": "python",
   "pygments_lexer": "ipython3",
   "version": "3.7.0"
  }
 },
 "nbformat": 4,
 "nbformat_minor": 2
}
