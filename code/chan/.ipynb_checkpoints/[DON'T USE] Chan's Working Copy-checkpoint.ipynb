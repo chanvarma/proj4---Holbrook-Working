{
 "cells": [
  {
   "cell_type": "code",
   "execution_count": 1,
   "metadata": {
    "ExecuteTime": {
     "end_time": "2019-04-27T15:14:08.428273Z",
     "start_time": "2019-04-27T15:13:44.266393Z"
    }
   },
   "outputs": [
    {
     "name": "stdout",
     "output_type": "stream",
     "text": [
      "Requirement already satisfied: CFEDemands in /Users/chan/anaconda3/lib/python3.7/site-packages (0.1.6.3)\n",
      "\u001b[33mYou are using pip version 19.0.3, however version 19.1 is available.\n",
      "You should consider upgrading via the 'pip install --upgrade pip' command.\u001b[0m\n"
     ]
    }
   ],
   "source": [
    "!pip install CFEDemands"
   ]
  },
  {
   "cell_type": "code",
   "execution_count": 28,
   "metadata": {
    "ExecuteTime": {
     "end_time": "2019-04-27T16:37:03.183565Z",
     "start_time": "2019-04-27T16:36:57.156116Z"
    }
   },
   "outputs": [],
   "source": [
    "import cfe\n",
    "import pandas as pd\n",
    "import numpy as np\n",
    "import matplotlib.pyplot as plt\n",
    "import os"
   ]
  },
  {
   "cell_type": "code",
   "execution_count": 13,
   "metadata": {
    "ExecuteTime": {
     "end_time": "2019-04-27T15:51:39.723705Z",
     "start_time": "2019-04-27T15:51:39.716514Z"
    }
   },
   "outputs": [
    {
     "data": {
      "text/plain": [
       "'/Users/chan/bMailDrive/Academics/2019 Spring/EEP 153/proj4 - Holbrook Working/data'"
      ]
     },
     "execution_count": 13,
     "metadata": {},
     "output_type": "execute_result"
    }
   ],
   "source": [
    "#ONLY RUN ONCE \n",
    "\n",
    "os.chdir('../data/')\n",
    "os.getcwd()"
   ]
  },
  {
   "cell_type": "code",
   "execution_count": 15,
   "metadata": {
    "ExecuteTime": {
     "end_time": "2019-04-27T15:52:22.633423Z",
     "start_time": "2019-04-27T15:52:22.488484Z"
    }
   },
   "outputs": [
    {
     "name": "stdout",
     "output_type": "stream",
     "text": [
      "11100125.csv                        Icon?\r\n",
      "Food Items and NDB Databasae.gsheet \u001b[1m\u001b[34mfinal_data_from_chans_last_project\u001b[m\u001b[m\r\n"
     ]
    }
   ],
   "source": [
    "!ls"
   ]
  },
  {
   "cell_type": "code",
   "execution_count": 16,
   "metadata": {
    "ExecuteTime": {
     "end_time": "2019-04-27T15:52:29.044165Z",
     "start_time": "2019-04-27T15:52:28.884907Z"
    },
    "scrolled": false
   },
   "outputs": [
    {
     "data": {
      "text/html": [
       "<div>\n",
       "<style scoped>\n",
       "    .dataframe tbody tr th:only-of-type {\n",
       "        vertical-align: middle;\n",
       "    }\n",
       "\n",
       "    .dataframe tbody tr th {\n",
       "        vertical-align: top;\n",
       "    }\n",
       "\n",
       "    .dataframe thead th {\n",
       "        text-align: right;\n",
       "    }\n",
       "</style>\n",
       "<table border=\"1\" class=\"dataframe\">\n",
       "  <thead>\n",
       "    <tr style=\"text-align: right;\">\n",
       "      <th></th>\n",
       "      <th>REF_DATE</th>\n",
       "      <th>GEO</th>\n",
       "      <th>DGUID</th>\n",
       "      <th>Statistic</th>\n",
       "      <th>Food expenditures, summary-level categories</th>\n",
       "      <th>UOM</th>\n",
       "      <th>UOM_ID</th>\n",
       "      <th>SCALAR_FACTOR</th>\n",
       "      <th>SCALAR_ID</th>\n",
       "      <th>VECTOR</th>\n",
       "      <th>COORDINATE</th>\n",
       "      <th>VALUE</th>\n",
       "      <th>STATUS</th>\n",
       "      <th>SYMBOL</th>\n",
       "      <th>TERMINATED</th>\n",
       "      <th>DECIMALS</th>\n",
       "    </tr>\n",
       "  </thead>\n",
       "  <tbody>\n",
       "    <tr>\n",
       "      <th>0</th>\n",
       "      <td>2010</td>\n",
       "      <td>Canada</td>\n",
       "      <td>2016A000011124</td>\n",
       "      <td>Average expenditure per household</td>\n",
       "      <td>Food expenditures</td>\n",
       "      <td>Dollars</td>\n",
       "      <td>81</td>\n",
       "      <td>units</td>\n",
       "      <td>0</td>\n",
       "      <td>v54531258</td>\n",
       "      <td>1.1.1</td>\n",
       "      <td>7850.0</td>\n",
       "      <td>NaN</td>\n",
       "      <td>NaN</td>\n",
       "      <td>NaN</td>\n",
       "      <td>0</td>\n",
       "    </tr>\n",
       "    <tr>\n",
       "      <th>1</th>\n",
       "      <td>2010</td>\n",
       "      <td>Canada</td>\n",
       "      <td>2016A000011124</td>\n",
       "      <td>Average expenditure per household</td>\n",
       "      <td>Food purchased from stores</td>\n",
       "      <td>Dollars</td>\n",
       "      <td>81</td>\n",
       "      <td>units</td>\n",
       "      <td>0</td>\n",
       "      <td>v54531259</td>\n",
       "      <td>1.1.2</td>\n",
       "      <td>5709.0</td>\n",
       "      <td>NaN</td>\n",
       "      <td>NaN</td>\n",
       "      <td>NaN</td>\n",
       "      <td>0</td>\n",
       "    </tr>\n",
       "    <tr>\n",
       "      <th>2</th>\n",
       "      <td>2010</td>\n",
       "      <td>Canada</td>\n",
       "      <td>2016A000011124</td>\n",
       "      <td>Average expenditure per household</td>\n",
       "      <td>Bakery products</td>\n",
       "      <td>Dollars</td>\n",
       "      <td>81</td>\n",
       "      <td>units</td>\n",
       "      <td>0</td>\n",
       "      <td>v54531260</td>\n",
       "      <td>1.1.3</td>\n",
       "      <td>581.0</td>\n",
       "      <td>NaN</td>\n",
       "      <td>NaN</td>\n",
       "      <td>NaN</td>\n",
       "      <td>0</td>\n",
       "    </tr>\n",
       "    <tr>\n",
       "      <th>3</th>\n",
       "      <td>2010</td>\n",
       "      <td>Canada</td>\n",
       "      <td>2016A000011124</td>\n",
       "      <td>Average expenditure per household</td>\n",
       "      <td>Bread and unsweetened rolls and buns</td>\n",
       "      <td>Dollars</td>\n",
       "      <td>81</td>\n",
       "      <td>units</td>\n",
       "      <td>0</td>\n",
       "      <td>v54531261</td>\n",
       "      <td>1.1.4</td>\n",
       "      <td>273.0</td>\n",
       "      <td>NaN</td>\n",
       "      <td>NaN</td>\n",
       "      <td>NaN</td>\n",
       "      <td>0</td>\n",
       "    </tr>\n",
       "    <tr>\n",
       "      <th>4</th>\n",
       "      <td>2010</td>\n",
       "      <td>Canada</td>\n",
       "      <td>2016A000011124</td>\n",
       "      <td>Average expenditure per household</td>\n",
       "      <td>Bread</td>\n",
       "      <td>Dollars</td>\n",
       "      <td>81</td>\n",
       "      <td>units</td>\n",
       "      <td>0</td>\n",
       "      <td>v64481413</td>\n",
       "      <td>1.1.180</td>\n",
       "      <td>207.0</td>\n",
       "      <td>NaN</td>\n",
       "      <td>NaN</td>\n",
       "      <td>NaN</td>\n",
       "      <td>0</td>\n",
       "    </tr>\n",
       "  </tbody>\n",
       "</table>\n",
       "</div>"
      ],
      "text/plain": [
       "   REF_DATE     GEO           DGUID                          Statistic  \\\n",
       "0      2010  Canada  2016A000011124  Average expenditure per household   \n",
       "1      2010  Canada  2016A000011124  Average expenditure per household   \n",
       "2      2010  Canada  2016A000011124  Average expenditure per household   \n",
       "3      2010  Canada  2016A000011124  Average expenditure per household   \n",
       "4      2010  Canada  2016A000011124  Average expenditure per household   \n",
       "\n",
       "  Food expenditures, summary-level categories      UOM  UOM_ID SCALAR_FACTOR  \\\n",
       "0                           Food expenditures  Dollars      81        units    \n",
       "1                  Food purchased from stores  Dollars      81        units    \n",
       "2                             Bakery products  Dollars      81        units    \n",
       "3        Bread and unsweetened rolls and buns  Dollars      81        units    \n",
       "4                                       Bread  Dollars      81        units    \n",
       "\n",
       "   SCALAR_ID     VECTOR COORDINATE   VALUE STATUS  SYMBOL  TERMINATED  \\\n",
       "0          0  v54531258      1.1.1  7850.0    NaN     NaN         NaN   \n",
       "1          0  v54531259      1.1.2  5709.0    NaN     NaN         NaN   \n",
       "2          0  v54531260      1.1.3   581.0    NaN     NaN         NaN   \n",
       "3          0  v54531261      1.1.4   273.0    NaN     NaN         NaN   \n",
       "4          0  v64481413    1.1.180   207.0    NaN     NaN         NaN   \n",
       "\n",
       "   DECIMALS  \n",
       "0         0  \n",
       "1         0  \n",
       "2         0  \n",
       "3         0  \n",
       "4         0  "
      ]
     },
     "execution_count": 16,
     "metadata": {},
     "output_type": "execute_result"
    }
   ],
   "source": [
    "data = pd.read_csv(\"11100125.csv\")\n",
    "data.head()"
   ]
  },
  {
   "cell_type": "code",
   "execution_count": 19,
   "metadata": {
    "ExecuteTime": {
     "end_time": "2019-04-27T15:57:21.591492Z",
     "start_time": "2019-04-27T15:57:21.411447Z"
    }
   },
   "outputs": [
    {
     "data": {
      "text/html": [
       "<div>\n",
       "<style scoped>\n",
       "    .dataframe tbody tr th:only-of-type {\n",
       "        vertical-align: middle;\n",
       "    }\n",
       "\n",
       "    .dataframe tbody tr th {\n",
       "        vertical-align: top;\n",
       "    }\n",
       "\n",
       "    .dataframe thead th {\n",
       "        text-align: right;\n",
       "    }\n",
       "</style>\n",
       "<table border=\"1\" class=\"dataframe\">\n",
       "  <thead>\n",
       "    <tr style=\"text-align: right;\">\n",
       "      <th></th>\n",
       "      <th>id</th>\n",
       "      <th>age</th>\n",
       "      <th>net_income</th>\n",
       "      <th>highest_education</th>\n",
       "      <th>profession</th>\n",
       "      <th>hispanic</th>\n",
       "      <th>weekly_hours_worked</th>\n",
       "      <th>in_college</th>\n",
       "      <th>is_married</th>\n",
       "      <th>self_employed</th>\n",
       "      <th>...</th>\n",
       "      <th>othmeat_percent</th>\n",
       "      <th>pet_food_percent</th>\n",
       "      <th>pork_percent</th>\n",
       "      <th>procfruit_percent</th>\n",
       "      <th>proc_veg_percent</th>\n",
       "      <th>seafood_percent</th>\n",
       "      <th>sweets_percent</th>\n",
       "      <th>smoking_percent</th>\n",
       "      <th>state</th>\n",
       "      <th>vehicle</th>\n",
       "    </tr>\n",
       "  </thead>\n",
       "  <tbody>\n",
       "    <tr>\n",
       "      <th>0</th>\n",
       "      <td>360889</td>\n",
       "      <td>27</td>\n",
       "      <td>89097.0</td>\n",
       "      <td>Associate’s degree in college</td>\n",
       "      <td>Paid employee of a PRIVATE company</td>\n",
       "      <td>No</td>\n",
       "      <td>40.0</td>\n",
       "      <td>Not at all</td>\n",
       "      <td>Never married</td>\n",
       "      <td>No</td>\n",
       "      <td>...</td>\n",
       "      <td>0.000000</td>\n",
       "      <td>0.005708</td>\n",
       "      <td>0.000000</td>\n",
       "      <td>0.000753</td>\n",
       "      <td>0.000595</td>\n",
       "      <td>0.0</td>\n",
       "      <td>0.000000</td>\n",
       "      <td>0.000000</td>\n",
       "      <td>NaN</td>\n",
       "      <td>2.0</td>\n",
       "    </tr>\n",
       "    <tr>\n",
       "      <th>1</th>\n",
       "      <td>360890</td>\n",
       "      <td>53</td>\n",
       "      <td>26000.0</td>\n",
       "      <td>High school graduate</td>\n",
       "      <td>Paid employee of a PRIVATE company</td>\n",
       "      <td>No</td>\n",
       "      <td>40.0</td>\n",
       "      <td>Not at all</td>\n",
       "      <td>Divorced</td>\n",
       "      <td>No</td>\n",
       "      <td>...</td>\n",
       "      <td>0.000000</td>\n",
       "      <td>0.000000</td>\n",
       "      <td>0.000000</td>\n",
       "      <td>0.000000</td>\n",
       "      <td>0.000000</td>\n",
       "      <td>0.0</td>\n",
       "      <td>0.000000</td>\n",
       "      <td>0.000000</td>\n",
       "      <td>Nebraska</td>\n",
       "      <td>1.0</td>\n",
       "    </tr>\n",
       "    <tr>\n",
       "      <th>2</th>\n",
       "      <td>360892</td>\n",
       "      <td>56</td>\n",
       "      <td>35000.0</td>\n",
       "      <td>Bachelor’s degree</td>\n",
       "      <td>Paid employee of a PRIVATE company</td>\n",
       "      <td>No</td>\n",
       "      <td>55.0</td>\n",
       "      <td>Not at all</td>\n",
       "      <td>Divorced</td>\n",
       "      <td>No</td>\n",
       "      <td>...</td>\n",
       "      <td>0.000000</td>\n",
       "      <td>0.000000</td>\n",
       "      <td>0.000000</td>\n",
       "      <td>0.000000</td>\n",
       "      <td>0.003997</td>\n",
       "      <td>0.0</td>\n",
       "      <td>0.001716</td>\n",
       "      <td>0.002570</td>\n",
       "      <td>Kansas</td>\n",
       "      <td>1.0</td>\n",
       "    </tr>\n",
       "    <tr>\n",
       "      <th>3</th>\n",
       "      <td>360893</td>\n",
       "      <td>34</td>\n",
       "      <td>95500.0</td>\n",
       "      <td>Bachelor’s degree</td>\n",
       "      <td>Self-employed</td>\n",
       "      <td>No</td>\n",
       "      <td>24.0</td>\n",
       "      <td>Not at all</td>\n",
       "      <td>Married</td>\n",
       "      <td>Yes</td>\n",
       "      <td>...</td>\n",
       "      <td>0.002712</td>\n",
       "      <td>0.003534</td>\n",
       "      <td>0.000814</td>\n",
       "      <td>0.006136</td>\n",
       "      <td>0.005833</td>\n",
       "      <td>0.0</td>\n",
       "      <td>0.001859</td>\n",
       "      <td>0.003279</td>\n",
       "      <td>NaN</td>\n",
       "      <td>3.0</td>\n",
       "    </tr>\n",
       "    <tr>\n",
       "      <th>4</th>\n",
       "      <td>360895</td>\n",
       "      <td>64</td>\n",
       "      <td>36400.4</td>\n",
       "      <td>High school graduate</td>\n",
       "      <td>Paid employee of a PRIVATE company</td>\n",
       "      <td>Yes</td>\n",
       "      <td>20.0</td>\n",
       "      <td>Not at all</td>\n",
       "      <td>Married</td>\n",
       "      <td>No</td>\n",
       "      <td>...</td>\n",
       "      <td>0.000000</td>\n",
       "      <td>0.000000</td>\n",
       "      <td>0.000000</td>\n",
       "      <td>0.000000</td>\n",
       "      <td>0.000000</td>\n",
       "      <td>0.0</td>\n",
       "      <td>0.000000</td>\n",
       "      <td>0.000000</td>\n",
       "      <td>California</td>\n",
       "      <td>NaN</td>\n",
       "    </tr>\n",
       "  </tbody>\n",
       "</table>\n",
       "<p>5 rows × 44 columns</p>\n",
       "</div>"
      ],
      "text/plain": [
       "       id  age  net_income              highest_education  \\\n",
       "0  360889   27     89097.0  Associate’s degree in college   \n",
       "1  360890   53     26000.0           High school graduate   \n",
       "2  360892   56     35000.0              Bachelor’s degree   \n",
       "3  360893   34     95500.0              Bachelor’s degree   \n",
       "4  360895   64     36400.4           High school graduate   \n",
       "\n",
       "                           profession hispanic  weekly_hours_worked  \\\n",
       "0  Paid employee of a PRIVATE company       No                 40.0   \n",
       "1  Paid employee of a PRIVATE company       No                 40.0   \n",
       "2  Paid employee of a PRIVATE company       No                 55.0   \n",
       "3                       Self-employed       No                 24.0   \n",
       "4  Paid employee of a PRIVATE company      Yes                 20.0   \n",
       "\n",
       "   in_college     is_married self_employed   ...    othmeat_percent  \\\n",
       "0  Not at all  Never married            No   ...           0.000000   \n",
       "1  Not at all       Divorced            No   ...           0.000000   \n",
       "2  Not at all       Divorced            No   ...           0.000000   \n",
       "3  Not at all        Married           Yes   ...           0.002712   \n",
       "4  Not at all        Married            No   ...           0.000000   \n",
       "\n",
       "  pet_food_percent  pork_percent procfruit_percent proc_veg_percent  \\\n",
       "0         0.005708      0.000000          0.000753         0.000595   \n",
       "1         0.000000      0.000000          0.000000         0.000000   \n",
       "2         0.000000      0.000000          0.000000         0.003997   \n",
       "3         0.003534      0.000814          0.006136         0.005833   \n",
       "4         0.000000      0.000000          0.000000         0.000000   \n",
       "\n",
       "   seafood_percent  sweets_percent  smoking_percent       state  vehicle  \n",
       "0              0.0        0.000000         0.000000         NaN      2.0  \n",
       "1              0.0        0.000000         0.000000    Nebraska      1.0  \n",
       "2              0.0        0.001716         0.002570      Kansas      1.0  \n",
       "3              0.0        0.001859         0.003279         NaN      3.0  \n",
       "4              0.0        0.000000         0.000000  California      NaN  \n",
       "\n",
       "[5 rows x 44 columns]"
      ]
     },
     "execution_count": 19,
     "metadata": {},
     "output_type": "execute_result"
    }
   ],
   "source": [
    "data_old = pd.read_csv(\"chans_last_project/final_data_from_chans_last_project.csv\")\n",
    "data_old.head()"
   ]
  },
  {
   "cell_type": "markdown",
   "metadata": {},
   "source": [
    "# Creating food conversion table"
   ]
  },
  {
   "cell_type": "code",
   "execution_count": 31,
   "metadata": {
    "ExecuteTime": {
     "end_time": "2019-04-27T16:37:44.459092Z",
     "start_time": "2019-04-27T16:37:36.223024Z"
    },
    "scrolled": true
   },
   "outputs": [
    {
     "name": "stdout",
     "output_type": "stream",
     "text": [
      "Requirement already satisfied: Pint>=0.8.1 in /Users/chan/anaconda3/lib/python3.7/site-packages (from -r requirements.txt (line 2)) (0.9)\n",
      "Requirement already satisfied: numpy>=1.15.0 in /Users/chan/anaconda3/lib/python3.7/site-packages (from -r requirements.txt (line 6)) (1.15.4)\n",
      "Requirement already satisfied: pandas>=0.23.3 in /Users/chan/anaconda3/lib/python3.7/site-packages (from -r requirements.txt (line 11)) (0.23.4)\n",
      "Requirement already satisfied: requests>=2.20.0 in /Users/chan/anaconda3/lib/python3.7/site-packages (from -r requirements.txt (line 15)) (2.21.0)\n",
      "Requirement already satisfied: scipy>=1.1.0 in /Users/chan/anaconda3/lib/python3.7/site-packages (from -r requirements.txt (line 18)) (1.1.0)\n",
      "Requirement already satisfied: python-dateutil>=2.5.0 in /Users/chan/anaconda3/lib/python3.7/site-packages (from pandas>=0.23.3->-r requirements.txt (line 11)) (2.7.5)\n",
      "Requirement already satisfied: pytz>=2011k in /Users/chan/anaconda3/lib/python3.7/site-packages (from pandas>=0.23.3->-r requirements.txt (line 11)) (2018.7)\n",
      "Requirement already satisfied: certifi>=2017.4.17 in /Users/chan/anaconda3/lib/python3.7/site-packages (from requests>=2.20.0->-r requirements.txt (line 15)) (2018.11.29)\n",
      "Requirement already satisfied: urllib3<1.25,>=1.21.1 in /Users/chan/anaconda3/lib/python3.7/site-packages (from requests>=2.20.0->-r requirements.txt (line 15)) (1.24.1)\n",
      "Requirement already satisfied: chardet<3.1.0,>=3.0.2 in /Users/chan/anaconda3/lib/python3.7/site-packages (from requests>=2.20.0->-r requirements.txt (line 15)) (3.0.4)\n",
      "Requirement already satisfied: idna<2.9,>=2.5 in /Users/chan/anaconda3/lib/python3.7/site-packages (from requests>=2.20.0->-r requirements.txt (line 15)) (2.8)\n",
      "Requirement already satisfied: six>=1.5 in /Users/chan/anaconda3/lib/python3.7/site-packages (from python-dateutil>=2.5.0->pandas>=0.23.3->-r requirements.txt (line 11)) (1.12.0)\n"
     ]
    }
   ],
   "source": [
    "os.chdir('..')\n",
    "!pip install -r requirements.txt"
   ]
  },
  {
   "cell_type": "code",
   "execution_count": 8,
   "metadata": {
    "ExecuteTime": {
     "end_time": "2019-04-27T16:22:30.011788Z",
     "start_time": "2019-04-27T16:22:29.985528Z"
    }
   },
   "outputs": [
    {
     "ename": "ModuleNotFoundError",
     "evalue": "No module named 'tasklets'",
     "output_type": "error",
     "traceback": [
      "\u001b[0;31m---------------------------------------------------------------------------\u001b[0m",
      "\u001b[0;31mModuleNotFoundError\u001b[0m                       Traceback (most recent call last)",
      "\u001b[0;32m<ipython-input-8-219fde97eca8>\u001b[0m in \u001b[0;36m<module>\u001b[0;34m\u001b[0m\n\u001b[1;32m     11\u001b[0m \u001b[0;34m\u001b[0m\u001b[0m\n\u001b[1;32m     12\u001b[0m \u001b[0;32mimport\u001b[0m \u001b[0mpulp\u001b[0m\u001b[0;34m\u001b[0m\u001b[0;34m\u001b[0m\u001b[0m\n\u001b[0;32m---> 13\u001b[0;31m \u001b[0;32mimport\u001b[0m \u001b[0mndb\u001b[0m\u001b[0;34m\u001b[0m\u001b[0;34m\u001b[0m\u001b[0m\n\u001b[0m",
      "\u001b[0;32m~/anaconda3/lib/python3.7/site-packages/ndb/__init__.py\u001b[0m in \u001b[0;36m<module>\u001b[0;34m\u001b[0m\n\u001b[1;32m     20\u001b[0m \u001b[0m__all__\u001b[0m \u001b[0;34m=\u001b[0m \u001b[0;34m[\u001b[0m\u001b[0;34m]\u001b[0m\u001b[0;34m\u001b[0m\u001b[0;34m\u001b[0m\u001b[0m\n\u001b[1;32m     21\u001b[0m \u001b[0;34m\u001b[0m\u001b[0m\n\u001b[0;32m---> 22\u001b[0;31m \u001b[0;32mfrom\u001b[0m \u001b[0mtasklets\u001b[0m \u001b[0;32mimport\u001b[0m \u001b[0;34m*\u001b[0m\u001b[0;34m\u001b[0m\u001b[0;34m\u001b[0m\u001b[0m\n\u001b[0m\u001b[1;32m     23\u001b[0m \u001b[0m__all__\u001b[0m \u001b[0;34m+=\u001b[0m \u001b[0mtasklets\u001b[0m\u001b[0;34m.\u001b[0m\u001b[0m__all__\u001b[0m\u001b[0;34m\u001b[0m\u001b[0;34m\u001b[0m\u001b[0m\n\u001b[1;32m     24\u001b[0m \u001b[0;34m\u001b[0m\u001b[0m\n",
      "\u001b[0;31mModuleNotFoundError\u001b[0m: No module named 'tasklets'"
     ]
    }
   ],
   "source": [
    "from __future__ import print_function\n",
    "\n",
    "import re\n",
    "import warnings\n",
    "\n",
    "import ipywidgets as widgets\n",
    "import numpy as np\n",
    "import pandas as pd\n",
    "import pulp\n",
    "from ipywidgets import fixed, interact, interact_manual, interactive\n",
    "\n",
    "import pulp\n",
    "import ndb"
   ]
  },
  {
   "cell_type": "code",
   "execution_count": 24,
   "metadata": {
    "ExecuteTime": {
     "end_time": "2019-04-27T16:32:55.669778Z",
     "start_time": "2019-04-27T16:32:55.666243Z"
    }
   },
   "outputs": [],
   "source": [
    "user = \"chanvarma\"\n",
    "API_KEY = {'chanvarma' : \"5JMzm847yqDvz6OnGzaC5mnWV1kOLbaE80fPs3WR\"}"
   ]
  },
  {
   "cell_type": "code",
   "execution_count": 26,
   "metadata": {
    "ExecuteTime": {
     "end_time": "2019-04-27T16:33:03.065333Z",
     "start_time": "2019-04-27T16:33:03.039980Z"
    }
   },
   "outputs": [
    {
     "ename": "NameError",
     "evalue": "name 'ndb' is not defined",
     "output_type": "error",
     "traceback": [
      "\u001b[0;31m---------------------------------------------------------------------------\u001b[0m",
      "\u001b[0;31mNameError\u001b[0m                                 Traceback (most recent call last)",
      "\u001b[0;32m<ipython-input-26-74d1b4e3bc25>\u001b[0m in \u001b[0;36m<module>\u001b[0;34m\u001b[0m\n\u001b[0;32m----> 1\u001b[0;31m \u001b[0mreport\u001b[0m \u001b[0;34m=\u001b[0m \u001b[0mndb\u001b[0m\u001b[0;34m.\u001b[0m\u001b[0mndb_report\u001b[0m\u001b[0;34m(\u001b[0m\u001b[0mAPI_KEY\u001b[0m\u001b[0;34m[\u001b[0m\u001b[0muser\u001b[0m\u001b[0;34m]\u001b[0m\u001b[0;34m,\u001b[0m \u001b[0mNDB\u001b[0m\u001b[0;34m)\u001b[0m\u001b[0;34m\u001b[0m\u001b[0;34m\u001b[0m\u001b[0m\n\u001b[0m",
      "\u001b[0;31mNameError\u001b[0m: name 'ndb' is not defined"
     ]
    }
   ],
   "source": [
    "report = ndb.ndb_report(API_KEY[user], NDB)"
   ]
  },
  {
   "cell_type": "code",
   "execution_count": null,
   "metadata": {},
   "outputs": [],
   "source": []
  }
 ],
 "metadata": {
  "hide_input": false,
  "kernelspec": {
   "display_name": "Python 3",
   "language": "python",
   "name": "python3"
  },
  "language_info": {
   "codemirror_mode": {
    "name": "ipython",
    "version": 3
   },
   "file_extension": ".py",
   "mimetype": "text/x-python",
   "name": "python",
   "nbconvert_exporter": "python",
   "pygments_lexer": "ipython3",
   "version": "3.7.1"
  },
  "toc": {
   "base_numbering": 1,
   "nav_menu": {},
   "number_sections": true,
   "sideBar": true,
   "skip_h1_title": false,
   "title_cell": "Table of Contents",
   "title_sidebar": "Contents",
   "toc_cell": false,
   "toc_position": {},
   "toc_section_display": true,
   "toc_window_display": false
  },
  "varInspector": {
   "cols": {
    "lenName": 16,
    "lenType": 16,
    "lenVar": 40
   },
   "kernels_config": {
    "python": {
     "delete_cmd_postfix": "",
     "delete_cmd_prefix": "del ",
     "library": "var_list.py",
     "varRefreshCmd": "print(var_dic_list())"
    },
    "r": {
     "delete_cmd_postfix": ") ",
     "delete_cmd_prefix": "rm(",
     "library": "var_list.r",
     "varRefreshCmd": "cat(var_dic_list()) "
    }
   },
   "types_to_exclude": [
    "module",
    "function",
    "builtin_function_or_method",
    "instance",
    "_Feature"
   ],
   "window_display": false
  }
 },
 "nbformat": 4,
 "nbformat_minor": 2
}
