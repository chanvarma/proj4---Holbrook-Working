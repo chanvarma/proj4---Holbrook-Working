{
 "cells": [
  {
   "cell_type": "code",
   "execution_count": 1,
   "metadata": {
    "ExecuteTime": {
     "end_time": "2019-04-27T18:12:27.213955Z",
     "start_time": "2019-04-27T18:12:20.467946Z"
    }
   },
   "outputs": [],
   "source": [
    "import cfe\n",
    "import pandas as pd\n",
    "import numpy as np\n",
    "import matplotlib.pyplot as plt\n",
    "import os"
   ]
  },
  {
   "cell_type": "code",
   "execution_count": 6,
   "metadata": {
    "ExecuteTime": {
     "end_time": "2019-04-27T18:13:04.593545Z",
     "start_time": "2019-04-27T18:13:04.458554Z"
    }
   },
   "outputs": [
    {
     "name": "stdout",
     "output_type": "stream",
     "text": [
      "Icon?\r\n",
      "\u001b[1m\u001b[32mREADME.md\u001b[m\u001b[m\r\n",
      "[EEP 153] Project 4 Notes _ Goals - Holbrook Working.gdoc\r\n",
      "\u001b[1m\u001b[34mcode\u001b[m\u001b[m\r\n",
      "\u001b[1m\u001b[34mdata\u001b[m\u001b[m\r\n",
      "\u001b[1m\u001b[34mresearch\u001b[m\u001b[m\r\n",
      "\u001b[1m\u001b[34mslides\u001b[m\u001b[m\r\n"
     ]
    }
   ],
   "source": [
    "!ls ../.."
   ]
  },
  {
   "cell_type": "code",
   "execution_count": 7,
   "metadata": {
    "ExecuteTime": {
     "end_time": "2019-04-27T18:13:18.373119Z",
     "start_time": "2019-04-27T18:13:18.362858Z"
    }
   },
   "outputs": [
    {
     "data": {
      "text/plain": [
       "'/Users/chan/bMailDrive/Academics/2019 Spring/EEP 153/proj4 - Holbrook Working/data'"
      ]
     },
     "execution_count": 7,
     "metadata": {},
     "output_type": "execute_result"
    }
   ],
   "source": [
    "#ONLY RUN ONCE \n",
    "\n",
    "os.chdir('../../data/')\n",
    "os.getcwd()"
   ]
  },
  {
   "cell_type": "code",
   "execution_count": 9,
   "metadata": {
    "ExecuteTime": {
     "end_time": "2019-04-27T18:15:03.400019Z",
     "start_time": "2019-04-27T18:15:03.267001Z"
    },
    "scrolled": false
   },
   "outputs": [
    {
     "name": "stdout",
     "output_type": "stream",
     "text": [
      "Food Items and NDB Databasae - Original.csv\r\n",
      "Food Items and NDB Databasae.gsheet\r\n",
      "Icon?\r\n",
      "canada_expenditure.csv\r\n",
      "\u001b[1m\u001b[34mchans_last_project\u001b[m\u001b[m\r\n",
      "expenditure_metadata.csv\r\n",
      "ready_to_use.csv\r\n"
     ]
    }
   ],
   "source": [
    "!ls"
   ]
  },
  {
   "cell_type": "code",
   "execution_count": 10,
   "metadata": {
    "ExecuteTime": {
     "end_time": "2019-04-27T18:15:37.348280Z",
     "start_time": "2019-04-27T18:15:36.760692Z"
    }
   },
   "outputs": [
    {
     "data": {
      "text/html": [
       "<div>\n",
       "<style scoped>\n",
       "    .dataframe tbody tr th:only-of-type {\n",
       "        vertical-align: middle;\n",
       "    }\n",
       "\n",
       "    .dataframe tbody tr th {\n",
       "        vertical-align: top;\n",
       "    }\n",
       "\n",
       "    .dataframe thead th {\n",
       "        text-align: right;\n",
       "    }\n",
       "</style>\n",
       "<table border=\"1\" class=\"dataframe\">\n",
       "  <thead>\n",
       "    <tr style=\"text-align: right;\">\n",
       "      <th></th>\n",
       "      <th>REAL_NEWID</th>\n",
       "      <th>AGE</th>\n",
       "      <th>EDUCA</th>\n",
       "      <th>EMPLTYPE</th>\n",
       "      <th>HORIGIN</th>\n",
       "      <th>avg(HRSPERWK)</th>\n",
       "      <th>IN_COLL</th>\n",
       "      <th>MARITAL</th>\n",
       "      <th>avg(SCHLNCHX)</th>\n",
       "      <th>SEMPFRM</th>\n",
       "      <th>...</th>\n",
       "      <th>avg(Pork)/(FINCBEFM/52)</th>\n",
       "      <th>avg(PROCFRUT)/(FINCBEFM/52)</th>\n",
       "      <th>avg(PROCVEG)/(FINCBEFM/52)</th>\n",
       "      <th>RACE2</th>\n",
       "      <th>avg(SEAFOOD)/(FINCBEFM/52)</th>\n",
       "      <th>avg(SMOKSUPP)/(FINCBEFM/52)</th>\n",
       "      <th>SMSASTAT</th>\n",
       "      <th>STATE</th>\n",
       "      <th>avg(SWEETS)/(FINCBEFM/52)</th>\n",
       "      <th>avg(VEHQ)</th>\n",
       "    </tr>\n",
       "  </thead>\n",
       "  <tbody>\n",
       "    <tr>\n",
       "      <th>0</th>\n",
       "      <td>360889</td>\n",
       "      <td>27</td>\n",
       "      <td>6.0</td>\n",
       "      <td>1.0</td>\n",
       "      <td>2</td>\n",
       "      <td>40.0</td>\n",
       "      <td>3.0</td>\n",
       "      <td>5</td>\n",
       "      <td>NaN</td>\n",
       "      <td>2.0</td>\n",
       "      <td>...</td>\n",
       "      <td>0.000000</td>\n",
       "      <td>0.000753</td>\n",
       "      <td>0.000595</td>\n",
       "      <td>NaN</td>\n",
       "      <td>0.0</td>\n",
       "      <td>0.000000</td>\n",
       "      <td>1</td>\n",
       "      <td>49.0</td>\n",
       "      <td>0.000000</td>\n",
       "      <td>2.0</td>\n",
       "    </tr>\n",
       "    <tr>\n",
       "      <th>1</th>\n",
       "      <td>360890</td>\n",
       "      <td>53</td>\n",
       "      <td>4.0</td>\n",
       "      <td>1.0</td>\n",
       "      <td>2</td>\n",
       "      <td>40.0</td>\n",
       "      <td>3.0</td>\n",
       "      <td>3</td>\n",
       "      <td>NaN</td>\n",
       "      <td>2.0</td>\n",
       "      <td>...</td>\n",
       "      <td>0.000000</td>\n",
       "      <td>0.000000</td>\n",
       "      <td>0.000000</td>\n",
       "      <td>NaN</td>\n",
       "      <td>0.0</td>\n",
       "      <td>0.000000</td>\n",
       "      <td>1</td>\n",
       "      <td>31.0</td>\n",
       "      <td>0.000000</td>\n",
       "      <td>1.0</td>\n",
       "    </tr>\n",
       "    <tr>\n",
       "      <th>2</th>\n",
       "      <td>360892</td>\n",
       "      <td>56</td>\n",
       "      <td>7.0</td>\n",
       "      <td>1.0</td>\n",
       "      <td>2</td>\n",
       "      <td>55.0</td>\n",
       "      <td>3.0</td>\n",
       "      <td>3</td>\n",
       "      <td>NaN</td>\n",
       "      <td>2.0</td>\n",
       "      <td>...</td>\n",
       "      <td>0.000000</td>\n",
       "      <td>0.000000</td>\n",
       "      <td>0.003997</td>\n",
       "      <td>NaN</td>\n",
       "      <td>0.0</td>\n",
       "      <td>0.002570</td>\n",
       "      <td>1</td>\n",
       "      <td>20.0</td>\n",
       "      <td>0.001716</td>\n",
       "      <td>1.0</td>\n",
       "    </tr>\n",
       "    <tr>\n",
       "      <th>3</th>\n",
       "      <td>360893</td>\n",
       "      <td>34</td>\n",
       "      <td>7.0</td>\n",
       "      <td>5.0</td>\n",
       "      <td>2</td>\n",
       "      <td>24.0</td>\n",
       "      <td>3.0</td>\n",
       "      <td>1</td>\n",
       "      <td>NaN</td>\n",
       "      <td>1.0</td>\n",
       "      <td>...</td>\n",
       "      <td>0.000814</td>\n",
       "      <td>0.006136</td>\n",
       "      <td>0.005833</td>\n",
       "      <td>1.0</td>\n",
       "      <td>0.0</td>\n",
       "      <td>0.003279</td>\n",
       "      <td>1</td>\n",
       "      <td>27.0</td>\n",
       "      <td>0.001859</td>\n",
       "      <td>3.0</td>\n",
       "    </tr>\n",
       "    <tr>\n",
       "      <th>4</th>\n",
       "      <td>360895</td>\n",
       "      <td>64</td>\n",
       "      <td>4.0</td>\n",
       "      <td>1.0</td>\n",
       "      <td>1</td>\n",
       "      <td>20.0</td>\n",
       "      <td>3.0</td>\n",
       "      <td>1</td>\n",
       "      <td>NaN</td>\n",
       "      <td>2.0</td>\n",
       "      <td>...</td>\n",
       "      <td>0.000000</td>\n",
       "      <td>0.000000</td>\n",
       "      <td>0.000000</td>\n",
       "      <td>4.0</td>\n",
       "      <td>0.0</td>\n",
       "      <td>0.000000</td>\n",
       "      <td>1</td>\n",
       "      <td>6.0</td>\n",
       "      <td>0.000000</td>\n",
       "      <td>NaN</td>\n",
       "    </tr>\n",
       "  </tbody>\n",
       "</table>\n",
       "<p>5 rows × 56 columns</p>\n",
       "</div>"
      ],
      "text/plain": [
       "   REAL_NEWID  AGE  EDUCA  EMPLTYPE  HORIGIN  avg(HRSPERWK)  IN_COLL  MARITAL  \\\n",
       "0      360889   27    6.0       1.0        2           40.0      3.0        5   \n",
       "1      360890   53    4.0       1.0        2           40.0      3.0        3   \n",
       "2      360892   56    7.0       1.0        2           55.0      3.0        3   \n",
       "3      360893   34    7.0       5.0        2           24.0      3.0        1   \n",
       "4      360895   64    4.0       1.0        1           20.0      3.0        1   \n",
       "\n",
       "   avg(SCHLNCHX)  SEMPFRM    ...      avg(Pork)/(FINCBEFM/52)  \\\n",
       "0            NaN      2.0    ...                     0.000000   \n",
       "1            NaN      2.0    ...                     0.000000   \n",
       "2            NaN      2.0    ...                     0.000000   \n",
       "3            NaN      1.0    ...                     0.000814   \n",
       "4            NaN      2.0    ...                     0.000000   \n",
       "\n",
       "   avg(PROCFRUT)/(FINCBEFM/52)  avg(PROCVEG)/(FINCBEFM/52)  RACE2  \\\n",
       "0                     0.000753                    0.000595    NaN   \n",
       "1                     0.000000                    0.000000    NaN   \n",
       "2                     0.000000                    0.003997    NaN   \n",
       "3                     0.006136                    0.005833    1.0   \n",
       "4                     0.000000                    0.000000    4.0   \n",
       "\n",
       "   avg(SEAFOOD)/(FINCBEFM/52)  avg(SMOKSUPP)/(FINCBEFM/52) SMSASTAT  STATE  \\\n",
       "0                         0.0                     0.000000        1   49.0   \n",
       "1                         0.0                     0.000000        1   31.0   \n",
       "2                         0.0                     0.002570        1   20.0   \n",
       "3                         0.0                     0.003279        1   27.0   \n",
       "4                         0.0                     0.000000        1    6.0   \n",
       "\n",
       "   avg(SWEETS)/(FINCBEFM/52)  avg(VEHQ)  \n",
       "0                   0.000000        2.0  \n",
       "1                   0.000000        1.0  \n",
       "2                   0.001716        1.0  \n",
       "3                   0.001859        3.0  \n",
       "4                   0.000000        NaN  \n",
       "\n",
       "[5 rows x 56 columns]"
      ]
     },
     "execution_count": 10,
     "metadata": {},
     "output_type": "execute_result"
    }
   ],
   "source": [
    "data = pd.read_csv('ready_to_use.csv')\n",
    "data.head()"
   ]
  },
  {
   "cell_type": "markdown",
   "metadata": {},
   "source": [
    "# Creating food conversion table"
   ]
  },
  {
   "cell_type": "code",
   "execution_count": 31,
   "metadata": {
    "ExecuteTime": {
     "end_time": "2019-04-27T16:37:44.459092Z",
     "start_time": "2019-04-27T16:37:36.223024Z"
    },
    "scrolled": true
   },
   "outputs": [
    {
     "name": "stdout",
     "output_type": "stream",
     "text": [
      "Requirement already satisfied: Pint>=0.8.1 in /Users/chan/anaconda3/lib/python3.7/site-packages (from -r requirements.txt (line 2)) (0.9)\n",
      "Requirement already satisfied: numpy>=1.15.0 in /Users/chan/anaconda3/lib/python3.7/site-packages (from -r requirements.txt (line 6)) (1.15.4)\n",
      "Requirement already satisfied: pandas>=0.23.3 in /Users/chan/anaconda3/lib/python3.7/site-packages (from -r requirements.txt (line 11)) (0.23.4)\n",
      "Requirement already satisfied: requests>=2.20.0 in /Users/chan/anaconda3/lib/python3.7/site-packages (from -r requirements.txt (line 15)) (2.21.0)\n",
      "Requirement already satisfied: scipy>=1.1.0 in /Users/chan/anaconda3/lib/python3.7/site-packages (from -r requirements.txt (line 18)) (1.1.0)\n",
      "Requirement already satisfied: python-dateutil>=2.5.0 in /Users/chan/anaconda3/lib/python3.7/site-packages (from pandas>=0.23.3->-r requirements.txt (line 11)) (2.7.5)\n",
      "Requirement already satisfied: pytz>=2011k in /Users/chan/anaconda3/lib/python3.7/site-packages (from pandas>=0.23.3->-r requirements.txt (line 11)) (2018.7)\n",
      "Requirement already satisfied: certifi>=2017.4.17 in /Users/chan/anaconda3/lib/python3.7/site-packages (from requests>=2.20.0->-r requirements.txt (line 15)) (2018.11.29)\n",
      "Requirement already satisfied: urllib3<1.25,>=1.21.1 in /Users/chan/anaconda3/lib/python3.7/site-packages (from requests>=2.20.0->-r requirements.txt (line 15)) (1.24.1)\n",
      "Requirement already satisfied: chardet<3.1.0,>=3.0.2 in /Users/chan/anaconda3/lib/python3.7/site-packages (from requests>=2.20.0->-r requirements.txt (line 15)) (3.0.4)\n",
      "Requirement already satisfied: idna<2.9,>=2.5 in /Users/chan/anaconda3/lib/python3.7/site-packages (from requests>=2.20.0->-r requirements.txt (line 15)) (2.8)\n",
      "Requirement already satisfied: six>=1.5 in /Users/chan/anaconda3/lib/python3.7/site-packages (from python-dateutil>=2.5.0->pandas>=0.23.3->-r requirements.txt (line 11)) (1.12.0)\n"
     ]
    }
   ],
   "source": [
    "os.chdir('..')\n",
    "!pip install -r requirements.txt"
   ]
  },
  {
   "cell_type": "code",
   "execution_count": 34,
   "metadata": {
    "ExecuteTime": {
     "end_time": "2019-04-27T16:37:56.342430Z",
     "start_time": "2019-04-27T16:37:56.321743Z"
    }
   },
   "outputs": [
    {
     "ename": "ModuleNotFoundError",
     "evalue": "No module named 'tasklets'",
     "output_type": "error",
     "traceback": [
      "\u001b[0;31m---------------------------------------------------------------------------\u001b[0m",
      "\u001b[0;31mModuleNotFoundError\u001b[0m                       Traceback (most recent call last)",
      "\u001b[0;32m<ipython-input-34-219fde97eca8>\u001b[0m in \u001b[0;36m<module>\u001b[0;34m\u001b[0m\n\u001b[1;32m     11\u001b[0m \u001b[0;34m\u001b[0m\u001b[0m\n\u001b[1;32m     12\u001b[0m \u001b[0;32mimport\u001b[0m \u001b[0mpulp\u001b[0m\u001b[0;34m\u001b[0m\u001b[0;34m\u001b[0m\u001b[0m\n\u001b[0;32m---> 13\u001b[0;31m \u001b[0;32mimport\u001b[0m \u001b[0mndb\u001b[0m\u001b[0;34m\u001b[0m\u001b[0;34m\u001b[0m\u001b[0m\n\u001b[0m",
      "\u001b[0;32m~/anaconda3/lib/python3.7/site-packages/ndb/__init__.py\u001b[0m in \u001b[0;36m<module>\u001b[0;34m\u001b[0m\n\u001b[1;32m     20\u001b[0m \u001b[0m__all__\u001b[0m \u001b[0;34m=\u001b[0m \u001b[0;34m[\u001b[0m\u001b[0;34m]\u001b[0m\u001b[0;34m\u001b[0m\u001b[0;34m\u001b[0m\u001b[0m\n\u001b[1;32m     21\u001b[0m \u001b[0;34m\u001b[0m\u001b[0m\n\u001b[0;32m---> 22\u001b[0;31m \u001b[0;32mfrom\u001b[0m \u001b[0mtasklets\u001b[0m \u001b[0;32mimport\u001b[0m \u001b[0;34m*\u001b[0m\u001b[0;34m\u001b[0m\u001b[0;34m\u001b[0m\u001b[0m\n\u001b[0m\u001b[1;32m     23\u001b[0m \u001b[0m__all__\u001b[0m \u001b[0;34m+=\u001b[0m \u001b[0mtasklets\u001b[0m\u001b[0;34m.\u001b[0m\u001b[0m__all__\u001b[0m\u001b[0;34m\u001b[0m\u001b[0;34m\u001b[0m\u001b[0m\n\u001b[1;32m     24\u001b[0m \u001b[0;34m\u001b[0m\u001b[0m\n",
      "\u001b[0;31mModuleNotFoundError\u001b[0m: No module named 'tasklets'"
     ]
    }
   ],
   "source": [
    "from __future__ import print_function\n",
    "\n",
    "import re\n",
    "import warnings\n",
    "\n",
    "import ipywidgets as widgets\n",
    "import numpy as np\n",
    "import pandas as pd\n",
    "import pulp\n",
    "from ipywidgets import fixed, interact, interact_manual, interactive\n",
    "\n",
    "import pulp\n",
    "import ndb"
   ]
  },
  {
   "cell_type": "code",
   "execution_count": 24,
   "metadata": {
    "ExecuteTime": {
     "end_time": "2019-04-27T16:32:55.669778Z",
     "start_time": "2019-04-27T16:32:55.666243Z"
    }
   },
   "outputs": [],
   "source": [
    "user = \"chanvarma\"\n",
    "API_KEY = {'chanvarma' : \"5JMzm847yqDvz6OnGzaC5mnWV1kOLbaE80fPs3WR\"}"
   ]
  },
  {
   "cell_type": "code",
   "execution_count": 33,
   "metadata": {
    "ExecuteTime": {
     "end_time": "2019-04-27T16:37:53.549534Z",
     "start_time": "2019-04-27T16:37:53.533584Z"
    }
   },
   "outputs": [
    {
     "ename": "NameError",
     "evalue": "name 'ndb' is not defined",
     "output_type": "error",
     "traceback": [
      "\u001b[0;31m---------------------------------------------------------------------------\u001b[0m",
      "\u001b[0;31mNameError\u001b[0m                                 Traceback (most recent call last)",
      "\u001b[0;32m<ipython-input-33-74d1b4e3bc25>\u001b[0m in \u001b[0;36m<module>\u001b[0;34m\u001b[0m\n\u001b[0;32m----> 1\u001b[0;31m \u001b[0mreport\u001b[0m \u001b[0;34m=\u001b[0m \u001b[0mndb\u001b[0m\u001b[0;34m.\u001b[0m\u001b[0mndb_report\u001b[0m\u001b[0;34m(\u001b[0m\u001b[0mAPI_KEY\u001b[0m\u001b[0;34m[\u001b[0m\u001b[0muser\u001b[0m\u001b[0;34m]\u001b[0m\u001b[0;34m,\u001b[0m \u001b[0mNDB\u001b[0m\u001b[0;34m)\u001b[0m\u001b[0;34m\u001b[0m\u001b[0;34m\u001b[0m\u001b[0m\n\u001b[0m",
      "\u001b[0;31mNameError\u001b[0m: name 'ndb' is not defined"
     ]
    }
   ],
   "source": [
    "report = ndb.ndb_report(API_KEY[user], NDB)"
   ]
  },
  {
   "cell_type": "code",
   "execution_count": 35,
   "metadata": {
    "ExecuteTime": {
     "end_time": "2019-04-27T16:38:58.645128Z",
     "start_time": "2019-04-27T16:38:58.602384Z"
    }
   },
   "outputs": [
    {
     "ename": "ModuleNotFoundError",
     "evalue": "No module named 'tasklets'",
     "output_type": "error",
     "traceback": [
      "\u001b[0;31m---------------------------------------------------------------------------\u001b[0m",
      "\u001b[0;31mModuleNotFoundError\u001b[0m                       Traceback (most recent call last)",
      "\u001b[0;32m<ipython-input-35-cfadb9346045>\u001b[0m in \u001b[0;36m<module>\u001b[0;34m\u001b[0m\n\u001b[0;32m----> 1\u001b[0;31m \u001b[0;32mimport\u001b[0m \u001b[0mndb\u001b[0m\u001b[0;34m\u001b[0m\u001b[0;34m\u001b[0m\u001b[0m\n\u001b[0m",
      "\u001b[0;32m~/anaconda3/lib/python3.7/site-packages/ndb/__init__.py\u001b[0m in \u001b[0;36m<module>\u001b[0;34m\u001b[0m\n\u001b[1;32m     20\u001b[0m \u001b[0m__all__\u001b[0m \u001b[0;34m=\u001b[0m \u001b[0;34m[\u001b[0m\u001b[0;34m]\u001b[0m\u001b[0;34m\u001b[0m\u001b[0;34m\u001b[0m\u001b[0m\n\u001b[1;32m     21\u001b[0m \u001b[0;34m\u001b[0m\u001b[0m\n\u001b[0;32m---> 22\u001b[0;31m \u001b[0;32mfrom\u001b[0m \u001b[0mtasklets\u001b[0m \u001b[0;32mimport\u001b[0m \u001b[0;34m*\u001b[0m\u001b[0;34m\u001b[0m\u001b[0;34m\u001b[0m\u001b[0m\n\u001b[0m\u001b[1;32m     23\u001b[0m \u001b[0m__all__\u001b[0m \u001b[0;34m+=\u001b[0m \u001b[0mtasklets\u001b[0m\u001b[0;34m.\u001b[0m\u001b[0m__all__\u001b[0m\u001b[0;34m\u001b[0m\u001b[0;34m\u001b[0m\u001b[0m\n\u001b[1;32m     24\u001b[0m \u001b[0;34m\u001b[0m\u001b[0m\n",
      "\u001b[0;31mModuleNotFoundError\u001b[0m: No module named 'tasklets'"
     ]
    }
   ],
   "source": [
    "import ndb"
   ]
  },
  {
   "cell_type": "code",
   "execution_count": 36,
   "metadata": {
    "ExecuteTime": {
     "end_time": "2019-04-27T16:39:03.494745Z",
     "start_time": "2019-04-27T16:39:03.480587Z"
    }
   },
   "outputs": [
    {
     "ename": "NameError",
     "evalue": "name 'ndb' is not defined",
     "output_type": "error",
     "traceback": [
      "\u001b[0;31m---------------------------------------------------------------------------\u001b[0m",
      "\u001b[0;31mNameError\u001b[0m                                 Traceback (most recent call last)",
      "\u001b[0;32m<ipython-input-36-962eff4e1335>\u001b[0m in \u001b[0;36m<module>\u001b[0;34m\u001b[0m\n\u001b[0;32m----> 1\u001b[0;31m \u001b[0mndb\u001b[0m\u001b[0;34m.\u001b[0m\u001b[0mndb_report\u001b[0m\u001b[0;34m(\u001b[0m\u001b[0mAPI_KEY\u001b[0m\u001b[0;34m[\u001b[0m\u001b[0muser\u001b[0m\u001b[0;34m]\u001b[0m\u001b[0;34m,\u001b[0m \u001b[0;36m14555\u001b[0m\u001b[0;34m)\u001b[0m\u001b[0;34m\u001b[0m\u001b[0;34m\u001b[0m\u001b[0m\n\u001b[0m",
      "\u001b[0;31mNameError\u001b[0m: name 'ndb' is not defined"
     ]
    }
   ],
   "source": [
    "ndb.ndb_report(API_KEY[user], 14555)"
   ]
  },
  {
   "cell_type": "code",
   "execution_count": null,
   "metadata": {},
   "outputs": [],
   "source": []
  }
 ],
 "metadata": {
  "hide_input": false,
  "kernelspec": {
   "display_name": "Python 3",
   "language": "python",
   "name": "python3"
  },
  "language_info": {
   "codemirror_mode": {
    "name": "ipython",
    "version": 3
   },
   "file_extension": ".py",
   "mimetype": "text/x-python",
   "name": "python",
   "nbconvert_exporter": "python",
   "pygments_lexer": "ipython3",
   "version": "3.7.1"
  },
  "toc": {
   "base_numbering": 1,
   "nav_menu": {},
   "number_sections": true,
   "sideBar": true,
   "skip_h1_title": false,
   "title_cell": "Table of Contents",
   "title_sidebar": "Contents",
   "toc_cell": false,
   "toc_position": {},
   "toc_section_display": true,
   "toc_window_display": false
  },
  "varInspector": {
   "cols": {
    "lenName": 16,
    "lenType": 16,
    "lenVar": 40
   },
   "kernels_config": {
    "python": {
     "delete_cmd_postfix": "",
     "delete_cmd_prefix": "del ",
     "library": "var_list.py",
     "varRefreshCmd": "print(var_dic_list())"
    },
    "r": {
     "delete_cmd_postfix": ") ",
     "delete_cmd_prefix": "rm(",
     "library": "var_list.r",
     "varRefreshCmd": "cat(var_dic_list()) "
    }
   },
   "types_to_exclude": [
    "module",
    "function",
    "builtin_function_or_method",
    "instance",
    "_Feature"
   ],
   "window_display": false
  }
 },
 "nbformat": 4,
 "nbformat_minor": 2
}
