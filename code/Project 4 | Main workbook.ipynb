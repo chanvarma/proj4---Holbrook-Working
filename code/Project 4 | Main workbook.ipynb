{
 "cells": [
  {
   "cell_type": "markdown",
   "metadata": {},
   "source": [
    "# Project 4: Hacking Nutrition (Team Holbrook)"
   ]
  },
  {
   "cell_type": "markdown",
   "metadata": {
    "toc": true
   },
   "source": [
    "<h1>Table of Contents<span class=\"tocSkip\"></span></h1>\n",
    "<div class=\"toc\"><ul class=\"toc-item\"><li><span><a href=\"#Project-4:-Hacking-Nutrition-(Team-Holbrook)\" data-toc-modified-id=\"Project-4:-Hacking-Nutrition-(Team-Holbrook)-1\"><span class=\"toc-item-num\">1&nbsp;&nbsp;</span>Project 4: Hacking Nutrition (Team Holbrook)</a></span><ul class=\"toc-item\"><li><span><a href=\"#Import-statements-and-set-up\" data-toc-modified-id=\"Import-statements-and-set-up-1.1\"><span class=\"toc-item-num\">1.1&nbsp;&nbsp;</span>Import statements and set up</a></span></li><li><span><a href=\"#Pre-processing-and-formatting-survey-data\" data-toc-modified-id=\"Pre-processing-and-formatting-survey-data-1.2\"><span class=\"toc-item-num\">1.2&nbsp;&nbsp;</span>Pre-processing and formatting survey data</a></span></li><li><span><a href=\"#Dataset-exploration\" data-toc-modified-id=\"Dataset-exploration-1.3\"><span class=\"toc-item-num\">1.3&nbsp;&nbsp;</span>Dataset exploration</a></span><ul class=\"toc-item\"><li><span><a href=\"#List-out-all-variables\" data-toc-modified-id=\"List-out-all-variables-1.3.1\"><span class=\"toc-item-num\">1.3.1&nbsp;&nbsp;</span>List out all variables</a></span></li><li><span><a href=\"#Choose-categories-for-expenditure-goods-and-household-characteristics.\" data-toc-modified-id=\"Choose-categories-for-expenditure-goods-and-household-characteristics.-1.3.2\"><span class=\"toc-item-num\">1.3.2&nbsp;&nbsp;</span>Choose categories for expenditure goods and household characteristics.</a></span></li></ul></li><li><span><a href=\"#Basic-analysis-of-spend\" data-toc-modified-id=\"Basic-analysis-of-spend-1.4\"><span class=\"toc-item-num\">1.4&nbsp;&nbsp;</span>Basic analysis of spend</a></span><ul class=\"toc-item\"><li><span><a href=\"#Comparing-spending-by-category-across-food-stamp-groups\" data-toc-modified-id=\"Comparing-spending-by-category-across-food-stamp-groups-1.4.1\"><span class=\"toc-item-num\">1.4.1&nbsp;&nbsp;</span>Comparing spending by category across food stamp groups</a></span></li></ul></li></ul></li><li><span><a href=\"#Estimating-demand-for-CA-residents\" data-toc-modified-id=\"Estimating-demand-for-CA-residents-2\"><span class=\"toc-item-num\">2&nbsp;&nbsp;</span>Estimating demand for CA residents</a></span><ul class=\"toc-item\"><li><ul class=\"toc-item\"><li><span><a href=\"#Loading-variables\" data-toc-modified-id=\"Loading-variables-2.0.1\"><span class=\"toc-item-num\">2.0.1&nbsp;&nbsp;</span>Loading variables</a></span></li></ul></li><li><span><a href=\"#Run-Result(),-get-reduced-form,-and-get-betas\" data-toc-modified-id=\"Run-Result(),-get-reduced-form,-and-get-betas-2.1\"><span class=\"toc-item-num\">2.1&nbsp;&nbsp;</span>Run Result(), get reduced form, and get betas</a></span><ul class=\"toc-item\"><li><span><a href=\"#Sanity-check-on-estimation-accuracy\" data-toc-modified-id=\"Sanity-check-on-estimation-accuracy-2.1.1\"><span class=\"toc-item-num\">2.1.1&nbsp;&nbsp;</span>Sanity check on estimation accuracy</a></span></li><li><span><a href=\"#Sanity-check-on-engels'-curve\" data-toc-modified-id=\"Sanity-check-on-engels'-curve-2.1.2\"><span class=\"toc-item-num\">2.1.2&nbsp;&nbsp;</span>Sanity check on engels' curve</a></span></li><li><span><a href=\"#Calculates-alphas-and-betas\" data-toc-modified-id=\"Calculates-alphas-and-betas-2.1.3\"><span class=\"toc-item-num\">2.1.3&nbsp;&nbsp;</span>Calculates alphas and betas</a></span></li></ul></li><li><span><a href=\"#Estimate-demand-system-for-CA-residents\" data-toc-modified-id=\"Estimate-demand-system-for-CA-residents-2.2\"><span class=\"toc-item-num\">2.2&nbsp;&nbsp;</span>Estimate demand system for CA residents</a></span><ul class=\"toc-item\"><li><span><a href=\"#Get-prices\" data-toc-modified-id=\"Get-prices-2.2.1\"><span class=\"toc-item-num\">2.2.1&nbsp;&nbsp;</span>Get prices</a></span></li><li><span><a href=\"#Calculate-quantities-demanded\" data-toc-modified-id=\"Calculate-quantities-demanded-2.2.2\"><span class=\"toc-item-num\">2.2.2&nbsp;&nbsp;</span>Calculate quantities demanded</a></span></li></ul></li></ul></li><li><span><a href=\"#Indifference-Curves-for-various-food-groups\" data-toc-modified-id=\"Indifference-Curves-for-various-food-groups-3\"><span class=\"toc-item-num\">3&nbsp;&nbsp;</span>Indifference Curves for various food groups</a></span><ul class=\"toc-item\"><li><span><a href=\"#Considering-nutritional-information\" data-toc-modified-id=\"Considering-nutritional-information-3.1\"><span class=\"toc-item-num\">3.1&nbsp;&nbsp;</span>Considering nutritional information</a></span></li><li><span><a href=\"#Note-down-FDA-minimums-and-maximums\" data-toc-modified-id=\"Note-down-FDA-minimums-and-maximums-3.2\"><span class=\"toc-item-num\">3.2&nbsp;&nbsp;</span>Note down FDA minimums and maximums</a></span></li></ul></li></ul></div>"
   ]
  },
  {
   "cell_type": "markdown",
   "metadata": {},
   "source": [
    "## Import statements and set up"
   ]
  },
  {
   "cell_type": "code",
   "execution_count": 1,
   "metadata": {
    "ExecuteTime": {
     "end_time": "2019-05-01T22:40:29.051873Z",
     "start_time": "2019-05-01T22:40:19.459761Z"
    }
   },
   "outputs": [
    {
     "name": "stdout",
     "output_type": "stream",
     "text": [
      "Requirement already up-to-date: CFEDemands in /Users/chan/anaconda3/lib/python3.7/site-packages (0.1.6.6)\n",
      "Requirement already satisfied: xarray in /Users/chan/anaconda3/lib/python3.7/site-packages (0.12.1)\n",
      "Requirement already satisfied: numpy>=1.12 in /Users/chan/anaconda3/lib/python3.7/site-packages (from xarray) (1.15.4)\n",
      "Requirement already satisfied: pandas>=0.19.2 in /Users/chan/anaconda3/lib/python3.7/site-packages (from xarray) (0.23.4)\n",
      "Requirement already satisfied: python-dateutil>=2.5.0 in /Users/chan/anaconda3/lib/python3.7/site-packages (from pandas>=0.19.2->xarray) (2.7.5)\n",
      "Requirement already satisfied: pytz>=2011k in /Users/chan/anaconda3/lib/python3.7/site-packages (from pandas>=0.19.2->xarray) (2018.7)\n",
      "Requirement already satisfied: six>=1.5 in /Users/chan/anaconda3/lib/python3.7/site-packages (from python-dateutil>=2.5.0->pandas>=0.19.2->xarray) (1.12.0)\n"
     ]
    }
   ],
   "source": [
    "!pip install CFEDemands --upgrade\n",
    "!pip install xarray"
   ]
  },
  {
   "cell_type": "code",
   "execution_count": 2,
   "metadata": {
    "ExecuteTime": {
     "end_time": "2019-05-01T22:40:37.228431Z",
     "start_time": "2019-05-01T22:40:29.055916Z"
    }
   },
   "outputs": [],
   "source": [
    "import cfe\n",
    "import pandas as pd\n",
    "import numpy as np\n",
    "import random\n",
    "import xarray as xr\n",
    "\n",
    "import warnings\n",
    "warnings.filterwarnings('ignore')\n",
    "\n",
    "from IPython.display import display\n",
    "pd.options.display.max_columns = None"
   ]
  },
  {
   "cell_type": "markdown",
   "metadata": {},
   "source": [
    "## Pre-processing and formatting survey data"
   ]
  },
  {
   "cell_type": "code",
   "execution_count": 37,
   "metadata": {
    "ExecuteTime": {
     "end_time": "2019-05-01T22:43:14.602160Z",
     "start_time": "2019-05-01T22:43:12.136482Z"
    }
   },
   "outputs": [],
   "source": [
    "data_no_food_stamps = pd.read_csv('../data/actual/no_food_stamps.csv')\n",
    "data_yes_food_stamps = pd.read_csv('../data/actual/yes_food_stamps.csv')\n",
    "\n",
    "columns_to_drop = ['Unnamed: 0', 'id', 'id_2', \n",
    "                   'supp_security', 'schoolmeals_purchases', \n",
    "                   'self_employed', 'FWAGEXM',\n",
    "                   'members_under18', 'members_over64',\n",
    "                    'food_away', 'food_home', 'avg(GROSPAYX)']\n",
    "\n",
    "def standard_format(dataset):\n",
    "    \n",
    "    dataset['j'] = dataset['id']\n",
    "    dataset['t'] = 17\n",
    "    dataset['m'] = 1\n",
    "    \n",
    "    \n",
    "    dataset['M'] = \"\"\n",
    "    dataset['F'] = \"\"\n",
    "    dataset.loc[dataset['sex'] == 'Male', 'M'] = 1\n",
    "    dataset.loc[dataset['M'] == '', 'M'] = 0\n",
    "    dataset.loc[dataset['sex'] == 'Female', 'F'] = 1\n",
    "    dataset.loc[dataset['F'] == '', 'F'] = 0\n",
    "    \n",
    "    dataset['log_fsize'] = np.log(dataset['fam_size'])\n",
    "    \n",
    "    dataset.set_index(['j', 't', 'm'], inplace = True)\n",
    "    dataset.drop(columns = columns_to_drop, inplace = True)\n",
    "\n",
    "cali_no = data_no_food_stamps[data_no_food_stamps['state'].str.contains('Cali', na = False)]\n",
    "cali_yes = data_yes_food_stamps[data_yes_food_stamps['state'].str.contains('Cali', na = False)]\n",
    "\n",
    "datasets = {'California residents (no FS)': cali_no,\n",
    "           'California residents (yes FS)': cali_yes,\n",
    "           'US residents (no FS)': data_no_food_stamps,\n",
    "           'US residents (yes FS)': data_yes_food_stamps}\n",
    "\n",
    "for key, value in datasets.items():\n",
    "    standard_format(value)"
   ]
  },
  {
   "cell_type": "code",
   "execution_count": 4,
   "metadata": {
    "ExecuteTime": {
     "end_time": "2019-05-01T22:40:40.245937Z",
     "start_time": "2019-05-01T22:40:38.871411Z"
    }
   },
   "outputs": [
    {
     "data": {
      "text/plain": [
       "<xarray.DataArray 'prices' (i: 18)>\n",
       "array([9.937705, 7.906218, 5.851106, 4.092479, 1.07523 , 8.107099, 6.532807,\n",
       "       3.284924, 4.48    , 2.429568, 5.214702, 2.803513, 3.975505, 8.39843 ,\n",
       "       3.149823, 2.028527, 2.594154, 3.492714])\n",
       "Coordinates:\n",
       "  * i        (i) object 'alcbev' 'bakery' 'beef' ... 'seafood' 'sweets'"
      ]
     },
     "execution_count": 4,
     "metadata": {},
     "output_type": "execute_result"
    }
   ],
   "source": [
    "P = pd.read_csv('https://docs.google.com/spreadsheets/d/e/2PACX-1vS_Pbtl-M-jP17QyYQzwsy5hzJNC1RS2ol_JmH11G6Omw3MX6SesnK3_6puwsWQUHFsKCVhPFCwhExE/pub?gid=1990185084&single=true&output=csv')\n",
    "P.set_index(['i'], inplace = True)\n",
    "P.head()\n",
    "test = xr.DataArray(P['prices'])\n",
    "test"
   ]
  },
  {
   "cell_type": "markdown",
   "metadata": {},
   "source": [
    "## Dataset exploration "
   ]
  },
  {
   "cell_type": "code",
   "execution_count": 5,
   "metadata": {
    "ExecuteTime": {
     "end_time": "2019-05-01T22:40:40.253833Z",
     "start_time": "2019-05-01T22:40:40.249026Z"
    }
   },
   "outputs": [],
   "source": [
    "pop_describers = ['age', 'fam_size', 'net_income', 'total_food', 'total_food_percent', 'number_foodstamps']"
   ]
  },
  {
   "cell_type": "code",
   "execution_count": 6,
   "metadata": {
    "ExecuteTime": {
     "end_time": "2019-05-01T22:40:40.289944Z",
     "start_time": "2019-05-01T22:40:40.256532Z"
    }
   },
   "outputs": [
    {
     "data": {
      "text/html": [
       "<div>\n",
       "<style scoped>\n",
       "    .dataframe tbody tr th:only-of-type {\n",
       "        vertical-align: middle;\n",
       "    }\n",
       "\n",
       "    .dataframe tbody tr th {\n",
       "        vertical-align: top;\n",
       "    }\n",
       "\n",
       "    .dataframe thead th {\n",
       "        text-align: right;\n",
       "    }\n",
       "</style>\n",
       "<table border=\"1\" class=\"dataframe\">\n",
       "  <thead>\n",
       "    <tr style=\"text-align: right;\">\n",
       "      <th></th>\n",
       "      <th>age</th>\n",
       "      <th>fam_size</th>\n",
       "      <th>net_income</th>\n",
       "      <th>total_food</th>\n",
       "      <th>total_food_percent</th>\n",
       "      <th>number_foodstamps</th>\n",
       "    </tr>\n",
       "  </thead>\n",
       "  <tbody>\n",
       "    <tr>\n",
       "      <th>count</th>\n",
       "      <td>485.000000</td>\n",
       "      <td>485.00000</td>\n",
       "      <td>485.000000</td>\n",
       "      <td>485.000000</td>\n",
       "      <td>485.000000</td>\n",
       "      <td>0.0</td>\n",
       "    </tr>\n",
       "    <tr>\n",
       "      <th>mean</th>\n",
       "      <td>51.476289</td>\n",
       "      <td>2.56701</td>\n",
       "      <td>94651.287629</td>\n",
       "      <td>168.057934</td>\n",
       "      <td>0.149956</td>\n",
       "      <td>NaN</td>\n",
       "    </tr>\n",
       "  </tbody>\n",
       "</table>\n",
       "</div>"
      ],
      "text/plain": [
       "              age   fam_size    net_income  total_food  total_food_percent  \\\n",
       "count  485.000000  485.00000    485.000000  485.000000          485.000000   \n",
       "mean    51.476289    2.56701  94651.287629  168.057934            0.149956   \n",
       "\n",
       "       number_foodstamps  \n",
       "count                0.0  \n",
       "mean                 NaN  "
      ]
     },
     "execution_count": 6,
     "metadata": {},
     "output_type": "execute_result"
    }
   ],
   "source": [
    "cali_no[pop_describers].describe()[:2]"
   ]
  },
  {
   "cell_type": "code",
   "execution_count": 7,
   "metadata": {
    "ExecuteTime": {
     "end_time": "2019-05-01T22:40:40.369562Z",
     "start_time": "2019-05-01T22:40:40.294778Z"
    }
   },
   "outputs": [
    {
     "data": {
      "text/html": [
       "<div>\n",
       "<style scoped>\n",
       "    .dataframe tbody tr th:only-of-type {\n",
       "        vertical-align: middle;\n",
       "    }\n",
       "\n",
       "    .dataframe tbody tr th {\n",
       "        vertical-align: top;\n",
       "    }\n",
       "\n",
       "    .dataframe thead th {\n",
       "        text-align: right;\n",
       "    }\n",
       "</style>\n",
       "<table border=\"1\" class=\"dataframe\">\n",
       "  <thead>\n",
       "    <tr style=\"text-align: right;\">\n",
       "      <th></th>\n",
       "      <th>age</th>\n",
       "      <th>fam_size</th>\n",
       "      <th>net_income</th>\n",
       "      <th>total_food</th>\n",
       "      <th>total_food_percent</th>\n",
       "      <th>number_foodstamps</th>\n",
       "    </tr>\n",
       "  </thead>\n",
       "  <tbody>\n",
       "    <tr>\n",
       "      <th>count</th>\n",
       "      <td>39.000000</td>\n",
       "      <td>39.000000</td>\n",
       "      <td>39.000000</td>\n",
       "      <td>39.00000</td>\n",
       "      <td>39.000000</td>\n",
       "      <td>38.0</td>\n",
       "    </tr>\n",
       "    <tr>\n",
       "      <th>mean</th>\n",
       "      <td>45.564103</td>\n",
       "      <td>3.589744</td>\n",
       "      <td>41576.887179</td>\n",
       "      <td>128.57101</td>\n",
       "      <td>0.198993</td>\n",
       "      <td>10.0</td>\n",
       "    </tr>\n",
       "  </tbody>\n",
       "</table>\n",
       "</div>"
      ],
      "text/plain": [
       "             age   fam_size    net_income  total_food  total_food_percent  \\\n",
       "count  39.000000  39.000000     39.000000    39.00000           39.000000   \n",
       "mean   45.564103   3.589744  41576.887179   128.57101            0.198993   \n",
       "\n",
       "       number_foodstamps  \n",
       "count               38.0  \n",
       "mean                10.0  "
      ]
     },
     "execution_count": 7,
     "metadata": {},
     "output_type": "execute_result"
    }
   ],
   "source": [
    "cali_yes[pop_describers].describe()[:2]"
   ]
  },
  {
   "cell_type": "code",
   "execution_count": 8,
   "metadata": {
    "ExecuteTime": {
     "end_time": "2019-05-01T22:40:40.452010Z",
     "start_time": "2019-05-01T22:40:40.373080Z"
    }
   },
   "outputs": [
    {
     "data": {
      "text/html": [
       "<div>\n",
       "<style scoped>\n",
       "    .dataframe tbody tr th:only-of-type {\n",
       "        vertical-align: middle;\n",
       "    }\n",
       "\n",
       "    .dataframe tbody tr th {\n",
       "        vertical-align: top;\n",
       "    }\n",
       "\n",
       "    .dataframe thead th {\n",
       "        text-align: right;\n",
       "    }\n",
       "</style>\n",
       "<table border=\"1\" class=\"dataframe\">\n",
       "  <thead>\n",
       "    <tr style=\"text-align: right;\">\n",
       "      <th></th>\n",
       "      <th>age</th>\n",
       "      <th>fam_size</th>\n",
       "      <th>net_income</th>\n",
       "      <th>total_food</th>\n",
       "      <th>total_food_percent</th>\n",
       "      <th>number_foodstamps</th>\n",
       "    </tr>\n",
       "  </thead>\n",
       "  <tbody>\n",
       "    <tr>\n",
       "      <th>count</th>\n",
       "      <td>4884.000000</td>\n",
       "      <td>4884.00000</td>\n",
       "      <td>4884.000000</td>\n",
       "      <td>4884.000000</td>\n",
       "      <td>4884.000000</td>\n",
       "      <td>0.0</td>\n",
       "    </tr>\n",
       "    <tr>\n",
       "      <th>mean</th>\n",
       "      <td>52.480344</td>\n",
       "      <td>2.42199</td>\n",
       "      <td>87416.968591</td>\n",
       "      <td>149.098386</td>\n",
       "      <td>0.135048</td>\n",
       "      <td>NaN</td>\n",
       "    </tr>\n",
       "  </tbody>\n",
       "</table>\n",
       "</div>"
      ],
      "text/plain": [
       "               age    fam_size    net_income   total_food  total_food_percent  \\\n",
       "count  4884.000000  4884.00000   4884.000000  4884.000000         4884.000000   \n",
       "mean     52.480344     2.42199  87416.968591   149.098386            0.135048   \n",
       "\n",
       "       number_foodstamps  \n",
       "count                0.0  \n",
       "mean                 NaN  "
      ]
     },
     "execution_count": 8,
     "metadata": {},
     "output_type": "execute_result"
    }
   ],
   "source": [
    "data_no_food_stamps[pop_describers].describe()[:2]"
   ]
  },
  {
   "cell_type": "code",
   "execution_count": 9,
   "metadata": {
    "ExecuteTime": {
     "end_time": "2019-05-01T22:40:40.494658Z",
     "start_time": "2019-05-01T22:40:40.455769Z"
    }
   },
   "outputs": [
    {
     "data": {
      "text/html": [
       "<div>\n",
       "<style scoped>\n",
       "    .dataframe tbody tr th:only-of-type {\n",
       "        vertical-align: middle;\n",
       "    }\n",
       "\n",
       "    .dataframe tbody tr th {\n",
       "        vertical-align: top;\n",
       "    }\n",
       "\n",
       "    .dataframe thead th {\n",
       "        text-align: right;\n",
       "    }\n",
       "</style>\n",
       "<table border=\"1\" class=\"dataframe\">\n",
       "  <thead>\n",
       "    <tr style=\"text-align: right;\">\n",
       "      <th></th>\n",
       "      <th>age</th>\n",
       "      <th>fam_size</th>\n",
       "      <th>net_income</th>\n",
       "      <th>total_food</th>\n",
       "      <th>total_food_percent</th>\n",
       "      <th>number_foodstamps</th>\n",
       "    </tr>\n",
       "  </thead>\n",
       "  <tbody>\n",
       "    <tr>\n",
       "      <th>count</th>\n",
       "      <td>491.000000</td>\n",
       "      <td>491.000000</td>\n",
       "      <td>491.000000</td>\n",
       "      <td>491.000000</td>\n",
       "      <td>491.000000</td>\n",
       "      <td>484.00</td>\n",
       "    </tr>\n",
       "    <tr>\n",
       "      <th>mean</th>\n",
       "      <td>48.790224</td>\n",
       "      <td>3.167006</td>\n",
       "      <td>33749.366395</td>\n",
       "      <td>107.321433</td>\n",
       "      <td>0.230127</td>\n",
       "      <td>10.25</td>\n",
       "    </tr>\n",
       "  </tbody>\n",
       "</table>\n",
       "</div>"
      ],
      "text/plain": [
       "              age    fam_size    net_income  total_food  total_food_percent  \\\n",
       "count  491.000000  491.000000    491.000000  491.000000          491.000000   \n",
       "mean    48.790224    3.167006  33749.366395  107.321433            0.230127   \n",
       "\n",
       "       number_foodstamps  \n",
       "count             484.00  \n",
       "mean               10.25  "
      ]
     },
     "execution_count": 9,
     "metadata": {},
     "output_type": "execute_result"
    }
   ],
   "source": [
    "data_yes_food_stamps[pop_describers].describe()[:2]"
   ]
  },
  {
   "cell_type": "markdown",
   "metadata": {},
   "source": [
    "### List out all variables"
   ]
  },
  {
   "cell_type": "code",
   "execution_count": 10,
   "metadata": {
    "ExecuteTime": {
     "end_time": "2019-05-01T22:40:40.522872Z",
     "start_time": "2019-05-01T22:40:40.505319Z"
    }
   },
   "outputs": [
    {
     "data": {
      "text/plain": [
       "Index(['age', 'highest_education', 'profession', 'hispanic',\n",
       "       'weekly_hours_worked', 'in_college', 'is_married', 'sex',\n",
       "       'reason_unemployment', 'main_profession', 'numweeks_schoolmeals', 'psu',\n",
       "       'psu_popsize', 'net_income', 'alcbev', 'bakery', 'beef', 'cereal',\n",
       "       'child_age', 'housing_type', 'census_division', 'eggs', 'fam_size',\n",
       "       'total_food', 'fresh_fruit', 'fresh_veg', 'value_foodstamps',\n",
       "       'number_foodstamps', 'non_alc_grocery', 'milk', 'number_earners',\n",
       "       'non_alc_bevs', 'oils', 'othdairy', 'othmeat', 'pet_food', 'pork',\n",
       "       'procfruit', 'proc_veg', 'spouse_race', 'foodstamp_or_not', 'seafood',\n",
       "       'smoking', 'lives_in_MSA', 'state', 'sweets', 'vehicle',\n",
       "       'miscellaneous', 'poultry', 'total_food_percent', 'M', 'F',\n",
       "       'log_fsize'],\n",
       "      dtype='object')"
      ]
     },
     "execution_count": 10,
     "metadata": {},
     "output_type": "execute_result"
    }
   ],
   "source": [
    "cali_no.columns"
   ]
  },
  {
   "cell_type": "markdown",
   "metadata": {},
   "source": [
    "### Choose categories for expenditure goods and household characteristics."
   ]
  },
  {
   "cell_type": "code",
   "execution_count": 11,
   "metadata": {
    "ExecuteTime": {
     "end_time": "2019-05-01T22:40:40.545281Z",
     "start_time": "2019-05-01T22:40:40.537629Z"
    }
   },
   "outputs": [],
   "source": [
    "expenditures = ['alcbev', 'bakery', 'beef', 'cereal', 'eggs',\n",
    "                'fresh_fruit', 'fresh_veg', 'milk', 'non_alc_bevs',\n",
    "                'oils', 'othdairy', 'othmeat', 'poultry', 'pork', 'procfruit',\n",
    "                'proc_veg', 'seafood', 'sweets']\n",
    "\n",
    "household_chars = ['age', 'M', 'log_fsize', 'vehicle', 'child_age']"
   ]
  },
  {
   "cell_type": "markdown",
   "metadata": {},
   "source": [
    "## Basic analysis of spend"
   ]
  },
  {
   "cell_type": "code",
   "execution_count": 12,
   "metadata": {
    "ExecuteTime": {
     "end_time": "2019-05-01T22:40:40.558298Z",
     "start_time": "2019-05-01T22:40:40.551559Z"
    }
   },
   "outputs": [
    {
     "name": "stdout",
     "output_type": "stream",
     "text": [
      "California residents (no FS) has 485 entries.\n",
      "California residents (yes FS) has 39 entries.\n",
      "US residents (no FS) has 4884 entries.\n",
      "US residents (yes FS) has 491 entries.\n"
     ]
    }
   ],
   "source": [
    "for key, value in datasets.items():\n",
    "    print(key, 'has', value.shape[0], 'entries.')"
   ]
  },
  {
   "cell_type": "markdown",
   "metadata": {},
   "source": [
    "### Comparing spending by category across food stamp groups"
   ]
  },
  {
   "cell_type": "code",
   "execution_count": 13,
   "metadata": {
    "ExecuteTime": {
     "end_time": "2019-05-01T22:40:41.195982Z",
     "start_time": "2019-05-01T22:40:40.565050Z"
    }
   },
   "outputs": [
    {
     "data": {
      "text/html": [
       "<div>\n",
       "<style scoped>\n",
       "    .dataframe tbody tr th:only-of-type {\n",
       "        vertical-align: middle;\n",
       "    }\n",
       "\n",
       "    .dataframe tbody tr th {\n",
       "        vertical-align: top;\n",
       "    }\n",
       "\n",
       "    .dataframe thead th {\n",
       "        text-align: right;\n",
       "    }\n",
       "</style>\n",
       "<table border=\"1\" class=\"dataframe\">\n",
       "  <thead>\n",
       "    <tr style=\"text-align: right;\">\n",
       "      <th></th>\n",
       "      <th>mean</th>\n",
       "      <th>ratio</th>\n",
       "    </tr>\n",
       "  </thead>\n",
       "  <tbody>\n",
       "    <tr>\n",
       "      <th>alcbev</th>\n",
       "      <td>15.778444</td>\n",
       "      <td>0.173792</td>\n",
       "    </tr>\n",
       "    <tr>\n",
       "      <th>bakery</th>\n",
       "      <td>7.753568</td>\n",
       "      <td>0.085402</td>\n",
       "    </tr>\n",
       "    <tr>\n",
       "      <th>beef</th>\n",
       "      <td>5.419872</td>\n",
       "      <td>0.059697</td>\n",
       "    </tr>\n",
       "    <tr>\n",
       "      <th>cereal</th>\n",
       "      <td>3.725519</td>\n",
       "      <td>0.041035</td>\n",
       "    </tr>\n",
       "    <tr>\n",
       "      <th>eggs</th>\n",
       "      <td>1.406550</td>\n",
       "      <td>0.015492</td>\n",
       "    </tr>\n",
       "    <tr>\n",
       "      <th>fresh_fruit</th>\n",
       "      <td>7.978605</td>\n",
       "      <td>0.087880</td>\n",
       "    </tr>\n",
       "    <tr>\n",
       "      <th>fresh_veg</th>\n",
       "      <td>7.051676</td>\n",
       "      <td>0.077671</td>\n",
       "    </tr>\n",
       "    <tr>\n",
       "      <th>milk</th>\n",
       "      <td>3.200180</td>\n",
       "      <td>0.035248</td>\n",
       "    </tr>\n",
       "    <tr>\n",
       "      <th>non_alc_bevs</th>\n",
       "      <td>8.133430</td>\n",
       "      <td>0.089586</td>\n",
       "    </tr>\n",
       "    <tr>\n",
       "      <th>oils</th>\n",
       "      <td>2.293581</td>\n",
       "      <td>0.025263</td>\n",
       "    </tr>\n",
       "    <tr>\n",
       "      <th>othdairy</th>\n",
       "      <td>6.598775</td>\n",
       "      <td>0.072682</td>\n",
       "    </tr>\n",
       "    <tr>\n",
       "      <th>othmeat</th>\n",
       "      <td>2.426467</td>\n",
       "      <td>0.026726</td>\n",
       "    </tr>\n",
       "    <tr>\n",
       "      <th>poultry</th>\n",
       "      <td>4.149816</td>\n",
       "      <td>0.045708</td>\n",
       "    </tr>\n",
       "    <tr>\n",
       "      <th>pork</th>\n",
       "      <td>3.750700</td>\n",
       "      <td>0.041312</td>\n",
       "    </tr>\n",
       "    <tr>\n",
       "      <th>procfruit</th>\n",
       "      <td>2.523253</td>\n",
       "      <td>0.027792</td>\n",
       "    </tr>\n",
       "    <tr>\n",
       "      <th>proc_veg</th>\n",
       "      <td>2.385573</td>\n",
       "      <td>0.026276</td>\n",
       "    </tr>\n",
       "    <tr>\n",
       "      <th>seafood</th>\n",
       "      <td>3.193835</td>\n",
       "      <td>0.035178</td>\n",
       "    </tr>\n",
       "    <tr>\n",
       "      <th>sweets</th>\n",
       "      <td>3.019622</td>\n",
       "      <td>0.033260</td>\n",
       "    </tr>\n",
       "  </tbody>\n",
       "</table>\n",
       "</div>"
      ],
      "text/plain": [
       "                   mean     ratio\n",
       "alcbev        15.778444  0.173792\n",
       "bakery         7.753568  0.085402\n",
       "beef           5.419872  0.059697\n",
       "cereal         3.725519  0.041035\n",
       "eggs           1.406550  0.015492\n",
       "fresh_fruit    7.978605  0.087880\n",
       "fresh_veg      7.051676  0.077671\n",
       "milk           3.200180  0.035248\n",
       "non_alc_bevs   8.133430  0.089586\n",
       "oils           2.293581  0.025263\n",
       "othdairy       6.598775  0.072682\n",
       "othmeat        2.426467  0.026726\n",
       "poultry        4.149816  0.045708\n",
       "pork           3.750700  0.041312\n",
       "procfruit      2.523253  0.027792\n",
       "proc_veg       2.385573  0.026276\n",
       "seafood        3.193835  0.035178\n",
       "sweets         3.019622  0.033260"
      ]
     },
     "execution_count": 13,
     "metadata": {},
     "output_type": "execute_result"
    },
    {
     "data": {
      "image/png": "[encoded data removed]",
      "text/plain": [
       "<Figure size 432x288 with 1 Axes>"
      ]
     },
     "metadata": {
      "needs_background": "light"
     },
     "output_type": "display_data"
    }
   ],
   "source": [
    "means_no = cali_no[expenditures].describe()\n",
    "means_no = means_no.loc['mean'].to_frame()\n",
    "means_no['ratio'] = means_no['mean']/sum(means_no['mean'])\n",
    "\n",
    "x1 = means_no['ratio'].plot.bar()\n",
    "\n",
    "means_no"
   ]
  },
  {
   "cell_type": "code",
   "execution_count": 14,
   "metadata": {
    "ExecuteTime": {
     "end_time": "2019-05-01T22:40:41.599883Z",
     "start_time": "2019-05-01T22:40:41.199297Z"
    }
   },
   "outputs": [
    {
     "data": {
      "text/html": [
       "<div>\n",
       "<style scoped>\n",
       "    .dataframe tbody tr th:only-of-type {\n",
       "        vertical-align: middle;\n",
       "    }\n",
       "\n",
       "    .dataframe tbody tr th {\n",
       "        vertical-align: top;\n",
       "    }\n",
       "\n",
       "    .dataframe thead th {\n",
       "        text-align: right;\n",
       "    }\n",
       "</style>\n",
       "<table border=\"1\" class=\"dataframe\">\n",
       "  <thead>\n",
       "    <tr style=\"text-align: right;\">\n",
       "      <th></th>\n",
       "      <th>mean</th>\n",
       "      <th>ratio</th>\n",
       "    </tr>\n",
       "  </thead>\n",
       "  <tbody>\n",
       "    <tr>\n",
       "      <th>alcbev</th>\n",
       "      <td>4.842387</td>\n",
       "      <td>0.056493</td>\n",
       "    </tr>\n",
       "    <tr>\n",
       "      <th>bakery</th>\n",
       "      <td>7.906218</td>\n",
       "      <td>0.092236</td>\n",
       "    </tr>\n",
       "    <tr>\n",
       "      <th>beef</th>\n",
       "      <td>5.851106</td>\n",
       "      <td>0.068261</td>\n",
       "    </tr>\n",
       "    <tr>\n",
       "      <th>cereal</th>\n",
       "      <td>4.092479</td>\n",
       "      <td>0.047744</td>\n",
       "    </tr>\n",
       "    <tr>\n",
       "      <th>eggs</th>\n",
       "      <td>1.075230</td>\n",
       "      <td>0.012544</td>\n",
       "    </tr>\n",
       "    <tr>\n",
       "      <th>fresh_fruit</th>\n",
       "      <td>8.107099</td>\n",
       "      <td>0.094580</td>\n",
       "    </tr>\n",
       "    <tr>\n",
       "      <th>fresh_veg</th>\n",
       "      <td>6.532807</td>\n",
       "      <td>0.076214</td>\n",
       "    </tr>\n",
       "    <tr>\n",
       "      <th>milk</th>\n",
       "      <td>3.284924</td>\n",
       "      <td>0.038323</td>\n",
       "    </tr>\n",
       "    <tr>\n",
       "      <th>non_alc_bevs</th>\n",
       "      <td>9.937705</td>\n",
       "      <td>0.115936</td>\n",
       "    </tr>\n",
       "    <tr>\n",
       "      <th>oils</th>\n",
       "      <td>2.429568</td>\n",
       "      <td>0.028344</td>\n",
       "    </tr>\n",
       "    <tr>\n",
       "      <th>othdairy</th>\n",
       "      <td>5.214702</td>\n",
       "      <td>0.060836</td>\n",
       "    </tr>\n",
       "    <tr>\n",
       "      <th>othmeat</th>\n",
       "      <td>2.803513</td>\n",
       "      <td>0.032707</td>\n",
       "    </tr>\n",
       "    <tr>\n",
       "      <th>poultry</th>\n",
       "      <td>8.398430</td>\n",
       "      <td>0.097979</td>\n",
       "    </tr>\n",
       "    <tr>\n",
       "      <th>pork</th>\n",
       "      <td>3.975505</td>\n",
       "      <td>0.046379</td>\n",
       "    </tr>\n",
       "    <tr>\n",
       "      <th>procfruit</th>\n",
       "      <td>2.028527</td>\n",
       "      <td>0.023665</td>\n",
       "    </tr>\n",
       "    <tr>\n",
       "      <th>proc_veg</th>\n",
       "      <td>3.149823</td>\n",
       "      <td>0.036747</td>\n",
       "    </tr>\n",
       "    <tr>\n",
       "      <th>seafood</th>\n",
       "      <td>2.594154</td>\n",
       "      <td>0.030264</td>\n",
       "    </tr>\n",
       "    <tr>\n",
       "      <th>sweets</th>\n",
       "      <td>3.492714</td>\n",
       "      <td>0.040747</td>\n",
       "    </tr>\n",
       "  </tbody>\n",
       "</table>\n",
       "</div>"
      ],
      "text/plain": [
       "                  mean     ratio\n",
       "alcbev        4.842387  0.056493\n",
       "bakery        7.906218  0.092236\n",
       "beef          5.851106  0.068261\n",
       "cereal        4.092479  0.047744\n",
       "eggs          1.075230  0.012544\n",
       "fresh_fruit   8.107099  0.094580\n",
       "fresh_veg     6.532807  0.076214\n",
       "milk          3.284924  0.038323\n",
       "non_alc_bevs  9.937705  0.115936\n",
       "oils          2.429568  0.028344\n",
       "othdairy      5.214702  0.060836\n",
       "othmeat       2.803513  0.032707\n",
       "poultry       8.398430  0.097979\n",
       "pork          3.975505  0.046379\n",
       "procfruit     2.028527  0.023665\n",
       "proc_veg      3.149823  0.036747\n",
       "seafood       2.594154  0.030264\n",
       "sweets        3.492714  0.040747"
      ]
     },
     "execution_count": 14,
     "metadata": {},
     "output_type": "execute_result"
    },
    {
     "data": {
      "image/png": "[encoded data removed]",
      "text/plain": [
       "<Figure size 432x288 with 1 Axes>"
      ]
     },
     "metadata": {
      "needs_background": "light"
     },
     "output_type": "display_data"
    }
   ],
   "source": [
    "means_yes = cali_yes[expenditures].describe()\n",
    "means_yes = means_yes.loc['mean'].to_frame()\n",
    "means_yes['ratio'] = means_yes['mean']/sum(means_yes['mean'])\n",
    "means_yes['ratio'].plot.bar()\n",
    "means_yes"
   ]
  },
  {
   "cell_type": "markdown",
   "metadata": {},
   "source": [
    "# Estimating demand for CA residents"
   ]
  },
  {
   "cell_type": "markdown",
   "metadata": {},
   "source": [
    "### Loading variables"
   ]
  },
  {
   "cell_type": "code",
   "execution_count": 15,
   "metadata": {
    "ExecuteTime": {
     "end_time": "2019-05-01T22:40:41.620441Z",
     "start_time": "2019-05-01T22:40:41.603415Z"
    },
    "scrolled": true
   },
   "outputs": [
    {
     "data": {
      "text/html": [
       "<div>\n",
       "<style scoped>\n",
       "    .dataframe tbody tr th:only-of-type {\n",
       "        vertical-align: middle;\n",
       "    }\n",
       "\n",
       "    .dataframe tbody tr th {\n",
       "        vertical-align: top;\n",
       "    }\n",
       "\n",
       "    .dataframe thead th {\n",
       "        text-align: right;\n",
       "    }\n",
       "</style>\n",
       "<table border=\"1\" class=\"dataframe\">\n",
       "  <thead>\n",
       "    <tr style=\"text-align: right;\">\n",
       "      <th></th>\n",
       "      <th></th>\n",
       "      <th></th>\n",
       "      <th>age</th>\n",
       "      <th>M</th>\n",
       "      <th>log_fsize</th>\n",
       "      <th>vehicle</th>\n",
       "      <th>child_age</th>\n",
       "    </tr>\n",
       "    <tr>\n",
       "      <th>j</th>\n",
       "      <th>t</th>\n",
       "      <th>m</th>\n",
       "      <th></th>\n",
       "      <th></th>\n",
       "      <th></th>\n",
       "      <th></th>\n",
       "      <th></th>\n",
       "    </tr>\n",
       "  </thead>\n",
       "  <tbody>\n",
       "    <tr>\n",
       "      <th>360993</th>\n",
       "      <th>17</th>\n",
       "      <th>1</th>\n",
       "      <td>62</td>\n",
       "      <td>1</td>\n",
       "      <td>0.693147</td>\n",
       "      <td>2.0</td>\n",
       "      <td>0</td>\n",
       "    </tr>\n",
       "    <tr>\n",
       "      <th>360998</th>\n",
       "      <th>17</th>\n",
       "      <th>1</th>\n",
       "      <td>45</td>\n",
       "      <td>0</td>\n",
       "      <td>0.693147</td>\n",
       "      <td>2.0</td>\n",
       "      <td>7</td>\n",
       "    </tr>\n",
       "    <tr>\n",
       "      <th>361099</th>\n",
       "      <th>17</th>\n",
       "      <th>1</th>\n",
       "      <td>60</td>\n",
       "      <td>0</td>\n",
       "      <td>0.000000</td>\n",
       "      <td>NaN</td>\n",
       "      <td>0</td>\n",
       "    </tr>\n",
       "    <tr>\n",
       "      <th>361135</th>\n",
       "      <th>17</th>\n",
       "      <th>1</th>\n",
       "      <td>71</td>\n",
       "      <td>1</td>\n",
       "      <td>1.098612</td>\n",
       "      <td>2.0</td>\n",
       "      <td>7</td>\n",
       "    </tr>\n",
       "    <tr>\n",
       "      <th>361153</th>\n",
       "      <th>17</th>\n",
       "      <th>1</th>\n",
       "      <td>66</td>\n",
       "      <td>1</td>\n",
       "      <td>0.000000</td>\n",
       "      <td>1.0</td>\n",
       "      <td>0</td>\n",
       "    </tr>\n",
       "  </tbody>\n",
       "</table>\n",
       "</div>"
      ],
      "text/plain": [
       "             age  M  log_fsize  vehicle  child_age\n",
       "j      t  m                                       \n",
       "360993 17 1   62  1   0.693147      2.0          0\n",
       "360998 17 1   45  0   0.693147      2.0          7\n",
       "361099 17 1   60  0   0.000000      NaN          0\n",
       "361135 17 1   71  1   1.098612      2.0          7\n",
       "361153 17 1   66  1   0.000000      1.0          0"
      ]
     },
     "execution_count": 15,
     "metadata": {},
     "output_type": "execute_result"
    }
   ],
   "source": [
    "X = cali_no[expenditures]\n",
    "Z = cali_no[household_chars]\n",
    "Y = np.log(X.replace(0,np.nan))\n",
    "P = test\n",
    "\n",
    "Z.head()"
   ]
  },
  {
   "cell_type": "code",
   "execution_count": 16,
   "metadata": {
    "ExecuteTime": {
     "end_time": "2019-05-01T22:40:41.660578Z",
     "start_time": "2019-05-01T22:40:41.623255Z"
    }
   },
   "outputs": [
    {
     "data": {
      "text/html": [
       "<div>\n",
       "<style scoped>\n",
       "    .dataframe tbody tr th:only-of-type {\n",
       "        vertical-align: middle;\n",
       "    }\n",
       "\n",
       "    .dataframe tbody tr th {\n",
       "        vertical-align: top;\n",
       "    }\n",
       "\n",
       "    .dataframe thead th {\n",
       "        text-align: right;\n",
       "    }\n",
       "</style>\n",
       "<table border=\"1\" class=\"dataframe\">\n",
       "  <thead>\n",
       "    <tr style=\"text-align: right;\">\n",
       "      <th></th>\n",
       "      <th></th>\n",
       "      <th></th>\n",
       "      <th>alcbev</th>\n",
       "      <th>bakery</th>\n",
       "      <th>beef</th>\n",
       "      <th>cereal</th>\n",
       "      <th>eggs</th>\n",
       "      <th>fresh_fruit</th>\n",
       "      <th>fresh_veg</th>\n",
       "      <th>milk</th>\n",
       "      <th>non_alc_bevs</th>\n",
       "      <th>oils</th>\n",
       "      <th>othdairy</th>\n",
       "      <th>othmeat</th>\n",
       "      <th>poultry</th>\n",
       "      <th>pork</th>\n",
       "      <th>procfruit</th>\n",
       "      <th>proc_veg</th>\n",
       "      <th>seafood</th>\n",
       "      <th>sweets</th>\n",
       "    </tr>\n",
       "    <tr>\n",
       "      <th>j</th>\n",
       "      <th>t</th>\n",
       "      <th>m</th>\n",
       "      <th></th>\n",
       "      <th></th>\n",
       "      <th></th>\n",
       "      <th></th>\n",
       "      <th></th>\n",
       "      <th></th>\n",
       "      <th></th>\n",
       "      <th></th>\n",
       "      <th></th>\n",
       "      <th></th>\n",
       "      <th></th>\n",
       "      <th></th>\n",
       "      <th></th>\n",
       "      <th></th>\n",
       "      <th></th>\n",
       "      <th></th>\n",
       "      <th></th>\n",
       "      <th></th>\n",
       "    </tr>\n",
       "  </thead>\n",
       "  <tbody>\n",
       "    <tr>\n",
       "      <th>360993</th>\n",
       "      <th>17</th>\n",
       "      <th>1</th>\n",
       "      <td>2.302585</td>\n",
       "      <td>1.518990</td>\n",
       "      <td>1.357236</td>\n",
       "      <td>0.649485</td>\n",
       "      <td>2.082611</td>\n",
       "      <td>3.340739</td>\n",
       "      <td>3.657213</td>\n",
       "      <td>1.702149</td>\n",
       "      <td>4.540045</td>\n",
       "      <td>NaN</td>\n",
       "      <td>0.261575</td>\n",
       "      <td>1.734876</td>\n",
       "      <td>3.178371</td>\n",
       "      <td>2.967659</td>\n",
       "      <td>2.637181</td>\n",
       "      <td>1.901663</td>\n",
       "      <td>NaN</td>\n",
       "      <td>0.331007</td>\n",
       "    </tr>\n",
       "    <tr>\n",
       "      <th>360998</th>\n",
       "      <th>17</th>\n",
       "      <th>1</th>\n",
       "      <td>NaN</td>\n",
       "      <td>NaN</td>\n",
       "      <td>0.980204</td>\n",
       "      <td>NaN</td>\n",
       "      <td>NaN</td>\n",
       "      <td>NaN</td>\n",
       "      <td>NaN</td>\n",
       "      <td>NaN</td>\n",
       "      <td>NaN</td>\n",
       "      <td>NaN</td>\n",
       "      <td>NaN</td>\n",
       "      <td>NaN</td>\n",
       "      <td>NaN</td>\n",
       "      <td>NaN</td>\n",
       "      <td>NaN</td>\n",
       "      <td>NaN</td>\n",
       "      <td>NaN</td>\n",
       "      <td>NaN</td>\n",
       "    </tr>\n",
       "    <tr>\n",
       "      <th>361099</th>\n",
       "      <th>17</th>\n",
       "      <th>1</th>\n",
       "      <td>NaN</td>\n",
       "      <td>NaN</td>\n",
       "      <td>NaN</td>\n",
       "      <td>0.292670</td>\n",
       "      <td>0.678034</td>\n",
       "      <td>-1.347074</td>\n",
       "      <td>1.332366</td>\n",
       "      <td>-0.010050</td>\n",
       "      <td>0.169743</td>\n",
       "      <td>NaN</td>\n",
       "      <td>1.660131</td>\n",
       "      <td>NaN</td>\n",
       "      <td>1.617406</td>\n",
       "      <td>NaN</td>\n",
       "      <td>NaN</td>\n",
       "      <td>NaN</td>\n",
       "      <td>2.061787</td>\n",
       "      <td>1.078410</td>\n",
       "    </tr>\n",
       "    <tr>\n",
       "      <th>361135</th>\n",
       "      <th>17</th>\n",
       "      <th>1</th>\n",
       "      <td>2.716484</td>\n",
       "      <td>-0.010050</td>\n",
       "      <td>NaN</td>\n",
       "      <td>1.702928</td>\n",
       "      <td>0.688135</td>\n",
       "      <td>2.714720</td>\n",
       "      <td>2.802819</td>\n",
       "      <td>2.285236</td>\n",
       "      <td>2.026402</td>\n",
       "      <td>0.612479</td>\n",
       "      <td>3.401473</td>\n",
       "      <td>0.405465</td>\n",
       "      <td>0.914289</td>\n",
       "      <td>NaN</td>\n",
       "      <td>0.332894</td>\n",
       "      <td>0.797764</td>\n",
       "      <td>0.405465</td>\n",
       "      <td>2.557615</td>\n",
       "    </tr>\n",
       "    <tr>\n",
       "      <th>361153</th>\n",
       "      <th>17</th>\n",
       "      <th>1</th>\n",
       "      <td>NaN</td>\n",
       "      <td>1.842928</td>\n",
       "      <td>NaN</td>\n",
       "      <td>NaN</td>\n",
       "      <td>NaN</td>\n",
       "      <td>-0.703198</td>\n",
       "      <td>0.395415</td>\n",
       "      <td>0.368109</td>\n",
       "      <td>NaN</td>\n",
       "      <td>NaN</td>\n",
       "      <td>NaN</td>\n",
       "      <td>1.790926</td>\n",
       "      <td>1.249902</td>\n",
       "      <td>NaN</td>\n",
       "      <td>NaN</td>\n",
       "      <td>NaN</td>\n",
       "      <td>NaN</td>\n",
       "      <td>-0.010050</td>\n",
       "    </tr>\n",
       "  </tbody>\n",
       "</table>\n",
       "</div>"
      ],
      "text/plain": [
       "               alcbev    bakery      beef    cereal      eggs  fresh_fruit  \\\n",
       "j      t  m                                                                  \n",
       "360993 17 1  2.302585  1.518990  1.357236  0.649485  2.082611     3.340739   \n",
       "360998 17 1       NaN       NaN  0.980204       NaN       NaN          NaN   \n",
       "361099 17 1       NaN       NaN       NaN  0.292670  0.678034    -1.347074   \n",
       "361135 17 1  2.716484 -0.010050       NaN  1.702928  0.688135     2.714720   \n",
       "361153 17 1       NaN  1.842928       NaN       NaN       NaN    -0.703198   \n",
       "\n",
       "             fresh_veg      milk  non_alc_bevs      oils  othdairy   othmeat  \\\n",
       "j      t  m                                                                    \n",
       "360993 17 1   3.657213  1.702149      4.540045       NaN  0.261575  1.734876   \n",
       "360998 17 1        NaN       NaN           NaN       NaN       NaN       NaN   \n",
       "361099 17 1   1.332366 -0.010050      0.169743       NaN  1.660131       NaN   \n",
       "361135 17 1   2.802819  2.285236      2.026402  0.612479  3.401473  0.405465   \n",
       "361153 17 1   0.395415  0.368109           NaN       NaN       NaN  1.790926   \n",
       "\n",
       "              poultry      pork  procfruit  proc_veg   seafood    sweets  \n",
       "j      t  m                                                               \n",
       "360993 17 1  3.178371  2.967659   2.637181  1.901663       NaN  0.331007  \n",
       "360998 17 1       NaN       NaN        NaN       NaN       NaN       NaN  \n",
       "361099 17 1  1.617406       NaN        NaN       NaN  2.061787  1.078410  \n",
       "361135 17 1  0.914289       NaN   0.332894  0.797764  0.405465  2.557615  \n",
       "361153 17 1  1.249902       NaN        NaN       NaN       NaN -0.010050  "
      ]
     },
     "execution_count": 16,
     "metadata": {},
     "output_type": "execute_result"
    }
   ],
   "source": [
    "Y.head()"
   ]
  },
  {
   "cell_type": "code",
   "execution_count": 17,
   "metadata": {
    "ExecuteTime": {
     "end_time": "2019-05-01T22:40:41.682197Z",
     "start_time": "2019-05-01T22:40:41.668404Z"
    }
   },
   "outputs": [
    {
     "data": {
      "text/plain": [
       "<xarray.DataArray 'prices' (i: 18)>\n",
       "array([9.937705, 7.906218, 5.851106, 4.092479, 1.07523 , 8.107099, 6.532807,\n",
       "       3.284924, 4.48    , 2.429568, 5.214702, 2.803513, 3.975505, 8.39843 ,\n",
       "       3.149823, 2.028527, 2.594154, 3.492714])\n",
       "Coordinates:\n",
       "  * i        (i) object 'alcbev' 'bakery' 'beef' ... 'seafood' 'sweets'"
      ]
     },
     "execution_count": 17,
     "metadata": {},
     "output_type": "execute_result"
    }
   ],
   "source": [
    "P"
   ]
  },
  {
   "cell_type": "markdown",
   "metadata": {},
   "source": [
    "## Run Result(), get reduced form, and get betas"
   ]
  },
  {
   "cell_type": "markdown",
   "metadata": {},
   "source": [
    "### Sanity check on estimation accuracy"
   ]
  },
  {
   "cell_type": "code",
   "execution_count": 18,
   "metadata": {
    "ExecuteTime": {
     "end_time": "2019-05-01T22:40:44.503121Z",
     "start_time": "2019-05-01T22:40:41.685778Z"
    }
   },
   "outputs": [
    {
     "data": {
      "text/html": [
       "<div>\n",
       "<style scoped>\n",
       "    .dataframe tbody tr th:only-of-type {\n",
       "        vertical-align: middle;\n",
       "    }\n",
       "\n",
       "    .dataframe tbody tr th {\n",
       "        vertical-align: top;\n",
       "    }\n",
       "\n",
       "    .dataframe thead th {\n",
       "        text-align: right;\n",
       "    }\n",
       "</style>\n",
       "<table border=\"1\" class=\"dataframe\">\n",
       "  <thead>\n",
       "    <tr style=\"text-align: right;\">\n",
       "      <th></th>\n",
       "      <th>beta</th>\n",
       "    </tr>\n",
       "    <tr>\n",
       "      <th>i</th>\n",
       "      <th></th>\n",
       "    </tr>\n",
       "  </thead>\n",
       "  <tbody>\n",
       "    <tr>\n",
       "      <th>alcbev</th>\n",
       "      <td>0.356074</td>\n",
       "    </tr>\n",
       "    <tr>\n",
       "      <th>bakery</th>\n",
       "      <td>0.573952</td>\n",
       "    </tr>\n",
       "    <tr>\n",
       "      <th>beef</th>\n",
       "      <td>0.278181</td>\n",
       "    </tr>\n",
       "    <tr>\n",
       "      <th>cereal</th>\n",
       "      <td>0.490583</td>\n",
       "    </tr>\n",
       "    <tr>\n",
       "      <th>eggs</th>\n",
       "      <td>0.344141</td>\n",
       "    </tr>\n",
       "    <tr>\n",
       "      <th>fresh_fruit</th>\n",
       "      <td>0.672120</td>\n",
       "    </tr>\n",
       "    <tr>\n",
       "      <th>fresh_veg</th>\n",
       "      <td>0.665859</td>\n",
       "    </tr>\n",
       "    <tr>\n",
       "      <th>milk</th>\n",
       "      <td>0.396441</td>\n",
       "    </tr>\n",
       "    <tr>\n",
       "      <th>non_alc_bevs</th>\n",
       "      <td>0.626615</td>\n",
       "    </tr>\n",
       "    <tr>\n",
       "      <th>oils</th>\n",
       "      <td>0.326054</td>\n",
       "    </tr>\n",
       "    <tr>\n",
       "      <th>othdairy</th>\n",
       "      <td>0.556001</td>\n",
       "    </tr>\n",
       "    <tr>\n",
       "      <th>othmeat</th>\n",
       "      <td>0.477165</td>\n",
       "    </tr>\n",
       "    <tr>\n",
       "      <th>pork</th>\n",
       "      <td>0.250841</td>\n",
       "    </tr>\n",
       "    <tr>\n",
       "      <th>poultry</th>\n",
       "      <td>0.282382</td>\n",
       "    </tr>\n",
       "    <tr>\n",
       "      <th>proc_veg</th>\n",
       "      <td>0.533137</td>\n",
       "    </tr>\n",
       "    <tr>\n",
       "      <th>procfruit</th>\n",
       "      <td>0.483438</td>\n",
       "    </tr>\n",
       "    <tr>\n",
       "      <th>seafood</th>\n",
       "      <td>0.331654</td>\n",
       "    </tr>\n",
       "    <tr>\n",
       "      <th>sweets</th>\n",
       "      <td>0.538605</td>\n",
       "    </tr>\n",
       "  </tbody>\n",
       "</table>\n",
       "</div>"
      ],
      "text/plain": [
       "                  beta\n",
       "i                     \n",
       "alcbev        0.356074\n",
       "bakery        0.573952\n",
       "beef          0.278181\n",
       "cereal        0.490583\n",
       "eggs          0.344141\n",
       "fresh_fruit   0.672120\n",
       "fresh_veg     0.665859\n",
       "milk          0.396441\n",
       "non_alc_bevs  0.626615\n",
       "oils          0.326054\n",
       "othdairy      0.556001\n",
       "othmeat       0.477165\n",
       "pork          0.250841\n",
       "poultry       0.282382\n",
       "proc_veg      0.533137\n",
       "procfruit     0.483438\n",
       "seafood       0.331654\n",
       "sweets        0.538605"
      ]
     },
     "execution_count": 18,
     "metadata": {},
     "output_type": "execute_result"
    }
   ],
   "source": [
    "result = cfe.Result(y = Y, z = Z, prices = P)\n",
    "result.get_reduced_form()\n",
    "result.delta.to_dataframe().unstack('k')\n",
    "result.a.to_dataframe().unstack('i')\n",
    "result.get_beta().to_dataframe()"
   ]
  },
  {
   "cell_type": "code",
   "execution_count": 19,
   "metadata": {
    "ExecuteTime": {
     "end_time": "2019-05-01T22:40:44.786834Z",
     "start_time": "2019-05-01T22:40:44.506152Z"
    },
    "scrolled": true
   },
   "outputs": [
    {
     "data": {
      "text/plain": [
       "<matplotlib.axes._subplots.AxesSubplot at 0x1c181e9358>"
      ]
     },
     "execution_count": 19,
     "metadata": {},
     "output_type": "execute_result"
    },
    {
     "data": {
      "image/png": "[encoded data removed]",
      "text/plain": [
       "<Figure size 432x288 with 1 Axes>"
      ]
     },
     "metadata": {
      "needs_background": "light"
     },
     "output_type": "display_data"
    }
   ],
   "source": [
    "import matplotlib.pyplot as plt\n",
    "%matplotlib inline\n",
    "import matplotlib.cm as cm\n",
    "\n",
    "result.get_predicted_log_expenditures()\n",
    "\n",
    "x = result.y.sum('i').to_dataframe().squeeze()\n",
    "xhat = result.yhat.sum('i').to_dataframe().squeeze()\n",
    "\n",
    "# Make dataframe of actual & predicted\n",
    "df = pd.DataFrame({'Actual':x,'Predicted':xhat})\n",
    "\n",
    "df.plot.scatter(x='Predicted',y='Actual')"
   ]
  },
  {
   "cell_type": "markdown",
   "metadata": {},
   "source": [
    "### Sanity check on engels' curve"
   ]
  },
  {
   "cell_type": "code",
   "execution_count": 20,
   "metadata": {
    "ExecuteTime": {
     "end_time": "2019-05-01T22:40:45.139859Z",
     "start_time": "2019-05-01T22:40:44.793016Z"
    }
   },
   "outputs": [
    {
     "data": {
      "image/png": "[encoded data removed]",
      "text/plain": [
       "<Figure size 432x288 with 1 Axes>"
      ]
     },
     "metadata": {
      "needs_background": "light"
     },
     "output_type": "display_data"
    }
   ],
   "source": [
    "import pylab as pl \n",
    "\n",
    "# Turn off variation in household composition\n",
    "result['z'] = result['z']*0\n",
    "\n",
    "# select years and markets you want\n",
    "l0 = result.loglambdas.sel(t=17,m=1)\n",
    "\n",
    "# Predicted total expenditures given lambda & prices\n",
    "x0 = result.get_predicted_expenditures().sum('i').sel(t=17,m=1)\n",
    "\n",
    "pl.scatter(x0,l0)\n",
    "pl.show()"
   ]
  },
  {
   "cell_type": "markdown",
   "metadata": {},
   "source": [
    "### Calculates alphas and betas"
   ]
  },
  {
   "cell_type": "code",
   "execution_count": 21,
   "metadata": {
    "ExecuteTime": {
     "end_time": "2019-05-01T22:40:45.178503Z",
     "start_time": "2019-05-01T22:40:45.146544Z"
    }
   },
   "outputs": [
    {
     "data": {
      "text/plain": [
       "(i\n",
       " alcbev          2.731445\n",
       " bakery          1.222553\n",
       " beef            1.340057\n",
       " cereal          1.073745\n",
       " eggs            0.851550\n",
       " fresh_fruit     1.342131\n",
       " fresh_veg       1.361302\n",
       " milk            0.868345\n",
       " non_alc_bevs    1.232566\n",
       " oils            1.029618\n",
       " othdairy        1.036096\n",
       " othmeat         0.960911\n",
       " pork            1.306786\n",
       " poultry         1.620314\n",
       " proc_veg        0.724839\n",
       " procfruit       1.130992\n",
       " seafood         1.365835\n",
       " sweets          0.868762\n",
       " Name: alpha, dtype: float64, i\n",
       " alcbev          0.356074\n",
       " bakery          0.573952\n",
       " beef            0.278181\n",
       " cereal          0.490583\n",
       " eggs            0.344141\n",
       " fresh_fruit     0.672120\n",
       " fresh_veg       0.665859\n",
       " milk            0.396441\n",
       " non_alc_bevs    0.626615\n",
       " oils            0.326054\n",
       " othdairy        0.556001\n",
       " othmeat         0.477165\n",
       " pork            0.250841\n",
       " poultry         0.282382\n",
       " proc_veg        0.533137\n",
       " procfruit       0.483438\n",
       " seafood         0.331654\n",
       " sweets          0.538605\n",
       " Name: beta, dtype: float64)"
      ]
     },
     "execution_count": 21,
     "metadata": {},
     "output_type": "execute_result"
    }
   ],
   "source": [
    "result.get_alpha(as_df=True), result.get_beta(as_df=True)"
   ]
  },
  {
   "cell_type": "code",
   "execution_count": 22,
   "metadata": {
    "ExecuteTime": {
     "end_time": "2019-05-01T22:40:45.202757Z",
     "start_time": "2019-05-01T22:40:45.180785Z"
    }
   },
   "outputs": [
    {
     "data": {
      "text/html": [
       "<div>\n",
       "<style scoped>\n",
       "    .dataframe tbody tr th:only-of-type {\n",
       "        vertical-align: middle;\n",
       "    }\n",
       "\n",
       "    .dataframe tbody tr th {\n",
       "        vertical-align: top;\n",
       "    }\n",
       "\n",
       "    .dataframe thead tr th {\n",
       "        text-align: left;\n",
       "    }\n",
       "\n",
       "    .dataframe thead tr:last-of-type th {\n",
       "        text-align: right;\n",
       "    }\n",
       "</style>\n",
       "<table border=\"1\" class=\"dataframe\">\n",
       "  <thead>\n",
       "    <tr>\n",
       "      <th></th>\n",
       "      <th colspan=\"5\" halign=\"left\">delta</th>\n",
       "    </tr>\n",
       "    <tr>\n",
       "      <th>k</th>\n",
       "      <th>M</th>\n",
       "      <th>age</th>\n",
       "      <th>child_age</th>\n",
       "      <th>log_fsize</th>\n",
       "      <th>vehicle</th>\n",
       "    </tr>\n",
       "    <tr>\n",
       "      <th>i</th>\n",
       "      <th></th>\n",
       "      <th></th>\n",
       "      <th></th>\n",
       "      <th></th>\n",
       "      <th></th>\n",
       "    </tr>\n",
       "  </thead>\n",
       "  <tbody>\n",
       "    <tr>\n",
       "      <th>alcbev</th>\n",
       "      <td>0.150227</td>\n",
       "      <td>-0.002177</td>\n",
       "      <td>-0.076943</td>\n",
       "      <td>0.142174</td>\n",
       "      <td>0.097789</td>\n",
       "    </tr>\n",
       "    <tr>\n",
       "      <th>bakery</th>\n",
       "      <td>-0.051377</td>\n",
       "      <td>0.005167</td>\n",
       "      <td>-0.005118</td>\n",
       "      <td>0.392855</td>\n",
       "      <td>0.049719</td>\n",
       "    </tr>\n",
       "    <tr>\n",
       "      <th>beef</th>\n",
       "      <td>0.191381</td>\n",
       "      <td>0.005322</td>\n",
       "      <td>0.018020</td>\n",
       "      <td>0.146062</td>\n",
       "      <td>0.071556</td>\n",
       "    </tr>\n",
       "    <tr>\n",
       "      <th>cereal</th>\n",
       "      <td>-0.042215</td>\n",
       "      <td>-0.001311</td>\n",
       "      <td>-0.012482</td>\n",
       "      <td>0.390245</td>\n",
       "      <td>0.034395</td>\n",
       "    </tr>\n",
       "    <tr>\n",
       "      <th>eggs</th>\n",
       "      <td>-0.042799</td>\n",
       "      <td>-0.003708</td>\n",
       "      <td>0.017175</td>\n",
       "      <td>-0.027634</td>\n",
       "      <td>0.063671</td>\n",
       "    </tr>\n",
       "    <tr>\n",
       "      <th>fresh_fruit</th>\n",
       "      <td>-0.055631</td>\n",
       "      <td>0.001553</td>\n",
       "      <td>-0.030673</td>\n",
       "      <td>0.598944</td>\n",
       "      <td>-0.006918</td>\n",
       "    </tr>\n",
       "    <tr>\n",
       "      <th>fresh_veg</th>\n",
       "      <td>-0.008470</td>\n",
       "      <td>0.000526</td>\n",
       "      <td>0.000931</td>\n",
       "      <td>0.339908</td>\n",
       "      <td>0.037456</td>\n",
       "    </tr>\n",
       "    <tr>\n",
       "      <th>milk</th>\n",
       "      <td>0.060387</td>\n",
       "      <td>0.001077</td>\n",
       "      <td>0.015796</td>\n",
       "      <td>0.352377</td>\n",
       "      <td>-0.040757</td>\n",
       "    </tr>\n",
       "    <tr>\n",
       "      <th>non_alc_bevs</th>\n",
       "      <td>0.001281</td>\n",
       "      <td>0.006543</td>\n",
       "      <td>-0.012563</td>\n",
       "      <td>0.244919</td>\n",
       "      <td>0.072674</td>\n",
       "    </tr>\n",
       "    <tr>\n",
       "      <th>oils</th>\n",
       "      <td>0.128324</td>\n",
       "      <td>-0.001301</td>\n",
       "      <td>-0.003595</td>\n",
       "      <td>0.033174</td>\n",
       "      <td>0.082033</td>\n",
       "    </tr>\n",
       "    <tr>\n",
       "      <th>othdairy</th>\n",
       "      <td>0.025580</td>\n",
       "      <td>0.006533</td>\n",
       "      <td>0.024955</td>\n",
       "      <td>0.338769</td>\n",
       "      <td>0.047251</td>\n",
       "    </tr>\n",
       "    <tr>\n",
       "      <th>othmeat</th>\n",
       "      <td>0.112858</td>\n",
       "      <td>0.001720</td>\n",
       "      <td>0.003219</td>\n",
       "      <td>0.158281</td>\n",
       "      <td>0.045191</td>\n",
       "    </tr>\n",
       "    <tr>\n",
       "      <th>pork</th>\n",
       "      <td>0.045742</td>\n",
       "      <td>-0.002865</td>\n",
       "      <td>0.017353</td>\n",
       "      <td>0.259775</td>\n",
       "      <td>0.131887</td>\n",
       "    </tr>\n",
       "    <tr>\n",
       "      <th>poultry</th>\n",
       "      <td>0.045476</td>\n",
       "      <td>-0.003943</td>\n",
       "      <td>0.034675</td>\n",
       "      <td>0.090157</td>\n",
       "      <td>0.072560</td>\n",
       "    </tr>\n",
       "    <tr>\n",
       "      <th>proc_veg</th>\n",
       "      <td>-0.190037</td>\n",
       "      <td>0.002398</td>\n",
       "      <td>-0.041228</td>\n",
       "      <td>0.374619</td>\n",
       "      <td>0.002344</td>\n",
       "    </tr>\n",
       "    <tr>\n",
       "      <th>procfruit</th>\n",
       "      <td>0.213698</td>\n",
       "      <td>-0.003880</td>\n",
       "      <td>0.011932</td>\n",
       "      <td>-0.121069</td>\n",
       "      <td>0.083163</td>\n",
       "    </tr>\n",
       "    <tr>\n",
       "      <th>seafood</th>\n",
       "      <td>-0.093816</td>\n",
       "      <td>0.006666</td>\n",
       "      <td>-0.054161</td>\n",
       "      <td>0.339111</td>\n",
       "      <td>-0.026974</td>\n",
       "    </tr>\n",
       "    <tr>\n",
       "      <th>sweets</th>\n",
       "      <td>-0.005948</td>\n",
       "      <td>0.002622</td>\n",
       "      <td>-0.021817</td>\n",
       "      <td>0.129186</td>\n",
       "      <td>0.042497</td>\n",
       "    </tr>\n",
       "  </tbody>\n",
       "</table>\n",
       "</div>"
      ],
      "text/plain": [
       "                 delta                                        \n",
       "k                    M       age child_age log_fsize   vehicle\n",
       "i                                                             \n",
       "alcbev        0.150227 -0.002177 -0.076943  0.142174  0.097789\n",
       "bakery       -0.051377  0.005167 -0.005118  0.392855  0.049719\n",
       "beef          0.191381  0.005322  0.018020  0.146062  0.071556\n",
       "cereal       -0.042215 -0.001311 -0.012482  0.390245  0.034395\n",
       "eggs         -0.042799 -0.003708  0.017175 -0.027634  0.063671\n",
       "fresh_fruit  -0.055631  0.001553 -0.030673  0.598944 -0.006918\n",
       "fresh_veg    -0.008470  0.000526  0.000931  0.339908  0.037456\n",
       "milk          0.060387  0.001077  0.015796  0.352377 -0.040757\n",
       "non_alc_bevs  0.001281  0.006543 -0.012563  0.244919  0.072674\n",
       "oils          0.128324 -0.001301 -0.003595  0.033174  0.082033\n",
       "othdairy      0.025580  0.006533  0.024955  0.338769  0.047251\n",
       "othmeat       0.112858  0.001720  0.003219  0.158281  0.045191\n",
       "pork          0.045742 -0.002865  0.017353  0.259775  0.131887\n",
       "poultry       0.045476 -0.003943  0.034675  0.090157  0.072560\n",
       "proc_veg     -0.190037  0.002398 -0.041228  0.374619  0.002344\n",
       "procfruit     0.213698 -0.003880  0.011932 -0.121069  0.083163\n",
       "seafood      -0.093816  0.006666 -0.054161  0.339111 -0.026974\n",
       "sweets       -0.005948  0.002622 -0.021817  0.129186  0.042497"
      ]
     },
     "execution_count": 22,
     "metadata": {},
     "output_type": "execute_result"
    }
   ],
   "source": [
    "result.delta.to_dataframe().unstack('k')"
   ]
  },
  {
   "cell_type": "markdown",
   "metadata": {
    "ExecuteTime": {
     "end_time": "2019-04-29T01:45:47.067108Z",
     "start_time": "2019-04-29T01:45:47.063763Z"
    }
   },
   "source": [
    "## Estimate demand system for CA residents \n",
    "\n"
   ]
  },
  {
   "cell_type": "markdown",
   "metadata": {},
   "source": [
    "As mentioned above, we&rsquo;ve estimated the parameters of a Frischian\n",
    "demand system (demands that depend on prices and the households\n",
    "marginal utility of expenditures).  But we can *compute* the\n",
    "corresponding Marshallian (depends on prices and budget) or Hicksian\n",
    "(depends on prices and the level of utility) demands for this same\n",
    "population, using the `cfe.Result.demands` method.  \n",
    "\n",
    "Let&rsquo;s compute Marshallian demands.  Start with a choice of budget $x$\n",
    "and prices.  We&rsquo;ll use the earliest prices, from 1975, and focus on\n",
    "village A as the market we&rsquo;re interested in\n",
    "\n"
   ]
  },
  {
   "cell_type": "code",
   "execution_count": 23,
   "metadata": {
    "ExecuteTime": {
     "end_time": "2019-05-01T22:40:45.248640Z",
     "start_time": "2019-05-01T22:40:45.205255Z"
    }
   },
   "outputs": [
    {
     "data": {
      "text/plain": [
       "<xarray.Result>\n",
       "Dimensions:           (i: 18, j: 485, k: 5, kp: 5, m: 1, t: 1)\n",
       "Coordinates:\n",
       "  * k                 (k) object 'age' 'M' 'log_fsize' 'vehicle' 'child_age'\n",
       "  * m                 (m) int64 1\n",
       "  * t                 (t) int64 17\n",
       "  * i                 (i) object 'alcbev' 'bakery' 'beef' ... 'seafood' 'sweets'\n",
       "  * j                 (j) int64 360993 360998 361099 ... 383852 383894 383928\n",
       "  * kp                (kp) <U9 'M' 'age' 'child_age' 'log_fsize' 'vehicle'\n",
       "Data variables:\n",
       "    alpha             (i) float64 2.731 1.223 1.34 1.074 ... 1.131 1.366 0.8688\n",
       "    beta              (i) float64 0.3561 0.574 0.2782 ... 0.4834 0.3317 0.5386\n",
       "    delta             (k, i) float64 -0.002177 0.005167 ... -0.05416 -0.02182\n",
       "    prices            (i) float64 9.938 7.906 5.851 4.092 ... 2.029 2.594 3.493\n",
       "    characteristics   (k, j, t, m) float64 62.0 45.0 60.0 71.0 ... 0.0 0.0 7.0\n",
       "    loglambdas        (j, t, m) float64 -1.181 3.486 nan ... 1.778 nan 1.462\n",
       "    a                 (i, t, m) float64 2.731 1.223 1.34 ... 1.131 1.366 0.8688\n",
       "    yhat              (j, t, m, i) float64 3.152 1.901 1.669 ... 0.881 0.08138\n",
       "    ce                (j, t, m, i) float64 -0.7383 -0.3443 -0.7485 ... nan nan\n",
       "    cehat             (j, t, m, i) float64 0.4207 0.6781 ... -0.4848 -0.7874\n",
       "    e                 (i, j, t, m) float64 -0.8495 nan nan ... nan nan nan\n",
       "    delta_covariance  (i, k, kp) float64 7.234e-05 2.459e-05 ... 9.142e-06\n",
       "    se_delta          (i, k) float64 0.004959 0.1479 0.2096 ... 0.05433 0.02742\n",
       "    se_beta           object None\n",
       "    se_alpha          (i) float64 0.07381 0.04621 0.06016 ... 0.06551 0.05912\n",
       "    se_a              (i, t, m) float64 0.07381 0.04621 ... 0.06551 0.05912\n",
       "    y                 (i, j, t, m) float64 2.303 nan nan 2.716 ... nan nan nan\n",
       "    logp              (i) float64 2.296 2.068 1.767 ... 0.7073 0.9533 1.251\n",
       "    z                 (k, j, t, m) float64 0.0 0.0 0.0 0.0 ... 0.0 0.0 0.0 0.0\n",
       "Attributes:\n",
       "    firstround:            17\n",
       "    min_proportion_items:  0.125\n",
       "    min_xproducts:         30\n",
       "    useless_expenditures:  False\n",
       "    stderr_tol:            0.01\n",
       "    indices:               Indices(j='j', t='t', m='m', i='i', k='k')\n",
       "    verbose:               False"
      ]
     },
     "execution_count": 23,
     "metadata": {},
     "output_type": "execute_result"
    }
   ],
   "source": [
    "result"
   ]
  },
  {
   "cell_type": "markdown",
   "metadata": {},
   "source": [
    "### Get prices "
   ]
  },
  {
   "cell_type": "code",
   "execution_count": 24,
   "metadata": {
    "ExecuteTime": {
     "end_time": "2019-05-01T22:40:45.271480Z",
     "start_time": "2019-05-01T22:40:45.258403Z"
    }
   },
   "outputs": [
    {
     "data": {
      "text/plain": [
       "i\n",
       "alcbev          9.937705\n",
       "bakery          7.906218\n",
       "beef            5.851106\n",
       "cereal          4.092479\n",
       "eggs            1.075230\n",
       "fresh_fruit     8.107099\n",
       "fresh_veg       6.532807\n",
       "milk            3.284924\n",
       "non_alc_bevs    4.480000\n",
       "oils            2.429568\n",
       "othdairy        5.214702\n",
       "othmeat         2.803513\n",
       "pork            3.975505\n",
       "poultry         8.398430\n",
       "proc_veg        3.149823\n",
       "procfruit       2.028527\n",
       "seafood         2.594154\n",
       "sweets          3.492714\n",
       "Name: prices, dtype: float64"
      ]
     },
     "execution_count": 24,
     "metadata": {},
     "output_type": "execute_result"
    }
   ],
   "source": [
    "p = result.prices.copy()\n",
    "\n",
    "p.to_dataframe().squeeze()"
   ]
  },
  {
   "cell_type": "markdown",
   "metadata": {},
   "source": [
    "### Calculate quantities demanded"
   ]
  },
  {
   "cell_type": "code",
   "execution_count": 25,
   "metadata": {
    "ExecuteTime": {
     "end_time": "2019-05-01T22:40:45.468033Z",
     "start_time": "2019-05-01T22:40:45.275461Z"
    }
   },
   "outputs": [
    {
     "data": {
      "text/html": [
       "<div>\n",
       "<style scoped>\n",
       "    .dataframe tbody tr th:only-of-type {\n",
       "        vertical-align: middle;\n",
       "    }\n",
       "\n",
       "    .dataframe tbody tr th {\n",
       "        vertical-align: top;\n",
       "    }\n",
       "\n",
       "    .dataframe thead th {\n",
       "        text-align: right;\n",
       "    }\n",
       "</style>\n",
       "<table border=\"1\" class=\"dataframe\">\n",
       "  <thead>\n",
       "    <tr style=\"text-align: right;\">\n",
       "      <th></th>\n",
       "      <th>quantities</th>\n",
       "    </tr>\n",
       "    <tr>\n",
       "      <th>food_group</th>\n",
       "      <th></th>\n",
       "    </tr>\n",
       "  </thead>\n",
       "  <tbody>\n",
       "    <tr>\n",
       "      <th>alcbev</th>\n",
       "      <td>0.849918</td>\n",
       "    </tr>\n",
       "    <tr>\n",
       "      <th>bakery</th>\n",
       "      <td>0.369024</td>\n",
       "    </tr>\n",
       "    <tr>\n",
       "      <th>beef</th>\n",
       "      <td>0.692986</td>\n",
       "    </tr>\n",
       "    <tr>\n",
       "      <th>cereal</th>\n",
       "      <td>0.547690</td>\n",
       "    </tr>\n",
       "    <tr>\n",
       "      <th>eggs</th>\n",
       "      <td>0.961931</td>\n",
       "    </tr>\n",
       "    <tr>\n",
       "      <th>fresh_fruit</th>\n",
       "      <td>0.331577</td>\n",
       "    </tr>\n",
       "    <tr>\n",
       "      <th>fresh_veg</th>\n",
       "      <td>0.391768</td>\n",
       "    </tr>\n",
       "    <tr>\n",
       "      <th>milk</th>\n",
       "      <td>0.618287</td>\n",
       "    </tr>\n",
       "    <tr>\n",
       "      <th>non_alc_bevs</th>\n",
       "      <td>0.483765</td>\n",
       "    </tr>\n",
       "    <tr>\n",
       "      <th>oils</th>\n",
       "      <td>0.783092</td>\n",
       "    </tr>\n",
       "    <tr>\n",
       "      <th>othdairy</th>\n",
       "      <td>0.432576</td>\n",
       "    </tr>\n",
       "    <tr>\n",
       "      <th>othmeat</th>\n",
       "      <td>0.631967</td>\n",
       "    </tr>\n",
       "    <tr>\n",
       "      <th>pork</th>\n",
       "      <td>0.784976</td>\n",
       "    </tr>\n",
       "    <tr>\n",
       "      <th>poultry</th>\n",
       "      <td>0.673544</td>\n",
       "    </tr>\n",
       "    <tr>\n",
       "      <th>proc_veg</th>\n",
       "      <td>0.496236</td>\n",
       "    </tr>\n",
       "    <tr>\n",
       "      <th>procfruit</th>\n",
       "      <td>0.797475</td>\n",
       "    </tr>\n",
       "    <tr>\n",
       "      <th>seafood</th>\n",
       "      <td>0.853051</td>\n",
       "    </tr>\n",
       "    <tr>\n",
       "      <th>sweets</th>\n",
       "      <td>0.503572</td>\n",
       "    </tr>\n",
       "  </tbody>\n",
       "</table>\n",
       "</div>"
      ],
      "text/plain": [
       "              quantities\n",
       "food_group              \n",
       "alcbev          0.849918\n",
       "bakery          0.369024\n",
       "beef            0.692986\n",
       "cereal          0.547690\n",
       "eggs            0.961931\n",
       "fresh_fruit     0.331577\n",
       "fresh_veg       0.391768\n",
       "milk            0.618287\n",
       "non_alc_bevs    0.483765\n",
       "oils            0.783092\n",
       "othdairy        0.432576\n",
       "othmeat         0.631967\n",
       "pork            0.784976\n",
       "poultry         0.673544\n",
       "proc_veg        0.496236\n",
       "procfruit       0.797475\n",
       "seafood         0.853051\n",
       "sweets          0.503572"
      ]
     },
     "execution_count": 25,
     "metadata": {},
     "output_type": "execute_result"
    }
   ],
   "source": [
    "x = 50 # Budget\n",
    "\n",
    "def get_demand(x, p):\n",
    "    demand = result.demands(x,p) \n",
    "    demand = demand.to_frame()\n",
    "    demand.index.rename('food_group', inplace = True)\n",
    "    return demand\n",
    "\n",
    "get_demand(x, p)"
   ]
  },
  {
   "cell_type": "markdown",
   "metadata": {},
   "source": [
    "# Indifference Curves for various food groups"
   ]
  },
  {
   "cell_type": "code",
   "execution_count": 26,
   "metadata": {
    "ExecuteTime": {
     "end_time": "2019-05-01T22:40:45.500891Z",
     "start_time": "2019-05-01T22:40:45.473497Z"
    }
   },
   "outputs": [],
   "source": [
    "def my_prices(p0,group, p=p):\n",
    "        p.loc[group] = p0\n",
    "        return p\n",
    "\n",
    "def plot_curve(group):\n",
    "    for x in [10,20,40,80,160]:\n",
    "        try:\n",
    "            plt.plot([result.demands(x,my_prices(p0, group))[group] for p0 in P],P)\n",
    "        except OverflowError:\n",
    "            break\n",
    "\n",
    "    plt.xlabel(group)\n",
    "    plt.ylabel('Price')"
   ]
  },
  {
   "cell_type": "code",
   "execution_count": 27,
   "metadata": {
    "ExecuteTime": {
     "end_time": "2019-05-01T22:40:50.178468Z",
     "start_time": "2019-05-01T22:40:45.519653Z"
    },
    "scrolled": true
   },
   "outputs": [
    {
     "data": {
      "image/png": "[encoded data removed]",
      "text/plain": [
       "<Figure size 432x288 with 1 Axes>"
      ]
     },
     "metadata": {
      "needs_background": "light"
     },
     "output_type": "display_data"
    }
   ],
   "source": [
    "plot_curve('cereal')"
   ]
  },
  {
   "cell_type": "code",
   "execution_count": 28,
   "metadata": {
    "ExecuteTime": {
     "end_time": "2019-05-01T22:40:55.795411Z",
     "start_time": "2019-05-01T22:40:50.181945Z"
    }
   },
   "outputs": [
    {
     "data": {
      "image/png": "[encoded data removed]",
      "text/plain": [
       "<Figure size 432x288 with 1 Axes>"
      ]
     },
     "metadata": {
      "needs_background": "light"
     },
     "output_type": "display_data"
    }
   ],
   "source": [
    "plot_curve('eggs')"
   ]
  },
  {
   "cell_type": "code",
   "execution_count": 29,
   "metadata": {
    "ExecuteTime": {
     "end_time": "2019-05-01T22:41:00.615407Z",
     "start_time": "2019-05-01T22:40:55.797996Z"
    }
   },
   "outputs": [
    {
     "data": {
      "image/png": "[encoded data removed]",
      "text/plain": [
       "<Figure size 432x288 with 1 Axes>"
      ]
     },
     "metadata": {
      "needs_background": "light"
     },
     "output_type": "display_data"
    }
   ],
   "source": [
    "plot_curve('non_alc_bevs')"
   ]
  },
  {
   "cell_type": "markdown",
   "metadata": {},
   "source": [
    "## Considering nutritional information"
   ]
  },
  {
   "cell_type": "code",
   "execution_count": 30,
   "metadata": {
    "ExecuteTime": {
     "end_time": "2019-05-01T22:41:01.614931Z",
     "start_time": "2019-05-01T22:41:00.618232Z"
    }
   },
   "outputs": [
    {
     "data": {
      "text/plain": [
       "(18, 33)"
      ]
     },
     "execution_count": 30,
     "metadata": {},
     "output_type": "execute_result"
    }
   ],
   "source": [
    "fct = pd.read_csv('https://docs.google.com/spreadsheets/d/e/2PACX-1vS_Pbtl-M-jP17QyYQzwsy5hzJNC1RS2ol_JmH11G6Omw3MX6SesnK3_6puwsWQUHFsKCVhPFCwhExE/pub?gid=499724967&single=true&output=csv')\n",
    "fct.rename(index = str, columns= {'Unnamed: 0': 'Nutrient'}, inplace = True)\n",
    "fct.set_index('Nutrient', drop = True, inplace = True)\n",
    "fct.shape"
   ]
  },
  {
   "cell_type": "code",
   "execution_count": 31,
   "metadata": {
    "ExecuteTime": {
     "end_time": "2019-05-01T22:41:01.655301Z",
     "start_time": "2019-05-01T22:41:01.617787Z"
    }
   },
   "outputs": [
    {
     "data": {
      "text/html": [
       "<div>\n",
       "<style scoped>\n",
       "    .dataframe tbody tr th:only-of-type {\n",
       "        vertical-align: middle;\n",
       "    }\n",
       "\n",
       "    .dataframe tbody tr th {\n",
       "        vertical-align: top;\n",
       "    }\n",
       "\n",
       "    .dataframe thead th {\n",
       "        text-align: right;\n",
       "    }\n",
       "</style>\n",
       "<table border=\"1\" class=\"dataframe\">\n",
       "  <thead>\n",
       "    <tr style=\"text-align: right;\">\n",
       "      <th></th>\n",
       "      <th>Caffeine</th>\n",
       "      <th>Calcium, Ca</th>\n",
       "      <th>Carbohydrate, by difference</th>\n",
       "      <th>Cholesterol</th>\n",
       "      <th>Energy</th>\n",
       "      <th>Fatty acids, total monounsaturated</th>\n",
       "      <th>Fatty acids, total polyunsaturated</th>\n",
       "      <th>Fatty acids, total saturated</th>\n",
       "      <th>Fatty acids, total trans</th>\n",
       "      <th>Fiber, total dietary</th>\n",
       "      <th>Folate, DFE</th>\n",
       "      <th>Iron, Fe</th>\n",
       "      <th>Magnesium, Mg</th>\n",
       "      <th>Niacin</th>\n",
       "      <th>Phosphorus, P</th>\n",
       "      <th>Potassium, K</th>\n",
       "      <th>Protein</th>\n",
       "      <th>Riboflavin</th>\n",
       "      <th>Sodium, Na</th>\n",
       "      <th>Sugars, total</th>\n",
       "      <th>Thiamin</th>\n",
       "      <th>Total lipid (fat)</th>\n",
       "      <th>Vitamin A, IU</th>\n",
       "      <th>Vitamin A, RAE</th>\n",
       "      <th>Vitamin B-12</th>\n",
       "      <th>Vitamin B-6</th>\n",
       "      <th>Vitamin C, total ascorbic acid</th>\n",
       "      <th>Vitamin D</th>\n",
       "      <th>Vitamin D (D2 + D3)</th>\n",
       "      <th>Vitamin E (alpha-tocopherol)</th>\n",
       "      <th>Vitamin K (phylloquinone)</th>\n",
       "      <th>Water</th>\n",
       "      <th>Zinc, Zn</th>\n",
       "    </tr>\n",
       "    <tr>\n",
       "      <th>Nutrient</th>\n",
       "      <th></th>\n",
       "      <th></th>\n",
       "      <th></th>\n",
       "      <th></th>\n",
       "      <th></th>\n",
       "      <th></th>\n",
       "      <th></th>\n",
       "      <th></th>\n",
       "      <th></th>\n",
       "      <th></th>\n",
       "      <th></th>\n",
       "      <th></th>\n",
       "      <th></th>\n",
       "      <th></th>\n",
       "      <th></th>\n",
       "      <th></th>\n",
       "      <th></th>\n",
       "      <th></th>\n",
       "      <th></th>\n",
       "      <th></th>\n",
       "      <th></th>\n",
       "      <th></th>\n",
       "      <th></th>\n",
       "      <th></th>\n",
       "      <th></th>\n",
       "      <th></th>\n",
       "      <th></th>\n",
       "      <th></th>\n",
       "      <th></th>\n",
       "      <th></th>\n",
       "      <th></th>\n",
       "      <th></th>\n",
       "      <th></th>\n",
       "    </tr>\n",
       "  </thead>\n",
       "  <tbody>\n",
       "    <tr>\n",
       "      <th>alcbev</th>\n",
       "      <td>0</td>\n",
       "      <td>5.666667</td>\n",
       "      <td>2.256667</td>\n",
       "      <td>0.000000</td>\n",
       "      <td>54.666667</td>\n",
       "      <td>0.000000</td>\n",
       "      <td>0.000000</td>\n",
       "      <td>0.000000</td>\n",
       "      <td>0.00</td>\n",
       "      <td>0.000000</td>\n",
       "      <td>1.666667</td>\n",
       "      <td>0.076667</td>\n",
       "      <td>7.333333</td>\n",
       "      <td>0.163333</td>\n",
       "      <td>14.666667</td>\n",
       "      <td>41.666667</td>\n",
       "      <td>0.356667</td>\n",
       "      <td>0.018333</td>\n",
       "      <td>3.666667</td>\n",
       "      <td>1.266667</td>\n",
       "      <td>0.016667</td>\n",
       "      <td>0.000000</td>\n",
       "      <td>0.000000</td>\n",
       "      <td>0.000000</td>\n",
       "      <td>0.003333</td>\n",
       "      <td>0.024667</td>\n",
       "      <td>0.000000</td>\n",
       "      <td>0.000000</td>\n",
       "      <td>0.000000</td>\n",
       "      <td>0.000000</td>\n",
       "      <td>0.000000</td>\n",
       "      <td>91.223333</td>\n",
       "      <td>0.063333</td>\n",
       "    </tr>\n",
       "    <tr>\n",
       "      <th>bakery</th>\n",
       "      <td>0</td>\n",
       "      <td>8.666667</td>\n",
       "      <td>53.926667</td>\n",
       "      <td>0.000000</td>\n",
       "      <td>373.000000</td>\n",
       "      <td>2.950000</td>\n",
       "      <td>0.386667</td>\n",
       "      <td>4.680000</td>\n",
       "      <td>0.00</td>\n",
       "      <td>3.466667</td>\n",
       "      <td>0.000000</td>\n",
       "      <td>2.873333</td>\n",
       "      <td>28.000000</td>\n",
       "      <td>2.502667</td>\n",
       "      <td>90.000000</td>\n",
       "      <td>114.666667</td>\n",
       "      <td>6.216667</td>\n",
       "      <td>0.158667</td>\n",
       "      <td>516.666667</td>\n",
       "      <td>18.100000</td>\n",
       "      <td>0.000000</td>\n",
       "      <td>15.340000</td>\n",
       "      <td>0.000000</td>\n",
       "      <td>0.000000</td>\n",
       "      <td>0.000000</td>\n",
       "      <td>0.155000</td>\n",
       "      <td>0.000000</td>\n",
       "      <td>0.000000</td>\n",
       "      <td>0.000000</td>\n",
       "      <td>0.000000</td>\n",
       "      <td>0.000000</td>\n",
       "      <td>0.000000</td>\n",
       "      <td>0.776667</td>\n",
       "    </tr>\n",
       "    <tr>\n",
       "      <th>beef</th>\n",
       "      <td>0</td>\n",
       "      <td>4.333333</td>\n",
       "      <td>1.190000</td>\n",
       "      <td>63.666667</td>\n",
       "      <td>220.000000</td>\n",
       "      <td>0.000000</td>\n",
       "      <td>0.000000</td>\n",
       "      <td>5.916667</td>\n",
       "      <td>0.44</td>\n",
       "      <td>0.000000</td>\n",
       "      <td>0.000000</td>\n",
       "      <td>2.470000</td>\n",
       "      <td>0.000000</td>\n",
       "      <td>0.000000</td>\n",
       "      <td>0.000000</td>\n",
       "      <td>0.000000</td>\n",
       "      <td>18.460000</td>\n",
       "      <td>0.000000</td>\n",
       "      <td>218.666667</td>\n",
       "      <td>0.000000</td>\n",
       "      <td>0.000000</td>\n",
       "      <td>15.166667</td>\n",
       "      <td>119.000000</td>\n",
       "      <td>0.000000</td>\n",
       "      <td>0.000000</td>\n",
       "      <td>0.000000</td>\n",
       "      <td>1.066667</td>\n",
       "      <td>0.000000</td>\n",
       "      <td>0.000000</td>\n",
       "      <td>0.000000</td>\n",
       "      <td>0.000000</td>\n",
       "      <td>0.000000</td>\n",
       "      <td>0.000000</td>\n",
       "    </tr>\n",
       "    <tr>\n",
       "      <th>cereal</th>\n",
       "      <td>0</td>\n",
       "      <td>39.000000</td>\n",
       "      <td>70.643333</td>\n",
       "      <td>0.000000</td>\n",
       "      <td>402.333333</td>\n",
       "      <td>2.136667</td>\n",
       "      <td>0.820000</td>\n",
       "      <td>4.360000</td>\n",
       "      <td>0.03</td>\n",
       "      <td>4.633333</td>\n",
       "      <td>209.000000</td>\n",
       "      <td>5.130000</td>\n",
       "      <td>5.333333</td>\n",
       "      <td>6.173333</td>\n",
       "      <td>23.666667</td>\n",
       "      <td>24.000000</td>\n",
       "      <td>9.076667</td>\n",
       "      <td>0.523333</td>\n",
       "      <td>971.666667</td>\n",
       "      <td>18.023333</td>\n",
       "      <td>0.463333</td>\n",
       "      <td>10.960000</td>\n",
       "      <td>1316.666667</td>\n",
       "      <td>277.666667</td>\n",
       "      <td>1.853333</td>\n",
       "      <td>0.616667</td>\n",
       "      <td>7.400000</td>\n",
       "      <td>98.666667</td>\n",
       "      <td>2.466667</td>\n",
       "      <td>0.043333</td>\n",
       "      <td>0.433333</td>\n",
       "      <td>1.000000</td>\n",
       "      <td>1.853333</td>\n",
       "    </tr>\n",
       "    <tr>\n",
       "      <th>eggs</th>\n",
       "      <td>0</td>\n",
       "      <td>100.000000</td>\n",
       "      <td>13.766667</td>\n",
       "      <td>169.666667</td>\n",
       "      <td>166.000000</td>\n",
       "      <td>0.000000</td>\n",
       "      <td>0.000000</td>\n",
       "      <td>2.270000</td>\n",
       "      <td>0.00</td>\n",
       "      <td>1.466667</td>\n",
       "      <td>0.000000</td>\n",
       "      <td>1.263333</td>\n",
       "      <td>0.000000</td>\n",
       "      <td>0.000000</td>\n",
       "      <td>0.000000</td>\n",
       "      <td>50.666667</td>\n",
       "      <td>10.520000</td>\n",
       "      <td>0.000000</td>\n",
       "      <td>347.666667</td>\n",
       "      <td>3.263333</td>\n",
       "      <td>0.000000</td>\n",
       "      <td>7.500000</td>\n",
       "      <td>743.333333</td>\n",
       "      <td>0.000000</td>\n",
       "      <td>0.000000</td>\n",
       "      <td>0.000000</td>\n",
       "      <td>3.266667</td>\n",
       "      <td>26.666667</td>\n",
       "      <td>0.000000</td>\n",
       "      <td>0.000000</td>\n",
       "      <td>0.000000</td>\n",
       "      <td>0.000000</td>\n",
       "      <td>0.000000</td>\n",
       "    </tr>\n",
       "  </tbody>\n",
       "</table>\n",
       "</div>"
      ],
      "text/plain": [
       "          Caffeine  Calcium, Ca  Carbohydrate, by difference  Cholesterol  \\\n",
       "Nutrient                                                                    \n",
       "alcbev           0     5.666667                     2.256667     0.000000   \n",
       "bakery           0     8.666667                    53.926667     0.000000   \n",
       "beef             0     4.333333                     1.190000    63.666667   \n",
       "cereal           0    39.000000                    70.643333     0.000000   \n",
       "eggs             0   100.000000                    13.766667   169.666667   \n",
       "\n",
       "              Energy  Fatty acids, total monounsaturated  \\\n",
       "Nutrient                                                   \n",
       "alcbev     54.666667                            0.000000   \n",
       "bakery    373.000000                            2.950000   \n",
       "beef      220.000000                            0.000000   \n",
       "cereal    402.333333                            2.136667   \n",
       "eggs      166.000000                            0.000000   \n",
       "\n",
       "          Fatty acids, total polyunsaturated  Fatty acids, total saturated  \\\n",
       "Nutrient                                                                     \n",
       "alcbev                              0.000000                      0.000000   \n",
       "bakery                              0.386667                      4.680000   \n",
       "beef                                0.000000                      5.916667   \n",
       "cereal                              0.820000                      4.360000   \n",
       "eggs                                0.000000                      2.270000   \n",
       "\n",
       "          Fatty acids, total trans  Fiber, total dietary  Folate, DFE  \\\n",
       "Nutrient                                                                \n",
       "alcbev                        0.00              0.000000     1.666667   \n",
       "bakery                        0.00              3.466667     0.000000   \n",
       "beef                          0.44              0.000000     0.000000   \n",
       "cereal                        0.03              4.633333   209.000000   \n",
       "eggs                          0.00              1.466667     0.000000   \n",
       "\n",
       "          Iron, Fe  Magnesium, Mg    Niacin  Phosphorus, P  Potassium, K  \\\n",
       "Nutrient                                                                   \n",
       "alcbev    0.076667       7.333333  0.163333      14.666667     41.666667   \n",
       "bakery    2.873333      28.000000  2.502667      90.000000    114.666667   \n",
       "beef      2.470000       0.000000  0.000000       0.000000      0.000000   \n",
       "cereal    5.130000       5.333333  6.173333      23.666667     24.000000   \n",
       "eggs      1.263333       0.000000  0.000000       0.000000     50.666667   \n",
       "\n",
       "            Protein  Riboflavin  Sodium, Na  Sugars, total   Thiamin  \\\n",
       "Nutrient                                                               \n",
       "alcbev     0.356667    0.018333    3.666667       1.266667  0.016667   \n",
       "bakery     6.216667    0.158667  516.666667      18.100000  0.000000   \n",
       "beef      18.460000    0.000000  218.666667       0.000000  0.000000   \n",
       "cereal     9.076667    0.523333  971.666667      18.023333  0.463333   \n",
       "eggs      10.520000    0.000000  347.666667       3.263333  0.000000   \n",
       "\n",
       "          Total lipid (fat)  Vitamin A, IU  Vitamin A, RAE  Vitamin B-12  \\\n",
       "Nutrient                                                                   \n",
       "alcbev             0.000000       0.000000        0.000000      0.003333   \n",
       "bakery            15.340000       0.000000        0.000000      0.000000   \n",
       "beef              15.166667     119.000000        0.000000      0.000000   \n",
       "cereal            10.960000    1316.666667      277.666667      1.853333   \n",
       "eggs               7.500000     743.333333        0.000000      0.000000   \n",
       "\n",
       "          Vitamin B-6  Vitamin C, total ascorbic acid  Vitamin D  \\\n",
       "Nutrient                                                           \n",
       "alcbev       0.024667                        0.000000   0.000000   \n",
       "bakery       0.155000                        0.000000   0.000000   \n",
       "beef         0.000000                        1.066667   0.000000   \n",
       "cereal       0.616667                        7.400000  98.666667   \n",
       "eggs         0.000000                        3.266667  26.666667   \n",
       "\n",
       "          Vitamin D (D2 + D3)  Vitamin E (alpha-tocopherol)  \\\n",
       "Nutrient                                                      \n",
       "alcbev               0.000000                      0.000000   \n",
       "bakery               0.000000                      0.000000   \n",
       "beef                 0.000000                      0.000000   \n",
       "cereal               2.466667                      0.043333   \n",
       "eggs                 0.000000                      0.000000   \n",
       "\n",
       "          Vitamin K (phylloquinone)      Water  Zinc, Zn  \n",
       "Nutrient                                                  \n",
       "alcbev                     0.000000  91.223333  0.063333  \n",
       "bakery                     0.000000   0.000000  0.776667  \n",
       "beef                       0.000000   0.000000  0.000000  \n",
       "cereal                     0.433333   1.000000  1.853333  \n",
       "eggs                       0.000000   0.000000  0.000000  "
      ]
     },
     "execution_count": 31,
     "metadata": {},
     "output_type": "execute_result"
    }
   ],
   "source": [
    "fct.head()"
   ]
  },
  {
   "cell_type": "code",
   "execution_count": 32,
   "metadata": {
    "ExecuteTime": {
     "end_time": "2019-05-01T22:41:01.717216Z",
     "start_time": "2019-05-01T22:41:01.659842Z"
    }
   },
   "outputs": [],
   "source": [
    "age_bins = list(pd.read_csv('../data/actual/diet_minimums.csv').set_index('Nutrition').columns)\n",
    "age_bins.remove('Unnamed: 0')\n",
    "age_bins.remove('Source')\n",
    "\n",
    "group = \"\"\n",
    "\n",
    "def view_RDA_minimums(agebin = 'M 19-30'):\n",
    "    group = agebin\n",
    "    \n",
    "    # Define *minimums*\n",
    "    bmin = pd.read_csv('../data/actual/diet_minimums.csv').set_index('Nutrition')[group]\n",
    "\n",
    "    # Define *maximums*\n",
    "    bmax = pd.read_csv('../data/actual/diet_maximums.csv').set_index('Nutrition')[group]\n",
    "\n",
    "    print('Minimum Requirement', '\\n', '\\n', bmin, '\\n','\\n','\\n', 'Maximum allowed', '\\n', bmax)"
   ]
  },
  {
   "cell_type": "markdown",
   "metadata": {},
   "source": [
    "## Note down FDA minimums and maximums "
   ]
  },
  {
   "cell_type": "code",
   "execution_count": 33,
   "metadata": {
    "ExecuteTime": {
     "end_time": "2019-05-01T22:41:08.858534Z",
     "start_time": "2019-05-01T22:41:01.719870Z"
    }
   },
   "outputs": [
    {
     "name": "stdout",
     "output_type": "stream",
     "text": [
      "Requirement already satisfied: ipywidgets in /Users/chan/anaconda3/lib/python3.7/site-packages (7.4.2)\n",
      "Requirement already satisfied: traitlets>=4.3.1 in /Users/chan/anaconda3/lib/python3.7/site-packages (from ipywidgets) (4.3.2)\n",
      "Requirement already satisfied: nbformat>=4.2.0 in /Users/chan/anaconda3/lib/python3.7/site-packages (from ipywidgets) (4.4.0)\n",
      "Requirement already satisfied: ipykernel>=4.5.1 in /Users/chan/anaconda3/lib/python3.7/site-packages (from ipywidgets) (5.1.0)\n",
      "Requirement already satisfied: ipython>=4.0.0; python_version >= \"3.3\" in /Users/chan/anaconda3/lib/python3.7/site-packages (from ipywidgets) (7.2.0)\n",
      "Requirement already satisfied: widgetsnbextension~=3.4.0 in /Users/chan/anaconda3/lib/python3.7/site-packages (from ipywidgets) (3.4.2)\n",
      "Requirement already satisfied: ipython-genutils in /Users/chan/anaconda3/lib/python3.7/site-packages (from traitlets>=4.3.1->ipywidgets) (0.2.0)\n",
      "Requirement already satisfied: six in /Users/chan/anaconda3/lib/python3.7/site-packages (from traitlets>=4.3.1->ipywidgets) (1.12.0)\n",
      "Requirement already satisfied: decorator in /Users/chan/anaconda3/lib/python3.7/site-packages (from traitlets>=4.3.1->ipywidgets) (4.3.0)\n",
      "Requirement already satisfied: jupyter-core in /Users/chan/anaconda3/lib/python3.7/site-packages (from nbformat>=4.2.0->ipywidgets) (4.4.0)\n",
      "Requirement already satisfied: jsonschema!=2.5.0,>=2.4 in /Users/chan/anaconda3/lib/python3.7/site-packages (from nbformat>=4.2.0->ipywidgets) (2.6.0)\n",
      "Requirement already satisfied: tornado>=4.2 in /Users/chan/anaconda3/lib/python3.7/site-packages (from ipykernel>=4.5.1->ipywidgets) (5.1.1)\n",
      "Requirement already satisfied: jupyter-client in /Users/chan/anaconda3/lib/python3.7/site-packages (from ipykernel>=4.5.1->ipywidgets) (5.2.4)\n",
      "Requirement already satisfied: pygments in /Users/chan/anaconda3/lib/python3.7/site-packages (from ipython>=4.0.0; python_version >= \"3.3\"->ipywidgets) (2.3.1)\n",
      "Requirement already satisfied: pickleshare in /Users/chan/anaconda3/lib/python3.7/site-packages (from ipython>=4.0.0; python_version >= \"3.3\"->ipywidgets) (0.7.5)\n",
      "Requirement already satisfied: pexpect; sys_platform != \"win32\" in /Users/chan/anaconda3/lib/python3.7/site-packages (from ipython>=4.0.0; python_version >= \"3.3\"->ipywidgets) (4.6.0)\n",
      "Requirement already satisfied: prompt-toolkit<2.1.0,>=2.0.0 in /Users/chan/anaconda3/lib/python3.7/site-packages (from ipython>=4.0.0; python_version >= \"3.3\"->ipywidgets) (2.0.7)\n",
      "Requirement already satisfied: backcall in /Users/chan/anaconda3/lib/python3.7/site-packages (from ipython>=4.0.0; python_version >= \"3.3\"->ipywidgets) (0.1.0)\n",
      "Requirement already satisfied: jedi>=0.10 in /Users/chan/anaconda3/lib/python3.7/site-packages (from ipython>=4.0.0; python_version >= \"3.3\"->ipywidgets) (0.13.2)\n",
      "Requirement already satisfied: appnope; sys_platform == \"darwin\" in /Users/chan/anaconda3/lib/python3.7/site-packages (from ipython>=4.0.0; python_version >= \"3.3\"->ipywidgets) (0.1.0)\n",
      "Requirement already satisfied: setuptools>=18.5 in /Users/chan/anaconda3/lib/python3.7/site-packages (from ipython>=4.0.0; python_version >= \"3.3\"->ipywidgets) (40.6.3)\n",
      "Requirement already satisfied: notebook>=4.4.1 in /Users/chan/anaconda3/lib/python3.7/site-packages (from widgetsnbextension~=3.4.0->ipywidgets) (5.7.4)\n",
      "Requirement already satisfied: python-dateutil>=2.1 in /Users/chan/anaconda3/lib/python3.7/site-packages (from jupyter-client->ipykernel>=4.5.1->ipywidgets) (2.7.5)\n",
      "Requirement already satisfied: pyzmq>=13 in /Users/chan/anaconda3/lib/python3.7/site-packages (from jupyter-client->ipykernel>=4.5.1->ipywidgets) (17.1.2)\n",
      "Requirement already satisfied: ptyprocess>=0.5 in /Users/chan/anaconda3/lib/python3.7/site-packages (from pexpect; sys_platform != \"win32\"->ipython>=4.0.0; python_version >= \"3.3\"->ipywidgets) (0.6.0)\n",
      "Requirement already satisfied: wcwidth in /Users/chan/anaconda3/lib/python3.7/site-packages (from prompt-toolkit<2.1.0,>=2.0.0->ipython>=4.0.0; python_version >= \"3.3\"->ipywidgets) (0.1.7)\n",
      "Requirement already satisfied: parso>=0.3.0 in /Users/chan/anaconda3/lib/python3.7/site-packages (from jedi>=0.10->ipython>=4.0.0; python_version >= \"3.3\"->ipywidgets) (0.3.1)\n",
      "Requirement already satisfied: jinja2 in /Users/chan/anaconda3/lib/python3.7/site-packages (from notebook>=4.4.1->widgetsnbextension~=3.4.0->ipywidgets) (2.10)\n",
      "Requirement already satisfied: nbconvert in /Users/chan/anaconda3/lib/python3.7/site-packages (from notebook>=4.4.1->widgetsnbextension~=3.4.0->ipywidgets) (5.4.0)\n",
      "Requirement already satisfied: terminado>=0.8.1 in /Users/chan/anaconda3/lib/python3.7/site-packages (from notebook>=4.4.1->widgetsnbextension~=3.4.0->ipywidgets) (0.8.1)\n",
      "Requirement already satisfied: Send2Trash in /Users/chan/anaconda3/lib/python3.7/site-packages (from notebook>=4.4.1->widgetsnbextension~=3.4.0->ipywidgets) (1.5.0)\n",
      "Requirement already satisfied: prometheus-client in /Users/chan/anaconda3/lib/python3.7/site-packages (from notebook>=4.4.1->widgetsnbextension~=3.4.0->ipywidgets) (0.5.0)\n",
      "Requirement already satisfied: MarkupSafe>=0.23 in /Users/chan/anaconda3/lib/python3.7/site-packages (from jinja2->notebook>=4.4.1->widgetsnbextension~=3.4.0->ipywidgets) (1.1.0)\n",
      "Requirement already satisfied: mistune>=0.8.1 in /Users/chan/anaconda3/lib/python3.7/site-packages (from nbconvert->notebook>=4.4.1->widgetsnbextension~=3.4.0->ipywidgets) (0.8.4)\n",
      "Requirement already satisfied: entrypoints>=0.2.2 in /Users/chan/anaconda3/lib/python3.7/site-packages (from nbconvert->notebook>=4.4.1->widgetsnbextension~=3.4.0->ipywidgets) (0.2.3)\n",
      "Requirement already satisfied: bleach in /Users/chan/anaconda3/lib/python3.7/site-packages (from nbconvert->notebook>=4.4.1->widgetsnbextension~=3.4.0->ipywidgets) (3.0.2)\n",
      "Requirement already satisfied: pandocfilters>=1.4.1 in /Users/chan/anaconda3/lib/python3.7/site-packages (from nbconvert->notebook>=4.4.1->widgetsnbextension~=3.4.0->ipywidgets) (1.4.2)\n",
      "Requirement already satisfied: testpath in /Users/chan/anaconda3/lib/python3.7/site-packages (from nbconvert->notebook>=4.4.1->widgetsnbextension~=3.4.0->ipywidgets) (0.4.2)\n",
      "Requirement already satisfied: defusedxml in /Users/chan/anaconda3/lib/python3.7/site-packages (from nbconvert->notebook>=4.4.1->widgetsnbextension~=3.4.0->ipywidgets) (0.5.0)\n",
      "Requirement already satisfied: webencodings in /Users/chan/anaconda3/lib/python3.7/site-packages (from bleach->nbconvert->notebook>=4.4.1->widgetsnbextension~=3.4.0->ipywidgets) (0.5.1)\n"
     ]
    }
   ],
   "source": [
    "!pip install ipywidgets"
   ]
  },
  {
   "cell_type": "code",
   "execution_count": 34,
   "metadata": {
    "ExecuteTime": {
     "end_time": "2019-05-01T22:41:08.961206Z",
     "start_time": "2019-05-01T22:41:08.861810Z"
    }
   },
   "outputs": [
    {
     "data": {
      "application/vnd.jupyter.widget-view+json": {
       "model_id": "b066875226e240d296c67919b9df2fac",
       "version_major": 2,
       "version_minor": 0
      },
      "text/plain": [
       "interactive(children=(Dropdown(description='agebin', index=8, options=('C 1-3', 'F 4-8', 'M 4-8', 'F 9-13', 'M…"
      ]
     },
     "metadata": {},
     "output_type": "display_data"
    },
    {
     "data": {
      "text/plain": [
       "<function __main__.view_RDA_minimums(agebin='M 19-30')>"
      ]
     },
     "execution_count": 34,
     "metadata": {},
     "output_type": "execute_result"
    }
   ],
   "source": [
    "import ipywidgets as widgets\n",
    "from ipywidgets import fixed, interact, interact_manual, interactive\n",
    "\n",
    "interact(view_RDA_minimums, agebin=age_bins)"
   ]
  }
 ],
 "metadata": {
  "hide_input": false,
  "kernelspec": {
   "display_name": "Python 3",
   "language": "python",
   "name": "python3"
  },
  "language_info": {
   "codemirror_mode": {
    "name": "ipython",
    "version": 3
   },
   "file_extension": ".py",
   "mimetype": "text/x-python",
   "name": "python",
   "nbconvert_exporter": "python",
   "pygments_lexer": "ipython3",
   "version": "3.7.1"
  },
  "toc": {
   "base_numbering": 1,
   "nav_menu": {},
   "number_sections": true,
   "sideBar": true,
   "skip_h1_title": false,
   "title_cell": "Table of Contents",
   "title_sidebar": "Contents",
   "toc_cell": true,
   "toc_position": {},
   "toc_section_display": true,
   "toc_window_display": false
  },
  "varInspector": {
   "cols": {
    "lenName": 16,
    "lenType": 16,
    "lenVar": 40
   },
   "kernels_config": {
    "python": {
     "delete_cmd_postfix": "",
     "delete_cmd_prefix": "del ",
     "library": "var_list.py",
     "varRefreshCmd": "print(var_dic_list())"
    },
    "r": {
     "delete_cmd_postfix": ") ",
     "delete_cmd_prefix": "rm(",
     "library": "var_list.r",
     "varRefreshCmd": "cat(var_dic_list()) "
    }
   },
   "types_to_exclude": [
    "module",
    "function",
    "builtin_function_or_method",
    "instance",
    "_Feature"
   ],
   "window_display": false
  }
 },
 "nbformat": 4,
 "nbformat_minor": 2
}
