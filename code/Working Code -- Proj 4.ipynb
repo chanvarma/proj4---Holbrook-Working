{
 "cells": [
  {
   "cell_type": "code",
   "execution_count": 203,
   "metadata": {
    "ExecuteTime": {
     "end_time": "2019-04-28T11:25:06.743384Z",
     "start_time": "2019-04-28T11:24:57.658515Z"
    }
   },
   "outputs": [
    {
     "name": "stdout",
     "output_type": "stream",
     "text": [
      "Collecting CFEDemands==0.1.6.3\n",
      "  Using cached https://files.pythonhosted.org/packages/e1/d9/ef36cfd235c4c299e4a036e19e9c49c4e2a62e77b0eed6048246d7ca1c49/CFEDemands-0.1.6.3-py2.py3-none-any.whl\n",
      "Installing collected packages: CFEDemands\n",
      "  Found existing installation: CFEDemands 0.1.6.6\n",
      "    Uninstalling CFEDemands-0.1.6.6:\n",
      "      Successfully uninstalled CFEDemands-0.1.6.6\n",
      "Successfully installed CFEDemands-0.1.6.3\n",
      "Name: CFEDemands\n",
      "Version: 0.1.6.3\n",
      "Summary: Tools for estimating and computing Constant Frisch Elasticity (CFE) demands.\n",
      "Home-page: https://bitbucket.org/ligonresearch/cfedemands\n",
      "Author: Ethan Ligon\n",
      "Author-email: ligon@berkeley.edu\n",
      "License: Creative Commons Attribution-Noncommercial-ShareAlike 4.0 International license\n",
      "Location: /Users/chan/anaconda3/lib/python3.7/site-packages\n",
      "Requires: \n",
      "Required-by: \n"
     ]
    }
   ],
   "source": [
    "!pip install CFEDemands==0.1.6.3\n",
    "!pip show CFEDemands"
   ]
  },
  {
   "cell_type": "code",
   "execution_count": 204,
   "metadata": {
    "ExecuteTime": {
     "end_time": "2019-04-28T11:25:09.885448Z",
     "start_time": "2019-04-28T11:25:09.881421Z"
    }
   },
   "outputs": [],
   "source": [
    "import cfe\n",
    "import pandas as pd\n",
    "import numpy as np\n",
    "import random\n",
    "\n",
    "import warnings\n",
    "warnings.filterwarnings('ignore')"
   ]
  },
  {
   "cell_type": "markdown",
   "metadata": {},
   "source": [
    "# LOAD DATA SETS"
   ]
  },
  {
   "cell_type": "code",
   "execution_count": 35,
   "metadata": {
    "ExecuteTime": {
     "end_time": "2019-04-28T08:15:06.952589Z",
     "start_time": "2019-04-28T08:15:06.812742Z"
    }
   },
   "outputs": [],
   "source": [
    "data_no_food_stamps = pd.read_csv('../data/actual/no_food_stamps.csv')\n",
    "data_yes_food_stamps = pd.read_csv('../data/actual/yes_food_stamps.csv')\n",
    "\n",
    "columns_to_drop = ['Unnamed: 0', 'id_2', 'supp_security']\n",
    "\n",
    "data_no_food_stamps.drop(columns = columns_to_drop, inplace = True)\n",
    "data_yes_food_stamps.drop(columns = columns_to_drop, inplace = True)\n",
    "\n",
    "datasets = {'no_stamps': data_no_food_stamps,\n",
    "           'yes_stamps': data_yes_food_stamps}"
   ]
  },
  {
   "cell_type": "code",
   "execution_count": 28,
   "metadata": {
    "ExecuteTime": {
     "end_time": "2019-04-28T08:12:41.878146Z",
     "start_time": "2019-04-28T08:12:41.871747Z"
    }
   },
   "outputs": [
    {
     "data": {
      "text/plain": [
       "Index(['id', 'age', 'highest_education', 'profession', 'avg(GROSPAYX)',\n",
       "       'hispanic', 'weekly_hours_worked', 'in_college', 'is_married',\n",
       "       'schoolmeals_purchases', 'self_employed', 'sex', 'reason_unemployment',\n",
       "       'main_profession', 'numweeks_schoolmeals', 'psu', 'psu_popsize',\n",
       "       'net_income', 'FWAGEXM', 'alcbev', 'bakery', 'beef', 'cereal',\n",
       "       'child_age', 'housing_type', 'census_division', 'eggs', 'fam_size',\n",
       "       'food_away', 'food_home', 'total_food', 'fresh_fruit', 'fresh_veg',\n",
       "       'value_foodstamps', 'number_foodstamps', 'non_alc_grocery', 'milk',\n",
       "       'number_earners', 'non_alc_bevs', 'oils', 'othdairy', 'othmeat',\n",
       "       'members_under18', 'members_over64', 'pet_food', 'pork', 'procfruit',\n",
       "       'proc_veg', 'spouse_race', 'foodstamp_or_not', 'seafood', 'smoking',\n",
       "       'lives_in_MSA', 'state', 'sweets', 'vehicle', 'total_food_percent'],\n",
       "      dtype='object')"
      ]
     },
     "execution_count": 28,
     "metadata": {},
     "output_type": "execute_result"
    }
   ],
   "source": [
    "data_yes_food_stamps.columns"
   ]
  },
  {
   "cell_type": "markdown",
   "metadata": {},
   "source": [
    "Note that net_income refers to annual income, whereas all other spending is in weekly dollars."
   ]
  },
  {
   "cell_type": "markdown",
   "metadata": {},
   "source": [
    "## Quick summary"
   ]
  },
  {
   "cell_type": "code",
   "execution_count": 137,
   "metadata": {
    "ExecuteTime": {
     "end_time": "2019-04-28T09:35:52.976672Z",
     "start_time": "2019-04-28T09:35:52.927407Z"
    }
   },
   "outputs": [
    {
     "data": {
      "text/html": [
       "<div>\n",
       "<style scoped>\n",
       "    .dataframe tbody tr th:only-of-type {\n",
       "        vertical-align: middle;\n",
       "    }\n",
       "\n",
       "    .dataframe tbody tr th {\n",
       "        vertical-align: top;\n",
       "    }\n",
       "\n",
       "    .dataframe thead th {\n",
       "        text-align: right;\n",
       "    }\n",
       "</style>\n",
       "<table border=\"1\" class=\"dataframe\">\n",
       "  <thead>\n",
       "    <tr style=\"text-align: right;\">\n",
       "      <th></th>\n",
       "      <th>net_income</th>\n",
       "      <th>age</th>\n",
       "      <th>total_food</th>\n",
       "      <th>total_food_percent</th>\n",
       "      <th>number_foodstamps</th>\n",
       "    </tr>\n",
       "  </thead>\n",
       "  <tbody>\n",
       "    <tr>\n",
       "      <th>count</th>\n",
       "      <td>4884.000000</td>\n",
       "      <td>4884.000000</td>\n",
       "      <td>4884.000000</td>\n",
       "      <td>4884.000000</td>\n",
       "      <td>0.0</td>\n",
       "    </tr>\n",
       "    <tr>\n",
       "      <th>mean</th>\n",
       "      <td>87416.968591</td>\n",
       "      <td>52.480344</td>\n",
       "      <td>149.098386</td>\n",
       "      <td>0.135048</td>\n",
       "      <td>NaN</td>\n",
       "    </tr>\n",
       "    <tr>\n",
       "      <th>std</th>\n",
       "      <td>81609.006952</td>\n",
       "      <td>17.442543</td>\n",
       "      <td>115.825383</td>\n",
       "      <td>0.126639</td>\n",
       "      <td>NaN</td>\n",
       "    </tr>\n",
       "    <tr>\n",
       "      <th>min</th>\n",
       "      <td>732.000000</td>\n",
       "      <td>9.000000</td>\n",
       "      <td>0.995000</td>\n",
       "      <td>0.000878</td>\n",
       "      <td>NaN</td>\n",
       "    </tr>\n",
       "    <tr>\n",
       "      <th>25%</th>\n",
       "      <td>33856.800000</td>\n",
       "      <td>38.000000</td>\n",
       "      <td>66.129550</td>\n",
       "      <td>0.055184</td>\n",
       "      <td>NaN</td>\n",
       "    </tr>\n",
       "    <tr>\n",
       "      <th>50%</th>\n",
       "      <td>62064.200000</td>\n",
       "      <td>53.000000</td>\n",
       "      <td>122.010000</td>\n",
       "      <td>0.098382</td>\n",
       "      <td>NaN</td>\n",
       "    </tr>\n",
       "    <tr>\n",
       "      <th>75%</th>\n",
       "      <td>110925.000000</td>\n",
       "      <td>66.000000</td>\n",
       "      <td>201.366217</td>\n",
       "      <td>0.168146</td>\n",
       "      <td>NaN</td>\n",
       "    </tr>\n",
       "    <tr>\n",
       "      <th>max</th>\n",
       "      <td>835530.800000</td>\n",
       "      <td>88.000000</td>\n",
       "      <td>1146.884230</td>\n",
       "      <td>0.980775</td>\n",
       "      <td>NaN</td>\n",
       "    </tr>\n",
       "  </tbody>\n",
       "</table>\n",
       "</div>"
      ],
      "text/plain": [
       "          net_income          age   total_food  total_food_percent  \\\n",
       "count    4884.000000  4884.000000  4884.000000         4884.000000   \n",
       "mean    87416.968591    52.480344   149.098386            0.135048   \n",
       "std     81609.006952    17.442543   115.825383            0.126639   \n",
       "min       732.000000     9.000000     0.995000            0.000878   \n",
       "25%     33856.800000    38.000000    66.129550            0.055184   \n",
       "50%     62064.200000    53.000000   122.010000            0.098382   \n",
       "75%    110925.000000    66.000000   201.366217            0.168146   \n",
       "max    835530.800000    88.000000  1146.884230            0.980775   \n",
       "\n",
       "       number_foodstamps  \n",
       "count                0.0  \n",
       "mean                 NaN  \n",
       "std                  NaN  \n",
       "min                  NaN  \n",
       "25%                  NaN  \n",
       "50%                  NaN  \n",
       "75%                  NaN  \n",
       "max                  NaN  "
      ]
     },
     "execution_count": 137,
     "metadata": {},
     "output_type": "execute_result"
    }
   ],
   "source": [
    "data_no_food_stamps.dropna(subset=food_spending, inplace=True)\n",
    "data_no_food_stamps[['net_income', 'age', 'total_food', 'total_food_percent', 'number_foodstamps']].describe()"
   ]
  },
  {
   "cell_type": "code",
   "execution_count": 138,
   "metadata": {
    "ExecuteTime": {
     "end_time": "2019-04-28T09:36:26.512091Z",
     "start_time": "2019-04-28T09:36:26.474873Z"
    }
   },
   "outputs": [
    {
     "data": {
      "text/html": [
       "<div>\n",
       "<style scoped>\n",
       "    .dataframe tbody tr th:only-of-type {\n",
       "        vertical-align: middle;\n",
       "    }\n",
       "\n",
       "    .dataframe tbody tr th {\n",
       "        vertical-align: top;\n",
       "    }\n",
       "\n",
       "    .dataframe thead th {\n",
       "        text-align: right;\n",
       "    }\n",
       "</style>\n",
       "<table border=\"1\" class=\"dataframe\">\n",
       "  <thead>\n",
       "    <tr style=\"text-align: right;\">\n",
       "      <th></th>\n",
       "      <th>net_income</th>\n",
       "      <th>age</th>\n",
       "      <th>total_food</th>\n",
       "      <th>total_food_percent</th>\n",
       "      <th>number_foodstamps</th>\n",
       "    </tr>\n",
       "  </thead>\n",
       "  <tbody>\n",
       "    <tr>\n",
       "      <th>count</th>\n",
       "      <td>491.000000</td>\n",
       "      <td>491.000000</td>\n",
       "      <td>491.000000</td>\n",
       "      <td>491.000000</td>\n",
       "      <td>484.000000</td>\n",
       "    </tr>\n",
       "    <tr>\n",
       "      <th>mean</th>\n",
       "      <td>33749.366395</td>\n",
       "      <td>48.790224</td>\n",
       "      <td>107.321433</td>\n",
       "      <td>0.230127</td>\n",
       "      <td>10.250000</td>\n",
       "    </tr>\n",
       "    <tr>\n",
       "      <th>std</th>\n",
       "      <td>41663.954735</td>\n",
       "      <td>16.722305</td>\n",
       "      <td>106.677219</td>\n",
       "      <td>0.191928</td>\n",
       "      <td>3.394292</td>\n",
       "    </tr>\n",
       "    <tr>\n",
       "      <th>min</th>\n",
       "      <td>1191.000000</td>\n",
       "      <td>18.000000</td>\n",
       "      <td>1.745000</td>\n",
       "      <td>0.003985</td>\n",
       "      <td>1.000000</td>\n",
       "    </tr>\n",
       "    <tr>\n",
       "      <th>25%</th>\n",
       "      <td>13172.000000</td>\n",
       "      <td>34.000000</td>\n",
       "      <td>40.250000</td>\n",
       "      <td>0.089932</td>\n",
       "      <td>11.000000</td>\n",
       "    </tr>\n",
       "    <tr>\n",
       "      <th>50%</th>\n",
       "      <td>23379.000000</td>\n",
       "      <td>48.000000</td>\n",
       "      <td>75.415000</td>\n",
       "      <td>0.180132</td>\n",
       "      <td>12.000000</td>\n",
       "    </tr>\n",
       "    <tr>\n",
       "      <th>75%</th>\n",
       "      <td>39472.600000</td>\n",
       "      <td>61.000000</td>\n",
       "      <td>134.542503</td>\n",
       "      <td>0.304530</td>\n",
       "      <td>12.000000</td>\n",
       "    </tr>\n",
       "    <tr>\n",
       "      <th>max</th>\n",
       "      <td>552695.000000</td>\n",
       "      <td>88.000000</td>\n",
       "      <td>822.123510</td>\n",
       "      <td>0.977889</td>\n",
       "      <td>12.000000</td>\n",
       "    </tr>\n",
       "  </tbody>\n",
       "</table>\n",
       "</div>"
      ],
      "text/plain": [
       "          net_income         age  total_food  total_food_percent  \\\n",
       "count     491.000000  491.000000  491.000000          491.000000   \n",
       "mean    33749.366395   48.790224  107.321433            0.230127   \n",
       "std     41663.954735   16.722305  106.677219            0.191928   \n",
       "min      1191.000000   18.000000    1.745000            0.003985   \n",
       "25%     13172.000000   34.000000   40.250000            0.089932   \n",
       "50%     23379.000000   48.000000   75.415000            0.180132   \n",
       "75%     39472.600000   61.000000  134.542503            0.304530   \n",
       "max    552695.000000   88.000000  822.123510            0.977889   \n",
       "\n",
       "       number_foodstamps  \n",
       "count         484.000000  \n",
       "mean           10.250000  \n",
       "std             3.394292  \n",
       "min             1.000000  \n",
       "25%            11.000000  \n",
       "50%            12.000000  \n",
       "75%            12.000000  \n",
       "max            12.000000  "
      ]
     },
     "execution_count": 138,
     "metadata": {},
     "output_type": "execute_result"
    }
   ],
   "source": [
    "data_yes_food_stamps.dropna(subset=food_spending, inplace=True)\n",
    "data_yes_food_stamps[['net_income', 'age', 'total_food', 'total_food_percent', 'number_foodstamps']].describe()"
   ]
  },
  {
   "cell_type": "markdown",
   "metadata": {},
   "source": [
    "## Estimating food demand "
   ]
  },
  {
   "cell_type": "code",
   "execution_count": 184,
   "metadata": {
    "ExecuteTime": {
     "end_time": "2019-04-28T10:42:25.883712Z",
     "start_time": "2019-04-28T10:42:25.879277Z"
    }
   },
   "outputs": [],
   "source": [
    "sample = ['bakery', 'beef', 'eggs']\n",
    "\n",
    "\n",
    "food_spending = ['bakery', 'beef', 'cereal', 'eggs',\n",
    "                 'fresh_fruit', 'fresh_veg', 'milk',\n",
    "                 'oils', 'othdairy', 'othmeat', 'pork',\n",
    "                 'procfruit', 'proc_veg', 'seafood', 'sweets']"
   ]
  },
  {
   "cell_type": "code",
   "execution_count": 198,
   "metadata": {
    "ExecuteTime": {
     "end_time": "2019-04-28T11:11:55.257915Z",
     "start_time": "2019-04-28T11:11:47.968176Z"
    }
   },
   "outputs": [
    {
     "data": {
      "text/html": [
       "<div>\n",
       "<style scoped>\n",
       "    .dataframe tbody tr th:only-of-type {\n",
       "        vertical-align: middle;\n",
       "    }\n",
       "\n",
       "    .dataframe tbody tr th {\n",
       "        vertical-align: top;\n",
       "    }\n",
       "\n",
       "    .dataframe thead th {\n",
       "        text-align: right;\n",
       "    }\n",
       "</style>\n",
       "<table border=\"1\" class=\"dataframe\">\n",
       "  <thead>\n",
       "    <tr style=\"text-align: right;\">\n",
       "      <th></th>\n",
       "      <th></th>\n",
       "      <th></th>\n",
       "      <th>age</th>\n",
       "      <th>M</th>\n",
       "      <th>F</th>\n",
       "      <th>log_famsize</th>\n",
       "    </tr>\n",
       "    <tr>\n",
       "      <th>j</th>\n",
       "      <th>t</th>\n",
       "      <th>m</th>\n",
       "      <th></th>\n",
       "      <th></th>\n",
       "      <th></th>\n",
       "      <th></th>\n",
       "    </tr>\n",
       "  </thead>\n",
       "  <tbody>\n",
       "    <tr>\n",
       "      <th>360954</th>\n",
       "      <th>17</th>\n",
       "      <th>A</th>\n",
       "      <td>66</td>\n",
       "      <td>0</td>\n",
       "      <td>1</td>\n",
       "      <td>0.000000</td>\n",
       "    </tr>\n",
       "    <tr>\n",
       "      <th>360960</th>\n",
       "      <th>17</th>\n",
       "      <th>A</th>\n",
       "      <td>50</td>\n",
       "      <td>0</td>\n",
       "      <td>1</td>\n",
       "      <td>0.000000</td>\n",
       "    </tr>\n",
       "    <tr>\n",
       "      <th>360971</th>\n",
       "      <th>17</th>\n",
       "      <th>A</th>\n",
       "      <td>65</td>\n",
       "      <td>0</td>\n",
       "      <td>1</td>\n",
       "      <td>1.386294</td>\n",
       "    </tr>\n",
       "    <tr>\n",
       "      <th>361039</th>\n",
       "      <th>17</th>\n",
       "      <th>A</th>\n",
       "      <td>31</td>\n",
       "      <td>0</td>\n",
       "      <td>1</td>\n",
       "      <td>0.000000</td>\n",
       "    </tr>\n",
       "    <tr>\n",
       "      <th>361077</th>\n",
       "      <th>17</th>\n",
       "      <th>A</th>\n",
       "      <td>73</td>\n",
       "      <td>0</td>\n",
       "      <td>1</td>\n",
       "      <td>0.000000</td>\n",
       "    </tr>\n",
       "    <tr>\n",
       "      <th>361086</th>\n",
       "      <th>17</th>\n",
       "      <th>A</th>\n",
       "      <td>39</td>\n",
       "      <td>1</td>\n",
       "      <td>0</td>\n",
       "      <td>1.609438</td>\n",
       "    </tr>\n",
       "    <tr>\n",
       "      <th>361115</th>\n",
       "      <th>17</th>\n",
       "      <th>A</th>\n",
       "      <td>64</td>\n",
       "      <td>1</td>\n",
       "      <td>0</td>\n",
       "      <td>1.609438</td>\n",
       "    </tr>\n",
       "    <tr>\n",
       "      <th>361123</th>\n",
       "      <th>17</th>\n",
       "      <th>A</th>\n",
       "      <td>71</td>\n",
       "      <td>1</td>\n",
       "      <td>0</td>\n",
       "      <td>0.693147</td>\n",
       "    </tr>\n",
       "    <tr>\n",
       "      <th>361147</th>\n",
       "      <th>17</th>\n",
       "      <th>A</th>\n",
       "      <td>88</td>\n",
       "      <td>1</td>\n",
       "      <td>0</td>\n",
       "      <td>0.693147</td>\n",
       "    </tr>\n",
       "    <tr>\n",
       "      <th>361176</th>\n",
       "      <th>17</th>\n",
       "      <th>A</th>\n",
       "      <td>39</td>\n",
       "      <td>1</td>\n",
       "      <td>0</td>\n",
       "      <td>0.000000</td>\n",
       "    </tr>\n",
       "  </tbody>\n",
       "</table>\n",
       "</div>"
      ],
      "text/plain": [
       "             age  M  F  log_famsize\n",
       "j      t  m                        \n",
       "360954 17 A   66  0  1     0.000000\n",
       "360960 17 A   50  0  1     0.000000\n",
       "360971 17 A   65  0  1     1.386294\n",
       "361039 17 A   31  0  1     0.000000\n",
       "361077 17 A   73  0  1     0.000000\n",
       "361086 17 A   39  1  0     1.609438\n",
       "361115 17 A   64  1  0     1.609438\n",
       "361123 17 A   71  1  0     0.693147\n",
       "361147 17 A   88  1  0     0.693147\n",
       "361176 17 A   39  1  0     0.000000"
      ]
     },
     "execution_count": 198,
     "metadata": {},
     "output_type": "execute_result"
    }
   ],
   "source": [
    "def getZ(dataset):\n",
    "    z_vals = dataset[['id', 'age', 'sex', 'fam_size']]\n",
    "    z_vals['M'] = \"\"\n",
    "    z_vals['F'] = \"\"\n",
    "    z_vals['log_famsize'] = np.log(z_vals['fam_size'])\n",
    "    \n",
    "    #STANDARDISE CODE TO PROF. LIGON'S FORMAT\n",
    "    \n",
    "    z_vals['j'] = z_vals['id']\n",
    "    z_vals['t'] = 17\n",
    "    z_vals['m'] = 'A'\n",
    "\n",
    "    z_vals.loc[z_vals['sex'] == 'Male', 'M'] = 1\n",
    "    z_vals.loc[z_vals['M'] == '', 'M'] = 0\n",
    "    z_vals.loc[z_vals['sex'] == 'Female', 'F'] = 1\n",
    "    z_vals.loc[z_vals['F'] == '', 'F'] = 0\n",
    "\n",
    "    z_vals.drop(columns = ['sex', 'fam_size', 'id'], inplace = True)\n",
    "    z_vals.set_index(['j','t','m'],inplace=True)\n",
    "    \n",
    "    #REORDER\n",
    "    \n",
    "    return z_vals\n",
    "\n",
    "getZ(data_yes_food_stamps).head(10)"
   ]
  },
  {
   "cell_type": "code",
   "execution_count": 200,
   "metadata": {
    "ExecuteTime": {
     "end_time": "2019-04-28T11:14:12.644657Z",
     "start_time": "2019-04-28T11:14:08.219188Z"
    }
   },
   "outputs": [
    {
     "data": {
      "text/html": [
       "<div>\n",
       "<style scoped>\n",
       "    .dataframe tbody tr th:only-of-type {\n",
       "        vertical-align: middle;\n",
       "    }\n",
       "\n",
       "    .dataframe tbody tr th {\n",
       "        vertical-align: top;\n",
       "    }\n",
       "\n",
       "    .dataframe thead th {\n",
       "        text-align: right;\n",
       "    }\n",
       "</style>\n",
       "<table border=\"1\" class=\"dataframe\">\n",
       "  <thead>\n",
       "    <tr style=\"text-align: right;\">\n",
       "      <th></th>\n",
       "      <th></th>\n",
       "      <th></th>\n",
       "      <th>bakery</th>\n",
       "      <th>beef</th>\n",
       "      <th>eggs</th>\n",
       "    </tr>\n",
       "    <tr>\n",
       "      <th>j</th>\n",
       "      <th>t</th>\n",
       "      <th>m</th>\n",
       "      <th></th>\n",
       "      <th></th>\n",
       "      <th></th>\n",
       "    </tr>\n",
       "  </thead>\n",
       "  <tbody>\n",
       "    <tr>\n",
       "      <th>360954</th>\n",
       "      <th>17</th>\n",
       "      <th>A</th>\n",
       "      <td>1.922056</td>\n",
       "      <td>NaN</td>\n",
       "      <td>-0.005013</td>\n",
       "    </tr>\n",
       "    <tr>\n",
       "      <th>360960</th>\n",
       "      <th>17</th>\n",
       "      <th>A</th>\n",
       "      <td>2.466403</td>\n",
       "      <td>1.015231</td>\n",
       "      <td>NaN</td>\n",
       "    </tr>\n",
       "    <tr>\n",
       "      <th>360971</th>\n",
       "      <th>17</th>\n",
       "      <th>A</th>\n",
       "      <td>2.095462</td>\n",
       "      <td>NaN</td>\n",
       "      <td>NaN</td>\n",
       "    </tr>\n",
       "    <tr>\n",
       "      <th>361039</th>\n",
       "      <th>17</th>\n",
       "      <th>A</th>\n",
       "      <td>1.690096</td>\n",
       "      <td>1.249902</td>\n",
       "      <td>NaN</td>\n",
       "    </tr>\n",
       "    <tr>\n",
       "      <th>361077</th>\n",
       "      <th>17</th>\n",
       "      <th>A</th>\n",
       "      <td>0.916291</td>\n",
       "      <td>NaN</td>\n",
       "      <td>NaN</td>\n",
       "    </tr>\n",
       "    <tr>\n",
       "      <th>361086</th>\n",
       "      <th>17</th>\n",
       "      <th>A</th>\n",
       "      <td>NaN</td>\n",
       "      <td>NaN</td>\n",
       "      <td>NaN</td>\n",
       "    </tr>\n",
       "    <tr>\n",
       "      <th>361115</th>\n",
       "      <th>17</th>\n",
       "      <th>A</th>\n",
       "      <td>2.443777</td>\n",
       "      <td>NaN</td>\n",
       "      <td>NaN</td>\n",
       "    </tr>\n",
       "    <tr>\n",
       "      <th>361123</th>\n",
       "      <th>17</th>\n",
       "      <th>A</th>\n",
       "      <td>1.554982</td>\n",
       "      <td>3.170106</td>\n",
       "      <td>0.568151</td>\n",
       "    </tr>\n",
       "    <tr>\n",
       "      <th>361147</th>\n",
       "      <th>17</th>\n",
       "      <th>A</th>\n",
       "      <td>1.728997</td>\n",
       "      <td>-0.180324</td>\n",
       "      <td>0.657520</td>\n",
       "    </tr>\n",
       "    <tr>\n",
       "      <th>361176</th>\n",
       "      <th>17</th>\n",
       "      <th>A</th>\n",
       "      <td>0.287421</td>\n",
       "      <td>3.059880</td>\n",
       "      <td>NaN</td>\n",
       "    </tr>\n",
       "  </tbody>\n",
       "</table>\n",
       "</div>"
      ],
      "text/plain": [
       "               bakery      beef      eggs\n",
       "j      t  m                              \n",
       "360954 17 A  1.922056       NaN -0.005013\n",
       "360960 17 A  2.466403  1.015231       NaN\n",
       "360971 17 A  2.095462       NaN       NaN\n",
       "361039 17 A  1.690096  1.249902       NaN\n",
       "361077 17 A  0.916291       NaN       NaN\n",
       "361086 17 A       NaN       NaN       NaN\n",
       "361115 17 A  2.443777       NaN       NaN\n",
       "361123 17 A  1.554982  3.170106  0.568151\n",
       "361147 17 A  1.728997 -0.180324  0.657520\n",
       "361176 17 A  0.287421  3.059880       NaN"
      ]
     },
     "execution_count": 200,
     "metadata": {},
     "output_type": "execute_result"
    }
   ],
   "source": [
    "def getX(dataset):\n",
    "       \n",
    "    x_vals = dataset[['bakery', 'beef', 'eggs']]\n",
    "    \n",
    "    #x_vals_noisy = x_vals + np.random.rand()/100.0\n",
    "    \n",
    "    x_vals['j'] = dataset['id']\n",
    "    x_vals['t'] = 17\n",
    "    x_vals['m'] = 'A'\n",
    "\n",
    "    x_vals['bakery'] = x_vals['bakery']\n",
    "    x_vals['beef'] = x_vals['beef']\n",
    "    x_vals['eggs'] = x_vals['eggs']\n",
    "    \n",
    "    x_vals.set_index(['j','t','m'],inplace=True)\n",
    " \n",
    "    return x_vals\n",
    "\n",
    "def getY(dataset):\n",
    "    x_vals = getX(dataset)\n",
    "    y_vals = np.log(x_vals.replace(0,np.nan))\n",
    "    return y_vals\n",
    "\n",
    "getY(data_yes_food_stamps).head(10)"
   ]
  },
  {
   "cell_type": "code",
   "execution_count": 207,
   "metadata": {
    "ExecuteTime": {
     "end_time": "2019-04-28T11:26:11.967620Z",
     "start_time": "2019-04-28T11:25:57.320558Z"
    }
   },
   "outputs": [
    {
     "ename": "LinAlgError",
     "evalue": "Singular matrix",
     "output_type": "error",
     "traceback": [
      "\u001b[0;31m---------------------------------------------------------------------------\u001b[0m",
      "\u001b[0;31mLinAlgError\u001b[0m                               Traceback (most recent call last)",
      "\u001b[0;32m<ipython-input-207-585c91b42735>\u001b[0m in \u001b[0;36m<module>\u001b[0;34m\u001b[0m\n\u001b[1;32m      5\u001b[0m \u001b[0;34m\u001b[0m\u001b[0m\n\u001b[1;32m      6\u001b[0m \u001b[0mresult\u001b[0m \u001b[0;34m=\u001b[0m \u001b[0mcfe\u001b[0m\u001b[0;34m.\u001b[0m\u001b[0mResult\u001b[0m\u001b[0;34m(\u001b[0m\u001b[0my\u001b[0m\u001b[0;34m=\u001b[0m\u001b[0my_vals\u001b[0m\u001b[0;34m,\u001b[0m \u001b[0mz\u001b[0m\u001b[0;34m=\u001b[0m\u001b[0mz_vals\u001b[0m\u001b[0;34m)\u001b[0m\u001b[0;34m\u001b[0m\u001b[0;34m\u001b[0m\u001b[0m\n\u001b[0;32m----> 7\u001b[0;31m \u001b[0mresult\u001b[0m\u001b[0;34m.\u001b[0m\u001b[0mget_reduced_form\u001b[0m\u001b[0;34m(\u001b[0m\u001b[0;34m)\u001b[0m\u001b[0;34m\u001b[0m\u001b[0;34m\u001b[0m\u001b[0m\n\u001b[0m\u001b[1;32m      8\u001b[0m \u001b[0;31m#result.delta.to_dataframe().unstack('k')\u001b[0m\u001b[0;34m\u001b[0m\u001b[0;34m\u001b[0m\u001b[0;34m\u001b[0m\u001b[0m\n\u001b[1;32m      9\u001b[0m \u001b[0;31m#result.a.to_dataframe().unstack('i')\u001b[0m\u001b[0;34m\u001b[0m\u001b[0;34m\u001b[0m\u001b[0;34m\u001b[0m\u001b[0m\n",
      "\u001b[0;32m~/anaconda3/lib/python3.7/site-packages/cfe/result.py\u001b[0m in \u001b[0;36mget_reduced_form\u001b[0;34m(self, VERBOSE)\u001b[0m\n\u001b[1;32m    244\u001b[0m         \u001b[0mz\u001b[0m \u001b[0;34m=\u001b[0m \u001b[0mto_dataframe\u001b[0m\u001b[0;34m(\u001b[0m\u001b[0mself\u001b[0m\u001b[0;34m.\u001b[0m\u001b[0mz\u001b[0m\u001b[0;34m.\u001b[0m\u001b[0mrename\u001b[0m\u001b[0;34m(\u001b[0m\u001b[0;34m{\u001b[0m\u001b[0;34m'm'\u001b[0m\u001b[0;34m:\u001b[0m\u001b[0;34m'mkt'\u001b[0m\u001b[0;34m}\u001b[0m\u001b[0;34m)\u001b[0m\u001b[0;34m,\u001b[0m\u001b[0;34m'k'\u001b[0m\u001b[0;34m)\u001b[0m\u001b[0;34m\u001b[0m\u001b[0;34m\u001b[0m\u001b[0m\n\u001b[1;32m    245\u001b[0m \u001b[0;34m\u001b[0m\u001b[0m\n\u001b[0;32m--> 246\u001b[0;31m         \u001b[0ma\u001b[0m\u001b[0;34m,\u001b[0m\u001b[0mce\u001b[0m\u001b[0;34m,\u001b[0m\u001b[0md\u001b[0m\u001b[0;34m,\u001b[0m\u001b[0msed\u001b[0m\u001b[0;34m,\u001b[0m\u001b[0msea\u001b[0m\u001b[0;34m,\u001b[0m\u001b[0mV\u001b[0m \u001b[0;34m=\u001b[0m \u001b[0mestimation\u001b[0m\u001b[0;34m.\u001b[0m\u001b[0mestimate_reduced_form\u001b[0m\u001b[0;34m(\u001b[0m\u001b[0my\u001b[0m\u001b[0;34m,\u001b[0m\u001b[0mz\u001b[0m\u001b[0;34m,\u001b[0m\u001b[0mreturn_se\u001b[0m\u001b[0;34m=\u001b[0m\u001b[0;32mTrue\u001b[0m\u001b[0;34m,\u001b[0m\u001b[0mreturn_v\u001b[0m\u001b[0;34m=\u001b[0m\u001b[0;32mTrue\u001b[0m\u001b[0;34m,\u001b[0m\u001b[0mVERBOSE\u001b[0m\u001b[0;34m=\u001b[0m\u001b[0mVERBOSE\u001b[0m\u001b[0;34m)\u001b[0m\u001b[0;34m\u001b[0m\u001b[0;34m\u001b[0m\u001b[0m\n\u001b[0m\u001b[1;32m    247\u001b[0m         \u001b[0mce\u001b[0m\u001b[0;34m.\u001b[0m\u001b[0mdropna\u001b[0m\u001b[0;34m(\u001b[0m\u001b[0mhow\u001b[0m\u001b[0;34m=\u001b[0m\u001b[0;34m'all'\u001b[0m\u001b[0;34m,\u001b[0m\u001b[0minplace\u001b[0m\u001b[0;34m=\u001b[0m\u001b[0;32mTrue\u001b[0m\u001b[0;34m)\u001b[0m\u001b[0;34m\u001b[0m\u001b[0;34m\u001b[0m\u001b[0m\n\u001b[1;32m    248\u001b[0m \u001b[0;34m\u001b[0m\u001b[0m\n",
      "\u001b[0;32m~/anaconda3/lib/python3.7/site-packages/cfe/estimation.py\u001b[0m in \u001b[0;36mestimate_reduced_form\u001b[0;34m(y, z, return_v, return_se, VERBOSE)\u001b[0m\n\u001b[1;32m    392\u001b[0m       \u001b[0;32mif\u001b[0m \u001b[0mreturn_v\u001b[0m \u001b[0;32mor\u001b[0m \u001b[0mreturn_se\u001b[0m\u001b[0;34m:\u001b[0m\u001b[0;34m\u001b[0m\u001b[0;34m\u001b[0m\u001b[0m\n\u001b[1;32m    393\u001b[0m           \u001b[0;32mif\u001b[0m \u001b[0mz\u001b[0m\u001b[0;34m.\u001b[0m\u001b[0mshape\u001b[0m\u001b[0;34m[\u001b[0m\u001b[0;36m1\u001b[0m\u001b[0;34m]\u001b[0m\u001b[0;34m:\u001b[0m\u001b[0;34m\u001b[0m\u001b[0;34m\u001b[0m\u001b[0m\n\u001b[0;32m--> 394\u001b[0;31m               \u001b[0mV\u001b[0m\u001b[0;34m[\u001b[0m\u001b[0mItem\u001b[0m\u001b[0;34m]\u001b[0m\u001b[0;34m=\u001b[0m\u001b[0marellano_robust_cov\u001b[0m\u001b[0;34m(\u001b[0m\u001b[0mz\u001b[0m\u001b[0;34m,\u001b[0m\u001b[0mce\u001b[0m\u001b[0;34m[\u001b[0m\u001b[0mItem\u001b[0m\u001b[0;34m]\u001b[0m\u001b[0;34m)\u001b[0m\u001b[0;34m\u001b[0m\u001b[0;34m\u001b[0m\u001b[0m\n\u001b[0m\u001b[1;32m    395\u001b[0m               \u001b[0msed\u001b[0m\u001b[0;34m[\u001b[0m\u001b[0mItem\u001b[0m\u001b[0;34m]\u001b[0m\u001b[0;34m=\u001b[0m\u001b[0mpd\u001b[0m\u001b[0;34m.\u001b[0m\u001b[0mSeries\u001b[0m\u001b[0;34m(\u001b[0m\u001b[0mnp\u001b[0m\u001b[0;34m.\u001b[0m\u001b[0msqrt\u001b[0m\u001b[0;34m(\u001b[0m\u001b[0mnp\u001b[0m\u001b[0;34m.\u001b[0m\u001b[0mdiag\u001b[0m\u001b[0;34m(\u001b[0m\u001b[0mV\u001b[0m\u001b[0;34m[\u001b[0m\u001b[0mItem\u001b[0m\u001b[0;34m]\u001b[0m\u001b[0;34m)\u001b[0m\u001b[0;34m)\u001b[0m\u001b[0;34m,\u001b[0m \u001b[0mindex\u001b[0m\u001b[0;34m=\u001b[0m\u001b[0mz\u001b[0m\u001b[0;34m.\u001b[0m\u001b[0mcolumns\u001b[0m\u001b[0;34m)\u001b[0m \u001b[0;31m# reduced form se on characteristics\u001b[0m\u001b[0;34m\u001b[0m\u001b[0;34m\u001b[0m\u001b[0m\n\u001b[1;32m    396\u001b[0m \u001b[0;34m\u001b[0m\u001b[0m\n",
      "\u001b[0;32m~/anaconda3/lib/python3.7/site-packages/cfe/df_utils.py\u001b[0m in \u001b[0;36marellano_robust_cov\u001b[0;34m(X, u, clusterby, tol)\u001b[0m\n\u001b[1;32m    277\u001b[0m         \u001b[0mXXinv\u001b[0m\u001b[0;34m=\u001b[0m\u001b[0mnp\u001b[0m\u001b[0;34m.\u001b[0m\u001b[0marray\u001b[0m\u001b[0;34m(\u001b[0m\u001b[0;34m[\u001b[0m\u001b[0;36m1.\u001b[0m\u001b[0;34m/\u001b[0m\u001b[0;34m(\u001b[0m\u001b[0mXt\u001b[0m\u001b[0;34m.\u001b[0m\u001b[0mT\u001b[0m\u001b[0;34m.\u001b[0m\u001b[0mdot\u001b[0m\u001b[0;34m(\u001b[0m\u001b[0mXt\u001b[0m\u001b[0;34m)\u001b[0m\u001b[0;34m)\u001b[0m\u001b[0;34m]\u001b[0m\u001b[0;34m)\u001b[0m\u001b[0;34m\u001b[0m\u001b[0;34m\u001b[0m\u001b[0m\n\u001b[1;32m    278\u001b[0m     \u001b[0;32melse\u001b[0m\u001b[0;34m:\u001b[0m\u001b[0;34m\u001b[0m\u001b[0;34m\u001b[0m\u001b[0m\n\u001b[0;32m--> 279\u001b[0;31m         \u001b[0mXXinv\u001b[0m\u001b[0;34m=\u001b[0m\u001b[0mnp\u001b[0m\u001b[0;34m.\u001b[0m\u001b[0mlinalg\u001b[0m\u001b[0;34m.\u001b[0m\u001b[0minv\u001b[0m\u001b[0;34m(\u001b[0m\u001b[0mXt\u001b[0m\u001b[0;34m.\u001b[0m\u001b[0mT\u001b[0m\u001b[0;34m.\u001b[0m\u001b[0mdot\u001b[0m\u001b[0;34m(\u001b[0m\u001b[0mXt\u001b[0m\u001b[0;34m)\u001b[0m\u001b[0;34m)\u001b[0m\u001b[0;34m\u001b[0m\u001b[0;34m\u001b[0m\u001b[0m\n\u001b[0m\u001b[1;32m    280\u001b[0m     \u001b[0mVhat\u001b[0m \u001b[0;34m=\u001b[0m \u001b[0mXXinv\u001b[0m\u001b[0;34m.\u001b[0m\u001b[0mdot\u001b[0m\u001b[0;34m(\u001b[0m\u001b[0mXu\u001b[0m\u001b[0;34m.\u001b[0m\u001b[0mT\u001b[0m\u001b[0;34m.\u001b[0m\u001b[0mdot\u001b[0m\u001b[0;34m(\u001b[0m\u001b[0mXu\u001b[0m\u001b[0;34m)\u001b[0m\u001b[0;34m)\u001b[0m\u001b[0;34m.\u001b[0m\u001b[0mdot\u001b[0m\u001b[0;34m(\u001b[0m\u001b[0mXXinv\u001b[0m\u001b[0;34m)\u001b[0m\u001b[0;34m\u001b[0m\u001b[0;34m\u001b[0m\u001b[0m\n\u001b[1;32m    281\u001b[0m \u001b[0;34m\u001b[0m\u001b[0m\n",
      "\u001b[0;32m~/anaconda3/lib/python3.7/site-packages/numpy/linalg/linalg.py\u001b[0m in \u001b[0;36minv\u001b[0;34m(a)\u001b[0m\n\u001b[1;32m    530\u001b[0m     \u001b[0msignature\u001b[0m \u001b[0;34m=\u001b[0m \u001b[0;34m'D->D'\u001b[0m \u001b[0;32mif\u001b[0m \u001b[0misComplexType\u001b[0m\u001b[0;34m(\u001b[0m\u001b[0mt\u001b[0m\u001b[0;34m)\u001b[0m \u001b[0;32melse\u001b[0m \u001b[0;34m'd->d'\u001b[0m\u001b[0;34m\u001b[0m\u001b[0;34m\u001b[0m\u001b[0m\n\u001b[1;32m    531\u001b[0m     \u001b[0mextobj\u001b[0m \u001b[0;34m=\u001b[0m \u001b[0mget_linalg_error_extobj\u001b[0m\u001b[0;34m(\u001b[0m\u001b[0m_raise_linalgerror_singular\u001b[0m\u001b[0;34m)\u001b[0m\u001b[0;34m\u001b[0m\u001b[0;34m\u001b[0m\u001b[0m\n\u001b[0;32m--> 532\u001b[0;31m     \u001b[0mainv\u001b[0m \u001b[0;34m=\u001b[0m \u001b[0m_umath_linalg\u001b[0m\u001b[0;34m.\u001b[0m\u001b[0minv\u001b[0m\u001b[0;34m(\u001b[0m\u001b[0ma\u001b[0m\u001b[0;34m,\u001b[0m \u001b[0msignature\u001b[0m\u001b[0;34m=\u001b[0m\u001b[0msignature\u001b[0m\u001b[0;34m,\u001b[0m \u001b[0mextobj\u001b[0m\u001b[0;34m=\u001b[0m\u001b[0mextobj\u001b[0m\u001b[0;34m)\u001b[0m\u001b[0;34m\u001b[0m\u001b[0;34m\u001b[0m\u001b[0m\n\u001b[0m\u001b[1;32m    533\u001b[0m     \u001b[0;32mreturn\u001b[0m \u001b[0mwrap\u001b[0m\u001b[0;34m(\u001b[0m\u001b[0mainv\u001b[0m\u001b[0;34m.\u001b[0m\u001b[0mastype\u001b[0m\u001b[0;34m(\u001b[0m\u001b[0mresult_t\u001b[0m\u001b[0;34m,\u001b[0m \u001b[0mcopy\u001b[0m\u001b[0;34m=\u001b[0m\u001b[0;32mFalse\u001b[0m\u001b[0;34m)\u001b[0m\u001b[0;34m)\u001b[0m\u001b[0;34m\u001b[0m\u001b[0;34m\u001b[0m\u001b[0m\n\u001b[1;32m    534\u001b[0m \u001b[0;34m\u001b[0m\u001b[0m\n",
      "\u001b[0;32m~/anaconda3/lib/python3.7/site-packages/numpy/linalg/linalg.py\u001b[0m in \u001b[0;36m_raise_linalgerror_singular\u001b[0;34m(err, flag)\u001b[0m\n\u001b[1;32m     87\u001b[0m \u001b[0;34m\u001b[0m\u001b[0m\n\u001b[1;32m     88\u001b[0m \u001b[0;32mdef\u001b[0m \u001b[0m_raise_linalgerror_singular\u001b[0m\u001b[0;34m(\u001b[0m\u001b[0merr\u001b[0m\u001b[0;34m,\u001b[0m \u001b[0mflag\u001b[0m\u001b[0;34m)\u001b[0m\u001b[0;34m:\u001b[0m\u001b[0;34m\u001b[0m\u001b[0;34m\u001b[0m\u001b[0m\n\u001b[0;32m---> 89\u001b[0;31m     \u001b[0;32mraise\u001b[0m \u001b[0mLinAlgError\u001b[0m\u001b[0;34m(\u001b[0m\u001b[0;34m\"Singular matrix\"\u001b[0m\u001b[0;34m)\u001b[0m\u001b[0;34m\u001b[0m\u001b[0;34m\u001b[0m\u001b[0m\n\u001b[0m\u001b[1;32m     90\u001b[0m \u001b[0;34m\u001b[0m\u001b[0m\n\u001b[1;32m     91\u001b[0m \u001b[0;32mdef\u001b[0m \u001b[0m_raise_linalgerror_nonposdef\u001b[0m\u001b[0;34m(\u001b[0m\u001b[0merr\u001b[0m\u001b[0;34m,\u001b[0m \u001b[0mflag\u001b[0m\u001b[0;34m)\u001b[0m\u001b[0;34m:\u001b[0m\u001b[0;34m\u001b[0m\u001b[0;34m\u001b[0m\u001b[0m\n",
      "\u001b[0;31mLinAlgError\u001b[0m: Singular matrix"
     ]
    }
   ],
   "source": [
    "TEST = data_yes_food_stamps\n",
    "\n",
    "y_vals = getY(TEST)\n",
    "z_vals = getZ(TEST)\n",
    "    \n",
    "result = cfe.Result(y=y_vals, z=z_vals)\n",
    "result.get_reduced_form()\n",
    "#result.delta.to_dataframe().unstack('k')\n",
    "#result.a.to_dataframe().unstack('i')\n",
    "#result.get_beta().to_dataframe()\n",
    "    \n"
   ]
  },
  {
   "cell_type": "code",
   "execution_count": 9,
   "metadata": {},
   "outputs": [
    {
     "data": {
      "text/plain": [
       "<matplotlib.axes._subplots.AxesSubplot at 0x7fe7838ba3c8>"
      ]
     },
     "execution_count": 9,
     "metadata": {},
     "output_type": "execute_result"
    },
    {
     "data": {
      "image/png": "[encoded data removed]",
      "text/plain": [
       "<Figure size 432x288 with 1 Axes>"
      ]
     },
     "metadata": {
      "needs_background": "light"
     },
     "output_type": "display_data"
    }
   ],
   "source": [
    "import matplotlib.pyplot as plt\n",
    "%matplotlib inline\n",
    "import matplotlib.cm as cm\n",
    "\n",
    "result_ank.get_predicted_log_expenditures()\n",
    "\n",
    "x_ank = result_ank.y.sum('i').to_dataframe().squeeze()\n",
    "xhat_ank = result_ank.yhat.sum('i').to_dataframe().squeeze()\n",
    "\n",
    "# Make dataframe of actual & predicted\n",
    "df_ank = pd.DataFrame({'Actual':x_ank,'Predicted':xhat_ank})\n",
    "\n",
    "df_ank.plot.scatter(x='Predicted',y='Actual')"
   ]
  },
  {
   "cell_type": "code",
   "execution_count": 13,
   "metadata": {},
   "outputs": [
    {
     "data": {
      "image/png": "[encoded data removed]",
      "text/plain": [
       "<Figure size 432x288 with 1 Axes>"
      ]
     },
     "metadata": {
      "needs_background": "light"
     },
     "output_type": "display_data"
    }
   ],
   "source": [
    "%matplotlib inline\n",
    "import cfe\n",
    "import pandas as pd\n",
    "import pylab as pl\n",
    "\n",
    "r0 = result_ank\n",
    "\n",
    "# Turn off variation in household composition\n",
    "r0['z'] = r0['z']*0\n",
    "\n",
    "# select years and markets you want\n",
    "l0 = r0.loglambdas.sel(t=17,m='A')\n",
    "\n",
    "# Predicted total expenditures given lambda & prices\n",
    "x0 = r0.get_predicted_expenditures().sum('i').sel(t=17,m='A')\n",
    "\n",
    "pl.scatter(x0,l0)\n",
    "pl.show()"
   ]
  },
  {
   "cell_type": "code",
   "execution_count": null,
   "metadata": {},
   "outputs": [],
   "source": []
  }
 ],
 "metadata": {
  "hide_input": false,
  "kernelspec": {
   "display_name": "Python 3",
   "language": "python",
   "name": "python3"
  },
  "language_info": {
   "codemirror_mode": {
    "name": "ipython",
    "version": 3
   },
   "file_extension": ".py",
   "mimetype": "text/x-python",
   "name": "python",
   "nbconvert_exporter": "python",
   "pygments_lexer": "ipython3",
   "version": "3.7.1"
  },
  "toc": {
   "base_numbering": 1,
   "nav_menu": {},
   "number_sections": true,
   "sideBar": true,
   "skip_h1_title": false,
   "title_cell": "Table of Contents",
   "title_sidebar": "Contents",
   "toc_cell": false,
   "toc_position": {},
   "toc_section_display": true,
   "toc_window_display": false
  },
  "varInspector": {
   "cols": {
    "lenName": 16,
    "lenType": 16,
    "lenVar": 40
   },
   "kernels_config": {
    "python": {
     "delete_cmd_postfix": "",
     "delete_cmd_prefix": "del ",
     "library": "var_list.py",
     "varRefreshCmd": "print(var_dic_list())"
    },
    "r": {
     "delete_cmd_postfix": ") ",
     "delete_cmd_prefix": "rm(",
     "library": "var_list.r",
     "varRefreshCmd": "cat(var_dic_list()) "
    }
   },
   "types_to_exclude": [
    "module",
    "function",
    "builtin_function_or_method",
    "instance",
    "_Feature"
   ],
   "window_display": false
  }
 },
 "nbformat": 4,
 "nbformat_minor": 2
}
