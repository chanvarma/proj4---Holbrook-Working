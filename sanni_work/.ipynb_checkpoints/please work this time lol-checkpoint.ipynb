{
 "cells": [
  {
   "cell_type": "code",
   "execution_count": 1,
   "metadata": {
    "ExecuteTime": {
     "end_time": "2019-04-29T01:43:59.100348Z",
     "start_time": "2019-04-29T01:43:48.037711Z"
    }
   },
   "outputs": [
    {
     "name": "stdout",
     "output_type": "stream",
     "text": [
      "Requirement already up-to-date: CFEDemands in /Users/sannidhi/anaconda3/lib/python3.7/site-packages (0.1.6.6)\n",
      "\u001b[33mYou are using pip version 19.0.3, however version 19.1 is available.\n",
      "You should consider upgrading via the 'pip install --upgrade pip' command.\u001b[0m\n",
      "Requirement already satisfied: xarray in /Users/sannidhi/anaconda3/lib/python3.7/site-packages (0.12.0)\n",
      "Requirement already satisfied: numpy>=1.12 in /Users/sannidhi/anaconda3/lib/python3.7/site-packages (from xarray) (1.15.1)\n",
      "Requirement already satisfied: pandas>=0.19.2 in /Users/sannidhi/anaconda3/lib/python3.7/site-packages (from xarray) (0.23.4)\n",
      "Requirement already satisfied: python-dateutil>=2.5.0 in /Users/sannidhi/anaconda3/lib/python3.7/site-packages (from pandas>=0.19.2->xarray) (2.7.3)\n",
      "Requirement already satisfied: pytz>=2011k in /Users/sannidhi/anaconda3/lib/python3.7/site-packages (from pandas>=0.19.2->xarray) (2018.5)\n",
      "Requirement already satisfied: six>=1.5 in /Users/sannidhi/anaconda3/lib/python3.7/site-packages (from python-dateutil>=2.5.0->pandas>=0.19.2->xarray) (1.11.0)\n",
      "\u001b[33mYou are using pip version 19.0.3, however version 19.1 is available.\n",
      "You should consider upgrading via the 'pip install --upgrade pip' command.\u001b[0m\n"
     ]
    }
   ],
   "source": [
    "!pip install CFEDemands --upgrade\n",
    "!pip install xarray"
   ]
  },
  {
   "cell_type": "code",
   "execution_count": 2,
   "metadata": {
    "ExecuteTime": {
     "end_time": "2019-04-29T05:13:03.118751Z",
     "start_time": "2019-04-29T05:13:03.111236Z"
    }
   },
   "outputs": [],
   "source": [
    "import cfe\n",
    "import pandas as pd\n",
    "import numpy as np\n",
    "import random\n",
    "import xarray as xr\n",
    "\n",
    "import warnings\n",
    "warnings.filterwarnings('ignore')\n",
    "\n",
    "from IPython.display import display\n",
    "pd.options.display.max_columns = None"
   ]
  },
  {
   "cell_type": "code",
   "execution_count": 3,
   "metadata": {
    "ExecuteTime": {
     "end_time": "2019-04-29T06:49:32.875343Z",
     "start_time": "2019-04-29T06:49:11.393598Z"
    }
   },
   "outputs": [],
   "source": [
    "data_no_food_stamps = pd.read_csv('data/no_food_stamps.csv')\n",
    "data_yes_food_stamps = pd.read_csv('data/yes_food_stamps.csv')\n",
    "\n",
    "columns_to_drop = ['Unnamed: 0', 'id', 'id_2', \n",
    "                   'supp_security', 'schoolmeals_purchases', \n",
    "                   'self_employed', 'FWAGEXM',\n",
    "                   'members_under18', 'members_over64',\n",
    "                    'food_away', 'food_home', 'avg(GROSPAYX)']\n",
    "\n",
    "def standard_format(dataset):\n",
    "    \n",
    "    dataset['j'] = dataset['id']\n",
    "    dataset['t'] = 17\n",
    "    dataset['m'] = 1\n",
    "    \n",
    "    \n",
    "    dataset['M'] = \"\"\n",
    "    dataset['F'] = \"\"\n",
    "    dataset.loc[dataset['sex'] == 'Male', 'M'] = 1\n",
    "    dataset.loc[dataset['M'] == '', 'M'] = 0\n",
    "    dataset.loc[dataset['sex'] == 'Female', 'F'] = 1\n",
    "    dataset.loc[dataset['F'] == '', 'F'] = 0\n",
    "    \n",
    "    dataset['log_fsize'] = np.log(dataset['fam_size'])\n",
    "    \n",
    "    dataset.set_index(['j', 't', 'm'], inplace = True)\n",
    "    dataset.drop(columns = columns_to_drop, inplace = True)\n",
    "\n",
    "cali_no = data_no_food_stamps[data_no_food_stamps['state'].str.contains('Cali', na = False)]\n",
    "cali_yes = data_yes_food_stamps[data_yes_food_stamps['state'].str.contains('Cali', na = False)]\n",
    "\n",
    "datasets = {'California residents (no FS)': cali_no,\n",
    "           'California residents (yes FS)': cali_yes,\n",
    "           'US residents (no FS)': data_no_food_stamps,\n",
    "           'US residents (yes FS)': data_yes_food_stamps}\n",
    "\n",
    "for key, value in datasets.items():\n",
    "    standard_format(value)"
   ]
  },
  {
   "cell_type": "markdown",
   "metadata": {},
   "source": [
    "### Describing populations "
   ]
  },
  {
   "cell_type": "code",
   "execution_count": 4,
   "metadata": {
    "ExecuteTime": {
     "end_time": "2019-04-29T06:49:58.630149Z",
     "start_time": "2019-04-29T06:49:58.620545Z"
    }
   },
   "outputs": [],
   "source": [
    "pop_describers = ['age', 'fam_size', 'net_income', 'total_food', 'total_food_percent', 'number_foodstamps']"
   ]
  },
  {
   "cell_type": "code",
   "execution_count": 5,
   "metadata": {
    "ExecuteTime": {
     "end_time": "2019-04-29T06:50:00.694221Z",
     "start_time": "2019-04-29T06:50:00.644902Z"
    }
   },
   "outputs": [
    {
     "data": {
      "text/html": [
       "<div>\n",
       "<style scoped>\n",
       "    .dataframe tbody tr th:only-of-type {\n",
       "        vertical-align: middle;\n",
       "    }\n",
       "\n",
       "    .dataframe tbody tr th {\n",
       "        vertical-align: top;\n",
       "    }\n",
       "\n",
       "    .dataframe thead th {\n",
       "        text-align: right;\n",
       "    }\n",
       "</style>\n",
       "<table border=\"1\" class=\"dataframe\">\n",
       "  <thead>\n",
       "    <tr style=\"text-align: right;\">\n",
       "      <th></th>\n",
       "      <th>age</th>\n",
       "      <th>fam_size</th>\n",
       "      <th>net_income</th>\n",
       "      <th>total_food</th>\n",
       "      <th>total_food_percent</th>\n",
       "      <th>number_foodstamps</th>\n",
       "    </tr>\n",
       "  </thead>\n",
       "  <tbody>\n",
       "    <tr>\n",
       "      <th>count</th>\n",
       "      <td>485.000000</td>\n",
       "      <td>485.00000</td>\n",
       "      <td>485.000000</td>\n",
       "      <td>485.000000</td>\n",
       "      <td>485.000000</td>\n",
       "      <td>0.0</td>\n",
       "    </tr>\n",
       "    <tr>\n",
       "      <th>mean</th>\n",
       "      <td>51.476289</td>\n",
       "      <td>2.56701</td>\n",
       "      <td>94651.287629</td>\n",
       "      <td>168.057934</td>\n",
       "      <td>0.149956</td>\n",
       "      <td>NaN</td>\n",
       "    </tr>\n",
       "  </tbody>\n",
       "</table>\n",
       "</div>"
      ],
      "text/plain": [
       "              age   fam_size    net_income  total_food  total_food_percent  \\\n",
       "count  485.000000  485.00000    485.000000  485.000000          485.000000   \n",
       "mean    51.476289    2.56701  94651.287629  168.057934            0.149956   \n",
       "\n",
       "       number_foodstamps  \n",
       "count                0.0  \n",
       "mean                 NaN  "
      ]
     },
     "execution_count": 5,
     "metadata": {},
     "output_type": "execute_result"
    }
   ],
   "source": [
    "cali_no[pop_describers].describe()[:2]"
   ]
  },
  {
   "cell_type": "code",
   "execution_count": 6,
   "metadata": {
    "ExecuteTime": {
     "end_time": "2019-04-29T06:50:04.295053Z",
     "start_time": "2019-04-29T06:50:04.250353Z"
    }
   },
   "outputs": [
    {
     "data": {
      "text/html": [
       "<div>\n",
       "<style scoped>\n",
       "    .dataframe tbody tr th:only-of-type {\n",
       "        vertical-align: middle;\n",
       "    }\n",
       "\n",
       "    .dataframe tbody tr th {\n",
       "        vertical-align: top;\n",
       "    }\n",
       "\n",
       "    .dataframe thead th {\n",
       "        text-align: right;\n",
       "    }\n",
       "</style>\n",
       "<table border=\"1\" class=\"dataframe\">\n",
       "  <thead>\n",
       "    <tr style=\"text-align: right;\">\n",
       "      <th></th>\n",
       "      <th>age</th>\n",
       "      <th>fam_size</th>\n",
       "      <th>net_income</th>\n",
       "      <th>total_food</th>\n",
       "      <th>total_food_percent</th>\n",
       "      <th>number_foodstamps</th>\n",
       "    </tr>\n",
       "  </thead>\n",
       "  <tbody>\n",
       "    <tr>\n",
       "      <th>count</th>\n",
       "      <td>39.000000</td>\n",
       "      <td>39.000000</td>\n",
       "      <td>39.000000</td>\n",
       "      <td>39.00000</td>\n",
       "      <td>39.000000</td>\n",
       "      <td>38.0</td>\n",
       "    </tr>\n",
       "    <tr>\n",
       "      <th>mean</th>\n",
       "      <td>45.564103</td>\n",
       "      <td>3.589744</td>\n",
       "      <td>41576.887179</td>\n",
       "      <td>128.57101</td>\n",
       "      <td>0.198993</td>\n",
       "      <td>10.0</td>\n",
       "    </tr>\n",
       "  </tbody>\n",
       "</table>\n",
       "</div>"
      ],
      "text/plain": [
       "             age   fam_size    net_income  total_food  total_food_percent  \\\n",
       "count  39.000000  39.000000     39.000000    39.00000           39.000000   \n",
       "mean   45.564103   3.589744  41576.887179   128.57101            0.198993   \n",
       "\n",
       "       number_foodstamps  \n",
       "count               38.0  \n",
       "mean                10.0  "
      ]
     },
     "execution_count": 6,
     "metadata": {},
     "output_type": "execute_result"
    }
   ],
   "source": [
    "cali_yes[pop_describers].describe()[:2]"
   ]
  },
  {
   "cell_type": "code",
   "execution_count": 7,
   "metadata": {
    "ExecuteTime": {
     "end_time": "2019-04-29T06:50:06.962696Z",
     "start_time": "2019-04-29T06:50:06.926727Z"
    }
   },
   "outputs": [
    {
     "data": {
      "text/html": [
       "<div>\n",
       "<style scoped>\n",
       "    .dataframe tbody tr th:only-of-type {\n",
       "        vertical-align: middle;\n",
       "    }\n",
       "\n",
       "    .dataframe tbody tr th {\n",
       "        vertical-align: top;\n",
       "    }\n",
       "\n",
       "    .dataframe thead th {\n",
       "        text-align: right;\n",
       "    }\n",
       "</style>\n",
       "<table border=\"1\" class=\"dataframe\">\n",
       "  <thead>\n",
       "    <tr style=\"text-align: right;\">\n",
       "      <th></th>\n",
       "      <th>age</th>\n",
       "      <th>fam_size</th>\n",
       "      <th>net_income</th>\n",
       "      <th>total_food</th>\n",
       "      <th>total_food_percent</th>\n",
       "      <th>number_foodstamps</th>\n",
       "    </tr>\n",
       "  </thead>\n",
       "  <tbody>\n",
       "    <tr>\n",
       "      <th>count</th>\n",
       "      <td>4884.000000</td>\n",
       "      <td>4884.00000</td>\n",
       "      <td>4884.000000</td>\n",
       "      <td>4884.000000</td>\n",
       "      <td>4884.000000</td>\n",
       "      <td>0.0</td>\n",
       "    </tr>\n",
       "    <tr>\n",
       "      <th>mean</th>\n",
       "      <td>52.480344</td>\n",
       "      <td>2.42199</td>\n",
       "      <td>87416.968591</td>\n",
       "      <td>149.098386</td>\n",
       "      <td>0.135048</td>\n",
       "      <td>NaN</td>\n",
       "    </tr>\n",
       "  </tbody>\n",
       "</table>\n",
       "</div>"
      ],
      "text/plain": [
       "               age    fam_size    net_income   total_food  total_food_percent  \\\n",
       "count  4884.000000  4884.00000   4884.000000  4884.000000         4884.000000   \n",
       "mean     52.480344     2.42199  87416.968591   149.098386            0.135048   \n",
       "\n",
       "       number_foodstamps  \n",
       "count                0.0  \n",
       "mean                 NaN  "
      ]
     },
     "execution_count": 7,
     "metadata": {},
     "output_type": "execute_result"
    }
   ],
   "source": [
    "data_no_food_stamps[pop_describers].describe()[:2]"
   ]
  },
  {
   "cell_type": "code",
   "execution_count": 8,
   "metadata": {
    "ExecuteTime": {
     "end_time": "2019-04-29T06:50:08.907090Z",
     "start_time": "2019-04-29T06:50:08.858253Z"
    }
   },
   "outputs": [
    {
     "data": {
      "text/html": [
       "<div>\n",
       "<style scoped>\n",
       "    .dataframe tbody tr th:only-of-type {\n",
       "        vertical-align: middle;\n",
       "    }\n",
       "\n",
       "    .dataframe tbody tr th {\n",
       "        vertical-align: top;\n",
       "    }\n",
       "\n",
       "    .dataframe thead th {\n",
       "        text-align: right;\n",
       "    }\n",
       "</style>\n",
       "<table border=\"1\" class=\"dataframe\">\n",
       "  <thead>\n",
       "    <tr style=\"text-align: right;\">\n",
       "      <th></th>\n",
       "      <th>age</th>\n",
       "      <th>fam_size</th>\n",
       "      <th>net_income</th>\n",
       "      <th>total_food</th>\n",
       "      <th>total_food_percent</th>\n",
       "      <th>number_foodstamps</th>\n",
       "    </tr>\n",
       "  </thead>\n",
       "  <tbody>\n",
       "    <tr>\n",
       "      <th>count</th>\n",
       "      <td>491.000000</td>\n",
       "      <td>491.000000</td>\n",
       "      <td>491.000000</td>\n",
       "      <td>491.000000</td>\n",
       "      <td>491.000000</td>\n",
       "      <td>484.00</td>\n",
       "    </tr>\n",
       "    <tr>\n",
       "      <th>mean</th>\n",
       "      <td>48.790224</td>\n",
       "      <td>3.167006</td>\n",
       "      <td>33749.366395</td>\n",
       "      <td>107.321433</td>\n",
       "      <td>0.230127</td>\n",
       "      <td>10.25</td>\n",
       "    </tr>\n",
       "  </tbody>\n",
       "</table>\n",
       "</div>"
      ],
      "text/plain": [
       "              age    fam_size    net_income  total_food  total_food_percent  \\\n",
       "count  491.000000  491.000000    491.000000  491.000000          491.000000   \n",
       "mean    48.790224    3.167006  33749.366395  107.321433            0.230127   \n",
       "\n",
       "       number_foodstamps  \n",
       "count             484.00  \n",
       "mean               10.25  "
      ]
     },
     "execution_count": 8,
     "metadata": {},
     "output_type": "execute_result"
    }
   ],
   "source": [
    "data_yes_food_stamps[pop_describers].describe()[:2]"
   ]
  },
  {
   "cell_type": "markdown",
   "metadata": {},
   "source": [
    "### cols"
   ]
  },
  {
   "cell_type": "code",
   "execution_count": 9,
   "metadata": {
    "ExecuteTime": {
     "end_time": "2019-04-29T06:50:11.554034Z",
     "start_time": "2019-04-29T06:50:11.546872Z"
    }
   },
   "outputs": [
    {
     "data": {
      "text/plain": [
       "Index(['age', 'highest_education', 'profession', 'hispanic',\n",
       "       'weekly_hours_worked', 'in_college', 'is_married', 'sex',\n",
       "       'reason_unemployment', 'main_profession', 'numweeks_schoolmeals', 'psu',\n",
       "       'psu_popsize', 'net_income', 'alcbev', 'bakery', 'beef', 'cereal',\n",
       "       'child_age', 'housing_type', 'census_division', 'eggs', 'fam_size',\n",
       "       'total_food', 'fresh_fruit', 'fresh_veg', 'value_foodstamps',\n",
       "       'number_foodstamps', 'non_alc_grocery', 'milk', 'number_earners',\n",
       "       'non_alc_bevs', 'oils', 'othdairy', 'othmeat', 'pet_food', 'pork',\n",
       "       'procfruit', 'proc_veg', 'spouse_race', 'foodstamp_or_not', 'seafood',\n",
       "       'smoking', 'lives_in_MSA', 'state', 'sweets', 'vehicle',\n",
       "       'miscellaneous', 'poultry', 'total_food_percent', 'M', 'F',\n",
       "       'log_fsize'],\n",
       "      dtype='object')"
      ]
     },
     "execution_count": 9,
     "metadata": {},
     "output_type": "execute_result"
    }
   ],
   "source": [
    "cali_no.columns"
   ]
  },
  {
   "cell_type": "code",
   "execution_count": 10,
   "metadata": {
    "ExecuteTime": {
     "end_time": "2019-04-29T06:53:39.762019Z",
     "start_time": "2019-04-29T06:53:39.742013Z"
    }
   },
   "outputs": [],
   "source": [
    "expenditures = ['alcbev', 'bakery', 'beef', 'cereal', 'eggs',\n",
    "                'fresh_fruit', 'fresh_veg', 'milk', 'non_alc_bevs',\n",
    "                'oils', 'othdairy', 'othmeat', 'poultry', 'pork', 'procfruit',\n",
    "                'proc_veg', 'seafood', 'sweets']\n",
    "\n",
    "household_chars = ['age', 'M', 'log_fsize', 'vehicle', 'child_age']"
   ]
  },
  {
   "cell_type": "markdown",
   "metadata": {},
   "source": [
    "## Data viz"
   ]
  },
  {
   "cell_type": "code",
   "execution_count": 11,
   "metadata": {
    "ExecuteTime": {
     "end_time": "2019-04-29T06:53:42.307744Z",
     "start_time": "2019-04-29T06:53:41.877445Z"
    }
   },
   "outputs": [
    {
     "data": {
      "text/html": [
       "<div>\n",
       "<style scoped>\n",
       "    .dataframe tbody tr th:only-of-type {\n",
       "        vertical-align: middle;\n",
       "    }\n",
       "\n",
       "    .dataframe tbody tr th {\n",
       "        vertical-align: top;\n",
       "    }\n",
       "\n",
       "    .dataframe thead th {\n",
       "        text-align: right;\n",
       "    }\n",
       "</style>\n",
       "<table border=\"1\" class=\"dataframe\">\n",
       "  <thead>\n",
       "    <tr style=\"text-align: right;\">\n",
       "      <th></th>\n",
       "      <th>mean</th>\n",
       "      <th>ratio</th>\n",
       "    </tr>\n",
       "  </thead>\n",
       "  <tbody>\n",
       "    <tr>\n",
       "      <th>alcbev</th>\n",
       "      <td>15.778444</td>\n",
       "      <td>0.173792</td>\n",
       "    </tr>\n",
       "    <tr>\n",
       "      <th>bakery</th>\n",
       "      <td>7.753568</td>\n",
       "      <td>0.085402</td>\n",
       "    </tr>\n",
       "    <tr>\n",
       "      <th>beef</th>\n",
       "      <td>5.419872</td>\n",
       "      <td>0.059697</td>\n",
       "    </tr>\n",
       "    <tr>\n",
       "      <th>cereal</th>\n",
       "      <td>3.725519</td>\n",
       "      <td>0.041035</td>\n",
       "    </tr>\n",
       "    <tr>\n",
       "      <th>eggs</th>\n",
       "      <td>1.406550</td>\n",
       "      <td>0.015492</td>\n",
       "    </tr>\n",
       "    <tr>\n",
       "      <th>fresh_fruit</th>\n",
       "      <td>7.978605</td>\n",
       "      <td>0.087880</td>\n",
       "    </tr>\n",
       "    <tr>\n",
       "      <th>fresh_veg</th>\n",
       "      <td>7.051676</td>\n",
       "      <td>0.077671</td>\n",
       "    </tr>\n",
       "    <tr>\n",
       "      <th>milk</th>\n",
       "      <td>3.200180</td>\n",
       "      <td>0.035248</td>\n",
       "    </tr>\n",
       "    <tr>\n",
       "      <th>non_alc_bevs</th>\n",
       "      <td>8.133430</td>\n",
       "      <td>0.089586</td>\n",
       "    </tr>\n",
       "    <tr>\n",
       "      <th>oils</th>\n",
       "      <td>2.293581</td>\n",
       "      <td>0.025263</td>\n",
       "    </tr>\n",
       "    <tr>\n",
       "      <th>othdairy</th>\n",
       "      <td>6.598775</td>\n",
       "      <td>0.072682</td>\n",
       "    </tr>\n",
       "    <tr>\n",
       "      <th>othmeat</th>\n",
       "      <td>2.426467</td>\n",
       "      <td>0.026726</td>\n",
       "    </tr>\n",
       "    <tr>\n",
       "      <th>poultry</th>\n",
       "      <td>4.149816</td>\n",
       "      <td>0.045708</td>\n",
       "    </tr>\n",
       "    <tr>\n",
       "      <th>pork</th>\n",
       "      <td>3.750700</td>\n",
       "      <td>0.041312</td>\n",
       "    </tr>\n",
       "    <tr>\n",
       "      <th>procfruit</th>\n",
       "      <td>2.523253</td>\n",
       "      <td>0.027792</td>\n",
       "    </tr>\n",
       "    <tr>\n",
       "      <th>proc_veg</th>\n",
       "      <td>2.385573</td>\n",
       "      <td>0.026276</td>\n",
       "    </tr>\n",
       "    <tr>\n",
       "      <th>seafood</th>\n",
       "      <td>3.193835</td>\n",
       "      <td>0.035178</td>\n",
       "    </tr>\n",
       "    <tr>\n",
       "      <th>sweets</th>\n",
       "      <td>3.019622</td>\n",
       "      <td>0.033260</td>\n",
       "    </tr>\n",
       "  </tbody>\n",
       "</table>\n",
       "</div>"
      ],
      "text/plain": [
       "                   mean     ratio\n",
       "alcbev        15.778444  0.173792\n",
       "bakery         7.753568  0.085402\n",
       "beef           5.419872  0.059697\n",
       "cereal         3.725519  0.041035\n",
       "eggs           1.406550  0.015492\n",
       "fresh_fruit    7.978605  0.087880\n",
       "fresh_veg      7.051676  0.077671\n",
       "milk           3.200180  0.035248\n",
       "non_alc_bevs   8.133430  0.089586\n",
       "oils           2.293581  0.025263\n",
       "othdairy       6.598775  0.072682\n",
       "othmeat        2.426467  0.026726\n",
       "poultry        4.149816  0.045708\n",
       "pork           3.750700  0.041312\n",
       "procfruit      2.523253  0.027792\n",
       "proc_veg       2.385573  0.026276\n",
       "seafood        3.193835  0.035178\n",
       "sweets         3.019622  0.033260"
      ]
     },
     "execution_count": 11,
     "metadata": {},
     "output_type": "execute_result"
    },
    {
     "data": {
      "image/png": "[encoded data removed]",
      "text/plain": [
       "<Figure size 432x288 with 1 Axes>"
      ]
     },
     "metadata": {
      "needs_background": "light"
     },
     "output_type": "display_data"
    }
   ],
   "source": [
    "means_no = cali_no[expenditures].describe()\n",
    "means_no = means_no.loc['mean'].to_frame()\n",
    "means_no['ratio'] = means_no['mean']/sum(means_no['mean'])\n",
    "means_no['ratio'].plot.bar()\n",
    "\n",
    "means_no"
   ]
  },
  {
   "cell_type": "code",
   "execution_count": 12,
   "metadata": {
    "ExecuteTime": {
     "end_time": "2019-04-29T06:53:46.973940Z",
     "start_time": "2019-04-29T06:53:46.664520Z"
    }
   },
   "outputs": [
    {
     "data": {
      "text/html": [
       "<div>\n",
       "<style scoped>\n",
       "    .dataframe tbody tr th:only-of-type {\n",
       "        vertical-align: middle;\n",
       "    }\n",
       "\n",
       "    .dataframe tbody tr th {\n",
       "        vertical-align: top;\n",
       "    }\n",
       "\n",
       "    .dataframe thead th {\n",
       "        text-align: right;\n",
       "    }\n",
       "</style>\n",
       "<table border=\"1\" class=\"dataframe\">\n",
       "  <thead>\n",
       "    <tr style=\"text-align: right;\">\n",
       "      <th></th>\n",
       "      <th>mean</th>\n",
       "      <th>ratio</th>\n",
       "    </tr>\n",
       "  </thead>\n",
       "  <tbody>\n",
       "    <tr>\n",
       "      <th>alcbev</th>\n",
       "      <td>4.842387</td>\n",
       "      <td>0.056493</td>\n",
       "    </tr>\n",
       "    <tr>\n",
       "      <th>bakery</th>\n",
       "      <td>7.906218</td>\n",
       "      <td>0.092236</td>\n",
       "    </tr>\n",
       "    <tr>\n",
       "      <th>beef</th>\n",
       "      <td>5.851106</td>\n",
       "      <td>0.068261</td>\n",
       "    </tr>\n",
       "    <tr>\n",
       "      <th>cereal</th>\n",
       "      <td>4.092479</td>\n",
       "      <td>0.047744</td>\n",
       "    </tr>\n",
       "    <tr>\n",
       "      <th>eggs</th>\n",
       "      <td>1.075230</td>\n",
       "      <td>0.012544</td>\n",
       "    </tr>\n",
       "    <tr>\n",
       "      <th>fresh_fruit</th>\n",
       "      <td>8.107099</td>\n",
       "      <td>0.094580</td>\n",
       "    </tr>\n",
       "    <tr>\n",
       "      <th>fresh_veg</th>\n",
       "      <td>6.532807</td>\n",
       "      <td>0.076214</td>\n",
       "    </tr>\n",
       "    <tr>\n",
       "      <th>milk</th>\n",
       "      <td>3.284924</td>\n",
       "      <td>0.038323</td>\n",
       "    </tr>\n",
       "    <tr>\n",
       "      <th>non_alc_bevs</th>\n",
       "      <td>9.937705</td>\n",
       "      <td>0.115936</td>\n",
       "    </tr>\n",
       "    <tr>\n",
       "      <th>oils</th>\n",
       "      <td>2.429568</td>\n",
       "      <td>0.028344</td>\n",
       "    </tr>\n",
       "    <tr>\n",
       "      <th>othdairy</th>\n",
       "      <td>5.214702</td>\n",
       "      <td>0.060836</td>\n",
       "    </tr>\n",
       "    <tr>\n",
       "      <th>othmeat</th>\n",
       "      <td>2.803513</td>\n",
       "      <td>0.032707</td>\n",
       "    </tr>\n",
       "    <tr>\n",
       "      <th>poultry</th>\n",
       "      <td>8.398430</td>\n",
       "      <td>0.097979</td>\n",
       "    </tr>\n",
       "    <tr>\n",
       "      <th>pork</th>\n",
       "      <td>3.975505</td>\n",
       "      <td>0.046379</td>\n",
       "    </tr>\n",
       "    <tr>\n",
       "      <th>procfruit</th>\n",
       "      <td>2.028527</td>\n",
       "      <td>0.023665</td>\n",
       "    </tr>\n",
       "    <tr>\n",
       "      <th>proc_veg</th>\n",
       "      <td>3.149823</td>\n",
       "      <td>0.036747</td>\n",
       "    </tr>\n",
       "    <tr>\n",
       "      <th>seafood</th>\n",
       "      <td>2.594154</td>\n",
       "      <td>0.030264</td>\n",
       "    </tr>\n",
       "    <tr>\n",
       "      <th>sweets</th>\n",
       "      <td>3.492714</td>\n",
       "      <td>0.040747</td>\n",
       "    </tr>\n",
       "  </tbody>\n",
       "</table>\n",
       "</div>"
      ],
      "text/plain": [
       "                  mean     ratio\n",
       "alcbev        4.842387  0.056493\n",
       "bakery        7.906218  0.092236\n",
       "beef          5.851106  0.068261\n",
       "cereal        4.092479  0.047744\n",
       "eggs          1.075230  0.012544\n",
       "fresh_fruit   8.107099  0.094580\n",
       "fresh_veg     6.532807  0.076214\n",
       "milk          3.284924  0.038323\n",
       "non_alc_bevs  9.937705  0.115936\n",
       "oils          2.429568  0.028344\n",
       "othdairy      5.214702  0.060836\n",
       "othmeat       2.803513  0.032707\n",
       "poultry       8.398430  0.097979\n",
       "pork          3.975505  0.046379\n",
       "procfruit     2.028527  0.023665\n",
       "proc_veg      3.149823  0.036747\n",
       "seafood       2.594154  0.030264\n",
       "sweets        3.492714  0.040747"
      ]
     },
     "execution_count": 12,
     "metadata": {},
     "output_type": "execute_result"
    },
    {
     "data": {
      "image/png": "[encoded data removed]",
      "text/plain": [
       "<Figure size 432x288 with 1 Axes>"
      ]
     },
     "metadata": {
      "needs_background": "light"
     },
     "output_type": "display_data"
    }
   ],
   "source": [
    "means_yes = cali_yes[expenditures].describe()\n",
    "means_yes = means_yes.loc['mean'].to_frame()\n",
    "means_yes['ratio'] = means_yes['mean']/sum(means_yes['mean'])\n",
    "means_yes['ratio'].plot.bar()\n",
    "means_yes"
   ]
  },
  {
   "cell_type": "code",
   "execution_count": null,
   "metadata": {},
   "outputs": [],
   "source": []
  },
  {
   "cell_type": "markdown",
   "metadata": {},
   "source": [
    "## Estimating demand"
   ]
  },
  {
   "cell_type": "code",
   "execution_count": 411,
   "metadata": {
    "ExecuteTime": {
     "end_time": "2019-04-29T06:53:53.402939Z",
     "start_time": "2019-04-29T06:53:53.384216Z"
    },
    "scrolled": true
   },
   "outputs": [
    {
     "data": {
      "text/html": [
       "<div>\n",
       "<style scoped>\n",
       "    .dataframe tbody tr th:only-of-type {\n",
       "        vertical-align: middle;\n",
       "    }\n",
       "\n",
       "    .dataframe tbody tr th {\n",
       "        vertical-align: top;\n",
       "    }\n",
       "\n",
       "    .dataframe thead th {\n",
       "        text-align: right;\n",
       "    }\n",
       "</style>\n",
       "<table border=\"1\" class=\"dataframe\">\n",
       "  <thead>\n",
       "    <tr style=\"text-align: right;\">\n",
       "      <th></th>\n",
       "      <th></th>\n",
       "      <th></th>\n",
       "      <th>age</th>\n",
       "      <th>M</th>\n",
       "      <th>log_fsize</th>\n",
       "      <th>vehicle</th>\n",
       "      <th>child_age</th>\n",
       "    </tr>\n",
       "    <tr>\n",
       "      <th>j</th>\n",
       "      <th>t</th>\n",
       "      <th>m</th>\n",
       "      <th></th>\n",
       "      <th></th>\n",
       "      <th></th>\n",
       "      <th></th>\n",
       "      <th></th>\n",
       "    </tr>\n",
       "  </thead>\n",
       "  <tbody>\n",
       "    <tr>\n",
       "      <th>360993</th>\n",
       "      <th>17</th>\n",
       "      <th>1</th>\n",
       "      <td>62</td>\n",
       "      <td>1</td>\n",
       "      <td>0.693147</td>\n",
       "      <td>2.0</td>\n",
       "      <td>0</td>\n",
       "    </tr>\n",
       "    <tr>\n",
       "      <th>360998</th>\n",
       "      <th>17</th>\n",
       "      <th>1</th>\n",
       "      <td>45</td>\n",
       "      <td>0</td>\n",
       "      <td>0.693147</td>\n",
       "      <td>2.0</td>\n",
       "      <td>7</td>\n",
       "    </tr>\n",
       "    <tr>\n",
       "      <th>361099</th>\n",
       "      <th>17</th>\n",
       "      <th>1</th>\n",
       "      <td>60</td>\n",
       "      <td>0</td>\n",
       "      <td>0.000000</td>\n",
       "      <td>NaN</td>\n",
       "      <td>0</td>\n",
       "    </tr>\n",
       "    <tr>\n",
       "      <th>361135</th>\n",
       "      <th>17</th>\n",
       "      <th>1</th>\n",
       "      <td>71</td>\n",
       "      <td>1</td>\n",
       "      <td>1.098612</td>\n",
       "      <td>2.0</td>\n",
       "      <td>7</td>\n",
       "    </tr>\n",
       "    <tr>\n",
       "      <th>361153</th>\n",
       "      <th>17</th>\n",
       "      <th>1</th>\n",
       "      <td>66</td>\n",
       "      <td>1</td>\n",
       "      <td>0.000000</td>\n",
       "      <td>1.0</td>\n",
       "      <td>0</td>\n",
       "    </tr>\n",
       "  </tbody>\n",
       "</table>\n",
       "</div>"
      ],
      "text/plain": [
       "             age  M  log_fsize  vehicle  child_age\n",
       "j      t  m                                       \n",
       "360993 17 1   62  1   0.693147      2.0          0\n",
       "360998 17 1   45  0   0.693147      2.0          7\n",
       "361099 17 1   60  0   0.000000      NaN          0\n",
       "361135 17 1   71  1   1.098612      2.0          7\n",
       "361153 17 1   66  1   0.000000      1.0          0"
      ]
     },
     "execution_count": 411,
     "metadata": {},
     "output_type": "execute_result"
    }
   ],
   "source": [
    "X_no = cali_no[expenditures]\n",
    "Z_no = cali_no[household_chars]\n",
    "Y_no = np.log(X_no.replace(0,np.nan))\n",
    "\n",
    "\n",
    "Z_no.head()"
   ]
  },
  {
   "cell_type": "code",
   "execution_count": 412,
   "metadata": {
    "ExecuteTime": {
     "end_time": "2019-04-29T06:54:00.080483Z",
     "start_time": "2019-04-29T06:54:00.055461Z"
    }
   },
   "outputs": [
    {
     "data": {
      "text/html": [
       "<div>\n",
       "<style scoped>\n",
       "    .dataframe tbody tr th:only-of-type {\n",
       "        vertical-align: middle;\n",
       "    }\n",
       "\n",
       "    .dataframe tbody tr th {\n",
       "        vertical-align: top;\n",
       "    }\n",
       "\n",
       "    .dataframe thead th {\n",
       "        text-align: right;\n",
       "    }\n",
       "</style>\n",
       "<table border=\"1\" class=\"dataframe\">\n",
       "  <thead>\n",
       "    <tr style=\"text-align: right;\">\n",
       "      <th></th>\n",
       "      <th></th>\n",
       "      <th></th>\n",
       "      <th>alcbev</th>\n",
       "      <th>bakery</th>\n",
       "      <th>beef</th>\n",
       "      <th>cereal</th>\n",
       "      <th>eggs</th>\n",
       "      <th>fresh_fruit</th>\n",
       "      <th>fresh_veg</th>\n",
       "      <th>milk</th>\n",
       "      <th>non_alc_bevs</th>\n",
       "      <th>oils</th>\n",
       "      <th>othdairy</th>\n",
       "      <th>othmeat</th>\n",
       "      <th>poultry</th>\n",
       "      <th>pork</th>\n",
       "      <th>procfruit</th>\n",
       "      <th>proc_veg</th>\n",
       "      <th>seafood</th>\n",
       "      <th>sweets</th>\n",
       "    </tr>\n",
       "    <tr>\n",
       "      <th>j</th>\n",
       "      <th>t</th>\n",
       "      <th>m</th>\n",
       "      <th></th>\n",
       "      <th></th>\n",
       "      <th></th>\n",
       "      <th></th>\n",
       "      <th></th>\n",
       "      <th></th>\n",
       "      <th></th>\n",
       "      <th></th>\n",
       "      <th></th>\n",
       "      <th></th>\n",
       "      <th></th>\n",
       "      <th></th>\n",
       "      <th></th>\n",
       "      <th></th>\n",
       "      <th></th>\n",
       "      <th></th>\n",
       "      <th></th>\n",
       "      <th></th>\n",
       "    </tr>\n",
       "  </thead>\n",
       "  <tbody>\n",
       "    <tr>\n",
       "      <th>360993</th>\n",
       "      <th>17</th>\n",
       "      <th>1</th>\n",
       "      <td>2.302585</td>\n",
       "      <td>1.518990</td>\n",
       "      <td>1.357236</td>\n",
       "      <td>0.649485</td>\n",
       "      <td>2.082611</td>\n",
       "      <td>3.340739</td>\n",
       "      <td>3.657213</td>\n",
       "      <td>1.702149</td>\n",
       "      <td>4.540045</td>\n",
       "      <td>NaN</td>\n",
       "      <td>0.261575</td>\n",
       "      <td>1.734876</td>\n",
       "      <td>3.178371</td>\n",
       "      <td>2.967659</td>\n",
       "      <td>2.637181</td>\n",
       "      <td>1.901663</td>\n",
       "      <td>NaN</td>\n",
       "      <td>0.331007</td>\n",
       "    </tr>\n",
       "    <tr>\n",
       "      <th>360998</th>\n",
       "      <th>17</th>\n",
       "      <th>1</th>\n",
       "      <td>NaN</td>\n",
       "      <td>NaN</td>\n",
       "      <td>0.980204</td>\n",
       "      <td>NaN</td>\n",
       "      <td>NaN</td>\n",
       "      <td>NaN</td>\n",
       "      <td>NaN</td>\n",
       "      <td>NaN</td>\n",
       "      <td>NaN</td>\n",
       "      <td>NaN</td>\n",
       "      <td>NaN</td>\n",
       "      <td>NaN</td>\n",
       "      <td>NaN</td>\n",
       "      <td>NaN</td>\n",
       "      <td>NaN</td>\n",
       "      <td>NaN</td>\n",
       "      <td>NaN</td>\n",
       "      <td>NaN</td>\n",
       "    </tr>\n",
       "    <tr>\n",
       "      <th>361099</th>\n",
       "      <th>17</th>\n",
       "      <th>1</th>\n",
       "      <td>NaN</td>\n",
       "      <td>NaN</td>\n",
       "      <td>NaN</td>\n",
       "      <td>0.292670</td>\n",
       "      <td>0.678034</td>\n",
       "      <td>-1.347074</td>\n",
       "      <td>1.332366</td>\n",
       "      <td>-0.010050</td>\n",
       "      <td>0.169743</td>\n",
       "      <td>NaN</td>\n",
       "      <td>1.660131</td>\n",
       "      <td>NaN</td>\n",
       "      <td>1.617406</td>\n",
       "      <td>NaN</td>\n",
       "      <td>NaN</td>\n",
       "      <td>NaN</td>\n",
       "      <td>2.061787</td>\n",
       "      <td>1.078410</td>\n",
       "    </tr>\n",
       "    <tr>\n",
       "      <th>361135</th>\n",
       "      <th>17</th>\n",
       "      <th>1</th>\n",
       "      <td>2.716484</td>\n",
       "      <td>-0.010050</td>\n",
       "      <td>NaN</td>\n",
       "      <td>1.702928</td>\n",
       "      <td>0.688135</td>\n",
       "      <td>2.714720</td>\n",
       "      <td>2.802819</td>\n",
       "      <td>2.285236</td>\n",
       "      <td>2.026402</td>\n",
       "      <td>0.612479</td>\n",
       "      <td>3.401473</td>\n",
       "      <td>0.405465</td>\n",
       "      <td>0.914289</td>\n",
       "      <td>NaN</td>\n",
       "      <td>0.332894</td>\n",
       "      <td>0.797764</td>\n",
       "      <td>0.405465</td>\n",
       "      <td>2.557615</td>\n",
       "    </tr>\n",
       "    <tr>\n",
       "      <th>361153</th>\n",
       "      <th>17</th>\n",
       "      <th>1</th>\n",
       "      <td>NaN</td>\n",
       "      <td>1.842928</td>\n",
       "      <td>NaN</td>\n",
       "      <td>NaN</td>\n",
       "      <td>NaN</td>\n",
       "      <td>-0.703198</td>\n",
       "      <td>0.395415</td>\n",
       "      <td>0.368109</td>\n",
       "      <td>NaN</td>\n",
       "      <td>NaN</td>\n",
       "      <td>NaN</td>\n",
       "      <td>1.790926</td>\n",
       "      <td>1.249902</td>\n",
       "      <td>NaN</td>\n",
       "      <td>NaN</td>\n",
       "      <td>NaN</td>\n",
       "      <td>NaN</td>\n",
       "      <td>-0.010050</td>\n",
       "    </tr>\n",
       "  </tbody>\n",
       "</table>\n",
       "</div>"
      ],
      "text/plain": [
       "               alcbev    bakery      beef    cereal      eggs  fresh_fruit  \\\n",
       "j      t  m                                                                  \n",
       "360993 17 1  2.302585  1.518990  1.357236  0.649485  2.082611     3.340739   \n",
       "360998 17 1       NaN       NaN  0.980204       NaN       NaN          NaN   \n",
       "361099 17 1       NaN       NaN       NaN  0.292670  0.678034    -1.347074   \n",
       "361135 17 1  2.716484 -0.010050       NaN  1.702928  0.688135     2.714720   \n",
       "361153 17 1       NaN  1.842928       NaN       NaN       NaN    -0.703198   \n",
       "\n",
       "             fresh_veg      milk  non_alc_bevs      oils  othdairy   othmeat  \\\n",
       "j      t  m                                                                    \n",
       "360993 17 1   3.657213  1.702149      4.540045       NaN  0.261575  1.734876   \n",
       "360998 17 1        NaN       NaN           NaN       NaN       NaN       NaN   \n",
       "361099 17 1   1.332366 -0.010050      0.169743       NaN  1.660131       NaN   \n",
       "361135 17 1   2.802819  2.285236      2.026402  0.612479  3.401473  0.405465   \n",
       "361153 17 1   0.395415  0.368109           NaN       NaN       NaN  1.790926   \n",
       "\n",
       "              poultry      pork  procfruit  proc_veg   seafood    sweets  \n",
       "j      t  m                                                               \n",
       "360993 17 1  3.178371  2.967659   2.637181  1.901663       NaN  0.331007  \n",
       "360998 17 1       NaN       NaN        NaN       NaN       NaN       NaN  \n",
       "361099 17 1  1.617406       NaN        NaN       NaN  2.061787  1.078410  \n",
       "361135 17 1  0.914289       NaN   0.332894  0.797764  0.405465  2.557615  \n",
       "361153 17 1  1.249902       NaN        NaN       NaN       NaN -0.010050  "
      ]
     },
     "execution_count": 412,
     "metadata": {},
     "output_type": "execute_result"
    }
   ],
   "source": [
    "Y_no.head()"
   ]
  },
  {
   "cell_type": "code",
   "execution_count": 414,
   "metadata": {
    "ExecuteTime": {
     "end_time": "2019-04-29T06:54:29.178302Z",
     "start_time": "2019-04-29T06:54:27.658302Z"
    }
   },
   "outputs": [
    {
     "data": {
      "text/html": [
       "<div>\n",
       "<style scoped>\n",
       "    .dataframe tbody tr th:only-of-type {\n",
       "        vertical-align: middle;\n",
       "    }\n",
       "\n",
       "    .dataframe tbody tr th {\n",
       "        vertical-align: top;\n",
       "    }\n",
       "\n",
       "    .dataframe thead th {\n",
       "        text-align: right;\n",
       "    }\n",
       "</style>\n",
       "<table border=\"1\" class=\"dataframe\">\n",
       "  <thead>\n",
       "    <tr style=\"text-align: right;\">\n",
       "      <th></th>\n",
       "      <th>beta</th>\n",
       "    </tr>\n",
       "    <tr>\n",
       "      <th>i</th>\n",
       "      <th></th>\n",
       "    </tr>\n",
       "  </thead>\n",
       "  <tbody>\n",
       "    <tr>\n",
       "      <th>alcbev</th>\n",
       "      <td>0.356074</td>\n",
       "    </tr>\n",
       "    <tr>\n",
       "      <th>bakery</th>\n",
       "      <td>0.573952</td>\n",
       "    </tr>\n",
       "    <tr>\n",
       "      <th>beef</th>\n",
       "      <td>0.278181</td>\n",
       "    </tr>\n",
       "    <tr>\n",
       "      <th>cereal</th>\n",
       "      <td>0.490583</td>\n",
       "    </tr>\n",
       "    <tr>\n",
       "      <th>eggs</th>\n",
       "      <td>0.344141</td>\n",
       "    </tr>\n",
       "    <tr>\n",
       "      <th>fresh_fruit</th>\n",
       "      <td>0.672120</td>\n",
       "    </tr>\n",
       "    <tr>\n",
       "      <th>fresh_veg</th>\n",
       "      <td>0.665859</td>\n",
       "    </tr>\n",
       "    <tr>\n",
       "      <th>milk</th>\n",
       "      <td>0.396441</td>\n",
       "    </tr>\n",
       "    <tr>\n",
       "      <th>non_alc_bevs</th>\n",
       "      <td>0.626615</td>\n",
       "    </tr>\n",
       "    <tr>\n",
       "      <th>oils</th>\n",
       "      <td>0.326054</td>\n",
       "    </tr>\n",
       "    <tr>\n",
       "      <th>othdairy</th>\n",
       "      <td>0.556001</td>\n",
       "    </tr>\n",
       "    <tr>\n",
       "      <th>othmeat</th>\n",
       "      <td>0.477165</td>\n",
       "    </tr>\n",
       "    <tr>\n",
       "      <th>pork</th>\n",
       "      <td>0.250841</td>\n",
       "    </tr>\n",
       "    <tr>\n",
       "      <th>poultry</th>\n",
       "      <td>0.282382</td>\n",
       "    </tr>\n",
       "    <tr>\n",
       "      <th>proc_veg</th>\n",
       "      <td>0.533137</td>\n",
       "    </tr>\n",
       "    <tr>\n",
       "      <th>procfruit</th>\n",
       "      <td>0.483438</td>\n",
       "    </tr>\n",
       "    <tr>\n",
       "      <th>seafood</th>\n",
       "      <td>0.331654</td>\n",
       "    </tr>\n",
       "    <tr>\n",
       "      <th>sweets</th>\n",
       "      <td>0.538605</td>\n",
       "    </tr>\n",
       "  </tbody>\n",
       "</table>\n",
       "</div>"
      ],
      "text/plain": [
       "                  beta\n",
       "i                     \n",
       "alcbev        0.356074\n",
       "bakery        0.573952\n",
       "beef          0.278181\n",
       "cereal        0.490583\n",
       "eggs          0.344141\n",
       "fresh_fruit   0.672120\n",
       "fresh_veg     0.665859\n",
       "milk          0.396441\n",
       "non_alc_bevs  0.626615\n",
       "oils          0.326054\n",
       "othdairy      0.556001\n",
       "othmeat       0.477165\n",
       "pork          0.250841\n",
       "poultry       0.282382\n",
       "proc_veg      0.533137\n",
       "procfruit     0.483438\n",
       "seafood       0.331654\n",
       "sweets        0.538605"
      ]
     },
     "execution_count": 414,
     "metadata": {},
     "output_type": "execute_result"
    }
   ],
   "source": [
    "result_no = cfe.Result(y = Y_no, z = Z_no)\n",
    "result_no.get_reduced_form()\n",
    "result_no.delta.to_dataframe().unstack('k')\n",
    "result_no.a.to_dataframe().unstack('i')\n",
    "result_no.get_beta().to_dataframe()"
   ]
  },
  {
   "cell_type": "code",
   "execution_count": 416,
   "metadata": {
    "ExecuteTime": {
     "end_time": "2019-04-29T06:55:10.961565Z",
     "start_time": "2019-04-29T06:55:10.917754Z"
    }
   },
   "outputs": [
    {
     "data": {
      "text/plain": [
       "<xarray.Result>\n",
       "Dimensions:           (i: 18, j: 485, k: 5, kp: 5, m: 1, t: 1)\n",
       "Coordinates:\n",
       "  * k                 (k) object 'age' 'M' 'log_fsize' 'vehicle' 'child_age'\n",
       "  * m                 (m) int64 1\n",
       "  * t                 (t) int64 17\n",
       "  * j                 (j) int64 360993 360998 361099 ... 383852 383894 383928\n",
       "  * i                 (i) object 'alcbev' 'bakery' 'beef' ... 'seafood' 'sweets'\n",
       "  * kp                (kp) <U9 'M' 'age' 'child_age' 'log_fsize' 'vehicle'\n",
       "Data variables:\n",
       "    alpha             object None\n",
       "    beta              (i) float64 0.3561 0.574 0.2782 ... 0.4834 0.3317 0.5386\n",
       "    delta             (k, i) float64 -0.002177 0.005167 ... -0.05416 -0.02182\n",
       "    prices            object None\n",
       "    characteristics   (k, j, t, m) float64 62.0 45.0 60.0 71.0 ... 0.0 0.0 7.0\n",
       "    loglambdas        (j, t, m) float64 -1.181 3.486 nan ... 1.778 nan 1.462\n",
       "    a                 (i, t, m) float64 2.731 1.223 1.34 ... 1.131 1.366 0.8688\n",
       "    yhat              object None\n",
       "    ce                (j, t, m, i) float64 -0.7383 -0.3443 -0.7485 ... nan nan\n",
       "    cehat             (j, t, m, i) float64 0.4207 0.6781 ... -0.4848 -0.7874\n",
       "    e                 object None\n",
       "    delta_covariance  (i, k, kp) float64 7.234e-05 2.459e-05 ... 9.142e-06\n",
       "    se_delta          (i, k) float64 0.004959 0.1479 0.2096 ... 0.05433 0.02742\n",
       "    se_beta           object None\n",
       "    se_alpha          object None\n",
       "    se_a              (i, t, m) float64 0.07381 0.04621 ... 0.06551 0.05912\n",
       "    y                 (i, j, t, m) float64 2.303 nan nan 2.716 ... nan nan nan\n",
       "    logp              object None\n",
       "    z                 (k, j, t, m) float64 62.0 45.0 60.0 71.0 ... 0.0 0.0 7.0\n",
       "Attributes:\n",
       "    firstround:            17\n",
       "    min_proportion_items:  0.125\n",
       "    min_xproducts:         30\n",
       "    useless_expenditures:  False\n",
       "    stderr_tol:            0.01\n",
       "    indices:               Indices(j='j', t='t', m='m', i='i', k='k')\n",
       "    verbose:               False"
      ]
     },
     "execution_count": 416,
     "metadata": {},
     "output_type": "execute_result"
    }
   ],
   "source": [
    "result_no"
   ]
  },
  {
   "cell_type": "code",
   "execution_count": 415,
   "metadata": {
    "ExecuteTime": {
     "end_time": "2019-04-29T06:54:52.664960Z",
     "start_time": "2019-04-29T06:54:52.620182Z"
    },
    "scrolled": true
   },
   "outputs": [
    {
     "data": {
      "text/plain": [
       "<xarray.DataArray (dim_0: 485, dim_1: 5)>\n",
       "array([[62.      ,  1.      ,  0.693147,  2.      ,  0.      ],\n",
       "       [45.      ,  0.      ,  0.693147,  2.      ,  7.      ],\n",
       "       [60.      ,  0.      ,  0.      ,       nan,  0.      ],\n",
       "       ...,\n",
       "       [28.      ,  0.      ,  1.098612,  3.      ,  0.      ],\n",
       "       [77.      ,  1.      ,  0.693147,  4.      ,  0.      ],\n",
       "       [61.      ,  0.      ,  1.386294,  4.      ,  7.      ]])\n",
       "Coordinates:\n",
       "  * dim_0    (dim_0) MultiIndex\n",
       "  - j        (dim_0) int64 360993 360998 361099 361135 ... 361650 361654 361695\n",
       "  - t        (dim_0) int64 17 17 17 17 17 17 17 17 ... 17 17 17 17 17 17 17 17\n",
       "  - m        (dim_0) int64 1 1 1 1 1 1 1 1 1 1 1 1 1 ... 1 1 1 1 1 1 1 1 1 1 1 1\n",
       "  * dim_1    (dim_1) object 'age' 'M' 'log_fsize' 'vehicle' 'child_age'"
      ]
     },
     "execution_count": 415,
     "metadata": {},
     "output_type": "execute_result"
    }
   ],
   "source": [
    "test = xr.DataArray(Z_no)\n",
    "test"
   ]
  },
  {
   "cell_type": "code",
   "execution_count": 402,
   "metadata": {
    "ExecuteTime": {
     "end_time": "2019-04-29T06:51:24.798527Z",
     "start_time": "2019-04-29T06:51:24.525464Z"
    }
   },
   "outputs": [
    {
     "data": {
      "text/plain": [
       "<matplotlib.axes._subplots.AxesSubplot at 0x1c32a31080>"
      ]
     },
     "execution_count": 402,
     "metadata": {},
     "output_type": "execute_result"
    },
    {
     "data": {
      "image/png": "[encoded data removed]",
      "text/plain": [
       "<Figure size 432x288 with 1 Axes>"
      ]
     },
     "metadata": {
      "needs_background": "light"
     },
     "output_type": "display_data"
    }
   ],
   "source": [
    "import matplotlib.pyplot as plt\n",
    "%matplotlib inline\n",
    "import matplotlib.cm as cm\n",
    "\n",
    "result_no.get_predicted_log_expenditures()\n",
    "\n",
    "x = result_no.y.sum('i').to_dataframe().squeeze()\n",
    "xhat = result_no.yhat.sum('i').to_dataframe().squeeze()\n",
    "\n",
    "# Make dataframe of actual & predicted\n",
    "df = pd.DataFrame({'Actual':x,'Predicted':xhat})\n",
    "\n",
    "df.plot.scatter(x='Predicted',y='Actual')"
   ]
  },
  {
   "cell_type": "code",
   "execution_count": 403,
   "metadata": {
    "ExecuteTime": {
     "end_time": "2019-04-29T06:51:26.885265Z",
     "start_time": "2019-04-29T06:51:26.627535Z"
    }
   },
   "outputs": [
    {
     "data": {
      "image/png": "[encoded data removed]",
      "text/plain": [
       "<Figure size 432x288 with 1 Axes>"
      ]
     },
     "metadata": {
      "needs_background": "light"
     },
     "output_type": "display_data"
    }
   ],
   "source": [
    "import pylab as pl \n",
    "\n",
    "# Turn off variation in household composition\n",
    "result_no['z'] = result_no['z']*0\n",
    "\n",
    "# select years and markets you want\n",
    "l0 = result_no.loglambdas.sel(t=17,m=1)\n",
    "\n",
    "# Predicted total expenditures given lambda & prices\n",
    "x0 = result_no.get_predicted_expenditures().sum('i').sel(t=17,m=1)\n",
    "\n",
    "pl.scatter(x0,l0)\n",
    "pl.show()"
   ]
  },
  {
   "cell_type": "code",
   "execution_count": 404,
   "metadata": {
    "ExecuteTime": {
     "end_time": "2019-04-29T06:51:29.470606Z",
     "start_time": "2019-04-29T06:51:29.430099Z"
    }
   },
   "outputs": [
    {
     "data": {
      "text/plain": [
       "i\n",
       "alcbev           2.731445\n",
       "bakery           1.222553\n",
       "beef             1.340057\n",
       "cereal           1.073745\n",
       "eggs             0.851550\n",
       "fresh_fruit      1.342131\n",
       "fresh_veg        1.361302\n",
       "milk             0.868345\n",
       "miscellaneous    1.877475\n",
       "non_alc_bevs     1.232566\n",
       "oils             1.029618\n",
       "othdairy         1.036096\n",
       "othmeat          0.960911\n",
       "pork             1.306786\n",
       "poultry          1.620314\n",
       "proc_veg         0.724839\n",
       "procfruit        1.130992\n",
       "seafood          1.365835\n",
       "sweets           0.868762\n",
       "Name: alpha, dtype: float64"
      ]
     },
     "execution_count": 404,
     "metadata": {},
     "output_type": "execute_result"
    }
   ],
   "source": [
    "result_no.get_alpha(as_df=True)"
   ]
  },
  {
   "cell_type": "code",
   "execution_count": 405,
   "metadata": {
    "ExecuteTime": {
     "end_time": "2019-04-29T06:51:33.602487Z",
     "start_time": "2019-04-29T06:51:33.578554Z"
    }
   },
   "outputs": [
    {
     "data": {
      "text/plain": [
       "i\n",
       "alcbev           0.325860\n",
       "bakery           0.585376\n",
       "beef             0.249245\n",
       "cereal           0.484646\n",
       "eggs             0.337738\n",
       "fresh_fruit      0.668820\n",
       "fresh_veg        0.648792\n",
       "milk             0.400234\n",
       "miscellaneous    0.641061\n",
       "non_alc_bevs     0.628499\n",
       "oils             0.319142\n",
       "othdairy         0.570271\n",
       "othmeat          0.487069\n",
       "pork             0.263726\n",
       "poultry          0.285556\n",
       "proc_veg         0.550511\n",
       "procfruit        0.464571\n",
       "seafood          0.324584\n",
       "sweets           0.527864\n",
       "Name: beta, dtype: float64"
      ]
     },
     "execution_count": 405,
     "metadata": {},
     "output_type": "execute_result"
    }
   ],
   "source": [
    "result_no.get_beta(as_df=True)"
   ]
  },
  {
   "cell_type": "code",
   "execution_count": 406,
   "metadata": {
    "ExecuteTime": {
     "end_time": "2019-04-29T06:51:39.000147Z",
     "start_time": "2019-04-29T06:51:38.976416Z"
    }
   },
   "outputs": [
    {
     "data": {
      "text/html": [
       "<div>\n",
       "<style scoped>\n",
       "    .dataframe tbody tr th:only-of-type {\n",
       "        vertical-align: middle;\n",
       "    }\n",
       "\n",
       "    .dataframe tbody tr th {\n",
       "        vertical-align: top;\n",
       "    }\n",
       "\n",
       "    .dataframe thead tr th {\n",
       "        text-align: left;\n",
       "    }\n",
       "\n",
       "    .dataframe thead tr:last-of-type th {\n",
       "        text-align: right;\n",
       "    }\n",
       "</style>\n",
       "<table border=\"1\" class=\"dataframe\">\n",
       "  <thead>\n",
       "    <tr>\n",
       "      <th></th>\n",
       "      <th colspan=\"5\" halign=\"left\">delta</th>\n",
       "    </tr>\n",
       "    <tr>\n",
       "      <th>k</th>\n",
       "      <th>M</th>\n",
       "      <th>age</th>\n",
       "      <th>child_age</th>\n",
       "      <th>log_fsize</th>\n",
       "      <th>vehicle</th>\n",
       "    </tr>\n",
       "    <tr>\n",
       "      <th>i</th>\n",
       "      <th></th>\n",
       "      <th></th>\n",
       "      <th></th>\n",
       "      <th></th>\n",
       "      <th></th>\n",
       "    </tr>\n",
       "  </thead>\n",
       "  <tbody>\n",
       "    <tr>\n",
       "      <th>alcbev</th>\n",
       "      <td>0.150227</td>\n",
       "      <td>-0.002177</td>\n",
       "      <td>-0.076943</td>\n",
       "      <td>0.142174</td>\n",
       "      <td>0.097789</td>\n",
       "    </tr>\n",
       "    <tr>\n",
       "      <th>bakery</th>\n",
       "      <td>-0.051377</td>\n",
       "      <td>0.005167</td>\n",
       "      <td>-0.005118</td>\n",
       "      <td>0.392855</td>\n",
       "      <td>0.049719</td>\n",
       "    </tr>\n",
       "    <tr>\n",
       "      <th>beef</th>\n",
       "      <td>0.191381</td>\n",
       "      <td>0.005322</td>\n",
       "      <td>0.018020</td>\n",
       "      <td>0.146062</td>\n",
       "      <td>0.071556</td>\n",
       "    </tr>\n",
       "    <tr>\n",
       "      <th>cereal</th>\n",
       "      <td>-0.042215</td>\n",
       "      <td>-0.001311</td>\n",
       "      <td>-0.012482</td>\n",
       "      <td>0.390245</td>\n",
       "      <td>0.034395</td>\n",
       "    </tr>\n",
       "    <tr>\n",
       "      <th>eggs</th>\n",
       "      <td>-0.042799</td>\n",
       "      <td>-0.003708</td>\n",
       "      <td>0.017175</td>\n",
       "      <td>-0.027634</td>\n",
       "      <td>0.063671</td>\n",
       "    </tr>\n",
       "    <tr>\n",
       "      <th>fresh_fruit</th>\n",
       "      <td>-0.055631</td>\n",
       "      <td>0.001553</td>\n",
       "      <td>-0.030673</td>\n",
       "      <td>0.598944</td>\n",
       "      <td>-0.006918</td>\n",
       "    </tr>\n",
       "    <tr>\n",
       "      <th>fresh_veg</th>\n",
       "      <td>-0.008470</td>\n",
       "      <td>0.000526</td>\n",
       "      <td>0.000931</td>\n",
       "      <td>0.339908</td>\n",
       "      <td>0.037456</td>\n",
       "    </tr>\n",
       "    <tr>\n",
       "      <th>milk</th>\n",
       "      <td>0.060387</td>\n",
       "      <td>0.001077</td>\n",
       "      <td>0.015796</td>\n",
       "      <td>0.352377</td>\n",
       "      <td>-0.040757</td>\n",
       "    </tr>\n",
       "    <tr>\n",
       "      <th>miscellaneous</th>\n",
       "      <td>0.065287</td>\n",
       "      <td>0.003457</td>\n",
       "      <td>-0.007489</td>\n",
       "      <td>0.381455</td>\n",
       "      <td>0.105632</td>\n",
       "    </tr>\n",
       "    <tr>\n",
       "      <th>non_alc_bevs</th>\n",
       "      <td>0.001281</td>\n",
       "      <td>0.006543</td>\n",
       "      <td>-0.012563</td>\n",
       "      <td>0.244919</td>\n",
       "      <td>0.072674</td>\n",
       "    </tr>\n",
       "    <tr>\n",
       "      <th>oils</th>\n",
       "      <td>0.128324</td>\n",
       "      <td>-0.001301</td>\n",
       "      <td>-0.003595</td>\n",
       "      <td>0.033174</td>\n",
       "      <td>0.082033</td>\n",
       "    </tr>\n",
       "    <tr>\n",
       "      <th>othdairy</th>\n",
       "      <td>0.025580</td>\n",
       "      <td>0.006533</td>\n",
       "      <td>0.024955</td>\n",
       "      <td>0.338769</td>\n",
       "      <td>0.047251</td>\n",
       "    </tr>\n",
       "    <tr>\n",
       "      <th>othmeat</th>\n",
       "      <td>0.112858</td>\n",
       "      <td>0.001720</td>\n",
       "      <td>0.003219</td>\n",
       "      <td>0.158281</td>\n",
       "      <td>0.045191</td>\n",
       "    </tr>\n",
       "    <tr>\n",
       "      <th>pork</th>\n",
       "      <td>0.045742</td>\n",
       "      <td>-0.002865</td>\n",
       "      <td>0.017353</td>\n",
       "      <td>0.259775</td>\n",
       "      <td>0.131887</td>\n",
       "    </tr>\n",
       "    <tr>\n",
       "      <th>poultry</th>\n",
       "      <td>0.045476</td>\n",
       "      <td>-0.003943</td>\n",
       "      <td>0.034675</td>\n",
       "      <td>0.090157</td>\n",
       "      <td>0.072560</td>\n",
       "    </tr>\n",
       "    <tr>\n",
       "      <th>proc_veg</th>\n",
       "      <td>-0.190037</td>\n",
       "      <td>0.002398</td>\n",
       "      <td>-0.041228</td>\n",
       "      <td>0.374619</td>\n",
       "      <td>0.002344</td>\n",
       "    </tr>\n",
       "    <tr>\n",
       "      <th>procfruit</th>\n",
       "      <td>0.213698</td>\n",
       "      <td>-0.003880</td>\n",
       "      <td>0.011932</td>\n",
       "      <td>-0.121069</td>\n",
       "      <td>0.083163</td>\n",
       "    </tr>\n",
       "    <tr>\n",
       "      <th>seafood</th>\n",
       "      <td>-0.093816</td>\n",
       "      <td>0.006666</td>\n",
       "      <td>-0.054161</td>\n",
       "      <td>0.339111</td>\n",
       "      <td>-0.026974</td>\n",
       "    </tr>\n",
       "    <tr>\n",
       "      <th>sweets</th>\n",
       "      <td>-0.005948</td>\n",
       "      <td>0.002622</td>\n",
       "      <td>-0.021817</td>\n",
       "      <td>0.129186</td>\n",
       "      <td>0.042497</td>\n",
       "    </tr>\n",
       "  </tbody>\n",
       "</table>\n",
       "</div>"
      ],
      "text/plain": [
       "                  delta                                        \n",
       "k                     M       age child_age log_fsize   vehicle\n",
       "i                                                              \n",
       "alcbev         0.150227 -0.002177 -0.076943  0.142174  0.097789\n",
       "bakery        -0.051377  0.005167 -0.005118  0.392855  0.049719\n",
       "beef           0.191381  0.005322  0.018020  0.146062  0.071556\n",
       "cereal        -0.042215 -0.001311 -0.012482  0.390245  0.034395\n",
       "eggs          -0.042799 -0.003708  0.017175 -0.027634  0.063671\n",
       "fresh_fruit   -0.055631  0.001553 -0.030673  0.598944 -0.006918\n",
       "fresh_veg     -0.008470  0.000526  0.000931  0.339908  0.037456\n",
       "milk           0.060387  0.001077  0.015796  0.352377 -0.040757\n",
       "miscellaneous  0.065287  0.003457 -0.007489  0.381455  0.105632\n",
       "non_alc_bevs   0.001281  0.006543 -0.012563  0.244919  0.072674\n",
       "oils           0.128324 -0.001301 -0.003595  0.033174  0.082033\n",
       "othdairy       0.025580  0.006533  0.024955  0.338769  0.047251\n",
       "othmeat        0.112858  0.001720  0.003219  0.158281  0.045191\n",
       "pork           0.045742 -0.002865  0.017353  0.259775  0.131887\n",
       "poultry        0.045476 -0.003943  0.034675  0.090157  0.072560\n",
       "proc_veg      -0.190037  0.002398 -0.041228  0.374619  0.002344\n",
       "procfruit      0.213698 -0.003880  0.011932 -0.121069  0.083163\n",
       "seafood       -0.093816  0.006666 -0.054161  0.339111 -0.026974\n",
       "sweets        -0.005948  0.002622 -0.021817  0.129186  0.042497"
      ]
     },
     "execution_count": 406,
     "metadata": {},
     "output_type": "execute_result"
    }
   ],
   "source": [
    "result_no.delta.to_dataframe().unstack('k')"
   ]
  },
  {
   "cell_type": "markdown",
   "metadata": {
    "ExecuteTime": {
     "end_time": "2019-04-29T01:45:47.067108Z",
     "start_time": "2019-04-29T01:45:47.063763Z"
    }
   },
   "source": [
    "## Demands\n",
    "\n"
   ]
  },
  {
   "cell_type": "markdown",
   "metadata": {},
   "source": [
    "As mentioned above, we&rsquo;ve estimated the parameters of a Frischian\n",
    "demand system (demands that depend on prices and the households\n",
    "marginal utility of expenditures).  But we can *compute* the\n",
    "corresponding Marshallian (depends on prices and budget) or Hicksian\n",
    "(depends on prices and the level of utility) demands for this same\n",
    "population, using the `cfe.Result.demands` method.  \n",
    "\n",
    "Let&rsquo;s compute Marshallian demands.  Start with a choice of budget $x$\n",
    "and prices.  We&rsquo;ll use the earliest prices, from 1975, and focus on\n",
    "village A as the market we&rsquo;re interested in\n",
    "\n"
   ]
  },
  {
   "cell_type": "code",
   "execution_count": 407,
   "metadata": {
    "ExecuteTime": {
     "end_time": "2019-04-29T06:51:42.929761Z",
     "start_time": "2019-04-29T06:51:42.895387Z"
    }
   },
   "outputs": [
    {
     "data": {
      "text/plain": [
       "<xarray.Result>\n",
       "Dimensions:           (i: 19, j: 485, k: 5, kp: 5, m: 1, t: 1)\n",
       "Coordinates:\n",
       "  * k                 (k) object 'age' 'M' 'log_fsize' 'vehicle' 'child_age'\n",
       "  * m                 (m) int64 1\n",
       "  * t                 (t) int64 17\n",
       "  * j                 (j) int64 360993 360998 361099 ... 383852 383894 383928\n",
       "  * i                 (i) object 'alcbev' 'bakery' 'beef' ... 'seafood' 'sweets'\n",
       "  * kp                (kp) <U9 'M' 'age' 'child_age' 'log_fsize' 'vehicle'\n",
       "Data variables:\n",
       "    alpha             (i) float64 2.731 1.223 1.34 1.074 ... 1.131 1.366 0.8688\n",
       "    beta              (i) float64 0.3259 0.5854 0.2492 ... 0.4646 0.3246 0.5279\n",
       "    delta             (k, i) float64 -0.002177 0.005167 ... -0.05416 -0.02182\n",
       "    prices            object None\n",
       "    characteristics   (k, j, t, m) float64 62.0 45.0 60.0 71.0 ... 0.0 0.0 7.0\n",
       "    loglambdas        (j, t, m) float64 -1.366 3.891 nan ... 1.876 nan 1.404\n",
       "    a                 (i, t, m) float64 2.731 1.223 1.34 ... 1.131 1.366 0.8688\n",
       "    yhat              (j, t, m, i) float64 3.177 2.022 1.681 ... 0.91 0.1275\n",
       "    ce                (j, t, m, i) float64 -0.7383 -0.3443 -0.7485 ... nan nan\n",
       "    cehat             (j, t, m, i) float64 0.4452 0.7998 ... -0.4558 -0.7413\n",
       "    e                 (i, j, t, m) float64 -0.8741 nan nan ... nan nan nan\n",
       "    delta_covariance  (i, k, kp) float64 7.234e-05 2.459e-05 ... 9.142e-06\n",
       "    se_delta          (i, k) float64 0.004959 0.1479 0.2096 ... 0.05433 0.02742\n",
       "    se_beta           object None\n",
       "    se_alpha          (i) float64 0.07381 0.04621 0.06016 ... 0.06551 0.05912\n",
       "    se_a              (i, t, m) float64 0.07381 0.04621 ... 0.06551 0.05912\n",
       "    y                 (i, j, t, m) float64 2.303 nan nan 2.716 ... nan nan nan\n",
       "    logp              object None\n",
       "    z                 (k, j, t, m) float64 0.0 0.0 0.0 0.0 ... 0.0 0.0 0.0 0.0\n",
       "Attributes:\n",
       "    firstround:            17\n",
       "    min_proportion_items:  0.125\n",
       "    min_xproducts:         30\n",
       "    useless_expenditures:  False\n",
       "    stderr_tol:            0.01\n",
       "    indices:               Indices(j='j', t='t', m='m', i='i', k='k')\n",
       "    verbose:               False"
      ]
     },
     "execution_count": 407,
     "metadata": {},
     "output_type": "execute_result"
    }
   ],
   "source": [
    "result_no"
   ]
  },
  {
   "cell_type": "code",
   "execution_count": 344,
   "metadata": {
    "ExecuteTime": {
     "end_time": "2019-04-29T05:58:10.491533Z",
     "start_time": "2019-04-29T05:58:10.470609Z"
    }
   },
   "outputs": [
    {
     "ename": "ValueError",
     "evalue": "dimensions or multi-index levels ['t', 'm'] do not exist",
     "output_type": "error",
     "traceback": [
      "\u001b[0;31m---------------------------------------------------------------------------\u001b[0m",
      "\u001b[0;31mValueError\u001b[0m                                Traceback (most recent call last)",
      "\u001b[0;32m<ipython-input-344-66f2c7b83623>\u001b[0m in \u001b[0;36m<module>\u001b[0;34m\u001b[0m\n\u001b[1;32m      2\u001b[0m \u001b[0;34m\u001b[0m\u001b[0m\n\u001b[1;32m      3\u001b[0m \u001b[0;31m# Note selection of prices for 1975 for market A\u001b[0m\u001b[0;34m\u001b[0m\u001b[0;34m\u001b[0m\u001b[0;34m\u001b[0m\u001b[0m\n\u001b[0;32m----> 4\u001b[0;31m \u001b[0mp\u001b[0m \u001b[0;34m=\u001b[0m \u001b[0mresult_no\u001b[0m\u001b[0;34m.\u001b[0m\u001b[0mprices\u001b[0m\u001b[0;34m.\u001b[0m\u001b[0msel\u001b[0m\u001b[0;34m(\u001b[0m\u001b[0mt\u001b[0m\u001b[0;34m=\u001b[0m\u001b[0;36m17\u001b[0m\u001b[0;34m,\u001b[0m\u001b[0mm\u001b[0m\u001b[0;34m=\u001b[0m\u001b[0;36m1\u001b[0m\u001b[0;34m)\u001b[0m\u001b[0;34m.\u001b[0m\u001b[0mcopy\u001b[0m\u001b[0;34m(\u001b[0m\u001b[0;34m)\u001b[0m\u001b[0;34m\u001b[0m\u001b[0;34m\u001b[0m\u001b[0m\n\u001b[0m\u001b[1;32m      5\u001b[0m \u001b[0;34m\u001b[0m\u001b[0m\n\u001b[1;32m      6\u001b[0m \u001b[0mp\u001b[0m\u001b[0;34m.\u001b[0m\u001b[0mto_dataframe\u001b[0m\u001b[0;34m(\u001b[0m\u001b[0;34m)\u001b[0m\u001b[0;34m\u001b[0m\u001b[0;34m\u001b[0m\u001b[0m\n",
      "\u001b[0;32m~/anaconda3/lib/python3.7/site-packages/xarray/core/dataarray.py\u001b[0m in \u001b[0;36msel\u001b[0;34m(self, indexers, method, tolerance, drop, **indexers_kwargs)\u001b[0m\n\u001b[1;32m    853\u001b[0m         ds = self._to_temp_dataset().sel(\n\u001b[1;32m    854\u001b[0m             \u001b[0mindexers\u001b[0m\u001b[0;34m=\u001b[0m\u001b[0mindexers\u001b[0m\u001b[0;34m,\u001b[0m \u001b[0mdrop\u001b[0m\u001b[0;34m=\u001b[0m\u001b[0mdrop\u001b[0m\u001b[0;34m,\u001b[0m \u001b[0mmethod\u001b[0m\u001b[0;34m=\u001b[0m\u001b[0mmethod\u001b[0m\u001b[0;34m,\u001b[0m \u001b[0mtolerance\u001b[0m\u001b[0;34m=\u001b[0m\u001b[0mtolerance\u001b[0m\u001b[0;34m,\u001b[0m\u001b[0;34m\u001b[0m\u001b[0;34m\u001b[0m\u001b[0m\n\u001b[0;32m--> 855\u001b[0;31m             **indexers_kwargs)\n\u001b[0m\u001b[1;32m    856\u001b[0m         \u001b[0;32mreturn\u001b[0m \u001b[0mself\u001b[0m\u001b[0;34m.\u001b[0m\u001b[0m_from_temp_dataset\u001b[0m\u001b[0;34m(\u001b[0m\u001b[0mds\u001b[0m\u001b[0;34m)\u001b[0m\u001b[0;34m\u001b[0m\u001b[0;34m\u001b[0m\u001b[0m\n\u001b[1;32m    857\u001b[0m \u001b[0;34m\u001b[0m\u001b[0m\n",
      "\u001b[0;32m~/anaconda3/lib/python3.7/site-packages/xarray/core/dataset.py\u001b[0m in \u001b[0;36msel\u001b[0;34m(self, indexers, method, tolerance, drop, **indexers_kwargs)\u001b[0m\n\u001b[1;32m   1729\u001b[0m         \u001b[0mindexers\u001b[0m \u001b[0;34m=\u001b[0m \u001b[0meither_dict_or_kwargs\u001b[0m\u001b[0;34m(\u001b[0m\u001b[0mindexers\u001b[0m\u001b[0;34m,\u001b[0m \u001b[0mindexers_kwargs\u001b[0m\u001b[0;34m,\u001b[0m \u001b[0;34m'sel'\u001b[0m\u001b[0;34m)\u001b[0m\u001b[0;34m\u001b[0m\u001b[0;34m\u001b[0m\u001b[0m\n\u001b[1;32m   1730\u001b[0m         pos_indexers, new_indexes = remap_label_indexers(\n\u001b[0;32m-> 1731\u001b[0;31m             self, indexers=indexers, method=method, tolerance=tolerance)\n\u001b[0m\u001b[1;32m   1732\u001b[0m         \u001b[0mresult\u001b[0m \u001b[0;34m=\u001b[0m \u001b[0mself\u001b[0m\u001b[0;34m.\u001b[0m\u001b[0misel\u001b[0m\u001b[0;34m(\u001b[0m\u001b[0mindexers\u001b[0m\u001b[0;34m=\u001b[0m\u001b[0mpos_indexers\u001b[0m\u001b[0;34m,\u001b[0m \u001b[0mdrop\u001b[0m\u001b[0;34m=\u001b[0m\u001b[0mdrop\u001b[0m\u001b[0;34m)\u001b[0m\u001b[0;34m\u001b[0m\u001b[0;34m\u001b[0m\u001b[0m\n\u001b[1;32m   1733\u001b[0m         \u001b[0;32mreturn\u001b[0m \u001b[0mresult\u001b[0m\u001b[0;34m.\u001b[0m\u001b[0m_overwrite_indexes\u001b[0m\u001b[0;34m(\u001b[0m\u001b[0mnew_indexes\u001b[0m\u001b[0;34m)\u001b[0m\u001b[0;34m\u001b[0m\u001b[0;34m\u001b[0m\u001b[0m\n",
      "\u001b[0;32m~/anaconda3/lib/python3.7/site-packages/xarray/core/coordinates.py\u001b[0m in \u001b[0;36mremap_label_indexers\u001b[0;34m(obj, indexers, method, tolerance, **indexers_kwargs)\u001b[0m\n\u001b[1;32m    315\u001b[0m \u001b[0;34m\u001b[0m\u001b[0m\n\u001b[1;32m    316\u001b[0m     pos_indexers, new_indexes = indexing.remap_label_indexers(\n\u001b[0;32m--> 317\u001b[0;31m         \u001b[0mobj\u001b[0m\u001b[0;34m,\u001b[0m \u001b[0mv_indexers\u001b[0m\u001b[0;34m,\u001b[0m \u001b[0mmethod\u001b[0m\u001b[0;34m=\u001b[0m\u001b[0mmethod\u001b[0m\u001b[0;34m,\u001b[0m \u001b[0mtolerance\u001b[0m\u001b[0;34m=\u001b[0m\u001b[0mtolerance\u001b[0m\u001b[0;34m\u001b[0m\u001b[0;34m\u001b[0m\u001b[0m\n\u001b[0m\u001b[1;32m    318\u001b[0m     )\n\u001b[1;32m    319\u001b[0m     \u001b[0;31m# attach indexer's coordinate to pos_indexers\u001b[0m\u001b[0;34m\u001b[0m\u001b[0;34m\u001b[0m\u001b[0;34m\u001b[0m\u001b[0m\n",
      "\u001b[0;32m~/anaconda3/lib/python3.7/site-packages/xarray/core/indexing.py\u001b[0m in \u001b[0;36mremap_label_indexers\u001b[0;34m(data_obj, indexers, method, tolerance)\u001b[0m\n\u001b[1;32m    237\u001b[0m     \u001b[0mnew_indexes\u001b[0m \u001b[0;34m=\u001b[0m \u001b[0;34m{\u001b[0m\u001b[0;34m}\u001b[0m\u001b[0;34m\u001b[0m\u001b[0;34m\u001b[0m\u001b[0m\n\u001b[1;32m    238\u001b[0m \u001b[0;34m\u001b[0m\u001b[0m\n\u001b[0;32m--> 239\u001b[0;31m     \u001b[0mdim_indexers\u001b[0m \u001b[0;34m=\u001b[0m \u001b[0mget_dim_indexers\u001b[0m\u001b[0;34m(\u001b[0m\u001b[0mdata_obj\u001b[0m\u001b[0;34m,\u001b[0m \u001b[0mindexers\u001b[0m\u001b[0;34m)\u001b[0m\u001b[0;34m\u001b[0m\u001b[0;34m\u001b[0m\u001b[0m\n\u001b[0m\u001b[1;32m    240\u001b[0m     \u001b[0;32mfor\u001b[0m \u001b[0mdim\u001b[0m\u001b[0;34m,\u001b[0m \u001b[0mlabel\u001b[0m \u001b[0;32min\u001b[0m \u001b[0mdim_indexers\u001b[0m\u001b[0;34m.\u001b[0m\u001b[0mitems\u001b[0m\u001b[0;34m(\u001b[0m\u001b[0;34m)\u001b[0m\u001b[0;34m:\u001b[0m\u001b[0;34m\u001b[0m\u001b[0;34m\u001b[0m\u001b[0m\n\u001b[1;32m    241\u001b[0m         \u001b[0;32mtry\u001b[0m\u001b[0;34m:\u001b[0m\u001b[0;34m\u001b[0m\u001b[0;34m\u001b[0m\u001b[0m\n",
      "\u001b[0;32m~/anaconda3/lib/python3.7/site-packages/xarray/core/indexing.py\u001b[0m in \u001b[0;36mget_dim_indexers\u001b[0;34m(data_obj, indexers)\u001b[0m\n\u001b[1;32m    205\u001b[0m     \u001b[0;32mif\u001b[0m \u001b[0minvalid\u001b[0m\u001b[0;34m:\u001b[0m\u001b[0;34m\u001b[0m\u001b[0;34m\u001b[0m\u001b[0m\n\u001b[1;32m    206\u001b[0m         raise ValueError(\"dimensions or multi-index levels %r do not exist\"\n\u001b[0;32m--> 207\u001b[0;31m                          % invalid)\n\u001b[0m\u001b[1;32m    208\u001b[0m \u001b[0;34m\u001b[0m\u001b[0m\n\u001b[1;32m    209\u001b[0m     \u001b[0mlevel_indexers\u001b[0m \u001b[0;34m=\u001b[0m \u001b[0mdefaultdict\u001b[0m\u001b[0;34m(\u001b[0m\u001b[0mdict\u001b[0m\u001b[0;34m)\u001b[0m\u001b[0;34m\u001b[0m\u001b[0;34m\u001b[0m\u001b[0m\n",
      "\u001b[0;31mValueError\u001b[0m: dimensions or multi-index levels ['t', 'm'] do not exist"
     ]
    }
   ],
   "source": [
    "x = 50 # Budget\n",
    "\n",
    "p = result_no.prices.sel(t=17,m=1).copy()\n",
    "\n",
    "p.to_dataframe()"
   ]
  },
  {
   "cell_type": "code",
   "execution_count": 258,
   "metadata": {
    "ExecuteTime": {
     "end_time": "2019-04-29T05:13:54.218854Z",
     "start_time": "2019-04-29T05:13:54.179685Z"
    }
   },
   "outputs": [
    {
     "ename": "ValueError",
     "evalue": "conflicting MultiIndex level name(s):\n'i' (dim_0), (i)",
     "output_type": "error",
     "traceback": [
      "\u001b[0;31m---------------------------------------------------------------------------\u001b[0m",
      "\u001b[0;31mValueError\u001b[0m                                Traceback (most recent call last)",
      "\u001b[0;32m<ipython-input-258-fb0106ade10b>\u001b[0m in \u001b[0;36m<module>\u001b[0;34m\u001b[0m\n\u001b[0;32m----> 1\u001b[0;31m \u001b[0mc_no\u001b[0m\u001b[0;34m=\u001b[0m\u001b[0mresult_no\u001b[0m\u001b[0;34m.\u001b[0m\u001b[0mdemands\u001b[0m\u001b[0;34m(\u001b[0m\u001b[0mx\u001b[0m\u001b[0;34m,\u001b[0m\u001b[0mp_no\u001b[0m\u001b[0;34m)\u001b[0m\u001b[0;34m\u001b[0m\u001b[0;34m\u001b[0m\u001b[0m\n\u001b[0m\u001b[1;32m      2\u001b[0m \u001b[0mc_no\u001b[0m\u001b[0;34m\u001b[0m\u001b[0;34m\u001b[0m\u001b[0m\n",
      "\u001b[0;32m~/anaconda3/lib/python3.7/site-packages/cfe/result.py\u001b[0m in \u001b[0;36m_demands\u001b[0;34m(self, x, p, z, type)\u001b[0m\n\u001b[1;32m    614\u001b[0m     \"\"\"\n\u001b[1;32m    615\u001b[0m \u001b[0;34m\u001b[0m\u001b[0m\n\u001b[0;32m--> 616\u001b[0;31m     \u001b[0mbeta\u001b[0m \u001b[0;34m=\u001b[0m \u001b[0mself\u001b[0m\u001b[0;34m.\u001b[0m\u001b[0mget_beta\u001b[0m\u001b[0;34m(\u001b[0m\u001b[0;34m)\u001b[0m\u001b[0;34m\u001b[0m\u001b[0;34m\u001b[0m\u001b[0m\n\u001b[0m\u001b[1;32m    617\u001b[0m     \u001b[0mn\u001b[0m \u001b[0;34m=\u001b[0m \u001b[0mlen\u001b[0m\u001b[0;34m(\u001b[0m\u001b[0mbeta\u001b[0m\u001b[0;34m)\u001b[0m\u001b[0;34m\u001b[0m\u001b[0;34m\u001b[0m\u001b[0m\n\u001b[1;32m    618\u001b[0m \u001b[0;34m\u001b[0m\u001b[0m\n",
      "\u001b[0;32m~/anaconda3/lib/python3.7/site-packages/xarray/core/dataset.py\u001b[0m in \u001b[0;36m__init__\u001b[0;34m(self, data_vars, coords, attrs, compat)\u001b[0m\n\u001b[1;32m    381\u001b[0m             \u001b[0mcoords\u001b[0m \u001b[0;34m=\u001b[0m \u001b[0;34m{\u001b[0m\u001b[0;34m}\u001b[0m\u001b[0;34m\u001b[0m\u001b[0;34m\u001b[0m\u001b[0m\n\u001b[1;32m    382\u001b[0m         \u001b[0;32mif\u001b[0m \u001b[0mdata_vars\u001b[0m \u001b[0;32mis\u001b[0m \u001b[0;32mnot\u001b[0m \u001b[0;32mNone\u001b[0m \u001b[0;32mor\u001b[0m \u001b[0mcoords\u001b[0m \u001b[0;32mis\u001b[0m \u001b[0;32mnot\u001b[0m \u001b[0;32mNone\u001b[0m\u001b[0;34m:\u001b[0m\u001b[0;34m\u001b[0m\u001b[0;34m\u001b[0m\u001b[0m\n\u001b[0;32m--> 383\u001b[0;31m             \u001b[0mself\u001b[0m\u001b[0;34m.\u001b[0m\u001b[0m_set_init_vars_and_dims\u001b[0m\u001b[0;34m(\u001b[0m\u001b[0mdata_vars\u001b[0m\u001b[0;34m,\u001b[0m \u001b[0mcoords\u001b[0m\u001b[0;34m,\u001b[0m \u001b[0mcompat\u001b[0m\u001b[0;34m)\u001b[0m\u001b[0;34m\u001b[0m\u001b[0;34m\u001b[0m\u001b[0m\n\u001b[0m\u001b[1;32m    384\u001b[0m \u001b[0;34m\u001b[0m\u001b[0m\n\u001b[1;32m    385\u001b[0m         \u001b[0;31m# TODO(shoyer): expose indexes as a public argument in __init__\u001b[0m\u001b[0;34m\u001b[0m\u001b[0;34m\u001b[0m\u001b[0;34m\u001b[0m\u001b[0m\n",
      "\u001b[0;32m~/anaconda3/lib/python3.7/site-packages/xarray/core/dataset.py\u001b[0m in \u001b[0;36m_set_init_vars_and_dims\u001b[0;34m(self, data_vars, coords, compat)\u001b[0m\n\u001b[1;32m    403\u001b[0m \u001b[0;34m\u001b[0m\u001b[0m\n\u001b[1;32m    404\u001b[0m         variables, coord_names, dims = merge_data_and_coords(\n\u001b[0;32m--> 405\u001b[0;31m             data_vars, coords, compat=compat)\n\u001b[0m\u001b[1;32m    406\u001b[0m \u001b[0;34m\u001b[0m\u001b[0m\n\u001b[1;32m    407\u001b[0m         \u001b[0mself\u001b[0m\u001b[0;34m.\u001b[0m\u001b[0m_variables\u001b[0m \u001b[0;34m=\u001b[0m \u001b[0mvariables\u001b[0m\u001b[0;34m\u001b[0m\u001b[0;34m\u001b[0m\u001b[0m\n",
      "\u001b[0;32m~/anaconda3/lib/python3.7/site-packages/xarray/core/merge.py\u001b[0m in \u001b[0;36mmerge_data_and_coords\u001b[0;34m(data, coords, compat, join)\u001b[0m\n\u001b[1;32m    375\u001b[0m     \u001b[0mindexes\u001b[0m \u001b[0;34m=\u001b[0m \u001b[0mdict\u001b[0m\u001b[0;34m(\u001b[0m\u001b[0mextract_indexes\u001b[0m\u001b[0;34m(\u001b[0m\u001b[0mcoords\u001b[0m\u001b[0;34m)\u001b[0m\u001b[0;34m)\u001b[0m\u001b[0;34m\u001b[0m\u001b[0;34m\u001b[0m\u001b[0m\n\u001b[1;32m    376\u001b[0m     return merge_core(objs, compat, join, explicit_coords=explicit_coords,\n\u001b[0;32m--> 377\u001b[0;31m                       indexes=indexes)\n\u001b[0m\u001b[1;32m    378\u001b[0m \u001b[0;34m\u001b[0m\u001b[0m\n\u001b[1;32m    379\u001b[0m \u001b[0;34m\u001b[0m\u001b[0m\n",
      "\u001b[0;32m~/anaconda3/lib/python3.7/site-packages/xarray/core/merge.py\u001b[0m in \u001b[0;36mmerge_core\u001b[0;34m(objs, compat, join, priority_arg, explicit_coords, indexes)\u001b[0m\n\u001b[1;32m    450\u001b[0m     \u001b[0mpriority_vars\u001b[0m \u001b[0;34m=\u001b[0m \u001b[0m_get_priority_vars\u001b[0m\u001b[0;34m(\u001b[0m\u001b[0maligned\u001b[0m\u001b[0;34m,\u001b[0m \u001b[0mpriority_arg\u001b[0m\u001b[0;34m,\u001b[0m \u001b[0mcompat\u001b[0m\u001b[0;34m=\u001b[0m\u001b[0mcompat\u001b[0m\u001b[0;34m)\u001b[0m\u001b[0;34m\u001b[0m\u001b[0;34m\u001b[0m\u001b[0m\n\u001b[1;32m    451\u001b[0m     \u001b[0mvariables\u001b[0m \u001b[0;34m=\u001b[0m \u001b[0mmerge_variables\u001b[0m\u001b[0;34m(\u001b[0m\u001b[0mexpanded\u001b[0m\u001b[0;34m,\u001b[0m \u001b[0mpriority_vars\u001b[0m\u001b[0;34m,\u001b[0m \u001b[0mcompat\u001b[0m\u001b[0;34m=\u001b[0m\u001b[0mcompat\u001b[0m\u001b[0;34m)\u001b[0m\u001b[0;34m\u001b[0m\u001b[0;34m\u001b[0m\u001b[0m\n\u001b[0;32m--> 452\u001b[0;31m     \u001b[0massert_unique_multiindex_level_names\u001b[0m\u001b[0;34m(\u001b[0m\u001b[0mvariables\u001b[0m\u001b[0;34m)\u001b[0m\u001b[0;34m\u001b[0m\u001b[0;34m\u001b[0m\u001b[0m\n\u001b[0m\u001b[1;32m    453\u001b[0m \u001b[0;34m\u001b[0m\u001b[0m\n\u001b[1;32m    454\u001b[0m     \u001b[0mdims\u001b[0m \u001b[0;34m=\u001b[0m \u001b[0mcalculate_dimensions\u001b[0m\u001b[0;34m(\u001b[0m\u001b[0mvariables\u001b[0m\u001b[0;34m)\u001b[0m\u001b[0;34m\u001b[0m\u001b[0;34m\u001b[0m\u001b[0m\n",
      "\u001b[0;32m~/anaconda3/lib/python3.7/site-packages/xarray/core/variable.py\u001b[0m in \u001b[0;36massert_unique_multiindex_level_names\u001b[0;34m(variables)\u001b[0m\n\u001b[1;32m   2116\u001b[0m         \u001b[0mconflict_str\u001b[0m \u001b[0;34m=\u001b[0m \u001b[0;34m'\\n'\u001b[0m\u001b[0;34m.\u001b[0m\u001b[0mjoin\u001b[0m\u001b[0;34m(\u001b[0m\u001b[0;34m[\u001b[0m\u001b[0;34m', '\u001b[0m\u001b[0;34m.\u001b[0m\u001b[0mjoin\u001b[0m\u001b[0;34m(\u001b[0m\u001b[0mv\u001b[0m\u001b[0;34m)\u001b[0m \u001b[0;32mfor\u001b[0m \u001b[0mv\u001b[0m \u001b[0;32min\u001b[0m \u001b[0mduplicate_names\u001b[0m\u001b[0;34m]\u001b[0m\u001b[0;34m)\u001b[0m\u001b[0;34m\u001b[0m\u001b[0;34m\u001b[0m\u001b[0m\n\u001b[1;32m   2117\u001b[0m         raise ValueError('conflicting MultiIndex level name(s):\\n%s'\n\u001b[0;32m-> 2118\u001b[0;31m                          % conflict_str)\n\u001b[0m\u001b[1;32m   2119\u001b[0m     \u001b[0;31m# Check confliction between level names and dimensions GH:2299\u001b[0m\u001b[0;34m\u001b[0m\u001b[0;34m\u001b[0m\u001b[0;34m\u001b[0m\u001b[0m\n\u001b[1;32m   2120\u001b[0m     \u001b[0;32mfor\u001b[0m \u001b[0mk\u001b[0m\u001b[0;34m,\u001b[0m \u001b[0mv\u001b[0m \u001b[0;32min\u001b[0m \u001b[0mvariables\u001b[0m\u001b[0;34m.\u001b[0m\u001b[0mitems\u001b[0m\u001b[0;34m(\u001b[0m\u001b[0;34m)\u001b[0m\u001b[0;34m:\u001b[0m\u001b[0;34m\u001b[0m\u001b[0;34m\u001b[0m\u001b[0m\n",
      "\u001b[0;31mValueError\u001b[0m: conflicting MultiIndex level name(s):\n'i' (dim_0), (i)"
     ]
    }
   ],
   "source": [
    "c_no=result_no.demands(x,p_no)\n",
    "c_no"
   ]
  },
  {
   "cell_type": "code",
   "execution_count": null,
   "metadata": {},
   "outputs": [],
   "source": []
  }
 ],
 "metadata": {
  "hide_input": false,
  "kernelspec": {
   "display_name": "Python 3",
   "language": "python",
   "name": "python3"
  },
  "language_info": {
   "codemirror_mode": {
    "name": "ipython",
    "version": 3
   },
   "file_extension": ".py",
   "mimetype": "text/x-python",
   "name": "python",
   "nbconvert_exporter": "python",
   "pygments_lexer": "ipython3",
   "version": "3.7.0"
  },
  "toc": {
   "base_numbering": 1,
   "nav_menu": {},
   "number_sections": true,
   "sideBar": true,
   "skip_h1_title": false,
   "title_cell": "Table of Contents",
   "title_sidebar": "Contents",
   "toc_cell": false,
   "toc_position": {},
   "toc_section_display": true,
   "toc_window_display": false
  },
  "varInspector": {
   "cols": {
    "lenName": 16,
    "lenType": 16,
    "lenVar": 40
   },
   "kernels_config": {
    "python": {
     "delete_cmd_postfix": "",
     "delete_cmd_prefix": "del ",
     "library": "var_list.py",
     "varRefreshCmd": "print(var_dic_list())"
    },
    "r": {
     "delete_cmd_postfix": ") ",
     "delete_cmd_prefix": "rm(",
     "library": "var_list.r",
     "varRefreshCmd": "cat(var_dic_list()) "
    }
   },
   "types_to_exclude": [
    "module",
    "function",
    "builtin_function_or_method",
    "instance",
    "_Feature"
   ],
   "window_display": false
  }
 },
 "nbformat": 4,
 "nbformat_minor": 2
}
